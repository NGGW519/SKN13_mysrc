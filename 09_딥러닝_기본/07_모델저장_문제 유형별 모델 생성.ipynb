{
 "cells": [
  {
   "cell_type": "markdown",
   "metadata": {
    "id": "QvgI9EFl6L-E"
   },
   "source": [
    "# 학습된 모델 저장\n",
    "\n",
    "- 학습이 완료된 모델을 파일로 저장하여, 이후 추가 학습이나 예측 서비스에 사용할 수 있도록 한다.\n",
    "- 파이토치(PyTorch)는 **모델의 파라미터만 저장**하는 방법과 **모델의 구조와 파라미터를 모두 저장**하는 두 가지 방식을 제공한다.\n",
    "- 저장 함수\n",
    "  - `torch.save(저장할 객체, 저장 경로)`\n",
    "- 보통 저장 파일의 확장자는 `.pt`나 `.pth`를 사용한다.\n",
    "\n",
    "## 모델 전체 저장 및 불러오기\n",
    "\n",
    "- 저장하기\n",
    "  - `torch.save(model, 저장 경로)`\n",
    "- 불러오기\n",
    "  - `load_model = torch.load(저장 경로)`\n",
    "- 모델 저장 시 **피클(pickle)**을 사용해 직렬화되므로, 모델을 불러오는 실행 환경에도 저장할 때 사용한 클래스 정의가 필요하다.\n"
   ]
  },
  {
   "cell_type": "markdown",
   "metadata": {
    "id": "oWmdabt36L-F"
   },
   "source": [
    "## 모델의 파라미터만 저장\n",
    "\n",
    "-   모델을 구성하는 파라미터만 저장한다.\n",
    "-   모델의 구조는 저장하지 않기 때문에 불러올 때 **모델을 먼저 생성하고 생성한 모델에 불러온 파라미터를 덮어씌운다.**\n",
    "-   모델의 파라미터는 **state_dict** 형식으로 저장한다.\n",
    "\n",
    "### state_dict\n",
    "\n",
    "-   모델의 파라미터 Tensor들을 레이어 단위별로 나누어 저장한 Ordered Dictionary (OrderedDict)\n",
    "-   `모델객체.state_dict()` 메소드를 이용해 조회한다.\n",
    "-   모델의 state_dict을 조회 후 저장한다.\n",
    "    -   `torch.save(model.state_dict(), \"저장경로\")`\n",
    "-   생성된 모델에 읽어온 state_dict를 덮어씌운다.\n",
    "    -   `new_model.load_state_dict(torch.load(\"state_dict저장경로\"))`\n"
   ]
  },
  {
   "cell_type": "markdown",
   "metadata": {
    "id": "rQiExWdr6L-F"
   },
   "source": [
    "## 모델의 파라미터만 저장\n",
    "\n",
    "- 모델을 구성하는 **파라미터만 저장**하는 방법이다.\n",
    "- 모델의 구조는 저장되지 않기 때문에, 불러올 때는 **동일한 모델 구조를 먼저 생성하고**, 생성한 모델에 불러온 파라미터를 적용해야 한다.\n",
    "- 모델의 파라미터는 **state_dict** 형태로 저장된다.\n",
    "\n",
    "### state_dict\n",
    "\n",
    "- state_dict은 모델의 파라미터 텐서(Tensor)들을 레이어 단위로 구분해 저장하는 **OrderedDict** 객체이다.\n",
    "- `모델객체.state_dict()` 메서드를 사용하여 조회할 수 있다.\n",
    "- 모델의 state_dict을 조회하여 저장한다.\n",
    "  - `torch.save(model.state_dict(), \"저장경로\")`\n",
    "- 생성한 모델에 저장된 state_dict을 읽어 적용한다.\n",
    "  - `new_model.load_state_dict(torch.load(\"state_dict저장경로\"))`"
   ]
  },
  {
   "cell_type": "markdown",
   "metadata": {
    "id": "lhhPVh7k6L-F"
   },
   "source": [
    "## Checkpoint 저장 및 불러오기\n",
    "\n",
    "- 학습이 끝나지 않은 모델을 저장하고, 나중에 이어서 학습시키려면 모델의 구조와 파라미터뿐만 아니라 optimizer, loss 함수 등 학습에 필요한 객체들도 함께 저장해야 한다.\n",
    "- 딕셔너리(Dictionary)에 저장하려는 값들을 key-value 쌍으로 구성하여 `torch.save()`를 이용해 저장한다.\n",
    "\n",
    "```python\n",
    "# 저장\n",
    "torch.save({\n",
    "    'epoch': epoch,\n",
    "    'model_state_dict': model.state_dict(),\n",
    "    'optimizer_state_dict': optimizer.state_dict(),\n",
    "    'loss': train_loss\n",
    "}, \"저장경로\")\n",
    "\n",
    "# 불러오기\n",
    "model = MyModel()\n",
    "optimizer = optim.Adam(model.parameters())\n",
    "\n",
    "# 불러온 checkpoint를 이용해 이전 학습 상태 복원\n",
    "checkpoint = torch.load(\"저장경로\")\n",
    "model.load_state_dict(checkpoint['model_state_dict'])\n",
    "optimizer.load_state_dict(checkpoint['optimizer_state_dict'])\n",
    "epoch = checkpoint['epoch']\n",
    "loss = checkpoint['loss']\n",
    "```"
   ]
  },
  {
   "cell_type": "markdown",
   "metadata": {},
   "source": [
    ">`nn.Module`은 PyTorch에서 딥러닝 모델을 만들기 위한 모든 클래스의 부모이며,<br>\n",
    ">모델의 구조, 파라미터, 학습 관련 기능을 모두 포함하고 관리하는 기반 클래스입니다.\n",
    "\n",
    "필요하면 `nn.Module` 없이도 만들 수는 있지만, 학습과 저장/불러오기 기능을 쓰려면 반드시 상속받아야 한다."
   ]
  },
  {
   "cell_type": "code",
   "execution_count": 32,
   "metadata": {
    "executionInfo": {
     "elapsed": 9212,
     "status": "ok",
     "timestamp": 1747095537851,
     "user": {
      "displayName": "남궁건우",
      "userId": "00560730431062529338"
     },
     "user_tz": -540
    },
    "id": "tzvs52TP6L-G"
   },
   "outputs": [],
   "source": [
    "# 간단한 모델 정의\n",
    "import torch\n",
    "import torch.nn as nn\n",
    "\n",
    "class MyModel(nn.Module):\n",
    "\n",
    "    def __init__(self):\n",
    "        super().__init__()\n",
    "        self.lr1 = nn.Linear(3, 4) # 파라미터의 개수 = 3 X 4 + 4  weight : Input 개수 *Output 개수  bias : output 개수\n",
    "        self.lr2 = nn.Linear(4, 2) # 파라미터의 개수 = 4 X 2 + 2\n",
    "        self.relu = nn.ReLU() # activation함수->파라미터가 없는 단순 계산함수. relu(X) = max(X, 0)\n",
    "    def forward(self, X):\n",
    "        X = self.lr1(X)\n",
    "        X = self.relu(X)\n",
    "        X = self.lr2(X)\n",
    "        return X"
   ]
  },
  {
   "cell_type": "markdown",
   "metadata": {},
   "source": [
    "### 선형 회귀: 수학 vs PyTorch의 행렬곱 차이\n",
    "\n",
    "#### 수학적 이론\n",
    "- 수식:  ŷ = W · X + b\n",
    "- 입력 X: (n × 1) column vector\n",
    "- 가중치 W: (1 × n) row vector\n",
    "- 곱셈 순서: W · X\n",
    "- 결과: (1 × 1) 스칼라\n",
    "\n",
    "#### PyTorch에서의 계산\n",
    "- nn.Linear(in_features=n, out_features=m)\n",
    "- 입력 X: (batch_size × n)\n",
    "- weight W: (m × n)\n",
    "- 연산: output = X @ W.T + b\n",
    "- 결과: (batch_size × m)\n",
    "\n",
    "#### 핵심 차이\n",
    "- 수학에서는 W · X 형태 사용\n",
    "- PyTorch에서는 입력이 앞에 오므로 X @ W.T 형태 사용\n",
    "- 행렬곱은 교환법칙이 성립하지 않음 → 순서 바꾸면 계산 불가능하거나 의미가 달라짐\n"
   ]
  },
  {
   "cell_type": "code",
   "execution_count": 33,
   "metadata": {
    "colab": {
     "base_uri": "https://localhost:8080/"
    },
    "executionInfo": {
     "elapsed": 50,
     "status": "ok",
     "timestamp": 1747095541521,
     "user": {
      "displayName": "남궁건우",
      "userId": "00560730431062529338"
     },
     "user_tz": -540
    },
    "id": "pGebFqlf6L-G",
    "outputId": "607a8eb1-f96c-41de-d5ed-76b676315028"
   },
   "outputs": [
    {
     "data": {
      "text/plain": [
       "MyModel(\n",
       "  (lr1): Linear(in_features=3, out_features=4, bias=True)\n",
       "  (lr2): Linear(in_features=4, out_features=2, bias=True)\n",
       "  (relu): ReLU()\n",
       ")"
      ]
     },
     "execution_count": 33,
     "metadata": {},
     "output_type": "execute_result"
    }
   ],
   "source": [
    "# 모델 생성\n",
    "model = MyModel()\n",
    "model"
   ]
  },
  {
   "cell_type": "code",
   "execution_count": null,
   "metadata": {
    "colab": {
     "base_uri": "https://localhost:8080/"
    },
    "executionInfo": {
     "elapsed": 53,
     "status": "ok",
     "timestamp": 1747095542281,
     "user": {
      "displayName": "남궁건우",
      "userId": "00560730431062529338"
     },
     "user_tz": -540
    },
    "id": "wnBKZs4Y8t3p",
    "outputId": "e6406397-d54a-49cf-91e3-db8149e0953c"
   },
   "outputs": [
    {
     "data": {
      "text/plain": [
       "Linear(in_features=3, out_features=4, bias=True)"
      ]
     },
     "execution_count": 34,
     "metadata": {},
     "output_type": "execute_result"
    }
   ],
   "source": [
    "# 레이어의 파라미터를 조회\n",
    "# 모델에서 레이어객체를 조회\n",
    "## model의 lr1을 \"lr1\"이라는 변수에 정의해준다.\n",
    "## lr1을 먼저 정의해주어야 이후에 lr1에 .weight와 같은 메서드를 붙여 정보를 조회할 수 있다.\n",
    "lr1 = model.lr1\n",
    "lr1"
   ]
  },
  {
   "cell_type": "code",
   "execution_count": 35,
   "metadata": {
    "colab": {
     "base_uri": "https://localhost:8080/"
    },
    "executionInfo": {
     "elapsed": 151,
     "status": "ok",
     "timestamp": 1747095543100,
     "user": {
      "displayName": "남궁건우",
      "userId": "00560730431062529338"
     },
     "user_tz": -540
    },
    "id": "Eeaa1Nwl9DCh",
    "outputId": "bf7fd26f-80d8-4e79-fb89-fdf4aacf5f9f"
   },
   "outputs": [
    {
     "name": "stdout",
     "output_type": "stream",
     "text": [
      "torch.Size([4, 3])\n"
     ]
    },
    {
     "data": {
      "text/plain": [
       "Parameter containing:\n",
       "tensor([[ 0.5488,  0.4978,  0.3722],\n",
       "        [ 0.0234,  0.2672,  0.2216],\n",
       "        [ 0.4125,  0.0911,  0.0718],\n",
       "        [-0.4488, -0.1723, -0.2624]], requires_grad=True)"
      ]
     },
     "execution_count": 35,
     "metadata": {},
     "output_type": "execute_result"
    }
   ],
   "source": [
    "# 레이어에서  weight/bias 조회\n",
    "w = lr1.weight\n",
    "print(w.shape)\n",
    "w"
   ]
  },
  {
   "cell_type": "code",
   "execution_count": 36,
   "metadata": {
    "colab": {
     "base_uri": "https://localhost:8080/"
    },
    "executionInfo": {
     "elapsed": 31,
     "status": "ok",
     "timestamp": 1747095544012,
     "user": {
      "displayName": "남궁건우",
      "userId": "00560730431062529338"
     },
     "user_tz": -540
    },
    "id": "1BEOKng-9fFa",
    "outputId": "4b74ab17-4782-4fb3-a37e-f88beb622097"
   },
   "outputs": [
    {
     "name": "stdout",
     "output_type": "stream",
     "text": [
      "torch.Size([4])\n"
     ]
    },
    {
     "data": {
      "text/plain": [
       "Parameter containing:\n",
       "tensor([-0.3398,  0.2838, -0.2419, -0.1387], requires_grad=True)"
      ]
     },
     "execution_count": 36,
     "metadata": {},
     "output_type": "execute_result"
    }
   ],
   "source": [
    "b = lr1.bias\n",
    "print(b.shape)\n",
    "b"
   ]
  },
  {
   "cell_type": "code",
   "execution_count": 37,
   "metadata": {},
   "outputs": [],
   "source": [
    "lr2 = model.lr2"
   ]
  },
  {
   "cell_type": "code",
   "execution_count": 38,
   "metadata": {
    "executionInfo": {
     "elapsed": 18,
     "status": "ok",
     "timestamp": 1747095544699,
     "user": {
      "displayName": "남궁건우",
      "userId": "00560730431062529338"
     },
     "user_tz": -540
    },
    "id": "YAO8UjsN6L-G"
   },
   "outputs": [],
   "source": [
    "import os\n",
    "os.makedirs(\"saved_models\", exist_ok=True)"
   ]
  },
  {
   "cell_type": "code",
   "execution_count": 39,
   "metadata": {
    "executionInfo": {
     "elapsed": 40,
     "status": "ok",
     "timestamp": 1747095546162,
     "user": {
      "displayName": "남궁건우",
      "userId": "00560730431062529338"
     },
     "user_tz": -540
    },
    "id": "C8ZLsLON6L-G"
   },
   "outputs": [],
   "source": [
    "################################################\n",
    "#  모델을 저장\n",
    "################################################\n",
    "torch.save(model, \"saved_models/my_model.pt\")"
   ]
  },
  {
   "cell_type": "code",
   "execution_count": 40,
   "metadata": {
    "collapsed": true,
    "executionInfo": {
     "elapsed": 24,
     "status": "ok",
     "timestamp": 1747095547250,
     "user": {
      "displayName": "남궁건우",
      "userId": "00560730431062529338"
     },
     "user_tz": -540
    },
    "id": "erPqenra6L-H",
    "jupyter": {
     "outputs_hidden": true
    }
   },
   "outputs": [],
   "source": [
    "################################################\n",
    "#  저장된 모델 Load\n",
    "################################################\n",
    "load_model = torch.load(\"saved_models/my_model.pt\", weights_only=False) #모델만 저장했기 때문에 false로 주어야 읽어올 수 있음."
   ]
  },
  {
   "cell_type": "code",
   "execution_count": 41,
   "metadata": {
    "colab": {
     "base_uri": "https://localhost:8080/"
    },
    "executionInfo": {
     "elapsed": 20,
     "status": "ok",
     "timestamp": 1747095548248,
     "user": {
      "displayName": "남궁건우",
      "userId": "00560730431062529338"
     },
     "user_tz": -540
    },
    "id": "WbayXX866L-H",
    "outputId": "42bd1a88-20bd-4da8-98a1-02a5ac123df9"
   },
   "outputs": [
    {
     "data": {
      "text/plain": [
       "MyModel(\n",
       "  (lr1): Linear(in_features=3, out_features=4, bias=True)\n",
       "  (lr2): Linear(in_features=4, out_features=2, bias=True)\n",
       "  (relu): ReLU()\n",
       ")"
      ]
     },
     "execution_count": 41,
     "metadata": {},
     "output_type": "execute_result"
    }
   ],
   "source": [
    "load_model"
   ]
  },
  {
   "cell_type": "code",
   "execution_count": 42,
   "metadata": {
    "colab": {
     "base_uri": "https://localhost:8080/"
    },
    "executionInfo": {
     "elapsed": 39,
     "status": "ok",
     "timestamp": 1747095549278,
     "user": {
      "displayName": "남궁건우",
      "userId": "00560730431062529338"
     },
     "user_tz": -540
    },
    "id": "xLqLVenr-MRM",
    "outputId": "d3ee5078-d80b-4b50-e8f7-bc2a32a51705"
   },
   "outputs": [
    {
     "name": "stdout",
     "output_type": "stream",
     "text": [
      "Parameter containing:\n",
      "tensor([[ 0.5488,  0.4978,  0.3722],\n",
      "        [ 0.0234,  0.2672,  0.2216],\n",
      "        [ 0.4125,  0.0911,  0.0718],\n",
      "        [-0.4488, -0.1723, -0.2624]], requires_grad=True)\n",
      "Parameter containing:\n",
      "tensor([[ 0.5488,  0.4978,  0.3722],\n",
      "        [ 0.0234,  0.2672,  0.2216],\n",
      "        [ 0.4125,  0.0911,  0.0718],\n",
      "        [-0.4488, -0.1723, -0.2624]], requires_grad=True)\n",
      "Parameter containing:\n",
      "tensor([-0.3398,  0.2838, -0.2419, -0.1387], requires_grad=True)\n",
      "Parameter containing:\n",
      "tensor([-0.3398,  0.2838, -0.2419, -0.1387], requires_grad=True)\n",
      "\n",
      " ================================================== \n",
      "\n",
      "Parameter containing:\n",
      "tensor([[-0.3108, -0.2417, -0.2140,  0.2940],\n",
      "        [-0.0802,  0.0044, -0.1355, -0.2434]], requires_grad=True)\n",
      "Parameter containing:\n",
      "tensor([[-0.3108, -0.2417, -0.2140,  0.2940],\n",
      "        [-0.0802,  0.0044, -0.1355, -0.2434]], requires_grad=True)\n",
      "Parameter containing:\n",
      "tensor([-0.2969, -0.0365], requires_grad=True)\n",
      "Parameter containing:\n",
      "tensor([-0.2969, -0.0365], requires_grad=True)\n"
     ]
    }
   ],
   "source": [
    "load_lr1 = load_model.lr1\n",
    "load_lr2 = load_model.lr2\n",
    "print(lr1.weight)\n",
    "print(load_lr1.weight)\n",
    "print(lr1.bias)\n",
    "print(load_lr1.bias)\n",
    "\n",
    "print(\"\\n\",\"=\"*50,\"\\n\")\n",
    "\n",
    "print(lr2.weight)\n",
    "print(load_lr2.weight)\n",
    "print(lr2.bias)\n",
    "print(load_lr2.bias)"
   ]
  },
  {
   "cell_type": "code",
   "execution_count": 43,
   "metadata": {
    "colab": {
     "base_uri": "https://localhost:8080/"
    },
    "executionInfo": {
     "elapsed": 18,
     "status": "ok",
     "timestamp": 1747095550031,
     "user": {
      "displayName": "남궁건우",
      "userId": "00560730431062529338"
     },
     "user_tz": -540
    },
    "id": "U7QJV661-V1B",
    "outputId": "e4c2afd6-b579-40bf-aa3f-4b861521b791"
   },
   "outputs": [
    {
     "name": "stdout",
     "output_type": "stream",
     "text": [
      "tensor([[True, True, True],\n",
      "        [True, True, True],\n",
      "        [True, True, True],\n",
      "        [True, True, True]])\n"
     ]
    }
   ],
   "source": [
    "print(lr1.weight == load_lr1.weight)"
   ]
  },
  {
   "cell_type": "code",
   "execution_count": 44,
   "metadata": {
    "colab": {
     "base_uri": "https://localhost:8080/"
    },
    "executionInfo": {
     "elapsed": 47,
     "status": "ok",
     "timestamp": 1747095550794,
     "user": {
      "displayName": "남궁건우",
      "userId": "00560730431062529338"
     },
     "user_tz": -540
    },
    "id": "Nu8qmybJ6L-H",
    "outputId": "630cffb2-a9ef-41ca-88af-ffdaf036f3e4"
   },
   "outputs": [
    {
     "data": {
      "text/plain": [
       "Linear(in_features=3, out_features=4, bias=True)"
      ]
     },
     "execution_count": 44,
     "metadata": {},
     "output_type": "execute_result"
    }
   ],
   "source": [
    "################################################\n",
    "#  모델에 Layer들을 조회. 모델.instance변수명\n",
    "################################################\n",
    "lr_layer = model.lr1\n",
    "lr_layer"
   ]
  },
  {
   "cell_type": "code",
   "execution_count": 45,
   "metadata": {
    "executionInfo": {
     "elapsed": 20,
     "status": "ok",
     "timestamp": 1747095551547,
     "user": {
      "displayName": "남궁건우",
      "userId": "00560730431062529338"
     },
     "user_tz": -540
    },
    "id": "RydWnJwb6L-H"
   },
   "outputs": [],
   "source": [
    "################################################\n",
    "#  Layer의 파라미터(weight/bias) 조회\n",
    "################################################\n",
    "lr1_weight = lr_layer.weight\n",
    "lr1_bias = lr_layer.bias"
   ]
  },
  {
   "cell_type": "code",
   "execution_count": 46,
   "metadata": {
    "colab": {
     "base_uri": "https://localhost:8080/"
    },
    "executionInfo": {
     "elapsed": 22,
     "status": "ok",
     "timestamp": 1747095552313,
     "user": {
      "displayName": "남궁건우",
      "userId": "00560730431062529338"
     },
     "user_tz": -540
    },
    "id": "JhxAGM846L-H",
    "outputId": "e080b4c8-37d9-48c9-a1c3-ea45e16873f7"
   },
   "outputs": [
    {
     "data": {
      "text/plain": [
       "Parameter containing:\n",
       "tensor([[ 0.5488,  0.4978,  0.3722],\n",
       "        [ 0.0234,  0.2672,  0.2216],\n",
       "        [ 0.4125,  0.0911,  0.0718],\n",
       "        [-0.4488, -0.1723, -0.2624]], requires_grad=True)"
      ]
     },
     "execution_count": 46,
     "metadata": {},
     "output_type": "execute_result"
    }
   ],
   "source": [
    "lr1_weight"
   ]
  },
  {
   "cell_type": "code",
   "execution_count": 47,
   "metadata": {
    "colab": {
     "base_uri": "https://localhost:8080/"
    },
    "executionInfo": {
     "elapsed": 21,
     "status": "ok",
     "timestamp": 1747095552945,
     "user": {
      "displayName": "남궁건우",
      "userId": "00560730431062529338"
     },
     "user_tz": -540
    },
    "id": "WxdkImSA6L-H",
    "outputId": "8c1ad985-9105-4a59-ea7f-263e4e3cb766"
   },
   "outputs": [
    {
     "data": {
      "text/plain": [
       "Parameter containing:\n",
       "tensor([-0.3398,  0.2838, -0.2419, -0.1387], requires_grad=True)"
      ]
     },
     "execution_count": 47,
     "metadata": {},
     "output_type": "execute_result"
    }
   ],
   "source": [
    "lr1_bias"
   ]
  },
  {
   "cell_type": "code",
   "execution_count": 48,
   "metadata": {
    "colab": {
     "base_uri": "https://localhost:8080/"
    },
    "executionInfo": {
     "elapsed": 59,
     "status": "ok",
     "timestamp": 1747095553680,
     "user": {
      "displayName": "남궁건우",
      "userId": "00560730431062529338"
     },
     "user_tz": -540
    },
    "id": "cmO_hVUw6L-H",
    "outputId": "e33aec23-cc89-4ff1-c87e-a54a281f048a"
   },
   "outputs": [
    {
     "data": {
      "text/plain": [
       "OrderedDict([('lr1.weight',\n",
       "              tensor([[ 0.5488,  0.4978,  0.3722],\n",
       "                      [ 0.0234,  0.2672,  0.2216],\n",
       "                      [ 0.4125,  0.0911,  0.0718],\n",
       "                      [-0.4488, -0.1723, -0.2624]])),\n",
       "             ('lr1.bias', tensor([-0.3398,  0.2838, -0.2419, -0.1387])),\n",
       "             ('lr2.weight',\n",
       "              tensor([[-0.3108, -0.2417, -0.2140,  0.2940],\n",
       "                      [-0.0802,  0.0044, -0.1355, -0.2434]])),\n",
       "             ('lr2.bias', tensor([-0.2969, -0.0365]))])"
      ]
     },
     "execution_count": 48,
     "metadata": {},
     "output_type": "execute_result"
    }
   ],
   "source": [
    "######################################################\n",
    "# 모델의 파라미터들(weight들, bias들)만 저장/불러오기 >> state_dict : w와b가 dict 형태로 저장된 것\n",
    "######################################################\n",
    "state_dict = model.state_dict()\n",
    "state_dict"
   ]
  },
  {
   "cell_type": "code",
   "execution_count": 49,
   "metadata": {
    "colab": {
     "base_uri": "https://localhost:8080/"
    },
    "executionInfo": {
     "elapsed": 42,
     "status": "ok",
     "timestamp": 1747095554427,
     "user": {
      "displayName": "남궁건우",
      "userId": "00560730431062529338"
     },
     "user_tz": -540
    },
    "id": "s4GBucb56L-H",
    "outputId": "8e88b2f7-e434-479c-a2ce-402b5380922b"
   },
   "outputs": [
    {
     "data": {
      "text/plain": [
       "odict_keys(['lr1.weight', 'lr1.bias', 'lr2.weight', 'lr2.bias'])"
      ]
     },
     "execution_count": 49,
     "metadata": {},
     "output_type": "execute_result"
    }
   ],
   "source": [
    "state_dict.keys()"
   ]
  },
  {
   "cell_type": "code",
   "execution_count": 50,
   "metadata": {
    "executionInfo": {
     "elapsed": 18,
     "status": "ok",
     "timestamp": 1747095555158,
     "user": {
      "displayName": "남궁건우",
      "userId": "00560730431062529338"
     },
     "user_tz": -540
    },
    "id": "-zGbyP8Z6L-I"
   },
   "outputs": [],
   "source": [
    "###################\n",
    "# state_dict 저장\n",
    "###################\n",
    "\n",
    "torch.save(state_dict, \"saved_models/my_model_parameter.pt\")"
   ]
  },
  {
   "cell_type": "code",
   "execution_count": 57,
   "metadata": {
    "executionInfo": {
     "elapsed": 24,
     "status": "ok",
     "timestamp": 1747095556298,
     "user": {
      "displayName": "남궁건우",
      "userId": "00560730431062529338"
     },
     "user_tz": -540
    },
    "id": "qQbfcVn86L-I"
   },
   "outputs": [
    {
     "data": {
      "text/plain": [
       "OrderedDict([('lr1.weight',\n",
       "              tensor([[ 0.5488,  0.4978,  0.3722],\n",
       "                      [ 0.0234,  0.2672,  0.2216],\n",
       "                      [ 0.4125,  0.0911,  0.0718],\n",
       "                      [-0.4488, -0.1723, -0.2624]])),\n",
       "             ('lr1.bias', tensor([-0.3398,  0.2838, -0.2419, -0.1387])),\n",
       "             ('lr2.weight',\n",
       "              tensor([[-0.3108, -0.2417, -0.2140,  0.2940],\n",
       "                      [-0.0802,  0.0044, -0.1355, -0.2434]])),\n",
       "             ('lr2.bias', tensor([-0.2969, -0.0365]))])"
      ]
     },
     "execution_count": 57,
     "metadata": {},
     "output_type": "execute_result"
    }
   ],
   "source": [
    "#####################\n",
    "# state_dict load\n",
    "#####################\n",
    "sd = torch.load(\"saved_models/my_model_parameter.pt\")\n",
    "sd"
   ]
  },
  {
   "cell_type": "code",
   "execution_count": null,
   "metadata": {
    "colab": {
     "base_uri": "https://localhost:8080/"
    },
    "executionInfo": {
     "elapsed": 22,
     "status": "ok",
     "timestamp": 1747095557212,
     "user": {
      "displayName": "남궁건우",
      "userId": "00560730431062529338"
     },
     "user_tz": -540
    },
    "id": "Cm9GdvEz6L-I",
    "outputId": "16930c65-b908-4d97-b71c-b9a3bfc6b56f"
   },
   "outputs": [
    {
     "data": {
      "text/plain": [
       "OrderedDict([('lr1.weight',\n",
       "              tensor([[ 0.3547,  0.3763,  0.0579],\n",
       "                      [-0.0226,  0.4621, -0.3894],\n",
       "                      [-0.3266,  0.3915, -0.3248],\n",
       "                      [ 0.2461, -0.1497,  0.3379]])),\n",
       "             ('lr1.bias', tensor([-0.3354,  0.2562, -0.3674,  0.5009])),\n",
       "             ('lr2.weight',\n",
       "              tensor([[-0.2688,  0.2200, -0.4685, -0.0007],\n",
       "                      [ 0.0322, -0.4542,  0.2033,  0.0722]])),\n",
       "             ('lr2.bias', tensor([0.0352, 0.2692]))])"
      ]
     },
     "execution_count": 59,
     "metadata": {},
     "output_type": "execute_result"
    }
   ],
   "source": [
    "# load한 state_dict를 모델 파라미터에 적용(덮어 씌운다.)\n",
    "\n",
    "## model1이나 new_model이라 같은 MyModel()에 의해서 같은 파라미터 아닌가?\n",
    "## 아닙니다. MyModel()클래스를 이용해서 모델을 새롭게 만들때마다(새롭게 변수에 담을 때 마다) 무작위의 새로운 모델이 생성\n",
    "## 따라서 model1의 학습된 파라미터를 model2에 복사하고 싶을때 지금과 같은 과정을 사용하는 것.\n",
    "## 현재 new_model은 학습이 안되어 무작위의 파라미터를 가진 상태\n",
    "## 따라서 위에서 호출된 sd와 파라미터가 다른걸 알 수 있다.\n",
    "## 본 cell을 계속 실행해보면 new_model의 파라미터를 계속 무작위로 바뀐다.\n",
    "\n",
    "new_model = MyModel()\n",
    "new_model.state_dict() # 덮어씌우기전 new_model의 파라미터 확인"
   ]
  },
  {
   "cell_type": "code",
   "execution_count": null,
   "metadata": {},
   "outputs": [
    {
     "data": {
      "text/plain": [
       "OrderedDict([('lr1.weight',\n",
       "              tensor([[ 0.5488,  0.4978,  0.3722],\n",
       "                      [ 0.0234,  0.2672,  0.2216],\n",
       "                      [ 0.4125,  0.0911,  0.0718],\n",
       "                      [-0.4488, -0.1723, -0.2624]])),\n",
       "             ('lr1.bias', tensor([-0.3398,  0.2838, -0.2419, -0.1387])),\n",
       "             ('lr2.weight',\n",
       "              tensor([[-0.3108, -0.2417, -0.2140,  0.2940],\n",
       "                      [-0.0802,  0.0044, -0.1355, -0.2434]])),\n",
       "             ('lr2.bias', tensor([-0.2969, -0.0365]))])"
      ]
     },
     "execution_count": 53,
     "metadata": {},
     "output_type": "execute_result"
    }
   ],
   "source": [
    "sd # 덮어씌울 파라미터정보 담긴 sd 파라미터 확인"
   ]
  },
  {
   "cell_type": "code",
   "execution_count": null,
   "metadata": {
    "colab": {
     "base_uri": "https://localhost:8080/"
    },
    "executionInfo": {
     "elapsed": 45,
     "status": "ok",
     "timestamp": 1747095558214,
     "user": {
      "displayName": "남궁건우",
      "userId": "00560730431062529338"
     },
     "user_tz": -540
    },
    "id": "cYy531RA6L-I",
    "outputId": "256fdbd4-3970-434b-92f8-6943d1f53a33"
   },
   "outputs": [
    {
     "name": "stdout",
     "output_type": "stream",
     "text": [
      "<All keys matched successfully>\n"
     ]
    }
   ],
   "source": [
    "new_model.load_state_dict(sd) # 덮어씌우기"
   ]
  },
  {
   "cell_type": "code",
   "execution_count": null,
   "metadata": {
    "colab": {
     "base_uri": "https://localhost:8080/"
    },
    "executionInfo": {
     "elapsed": 24,
     "status": "ok",
     "timestamp": 1747095559359,
     "user": {
      "displayName": "남궁건우",
      "userId": "00560730431062529338"
     },
     "user_tz": -540
    },
    "id": "UYI9mk6j6L-I",
    "outputId": "d6945b11-dcbe-4a56-a682-d94bf1ee64da"
   },
   "outputs": [
    {
     "data": {
      "text/plain": [
       "OrderedDict([('lr1.weight',\n",
       "              tensor([[ 0.5488,  0.4978,  0.3722],\n",
       "                      [ 0.0234,  0.2672,  0.2216],\n",
       "                      [ 0.4125,  0.0911,  0.0718],\n",
       "                      [-0.4488, -0.1723, -0.2624]])),\n",
       "             ('lr1.bias', tensor([-0.3398,  0.2838, -0.2419, -0.1387])),\n",
       "             ('lr2.weight',\n",
       "              tensor([[-0.3108, -0.2417, -0.2140,  0.2940],\n",
       "                      [-0.0802,  0.0044, -0.1355, -0.2434]])),\n",
       "             ('lr2.bias', tensor([-0.2969, -0.0365]))])"
      ]
     },
     "execution_count": 55,
     "metadata": {},
     "output_type": "execute_result"
    }
   ],
   "source": [
    "new_model.state_dict() # 덮어씌워진 결과 확인"
   ]
  },
  {
   "cell_type": "code",
   "execution_count": 56,
   "metadata": {
    "colab": {
     "base_uri": "https://localhost:8080/"
    },
    "executionInfo": {
     "elapsed": 30,
     "status": "ok",
     "timestamp": 1747095560458,
     "user": {
      "displayName": "남궁건우",
      "userId": "00560730431062529338"
     },
     "user_tz": -540
    },
    "id": "lAk3ei8H6L-I",
    "outputId": "c2815b01-be6d-409f-b85f-582e15955b4f"
   },
   "outputs": [
    {
     "data": {
      "text/plain": [
       "MyModel(\n",
       "  (lr1): Linear(in_features=3, out_features=4, bias=True)\n",
       "  (lr2): Linear(in_features=4, out_features=2, bias=True)\n",
       "  (relu): ReLU()\n",
       ")"
      ]
     },
     "execution_count": 56,
     "metadata": {},
     "output_type": "execute_result"
    }
   ],
   "source": [
    "model"
   ]
  },
  {
   "cell_type": "code",
   "execution_count": 24,
   "metadata": {
    "colab": {
     "base_uri": "https://localhost:8080/"
    },
    "executionInfo": {
     "elapsed": 3134,
     "status": "ok",
     "timestamp": 1747095564585,
     "user": {
      "displayName": "남궁건우",
      "userId": "00560730431062529338"
     },
     "user_tz": -540
    },
    "id": "u1435qj96L-I",
    "outputId": "a7c3fcea-a90f-431f-f08e-c3b02db9472e"
   },
   "outputs": [
    {
     "name": "stdout",
     "output_type": "stream",
     "text": [
      "Collecting torchinfo\n",
      "  Downloading torchinfo-1.8.0-py3-none-any.whl.metadata (21 kB)\n",
      "Downloading torchinfo-1.8.0-py3-none-any.whl (23 kB)\n",
      "Installing collected packages: torchinfo\n",
      "Successfully installed torchinfo-1.8.0\n"
     ]
    }
   ],
   "source": [
    "# torchinof 패키지 설치: 파이토치 모델 구조를 조사해주는 패키지.\n",
    "!pip install torchinfo"
   ]
  },
  {
   "cell_type": "code",
   "execution_count": 69,
   "metadata": {
    "colab": {
     "base_uri": "https://localhost:8080/"
    },
    "executionInfo": {
     "elapsed": 22,
     "status": "ok",
     "timestamp": 1747095567322,
     "user": {
      "displayName": "남궁건우",
      "userId": "00560730431062529338"
     },
     "user_tz": -540
    },
    "id": "FDqzvsla6L-I",
    "outputId": "d266eb1d-ea24-41eb-bc0f-b744f9e584b4"
   },
   "outputs": [
    {
     "name": "stdout",
     "output_type": "stream",
     "text": [
      "=================================================================\n",
      "Layer (type:depth-idx)                   Param #\n",
      "=================================================================\n",
      "MyModel                                  --\n",
      "├─Linear: 1-1                            16\n",
      "├─Linear: 1-2                            10\n",
      "├─ReLU: 1-3                              --\n",
      "=================================================================\n",
      "Total params: 26\n",
      "Trainable params: 26\n",
      "Non-trainable params: 0\n",
      "=================================================================\n",
      "\n",
      " <<<<<<<<<<<<<<<<<<<<<<<<<구분선>>>>>>>>>>>>>>>>>>>>>>>>> \n",
      "\n",
      "=================================================================\n",
      "Layer (type:depth-idx)                   Param #\n",
      "=================================================================\n",
      "MyModel                                  --\n",
      "├─Linear: 1-1                            16\n",
      "├─Linear: 1-2                            10\n",
      "├─ReLU: 1-3                              --\n",
      "=================================================================\n",
      "Total params: 26\n",
      "Trainable params: 26\n",
      "Non-trainable params: 0\n",
      "=================================================================\n",
      "\n",
      " <<<<<<<<<<<<<<<<<<<<<<<<<구분선>>>>>>>>>>>>>>>>>>>>>>>>> \n",
      "\n"
     ]
    },
    {
     "data": {
      "text/plain": [
       "False"
      ]
     },
     "execution_count": 69,
     "metadata": {},
     "output_type": "execute_result"
    }
   ],
   "source": [
    "from torchinfo import summary\n",
    "# model과 new_model의 구조는 똑같음!\n",
    "# but 구조는 같아도 두 모델은 엄연히 다른 객체 이므로 \n",
    "# summary(model) != summary(new_model)  >> 같지 않다.\n",
    "print(summary(model))\n",
    "print(\"\\n\", \"<\"*25+\"구분선\"+\">\"*25, \"\\n\")\n",
    "print(summary(new_model))\n",
    "print(\"\\n\", \"<\"*25+\"구분선\"+\">\"*25, \"\\n\")\n",
    "summary(model) == summary(new_model)"
   ]
  },
  {
   "cell_type": "code",
   "execution_count": null,
   "metadata": {
    "colab": {
     "base_uri": "https://localhost:8080/"
    },
    "executionInfo": {
     "elapsed": 42,
     "status": "ok",
     "timestamp": 1747095568319,
     "user": {
      "displayName": "남궁건우",
      "userId": "00560730431062529338"
     },
     "user_tz": -540
    },
    "id": "uLq-uzAI6L-I",
    "outputId": "efc84004-dbcb-4671-8eaf-9eeeaaeda0fc"
   },
   "outputs": [
    {
     "data": {
      "text/plain": [
       "==========================================================================================\n",
       "Layer (type:depth-idx)                   Output Shape              Param #\n",
       "==========================================================================================\n",
       "MyModel                                  [100, 2]                  --\n",
       "├─Linear: 1-1                            [100, 4]                  16\n",
       "├─ReLU: 1-2                              [100, 4]                  --\n",
       "├─Linear: 1-3                            [100, 2]                  10\n",
       "==========================================================================================\n",
       "Total params: 26\n",
       "Trainable params: 26\n",
       "Non-trainable params: 0\n",
       "Total mult-adds (Units.MEGABYTES): 0.00\n",
       "==========================================================================================\n",
       "Input size (MB): 0.00\n",
       "Forward/backward pass size (MB): 0.00\n",
       "Params size (MB): 0.00\n",
       "Estimated Total Size (MB): 0.01\n",
       "=========================================================================================="
      ]
     },
     "execution_count": 71,
     "metadata": {},
     "output_type": "execute_result"
    }
   ],
   "source": [
    "# input data 의 shape을 지정하면 각 Layer의 output shape을 출력한다.\n",
    "# 배치사이즈를 100으로 하여 넣어보기\n",
    "summary(model, (100, 3))"
   ]
  },
  {
   "cell_type": "code",
   "execution_count": 27,
   "metadata": {
    "executionInfo": {
     "elapsed": 7,
     "status": "ok",
     "timestamp": 1747095569151,
     "user": {
      "displayName": "남궁건우",
      "userId": "00560730431062529338"
     },
     "user_tz": -540
    },
    "id": "sU_TcJjd6L-I"
   },
   "outputs": [],
   "source": [
    "# 모델이 어떤식으로 일을 하는지 크기, 구조 등을 확인하면 좋다."
   ]
  },
  {
   "cell_type": "markdown",
   "metadata": {
    "id": "e1hh4E4y6L-I"
   },
   "source": [
    "# 문제 유형별 MLP 네트워크\n",
    "- 해결하려는 문제 유형에 따라 출력 Layer의 구조가 바뀐다.\n",
    "- 딥러닝 구조에서 **타인의 학습된 모델에서 내가 필요로 하는 부분을 가져와서\n",
    " Feature를 추출하는 Layer 들을 Backbone** 이라고 하고 **추론하는 Layer들을 Head** 라고 한다.\n",
    "\n",
    "\n",
    "> - MLP(Multi Layer Perceptron), DNN(Deep Neural Network), ANN(Artificial Neural Network)\n",
    ">     -   Fully Connected Layer(nn.Linear)로 구성된 딥러닝 모델\n",
    ">     -   input feature들 모두에 대응하는 weight들(가중치)을 사용한다.\n",
    ">"
   ]
  },
  {
   "cell_type": "markdown",
   "metadata": {
    "id": "_Rp0kJck6L-I"
   },
   "source": [
    "## Boston Housing Dataset - **Regression(회귀) 문제**\n",
    "\n",
    "보스턴 주택가격 dataset은 다음과 같은 속성을 바탕으로 해당 타운 주택 가격의 중앙값을 예측하는 문제.\n",
    "\n",
    "-   CRIM: 범죄율\n",
    "-   ZN: 25,000 평방피트당 주거지역 비율\n",
    "-   INDUS: 비소매 상업지구 비율\n",
    "-   CHAS: 찰스강에 인접해 있는지 여부(인접:1, 아니면:0)\n",
    "-   NOX: 일산화질소 농도(단위: 0.1ppm)\n",
    "-   RM: 주택당 방의 수\n",
    "-   AGE: 1940년 이전에 건설된 주택의 비율\n",
    "-   DIS: 5개의 보스턴 직업고용센터와의 거리(가중 평균)\n",
    "-   RAD: 고속도로 접근성\n",
    "-   TAX: 재산세율\n",
    "-   PTRATIO: 학생/교사 비율\n",
    "-   B: 흑인 비율\n",
    "-   LSTAT: 하위 계층 비율\n",
    "    <br><br>\n",
    "-   **Target**\n",
    "    -   MEDV: 타운의 주택가격 중앙값(단위: 1,000달러)\n"
   ]
  },
  {
   "cell_type": "code",
   "execution_count": 28,
   "metadata": {
    "colab": {
     "base_uri": "https://localhost:8080/"
    },
    "executionInfo": {
     "elapsed": 6497,
     "status": "ok",
     "timestamp": 1747095578274,
     "user": {
      "displayName": "남궁건우",
      "userId": "00560730431062529338"
     },
     "user_tz": -540
    },
    "id": "5aYSsPLtLRPT",
    "outputId": "92b7bfb5-a5b1-4adc-d061-17d276bd1078"
   },
   "outputs": [
    {
     "name": "stdout",
     "output_type": "stream",
     "text": [
      "Requirement already satisfied: torchinfo in /usr/local/lib/python3.11/dist-packages (1.8.0)\n"
     ]
    }
   ],
   "source": [
    "# %pip install torchinfo"
   ]
  },
  {
   "cell_type": "code",
   "execution_count": 29,
   "metadata": {
    "executionInfo": {
     "elapsed": 3511,
     "status": "ok",
     "timestamp": 1747095586120,
     "user": {
      "displayName": "남궁건우",
      "userId": "00560730431062529338"
     },
     "user_tz": -540
    },
    "id": "siKic8sP6L-I"
   },
   "outputs": [],
   "source": [
    "from sklearn.preprocessing import StandardScaler\n",
    "from sklearn.model_selection import train_test_split\n",
    "import pandas as pd\n",
    "import numpy as np\n",
    "import matplotlib.pyplot as plt\n",
    "\n",
    "import torch\n",
    "import torch.nn as nn # Layer 들을 정의한 모듈\n",
    "from torch.utils.data import TensorDataset, DataLoader\n",
    "import torchinfo"
   ]
  },
  {
   "cell_type": "code",
   "execution_count": 30,
   "metadata": {
    "colab": {
     "base_uri": "https://localhost:8080/",
     "height": 35
    },
    "executionInfo": {
     "elapsed": 40,
     "status": "ok",
     "timestamp": 1747095589975,
     "user": {
      "displayName": "남궁건우",
      "userId": "00560730431062529338"
     },
     "user_tz": -540
    },
    "id": "ozA6hgxB6L-I",
    "outputId": "3d570b68-f1a5-48f7-abdd-13433d1dddf5"
   },
   "outputs": [
    {
     "data": {
      "application/vnd.google.colaboratory.intrinsic+json": {
       "type": "string"
      },
      "text/plain": [
       "'cpu'"
      ]
     },
     "execution_count": 30,
     "metadata": {},
     "output_type": "execute_result"
    }
   ],
   "source": [
    "device = \"cuda\" if torch.cuda.is_available() else \"cpu\"\n",
    "device"
   ]
  },
  {
   "cell_type": "code",
   "execution_count": 31,
   "metadata": {
    "colab": {
     "base_uri": "https://localhost:8080/",
     "height": 353
    },
    "executionInfo": {
     "elapsed": 451,
     "status": "error",
     "timestamp": 1747095591371,
     "user": {
      "displayName": "남궁건우",
      "userId": "00560730431062529338"
     },
     "user_tz": -540
    },
    "id": "HcnLjkSz6L-I",
    "outputId": "0a2b4ef6-9e94-435e-a37e-85150c703876"
   },
   "outputs": [
    {
     "ename": "FileNotFoundError",
     "evalue": "[Errno 2] No such file or directory: '/content/drive/MyDrive/SKN13/09_딥러닝_기본/data/boston_hosing.csv'",
     "output_type": "error",
     "traceback": [
      "\u001b[0;31m---------------------------------------------------------------------------\u001b[0m",
      "\u001b[0;31mFileNotFoundError\u001b[0m                         Traceback (most recent call last)",
      "\u001b[0;32m<ipython-input-31-7c3fe6be3ae9>\u001b[0m in \u001b[0;36m<cell line: 0>\u001b[0;34m()\u001b[0m\n\u001b[1;32m      1\u001b[0m \u001b[0;31m#  Dataset  읽어오기\u001b[0m\u001b[0;34m\u001b[0m\u001b[0;34m\u001b[0m\u001b[0m\n\u001b[1;32m      2\u001b[0m \u001b[0mdata_path\u001b[0m \u001b[0;34m=\u001b[0m \u001b[0;34m\"/content/drive/MyDrive/SKN13/09_딥러닝_기본/data/boston_hosing.csv\"\u001b[0m\u001b[0;34m\u001b[0m\u001b[0;34m\u001b[0m\u001b[0m\n\u001b[0;32m----> 3\u001b[0;31m \u001b[0mdata\u001b[0m \u001b[0;34m=\u001b[0m \u001b[0mpd\u001b[0m\u001b[0;34m.\u001b[0m\u001b[0mread_csv\u001b[0m\u001b[0;34m(\u001b[0m\u001b[0mdata_path\u001b[0m\u001b[0;34m)\u001b[0m\u001b[0;34m\u001b[0m\u001b[0;34m\u001b[0m\u001b[0m\n\u001b[0m\u001b[1;32m      4\u001b[0m \u001b[0mdata\u001b[0m\u001b[0;34m\u001b[0m\u001b[0;34m\u001b[0m\u001b[0m\n",
      "\u001b[0;32m/usr/local/lib/python3.11/dist-packages/pandas/io/parsers/readers.py\u001b[0m in \u001b[0;36mread_csv\u001b[0;34m(filepath_or_buffer, sep, delimiter, header, names, index_col, usecols, dtype, engine, converters, true_values, false_values, skipinitialspace, skiprows, skipfooter, nrows, na_values, keep_default_na, na_filter, verbose, skip_blank_lines, parse_dates, infer_datetime_format, keep_date_col, date_parser, date_format, dayfirst, cache_dates, iterator, chunksize, compression, thousands, decimal, lineterminator, quotechar, quoting, doublequote, escapechar, comment, encoding, encoding_errors, dialect, on_bad_lines, delim_whitespace, low_memory, memory_map, float_precision, storage_options, dtype_backend)\u001b[0m\n\u001b[1;32m   1024\u001b[0m     \u001b[0mkwds\u001b[0m\u001b[0;34m.\u001b[0m\u001b[0mupdate\u001b[0m\u001b[0;34m(\u001b[0m\u001b[0mkwds_defaults\u001b[0m\u001b[0;34m)\u001b[0m\u001b[0;34m\u001b[0m\u001b[0;34m\u001b[0m\u001b[0m\n\u001b[1;32m   1025\u001b[0m \u001b[0;34m\u001b[0m\u001b[0m\n\u001b[0;32m-> 1026\u001b[0;31m     \u001b[0;32mreturn\u001b[0m \u001b[0m_read\u001b[0m\u001b[0;34m(\u001b[0m\u001b[0mfilepath_or_buffer\u001b[0m\u001b[0;34m,\u001b[0m \u001b[0mkwds\u001b[0m\u001b[0;34m)\u001b[0m\u001b[0;34m\u001b[0m\u001b[0;34m\u001b[0m\u001b[0m\n\u001b[0m\u001b[1;32m   1027\u001b[0m \u001b[0;34m\u001b[0m\u001b[0m\n\u001b[1;32m   1028\u001b[0m \u001b[0;34m\u001b[0m\u001b[0m\n",
      "\u001b[0;32m/usr/local/lib/python3.11/dist-packages/pandas/io/parsers/readers.py\u001b[0m in \u001b[0;36m_read\u001b[0;34m(filepath_or_buffer, kwds)\u001b[0m\n\u001b[1;32m    618\u001b[0m \u001b[0;34m\u001b[0m\u001b[0m\n\u001b[1;32m    619\u001b[0m     \u001b[0;31m# Create the parser.\u001b[0m\u001b[0;34m\u001b[0m\u001b[0;34m\u001b[0m\u001b[0m\n\u001b[0;32m--> 620\u001b[0;31m     \u001b[0mparser\u001b[0m \u001b[0;34m=\u001b[0m \u001b[0mTextFileReader\u001b[0m\u001b[0;34m(\u001b[0m\u001b[0mfilepath_or_buffer\u001b[0m\u001b[0;34m,\u001b[0m \u001b[0;34m**\u001b[0m\u001b[0mkwds\u001b[0m\u001b[0;34m)\u001b[0m\u001b[0;34m\u001b[0m\u001b[0;34m\u001b[0m\u001b[0m\n\u001b[0m\u001b[1;32m    621\u001b[0m \u001b[0;34m\u001b[0m\u001b[0m\n\u001b[1;32m    622\u001b[0m     \u001b[0;32mif\u001b[0m \u001b[0mchunksize\u001b[0m \u001b[0;32mor\u001b[0m \u001b[0miterator\u001b[0m\u001b[0;34m:\u001b[0m\u001b[0;34m\u001b[0m\u001b[0;34m\u001b[0m\u001b[0m\n",
      "\u001b[0;32m/usr/local/lib/python3.11/dist-packages/pandas/io/parsers/readers.py\u001b[0m in \u001b[0;36m__init__\u001b[0;34m(self, f, engine, **kwds)\u001b[0m\n\u001b[1;32m   1618\u001b[0m \u001b[0;34m\u001b[0m\u001b[0m\n\u001b[1;32m   1619\u001b[0m         \u001b[0mself\u001b[0m\u001b[0;34m.\u001b[0m\u001b[0mhandles\u001b[0m\u001b[0;34m:\u001b[0m \u001b[0mIOHandles\u001b[0m \u001b[0;34m|\u001b[0m \u001b[0;32mNone\u001b[0m \u001b[0;34m=\u001b[0m \u001b[0;32mNone\u001b[0m\u001b[0;34m\u001b[0m\u001b[0;34m\u001b[0m\u001b[0m\n\u001b[0;32m-> 1620\u001b[0;31m         \u001b[0mself\u001b[0m\u001b[0;34m.\u001b[0m\u001b[0m_engine\u001b[0m \u001b[0;34m=\u001b[0m \u001b[0mself\u001b[0m\u001b[0;34m.\u001b[0m\u001b[0m_make_engine\u001b[0m\u001b[0;34m(\u001b[0m\u001b[0mf\u001b[0m\u001b[0;34m,\u001b[0m \u001b[0mself\u001b[0m\u001b[0;34m.\u001b[0m\u001b[0mengine\u001b[0m\u001b[0;34m)\u001b[0m\u001b[0;34m\u001b[0m\u001b[0;34m\u001b[0m\u001b[0m\n\u001b[0m\u001b[1;32m   1621\u001b[0m \u001b[0;34m\u001b[0m\u001b[0m\n\u001b[1;32m   1622\u001b[0m     \u001b[0;32mdef\u001b[0m \u001b[0mclose\u001b[0m\u001b[0;34m(\u001b[0m\u001b[0mself\u001b[0m\u001b[0;34m)\u001b[0m \u001b[0;34m->\u001b[0m \u001b[0;32mNone\u001b[0m\u001b[0;34m:\u001b[0m\u001b[0;34m\u001b[0m\u001b[0;34m\u001b[0m\u001b[0m\n",
      "\u001b[0;32m/usr/local/lib/python3.11/dist-packages/pandas/io/parsers/readers.py\u001b[0m in \u001b[0;36m_make_engine\u001b[0;34m(self, f, engine)\u001b[0m\n\u001b[1;32m   1878\u001b[0m                 \u001b[0;32mif\u001b[0m \u001b[0;34m\"b\"\u001b[0m \u001b[0;32mnot\u001b[0m \u001b[0;32min\u001b[0m \u001b[0mmode\u001b[0m\u001b[0;34m:\u001b[0m\u001b[0;34m\u001b[0m\u001b[0;34m\u001b[0m\u001b[0m\n\u001b[1;32m   1879\u001b[0m                     \u001b[0mmode\u001b[0m \u001b[0;34m+=\u001b[0m \u001b[0;34m\"b\"\u001b[0m\u001b[0;34m\u001b[0m\u001b[0;34m\u001b[0m\u001b[0m\n\u001b[0;32m-> 1880\u001b[0;31m             self.handles = get_handle(\n\u001b[0m\u001b[1;32m   1881\u001b[0m                 \u001b[0mf\u001b[0m\u001b[0;34m,\u001b[0m\u001b[0;34m\u001b[0m\u001b[0;34m\u001b[0m\u001b[0m\n\u001b[1;32m   1882\u001b[0m                 \u001b[0mmode\u001b[0m\u001b[0;34m,\u001b[0m\u001b[0;34m\u001b[0m\u001b[0;34m\u001b[0m\u001b[0m\n",
      "\u001b[0;32m/usr/local/lib/python3.11/dist-packages/pandas/io/common.py\u001b[0m in \u001b[0;36mget_handle\u001b[0;34m(path_or_buf, mode, encoding, compression, memory_map, is_text, errors, storage_options)\u001b[0m\n\u001b[1;32m    871\u001b[0m         \u001b[0;32mif\u001b[0m \u001b[0mioargs\u001b[0m\u001b[0;34m.\u001b[0m\u001b[0mencoding\u001b[0m \u001b[0;32mand\u001b[0m \u001b[0;34m\"b\"\u001b[0m \u001b[0;32mnot\u001b[0m \u001b[0;32min\u001b[0m \u001b[0mioargs\u001b[0m\u001b[0;34m.\u001b[0m\u001b[0mmode\u001b[0m\u001b[0;34m:\u001b[0m\u001b[0;34m\u001b[0m\u001b[0;34m\u001b[0m\u001b[0m\n\u001b[1;32m    872\u001b[0m             \u001b[0;31m# Encoding\u001b[0m\u001b[0;34m\u001b[0m\u001b[0;34m\u001b[0m\u001b[0m\n\u001b[0;32m--> 873\u001b[0;31m             handle = open(\n\u001b[0m\u001b[1;32m    874\u001b[0m                 \u001b[0mhandle\u001b[0m\u001b[0;34m,\u001b[0m\u001b[0;34m\u001b[0m\u001b[0;34m\u001b[0m\u001b[0m\n\u001b[1;32m    875\u001b[0m                 \u001b[0mioargs\u001b[0m\u001b[0;34m.\u001b[0m\u001b[0mmode\u001b[0m\u001b[0;34m,\u001b[0m\u001b[0;34m\u001b[0m\u001b[0;34m\u001b[0m\u001b[0m\n",
      "\u001b[0;31mFileNotFoundError\u001b[0m: [Errno 2] No such file or directory: '/content/drive/MyDrive/SKN13/09_딥러닝_기본/data/boston_hosing.csv'"
     ]
    }
   ],
   "source": [
    "#  Dataset  읽어오기\n",
    "data_path = \"/content/drive/MyDrive/SKN13/09_딥러닝_기본/data/boston_hosing.csv\"\n",
    "data = pd.read_csv(data_path)\n",
    "data"
   ]
  },
  {
   "cell_type": "code",
   "execution_count": null,
   "metadata": {
    "colab": {
     "base_uri": "https://localhost:8080/"
    },
    "executionInfo": {
     "elapsed": 2287,
     "status": "ok",
     "timestamp": 1747020791260,
     "user": {
      "displayName": "subin",
      "userId": "07662489029603447125"
     },
     "user_tz": -540
    },
    "id": "QDNTIR3x6L-I",
    "outputId": "10941791-1a12-4d24-ba50-fafdc13aadf7"
   },
   "outputs": [
    {
     "name": "stdout",
     "output_type": "stream",
     "text": [
      "Drive already mounted at /content/drive; to attempt to forcibly remount, call drive.mount(\"/content/drive\", force_remount=True).\n"
     ]
    }
   ],
   "source": [
    "from google.colab import drive\n",
    "drive.mount('/content/drive')"
   ]
  },
  {
   "cell_type": "code",
   "execution_count": null,
   "metadata": {
    "id": "HNoVfQAZRc98"
   },
   "outputs": [],
   "source": [
    "# Dataset 읽어오기\n"
   ]
  },
  {
   "cell_type": "code",
   "execution_count": null,
   "metadata": {
    "colab": {
     "base_uri": "https://localhost:8080/",
     "height": 206
    },
    "executionInfo": {
     "elapsed": 16,
     "status": "ok",
     "timestamp": 1747020807453,
     "user": {
      "displayName": "subin",
      "userId": "07662489029603447125"
     },
     "user_tz": -540
    },
    "id": "UlOZYcXE6L-I",
    "outputId": "bb0ce1f1-963e-4157-cabf-ea20278360bc"
   },
   "outputs": [
    {
     "data": {
      "application/vnd.google.colaboratory.intrinsic+json": {
       "summary": "{\n  \"name\": \"data\",\n  \"rows\": 506,\n  \"fields\": [\n    {\n      \"column\": \"CRIM\",\n      \"properties\": {\n        \"dtype\": \"number\",\n        \"std\": 8.601545105332487,\n        \"min\": 0.00632,\n        \"max\": 88.9762,\n        \"num_unique_values\": 504,\n        \"samples\": [\n          0.09178,\n          0.05644,\n          0.10574\n        ],\n        \"semantic_type\": \"\",\n        \"description\": \"\"\n      }\n    },\n    {\n      \"column\": \"ZN\",\n      \"properties\": {\n        \"dtype\": \"number\",\n        \"std\": 23.322452994515036,\n        \"min\": 0.0,\n        \"max\": 100.0,\n        \"num_unique_values\": 26,\n        \"samples\": [\n          25.0,\n          30.0,\n          18.0\n        ],\n        \"semantic_type\": \"\",\n        \"description\": \"\"\n      }\n    },\n    {\n      \"column\": \"INDUS\",\n      \"properties\": {\n        \"dtype\": \"number\",\n        \"std\": 6.8603529408975845,\n        \"min\": 0.46,\n        \"max\": 27.74,\n        \"num_unique_values\": 76,\n        \"samples\": [\n          8.14,\n          1.47,\n          1.22\n        ],\n        \"semantic_type\": \"\",\n        \"description\": \"\"\n      }\n    },\n    {\n      \"column\": \"CHAS\",\n      \"properties\": {\n        \"dtype\": \"number\",\n        \"std\": 0.2539940413404118,\n        \"min\": 0.0,\n        \"max\": 1.0,\n        \"num_unique_values\": 2,\n        \"samples\": [\n          1.0,\n          0.0\n        ],\n        \"semantic_type\": \"\",\n        \"description\": \"\"\n      }\n    },\n    {\n      \"column\": \"NOX\",\n      \"properties\": {\n        \"dtype\": \"number\",\n        \"std\": 0.11587767566755611,\n        \"min\": 0.385,\n        \"max\": 0.871,\n        \"num_unique_values\": 81,\n        \"samples\": [\n          0.401,\n          0.538\n        ],\n        \"semantic_type\": \"\",\n        \"description\": \"\"\n      }\n    },\n    {\n      \"column\": \"RM\",\n      \"properties\": {\n        \"dtype\": \"number\",\n        \"std\": 0.7026171434153237,\n        \"min\": 3.561,\n        \"max\": 8.78,\n        \"num_unique_values\": 446,\n        \"samples\": [\n          6.849,\n          4.88\n        ],\n        \"semantic_type\": \"\",\n        \"description\": \"\"\n      }\n    },\n    {\n      \"column\": \"AGE\",\n      \"properties\": {\n        \"dtype\": \"number\",\n        \"std\": 28.148861406903638,\n        \"min\": 2.9,\n        \"max\": 100.0,\n        \"num_unique_values\": 356,\n        \"samples\": [\n          51.8,\n          33.8\n        ],\n        \"semantic_type\": \"\",\n        \"description\": \"\"\n      }\n    },\n    {\n      \"column\": \"DIS\",\n      \"properties\": {\n        \"dtype\": \"number\",\n        \"std\": 2.1057101266276104,\n        \"min\": 1.1296,\n        \"max\": 12.1265,\n        \"num_unique_values\": 412,\n        \"samples\": [\n          2.2955,\n          4.2515\n        ],\n        \"semantic_type\": \"\",\n        \"description\": \"\"\n      }\n    },\n    {\n      \"column\": \"RAD\",\n      \"properties\": {\n        \"dtype\": \"number\",\n        \"std\": 8.707259384239377,\n        \"min\": 1.0,\n        \"max\": 24.0,\n        \"num_unique_values\": 9,\n        \"samples\": [\n          7.0,\n          2.0\n        ],\n        \"semantic_type\": \"\",\n        \"description\": \"\"\n      }\n    },\n    {\n      \"column\": \"TAX\",\n      \"properties\": {\n        \"dtype\": \"number\",\n        \"std\": 168.53711605495926,\n        \"min\": 187.0,\n        \"max\": 711.0,\n        \"num_unique_values\": 66,\n        \"samples\": [\n          370.0,\n          666.0\n        ],\n        \"semantic_type\": \"\",\n        \"description\": \"\"\n      }\n    },\n    {\n      \"column\": \"PTRATIO\",\n      \"properties\": {\n        \"dtype\": \"number\",\n        \"std\": 2.164945523714446,\n        \"min\": 12.6,\n        \"max\": 22.0,\n        \"num_unique_values\": 46,\n        \"samples\": [\n          19.6,\n          15.6\n        ],\n        \"semantic_type\": \"\",\n        \"description\": \"\"\n      }\n    },\n    {\n      \"column\": \"B\",\n      \"properties\": {\n        \"dtype\": \"number\",\n        \"std\": 91.29486438415779,\n        \"min\": 0.32,\n        \"max\": 396.9,\n        \"num_unique_values\": 357,\n        \"samples\": [\n          396.24,\n          395.11\n        ],\n        \"semantic_type\": \"\",\n        \"description\": \"\"\n      }\n    },\n    {\n      \"column\": \"LSTAT\",\n      \"properties\": {\n        \"dtype\": \"number\",\n        \"std\": 7.141061511348571,\n        \"min\": 1.73,\n        \"max\": 37.97,\n        \"num_unique_values\": 455,\n        \"samples\": [\n          6.15,\n          4.32\n        ],\n        \"semantic_type\": \"\",\n        \"description\": \"\"\n      }\n    },\n    {\n      \"column\": \"MEDV\",\n      \"properties\": {\n        \"dtype\": \"number\",\n        \"std\": 9.19710408737982,\n        \"min\": 5.0,\n        \"max\": 50.0,\n        \"num_unique_values\": 229,\n        \"samples\": [\n          14.1,\n          22.5\n        ],\n        \"semantic_type\": \"\",\n        \"description\": \"\"\n      }\n    }\n  ]\n}",
       "type": "dataframe",
       "variable_name": "data"
      },
      "text/html": [
       "\n",
       "  <div id=\"df-eaaf749b-ce9a-4caa-8e3f-0332876236e3\" class=\"colab-df-container\">\n",
       "    <div>\n",
       "<style scoped>\n",
       "    .dataframe tbody tr th:only-of-type {\n",
       "        vertical-align: middle;\n",
       "    }\n",
       "\n",
       "    .dataframe tbody tr th {\n",
       "        vertical-align: top;\n",
       "    }\n",
       "\n",
       "    .dataframe thead th {\n",
       "        text-align: right;\n",
       "    }\n",
       "</style>\n",
       "<table border=\"1\" class=\"dataframe\">\n",
       "  <thead>\n",
       "    <tr style=\"text-align: right;\">\n",
       "      <th></th>\n",
       "      <th>CRIM</th>\n",
       "      <th>ZN</th>\n",
       "      <th>INDUS</th>\n",
       "      <th>CHAS</th>\n",
       "      <th>NOX</th>\n",
       "      <th>RM</th>\n",
       "      <th>AGE</th>\n",
       "      <th>DIS</th>\n",
       "      <th>RAD</th>\n",
       "      <th>TAX</th>\n",
       "      <th>PTRATIO</th>\n",
       "      <th>B</th>\n",
       "      <th>LSTAT</th>\n",
       "      <th>MEDV</th>\n",
       "    </tr>\n",
       "  </thead>\n",
       "  <tbody>\n",
       "    <tr>\n",
       "      <th>0</th>\n",
       "      <td>0.00632</td>\n",
       "      <td>18.0</td>\n",
       "      <td>2.31</td>\n",
       "      <td>0.0</td>\n",
       "      <td>0.538</td>\n",
       "      <td>6.575</td>\n",
       "      <td>65.2</td>\n",
       "      <td>4.0900</td>\n",
       "      <td>1.0</td>\n",
       "      <td>296.0</td>\n",
       "      <td>15.3</td>\n",
       "      <td>396.90</td>\n",
       "      <td>4.98</td>\n",
       "      <td>24.0</td>\n",
       "    </tr>\n",
       "    <tr>\n",
       "      <th>1</th>\n",
       "      <td>0.02731</td>\n",
       "      <td>0.0</td>\n",
       "      <td>7.07</td>\n",
       "      <td>0.0</td>\n",
       "      <td>0.469</td>\n",
       "      <td>6.421</td>\n",
       "      <td>78.9</td>\n",
       "      <td>4.9671</td>\n",
       "      <td>2.0</td>\n",
       "      <td>242.0</td>\n",
       "      <td>17.8</td>\n",
       "      <td>396.90</td>\n",
       "      <td>9.14</td>\n",
       "      <td>21.6</td>\n",
       "    </tr>\n",
       "    <tr>\n",
       "      <th>2</th>\n",
       "      <td>0.02729</td>\n",
       "      <td>0.0</td>\n",
       "      <td>7.07</td>\n",
       "      <td>0.0</td>\n",
       "      <td>0.469</td>\n",
       "      <td>7.185</td>\n",
       "      <td>61.1</td>\n",
       "      <td>4.9671</td>\n",
       "      <td>2.0</td>\n",
       "      <td>242.0</td>\n",
       "      <td>17.8</td>\n",
       "      <td>392.83</td>\n",
       "      <td>4.03</td>\n",
       "      <td>34.7</td>\n",
       "    </tr>\n",
       "    <tr>\n",
       "      <th>3</th>\n",
       "      <td>0.03237</td>\n",
       "      <td>0.0</td>\n",
       "      <td>2.18</td>\n",
       "      <td>0.0</td>\n",
       "      <td>0.458</td>\n",
       "      <td>6.998</td>\n",
       "      <td>45.8</td>\n",
       "      <td>6.0622</td>\n",
       "      <td>3.0</td>\n",
       "      <td>222.0</td>\n",
       "      <td>18.7</td>\n",
       "      <td>394.63</td>\n",
       "      <td>2.94</td>\n",
       "      <td>33.4</td>\n",
       "    </tr>\n",
       "    <tr>\n",
       "      <th>4</th>\n",
       "      <td>0.06905</td>\n",
       "      <td>0.0</td>\n",
       "      <td>2.18</td>\n",
       "      <td>0.0</td>\n",
       "      <td>0.458</td>\n",
       "      <td>7.147</td>\n",
       "      <td>54.2</td>\n",
       "      <td>6.0622</td>\n",
       "      <td>3.0</td>\n",
       "      <td>222.0</td>\n",
       "      <td>18.7</td>\n",
       "      <td>396.90</td>\n",
       "      <td>5.33</td>\n",
       "      <td>36.2</td>\n",
       "    </tr>\n",
       "  </tbody>\n",
       "</table>\n",
       "</div>\n",
       "    <div class=\"colab-df-buttons\">\n",
       "\n",
       "  <div class=\"colab-df-container\">\n",
       "    <button class=\"colab-df-convert\" onclick=\"convertToInteractive('df-eaaf749b-ce9a-4caa-8e3f-0332876236e3')\"\n",
       "            title=\"Convert this dataframe to an interactive table.\"\n",
       "            style=\"display:none;\">\n",
       "\n",
       "  <svg xmlns=\"http://www.w3.org/2000/svg\" height=\"24px\" viewBox=\"0 -960 960 960\">\n",
       "    <path d=\"M120-120v-720h720v720H120Zm60-500h600v-160H180v160Zm220 220h160v-160H400v160Zm0 220h160v-160H400v160ZM180-400h160v-160H180v160Zm440 0h160v-160H620v160ZM180-180h160v-160H180v160Zm440 0h160v-160H620v160Z\"/>\n",
       "  </svg>\n",
       "    </button>\n",
       "\n",
       "  <style>\n",
       "    .colab-df-container {\n",
       "      display:flex;\n",
       "      gap: 12px;\n",
       "    }\n",
       "\n",
       "    .colab-df-convert {\n",
       "      background-color: #E8F0FE;\n",
       "      border: none;\n",
       "      border-radius: 50%;\n",
       "      cursor: pointer;\n",
       "      display: none;\n",
       "      fill: #1967D2;\n",
       "      height: 32px;\n",
       "      padding: 0 0 0 0;\n",
       "      width: 32px;\n",
       "    }\n",
       "\n",
       "    .colab-df-convert:hover {\n",
       "      background-color: #E2EBFA;\n",
       "      box-shadow: 0px 1px 2px rgba(60, 64, 67, 0.3), 0px 1px 3px 1px rgba(60, 64, 67, 0.15);\n",
       "      fill: #174EA6;\n",
       "    }\n",
       "\n",
       "    .colab-df-buttons div {\n",
       "      margin-bottom: 4px;\n",
       "    }\n",
       "\n",
       "    [theme=dark] .colab-df-convert {\n",
       "      background-color: #3B4455;\n",
       "      fill: #D2E3FC;\n",
       "    }\n",
       "\n",
       "    [theme=dark] .colab-df-convert:hover {\n",
       "      background-color: #434B5C;\n",
       "      box-shadow: 0px 1px 3px 1px rgba(0, 0, 0, 0.15);\n",
       "      filter: drop-shadow(0px 1px 2px rgba(0, 0, 0, 0.3));\n",
       "      fill: #FFFFFF;\n",
       "    }\n",
       "  </style>\n",
       "\n",
       "    <script>\n",
       "      const buttonEl =\n",
       "        document.querySelector('#df-eaaf749b-ce9a-4caa-8e3f-0332876236e3 button.colab-df-convert');\n",
       "      buttonEl.style.display =\n",
       "        google.colab.kernel.accessAllowed ? 'block' : 'none';\n",
       "\n",
       "      async function convertToInteractive(key) {\n",
       "        const element = document.querySelector('#df-eaaf749b-ce9a-4caa-8e3f-0332876236e3');\n",
       "        const dataTable =\n",
       "          await google.colab.kernel.invokeFunction('convertToInteractive',\n",
       "                                                    [key], {});\n",
       "        if (!dataTable) return;\n",
       "\n",
       "        const docLinkHtml = 'Like what you see? Visit the ' +\n",
       "          '<a target=\"_blank\" href=https://colab.research.google.com/notebooks/data_table.ipynb>data table notebook</a>'\n",
       "          + ' to learn more about interactive tables.';\n",
       "        element.innerHTML = '';\n",
       "        dataTable['output_type'] = 'display_data';\n",
       "        await google.colab.output.renderOutput(dataTable, element);\n",
       "        const docLink = document.createElement('div');\n",
       "        docLink.innerHTML = docLinkHtml;\n",
       "        element.appendChild(docLink);\n",
       "      }\n",
       "    </script>\n",
       "  </div>\n",
       "\n",
       "\n",
       "    <div id=\"df-8688967d-848a-466d-b78b-bcd73ee1990a\">\n",
       "      <button class=\"colab-df-quickchart\" onclick=\"quickchart('df-8688967d-848a-466d-b78b-bcd73ee1990a')\"\n",
       "                title=\"Suggest charts\"\n",
       "                style=\"display:none;\">\n",
       "\n",
       "<svg xmlns=\"http://www.w3.org/2000/svg\" height=\"24px\"viewBox=\"0 0 24 24\"\n",
       "     width=\"24px\">\n",
       "    <g>\n",
       "        <path d=\"M19 3H5c-1.1 0-2 .9-2 2v14c0 1.1.9 2 2 2h14c1.1 0 2-.9 2-2V5c0-1.1-.9-2-2-2zM9 17H7v-7h2v7zm4 0h-2V7h2v10zm4 0h-2v-4h2v4z\"/>\n",
       "    </g>\n",
       "</svg>\n",
       "      </button>\n",
       "\n",
       "<style>\n",
       "  .colab-df-quickchart {\n",
       "      --bg-color: #E8F0FE;\n",
       "      --fill-color: #1967D2;\n",
       "      --hover-bg-color: #E2EBFA;\n",
       "      --hover-fill-color: #174EA6;\n",
       "      --disabled-fill-color: #AAA;\n",
       "      --disabled-bg-color: #DDD;\n",
       "  }\n",
       "\n",
       "  [theme=dark] .colab-df-quickchart {\n",
       "      --bg-color: #3B4455;\n",
       "      --fill-color: #D2E3FC;\n",
       "      --hover-bg-color: #434B5C;\n",
       "      --hover-fill-color: #FFFFFF;\n",
       "      --disabled-bg-color: #3B4455;\n",
       "      --disabled-fill-color: #666;\n",
       "  }\n",
       "\n",
       "  .colab-df-quickchart {\n",
       "    background-color: var(--bg-color);\n",
       "    border: none;\n",
       "    border-radius: 50%;\n",
       "    cursor: pointer;\n",
       "    display: none;\n",
       "    fill: var(--fill-color);\n",
       "    height: 32px;\n",
       "    padding: 0;\n",
       "    width: 32px;\n",
       "  }\n",
       "\n",
       "  .colab-df-quickchart:hover {\n",
       "    background-color: var(--hover-bg-color);\n",
       "    box-shadow: 0 1px 2px rgba(60, 64, 67, 0.3), 0 1px 3px 1px rgba(60, 64, 67, 0.15);\n",
       "    fill: var(--button-hover-fill-color);\n",
       "  }\n",
       "\n",
       "  .colab-df-quickchart-complete:disabled,\n",
       "  .colab-df-quickchart-complete:disabled:hover {\n",
       "    background-color: var(--disabled-bg-color);\n",
       "    fill: var(--disabled-fill-color);\n",
       "    box-shadow: none;\n",
       "  }\n",
       "\n",
       "  .colab-df-spinner {\n",
       "    border: 2px solid var(--fill-color);\n",
       "    border-color: transparent;\n",
       "    border-bottom-color: var(--fill-color);\n",
       "    animation:\n",
       "      spin 1s steps(1) infinite;\n",
       "  }\n",
       "\n",
       "  @keyframes spin {\n",
       "    0% {\n",
       "      border-color: transparent;\n",
       "      border-bottom-color: var(--fill-color);\n",
       "      border-left-color: var(--fill-color);\n",
       "    }\n",
       "    20% {\n",
       "      border-color: transparent;\n",
       "      border-left-color: var(--fill-color);\n",
       "      border-top-color: var(--fill-color);\n",
       "    }\n",
       "    30% {\n",
       "      border-color: transparent;\n",
       "      border-left-color: var(--fill-color);\n",
       "      border-top-color: var(--fill-color);\n",
       "      border-right-color: var(--fill-color);\n",
       "    }\n",
       "    40% {\n",
       "      border-color: transparent;\n",
       "      border-right-color: var(--fill-color);\n",
       "      border-top-color: var(--fill-color);\n",
       "    }\n",
       "    60% {\n",
       "      border-color: transparent;\n",
       "      border-right-color: var(--fill-color);\n",
       "    }\n",
       "    80% {\n",
       "      border-color: transparent;\n",
       "      border-right-color: var(--fill-color);\n",
       "      border-bottom-color: var(--fill-color);\n",
       "    }\n",
       "    90% {\n",
       "      border-color: transparent;\n",
       "      border-bottom-color: var(--fill-color);\n",
       "    }\n",
       "  }\n",
       "</style>\n",
       "\n",
       "      <script>\n",
       "        async function quickchart(key) {\n",
       "          const quickchartButtonEl =\n",
       "            document.querySelector('#' + key + ' button');\n",
       "          quickchartButtonEl.disabled = true;  // To prevent multiple clicks.\n",
       "          quickchartButtonEl.classList.add('colab-df-spinner');\n",
       "          try {\n",
       "            const charts = await google.colab.kernel.invokeFunction(\n",
       "                'suggestCharts', [key], {});\n",
       "          } catch (error) {\n",
       "            console.error('Error during call to suggestCharts:', error);\n",
       "          }\n",
       "          quickchartButtonEl.classList.remove('colab-df-spinner');\n",
       "          quickchartButtonEl.classList.add('colab-df-quickchart-complete');\n",
       "        }\n",
       "        (() => {\n",
       "          let quickchartButtonEl =\n",
       "            document.querySelector('#df-8688967d-848a-466d-b78b-bcd73ee1990a button');\n",
       "          quickchartButtonEl.style.display =\n",
       "            google.colab.kernel.accessAllowed ? 'block' : 'none';\n",
       "        })();\n",
       "      </script>\n",
       "    </div>\n",
       "\n",
       "    </div>\n",
       "  </div>\n"
      ],
      "text/plain": [
       "      CRIM    ZN  INDUS  CHAS    NOX     RM   AGE     DIS  RAD    TAX  \\\n",
       "0  0.00632  18.0   2.31   0.0  0.538  6.575  65.2  4.0900  1.0  296.0   \n",
       "1  0.02731   0.0   7.07   0.0  0.469  6.421  78.9  4.9671  2.0  242.0   \n",
       "2  0.02729   0.0   7.07   0.0  0.469  7.185  61.1  4.9671  2.0  242.0   \n",
       "3  0.03237   0.0   2.18   0.0  0.458  6.998  45.8  6.0622  3.0  222.0   \n",
       "4  0.06905   0.0   2.18   0.0  0.458  7.147  54.2  6.0622  3.0  222.0   \n",
       "\n",
       "   PTRATIO       B  LSTAT  MEDV  \n",
       "0     15.3  396.90   4.98  24.0  \n",
       "1     17.8  396.90   9.14  21.6  \n",
       "2     17.8  392.83   4.03  34.7  \n",
       "3     18.7  394.63   2.94  33.4  \n",
       "4     18.7  396.90   5.33  36.2  "
      ]
     },
     "execution_count": 64,
     "metadata": {},
     "output_type": "execute_result"
    }
   ],
   "source": [
    "data.head()"
   ]
  },
  {
   "cell_type": "code",
   "execution_count": null,
   "metadata": {
    "id": "cHIs45ny6L-I"
   },
   "outputs": [],
   "source": [
    "X = data.drop(columns='MEDV').values\n",
    "y = data['MEDV'].values.reshape(-1, 1)"
   ]
  },
  {
   "cell_type": "code",
   "execution_count": null,
   "metadata": {
    "colab": {
     "base_uri": "https://localhost:8080/"
    },
    "executionInfo": {
     "elapsed": 28,
     "status": "ok",
     "timestamp": 1747021534923,
     "user": {
      "displayName": "subin",
      "userId": "07662489029603447125"
     },
     "user_tz": -540
    },
    "id": "ZnEHPzSkRoY1",
    "outputId": "7ba867ee-9fa1-44f9-dfb1-672edb7787b8"
   },
   "outputs": [
    {
     "data": {
      "text/plain": [
       "((404, 13), (102, 13), (404, 1), (102, 1))"
      ]
     },
     "execution_count": 98,
     "metadata": {},
     "output_type": "execute_result"
    }
   ],
   "source": [
    "# train/test set 분리\n",
    "X_train, X_test, y_train, y_test = train_test_split(X, y, test_size=0.2, random_state=0)\n",
    "X_train.shape, X_test.shape, y_train.shape, y_test.shape"
   ]
  },
  {
   "cell_type": "code",
   "execution_count": null,
   "metadata": {
    "id": "dq-0FfZvSCm1"
   },
   "outputs": [],
   "source": [
    "#Feature Scaling - Standard Scaler\n",
    "scaler = StandardScaler()\n",
    "X_train_scaled = scaler.fit_transform(X_train)\n",
    "X_test_scaled = scaler.transform(X_test)"
   ]
  },
  {
   "cell_type": "code",
   "execution_count": null,
   "metadata": {
    "colab": {
     "base_uri": "https://localhost:8080/"
    },
    "executionInfo": {
     "elapsed": 7,
     "status": "ok",
     "timestamp": 1747021636077,
     "user": {
      "displayName": "subin",
      "userId": "07662489029603447125"
     },
     "user_tz": -540
    },
    "id": "sgyfi6tRdrid",
    "outputId": "05c83332-1b3b-448b-e319-f827ba130d40"
   },
   "outputs": [
    {
     "data": {
      "text/plain": [
       "dtype('float64')"
      ]
     },
     "execution_count": 100,
     "metadata": {},
     "output_type": "execute_result"
    }
   ],
   "source": [
    "X_train_scaled.dtype"
   ]
  },
  {
   "cell_type": "code",
   "execution_count": null,
   "metadata": {
    "id": "Fx4ATF12Sj4s"
   },
   "outputs": [],
   "source": [
    "######################################\n",
    "# Dataset 생성\n",
    "# X, y가 ndarray 타입으로 메모리에 있는 경우 => TenserDataset\n",
    "######################################\n",
    "trainset = TensorDataset(\n",
    "    torch.tensor(X_train_scaled, dtype=torch.float32), # 모델 파라미터와 타입을 동일하게 설정.\n",
    "    torch.tensor(y_train, dtype=torch.float32)\n",
    ")\n",
    "testset = TensorDataset(\n",
    "    torch.tensor(X_test_scaled, dtype=torch.float32),\n",
    "    torch.tensor(y_test, dtype=torch.float32)\n",
    ")"
   ]
  },
  {
   "cell_type": "code",
   "execution_count": null,
   "metadata": {
    "colab": {
     "base_uri": "https://localhost:8080/"
    },
    "executionInfo": {
     "elapsed": 23,
     "status": "ok",
     "timestamp": 1747021641313,
     "user": {
      "displayName": "subin",
      "userId": "07662489029603447125"
     },
     "user_tz": -540
    },
    "id": "t6JosyzkTfaX",
    "outputId": "a75b39a6-ee9e-430a-86ad-42ce0ab8c22d"
   },
   "outputs": [
    {
     "data": {
      "text/plain": [
       "(404, 102)"
      ]
     },
     "execution_count": 102,
     "metadata": {},
     "output_type": "execute_result"
    }
   ],
   "source": [
    "len(trainset), len(testset)"
   ]
  },
  {
   "cell_type": "code",
   "execution_count": null,
   "metadata": {
    "colab": {
     "base_uri": "https://localhost:8080/"
    },
    "executionInfo": {
     "elapsed": 11,
     "status": "ok",
     "timestamp": 1747021643451,
     "user": {
      "displayName": "subin",
      "userId": "07662489029603447125"
     },
     "user_tz": -540
    },
    "id": "rz7SfGIZTksy",
    "outputId": "76460c66-c8fb-4c8a-eb75-34643a62ff2a"
   },
   "outputs": [
    {
     "data": {
      "text/plain": [
       "(tensor([-0.3726, -0.4996, -0.7049,  3.6645, -0.4249,  0.9357,  0.6937, -0.4372,\n",
       "         -0.1622, -0.5617, -0.4846,  0.3717, -0.4110]),\n",
       " tensor([26.7000]))"
      ]
     },
     "execution_count": 103,
     "metadata": {},
     "output_type": "execute_result"
    }
   ],
   "source": [
    "trainset[0]"
   ]
  },
  {
   "cell_type": "code",
   "execution_count": null,
   "metadata": {
    "id": "-DetkxcOTp7a"
   },
   "outputs": [],
   "source": [
    "########################################\n",
    "# DataLoader 생성\n",
    "########################################\n",
    "train_loader = DataLoader(trainset, batch_size=100, shuffle=True, drop_last=True)\n",
    "test_loader = DataLoader(testset, batch_size=102)"
   ]
  },
  {
   "cell_type": "code",
   "execution_count": null,
   "metadata": {
    "colab": {
     "base_uri": "https://localhost:8080/"
    },
    "executionInfo": {
     "elapsed": 6,
     "status": "ok",
     "timestamp": 1747021648269,
     "user": {
      "displayName": "subin",
      "userId": "07662489029603447125"
     },
     "user_tz": -540
    },
    "id": "8pjENJSoUD4o",
    "outputId": "dce4850f-9fbe-40c9-ceea-a548506fb6dd"
   },
   "outputs": [
    {
     "data": {
      "text/plain": [
       "(4, 1)"
      ]
     },
     "execution_count": 105,
     "metadata": {},
     "output_type": "execute_result"
    }
   ],
   "source": [
    "# epoch당 step수\n",
    "len(train_loader), len(test_loader)"
   ]
  },
  {
   "cell_type": "code",
   "execution_count": null,
   "metadata": {
    "id": "Opmos1JMUNaH"
   },
   "outputs": [],
   "source": [
    "#########################################\n",
    "# 모델정의\n",
    "#########################################\n",
    "class BostonModel(nn.Module):\n",
    "  def __init__(self):\n",
    "    super().__init__()\n",
    "    self.lr1 = nn.Linear(13, 32) # 13(in_features): X의 feature개수\n",
    "    self.lr2 = nn.Linear(32, 16) #\n",
    "    self.lr3 = nn.Linear(16, 1) # 1 (out_features): 예측할 y의 개수(집값)\n",
    "\n",
    "  def forward(self, X):\n",
    "    #lr1 -> relu -> lr2 -> relu -> lr3\n",
    "    X = self.lr1(X)\n",
    "    X = nn.ReLU()(X)\n",
    "    X = self.lr2(X)\n",
    "    X = nn.ReLU()(X)\n",
    "    X = self.lr3(X)\n",
    "    return X"
   ]
  },
  {
   "cell_type": "code",
   "execution_count": null,
   "metadata": {
    "colab": {
     "base_uri": "https://localhost:8080/"
    },
    "executionInfo": {
     "elapsed": 6,
     "status": "ok",
     "timestamp": 1747021654318,
     "user": {
      "displayName": "subin",
      "userId": "07662489029603447125"
     },
     "user_tz": -540
    },
    "id": "5oX-ortUWuaV",
    "outputId": "497d37d5-e5cc-4c1b-d9d8-9a9915ce882f"
   },
   "outputs": [
    {
     "data": {
      "text/plain": [
       "==========================================================================================\n",
       "Layer (type:depth-idx)                   Output Shape              Param #\n",
       "==========================================================================================\n",
       "BostonModel                              [100, 1]                  --\n",
       "├─Linear: 1-1                            [100, 32]                 448\n",
       "├─Linear: 1-2                            [100, 16]                 528\n",
       "├─Linear: 1-3                            [100, 1]                  17\n",
       "==========================================================================================\n",
       "Total params: 993\n",
       "Trainable params: 993\n",
       "Non-trainable params: 0\n",
       "Total mult-adds (Units.MEGABYTES): 0.10\n",
       "==========================================================================================\n",
       "Input size (MB): 0.01\n",
       "Forward/backward pass size (MB): 0.04\n",
       "Params size (MB): 0.00\n",
       "Estimated Total Size (MB): 0.05\n",
       "=========================================================================================="
      ]
     },
     "execution_count": 107,
     "metadata": {},
     "output_type": "execute_result"
    }
   ],
   "source": [
    "boston_model = BostonModel()\n",
    "torchinfo.summary(boston_model, (100, 13))\n",
    "#(100:batch_size(알아서 지정), 13: feature 수) >> 입력데이터의 shape을 적어야 상기 forward()를 돌린 정보를 보여준다."
   ]
  },
  {
   "cell_type": "code",
   "execution_count": null,
   "metadata": {
    "colab": {
     "base_uri": "https://localhost:8080/"
    },
    "executionInfo": {
     "elapsed": 7,
     "status": "ok",
     "timestamp": 1747021657271,
     "user": {
      "displayName": "subin",
      "userId": "07662489029603447125"
     },
     "user_tz": -540
    },
    "id": "YP0qGPcgU2rr",
    "outputId": "1978a4d0-9159-4f6c-ea7d-8fb1a9024863"
   },
   "outputs": [
    {
     "data": {
      "text/plain": [
       "(404, 1)"
      ]
     },
     "execution_count": 108,
     "metadata": {},
     "output_type": "execute_result"
    }
   ],
   "source": [
    "X_train.shape\n",
    "y_train.shape"
   ]
  },
  {
   "cell_type": "code",
   "execution_count": null,
   "metadata": {
    "id": "9--mcENrXVHl"
   },
   "outputs": [],
   "source": [
    "#########################################\n",
    "#학습\n",
    "#########################################\n",
    "#필요한 객체들 생성 - model, loss 함수, optimizer\n",
    "#device로 옮길 대상 : model, X, y\n",
    "boston_model = boston_model.to(device)\n",
    "loss_fn = nn.MSELoss() # 회귀의 loss함수 -> MSE\n",
    "optimizer = torch.optim.RMSprop(boston_model.parameters(), lr=0.001)\n",
    "# 옵티마이저 파라미터(모델의 파라미터, 학습률)"
   ]
  },
  {
   "cell_type": "code",
   "execution_count": null,
   "metadata": {
    "colab": {
     "base_uri": "https://localhost:8080/"
    },
    "executionInfo": {
     "elapsed": 11305,
     "status": "ok",
     "timestamp": 1747020997598,
     "user": {
      "displayName": "subin",
      "userId": "07662489029603447125"
     },
     "user_tz": -540
    },
    "id": "CXgvs2smYS7m",
    "outputId": "37630a68-5f3d-488c-e052-a1e6769e6dd0"
   },
   "outputs": [
    {
     "name": "stdout",
     "output_type": "stream",
     "text": [
      "[1000/1000] train loss: 85.30568, valid loss: 81.68059\n"
     ]
    }
   ],
   "source": [
    "# 학습 : train + validation\n",
    "\n",
    "train_loss_list = []\n",
    "valid_loss_list = []\n",
    "\n",
    "for epoch in range(1000): # 1000에폭 학습.\n",
    "########################################\n",
    "#train\n",
    "########################################\n",
    "  boston_model.train()\n",
    "  train_loss = 0.0 # 현재 epoch loss를 저장할 함수.\n",
    "# step단위로 학습.\n",
    "  for X_train, y_train in train_loader:\n",
    "  # 1 batch 학습 == 1 Step\n",
    "  # 1. X, y를 device로 옮기기\n",
    "    X_train, y_train = X_train.to(device), y_train.to(device)\n",
    "\n",
    "    # 2. 모델을 이용해서 추정\n",
    "    pred = boston_model(X_train)\n",
    "\n",
    "    # 3. Loss 계산\n",
    "    loss = loss_fn(pred, y_train) # (모델추정값, 정답)\n",
    "\n",
    "    # 4. gradient 계산\n",
    "    loss.backward()\n",
    "\n",
    "    # 5. weight/bias update\n",
    "    optimizer.step()\n",
    "\n",
    "    # 6. gradient 초기화\n",
    "    optimizer.zero_grad()\n",
    "\n",
    "    train_loss += loss.item()\n",
    "\n",
    "  train_loss /= len(train_loader) # 1에폭 loss 결과 저장.\n",
    "\n",
    "##############################################################\n",
    "#validation\n",
    "##############################################################\n",
    "boston_model.eval()\n",
    "valid_loss = 0.0\n",
    "with torch.no_grad():\n",
    "  for X_test, y_test in test_loader:\n",
    "    # 1. X, y를 device로 옮기기.\n",
    "    X_test, y_test = X_test.to(device), y_test.to(device)\n",
    "\n",
    "    # 2. 추정\n",
    "    pred_test = boston_model(X_test)\n",
    "\n",
    "    # 3. 검증 - loss계산.\n",
    "    valid_loss += loss_fn(pred_test, y_test)\n",
    "\n",
    "  valid_loss /= len(test_loader)\n",
    "\n",
    "# 현재 epoch 학습 결과를 출력\n",
    "  print(f\"[{epoch+1}/1000] train loss: {train_loss:.5f}, valid loss: {valid_loss:.5f}\")\n",
    "  train_loss_list.append(train_loss)\n",
    "  valid_loss_list.append(valid_loss)"
   ]
  },
  {
   "cell_type": "code",
   "execution_count": null,
   "metadata": {
    "id": "pKDyQQWFkp8V"
   },
   "outputs": [],
   "source": [
    "train_loss_list = []\n",
    "valid_loss_list = []\n",
    "\n",
    "for epoch in range(1000):\n",
    "  #####################\n",
    "  #train\n",
    "  boston_model.train()\n",
    "  train_loss= 0.0 # 현재 epoch loss를 저장할 함수\n",
    "\n",
    "  for X_train, y_train in train_loader:\n",
    "    # 1 batch 학습 == 1 step\n",
    "    # 1. X,y를 device로 옮기기\n",
    "    X_train, y_train = X_train.to(device), y_train.to(device)\n",
    "\n",
    "    # 2. 모델을 이용해서 추정\n",
    "    pred = boston_model(X_train)\n",
    "\n",
    "    # 3. Loss 계산\n",
    "    loss = loss_fn(pred, y_train)  # 모델 추정값, 정답\n",
    "\n",
    "    #4. gradient 계산\n",
    "    loss.backward()\n",
    "\n",
    "    #5. weight/bias update\n",
    "    optimizer.step()\n",
    "\n",
    "    # gradient 초기화\n",
    "    optimizer.zero_grad()\n",
    "    train_loss += loss.item()\n",
    "\n",
    "  train_loss/= len(train_loader)  # 1에폭 loss결과 저장.   # 에폭의 횟수에 따라 overfitting 날 수 있음 예를 들어 에폭이 500이 최적화인데, 1000을 돌리면 overfitting이 날 수 있음.\n",
    "\n",
    "  ##################\n",
    "  #validation\n",
    "  boston_model.eval()\n",
    "  valid_loss = 0.0\n",
    "  with torch.no_grad():\n",
    "    for X_test, y_test in test_loader:\n",
    "      # 1. X,y를 device로 옮기기\n",
    "      X_test, y_test = X_test.to(device), y_test.to(device)\n",
    "\n",
    "      #2. 추정\n",
    "      pred_test = boston_model(X_test)\n",
    "\n",
    "      #3. 검증 - loss 계산\n",
    "      valid_loss = loss_fn(pred_test, y_test)\n",
    "    valid_loss /= len(test_loader)\n",
    "\n",
    "  print(f\"[{epoch+1}/1000] train loss: {train_loss:.5f}, validation loss: {valid_loss:.5f}\")\n",
    "  train_loss_list.append(train_loss)\n",
    "  valid_loss_list.append(valid_loss)\n"
   ]
  },
  {
   "cell_type": "code",
   "execution_count": null,
   "metadata": {
    "colab": {
     "base_uri": "https://localhost:8080/",
     "height": 435
    },
    "executionInfo": {
     "elapsed": 501,
     "status": "ok",
     "timestamp": 1747026499523,
     "user": {
      "displayName": "subin",
      "userId": "07662489029603447125"
     },
     "user_tz": -540
    },
    "id": "_AeCs3ZWks1c",
    "outputId": "e3ef1177-5a61-42c9-f49d-bd5a45e1fc24"
   },
   "outputs": [
    {
     "data": {
      "image/png": "[encoded data removed]",
      "text/plain": [
       "<Figure size 640x480 with 1 Axes>"
      ]
     },
     "metadata": {},
     "output_type": "display_data"
    }
   ],
   "source": [
    "# epoch 별 loss 변화률 시각화\n",
    "plt.plot(range(1000), train_loss_list, label=\"train loss\")\n",
    "plt.plot(range(1000), valid_loss_list, label=\"valid loss\")\n",
    "plt.ylim(0, 30)\n",
    "plt.legend()\n",
    "plt.show()"
   ]
  },
  {
   "cell_type": "code",
   "execution_count": null,
   "metadata": {
    "colab": {
     "base_uri": "https://localhost:8080/",
     "height": 183
    },
    "executionInfo": {
     "elapsed": 11,
     "status": "error",
     "timestamp": 1747026995964,
     "user": {
      "displayName": "남궁건우",
      "userId": "00560730431062529338"
     },
     "user_tz": -540
    },
    "id": "ZezHnLHY6b0w",
    "outputId": "9f9db071-6197-4884-d2b3-10703278f8cb"
   },
   "outputs": [
    {
     "ename": "NameError",
     "evalue": "name 'boston_model' is not defined",
     "output_type": "error",
     "traceback": [
      "\u001b[0;31m---------------------------------------------------------------------------\u001b[0m",
      "\u001b[0;31mNameError\u001b[0m                                 Traceback (most recent call last)",
      "\u001b[0;32m<ipython-input-3-f5803512a5e0>\u001b[0m in \u001b[0;36m<cell line: 0>\u001b[0;34m()\u001b[0m\n\u001b[1;32m      6\u001b[0m \u001b[0mos\u001b[0m\u001b[0;34m.\u001b[0m\u001b[0mmakedirs\u001b[0m\u001b[0;34m(\u001b[0m\u001b[0;34m'saved_model'\u001b[0m\u001b[0;34m,\u001b[0m \u001b[0mexist_ok\u001b[0m\u001b[0;34m=\u001b[0m\u001b[0;32mTrue\u001b[0m\u001b[0;34m)\u001b[0m\u001b[0;34m\u001b[0m\u001b[0;34m\u001b[0m\u001b[0m\n\u001b[1;32m      7\u001b[0m \u001b[0;34m\u001b[0m\u001b[0m\n\u001b[0;32m----> 8\u001b[0;31m \u001b[0mtorch\u001b[0m\u001b[0;34m.\u001b[0m\u001b[0msave\u001b[0m\u001b[0;34m(\u001b[0m\u001b[0mboston_model\u001b[0m\u001b[0;34m,\u001b[0m \u001b[0;34m\"saved_model/boston_model.pt\"\u001b[0m\u001b[0;34m)\u001b[0m\u001b[0;34m\u001b[0m\u001b[0;34m\u001b[0m\u001b[0m\n\u001b[0m",
      "\u001b[0;31mNameError\u001b[0m: name 'boston_model' is not defined"
     ]
    }
   ],
   "source": [
    "############################\n",
    "# 모델 저장 - 불러오기\n",
    "############################\n",
    "import os\n",
    "# 코랩-구글드라이브에 저장.\n",
    "os.makedirs('saved_model', exist_ok=True)\n",
    "\n",
    "torch.save(boston_model, \"saved_model/boston_model.pt\")"
   ]
  },
  {
   "cell_type": "code",
   "execution_count": null,
   "metadata": {
    "id": "7h32pnHK7JzW"
   },
   "outputs": [],
   "source": [
    "# 불러오기\n",
    "load_boston_model = torch.load(\"saved_model/boston_model.pt\", weights_only=False)"
   ]
  },
  {
   "cell_type": "code",
   "execution_count": null,
   "metadata": {
    "id": "Qm0ol0WM7rO8"
   },
   "outputs": [],
   "source": [
    "###############################\n",
    "# 파라미터만 저장 - 불러오기\n",
    "###############################\n",
    "# state_dict를 조회\n",
    "torch.save(boston_model.state_dict(), \"saved_model/boston_state_dict.pt\")"
   ]
  },
  {
   "cell_type": "code",
   "execution_count": null,
   "metadata": {
    "id": "6Prjj4OF78im"
   },
   "outputs": [],
   "source": [
    "load_sd = torch.load(\"saved_model/boston_state_dict.pt\")\n",
    "load_boston_model2 = BostonModel()\n",
    "load_boston_model2.load_state_dict(load_sd)"
   ]
  },
  {
   "cell_type": "code",
   "execution_count": null,
   "metadata": {
    "id": "JyuawuT_8P7U"
   },
   "outputs": [],
   "source": [
    "##########################\n",
    "# 최종평가\n",
    "##########################\n",
    "\n",
    "test_loss = 0.0\n",
    "\n",
    "with torch.no_grad():\n",
    "  for X_test, y_test in test_loader:\n",
    "    # device로 이동\n",
    "    X_test, y_test = X_test.to(device), y_test.to(device)\n",
    "    # 추론\n",
    "    pred_test = boston_model(X_test) #load_boston_model, load_boston_model2 >> 총 3개의 모델을 바꿔가면서 결과값이 바뀌지 않으면 성공!\n",
    "    # loss 계산\n",
    "    loss_test = loss_fn(pred_test, y_test)\n",
    "    test_loss += loss_test.item()\n",
    "\n",
    "  test_loss /= len(test_loader)\n",
    "\n",
    "print(test_loss)\n"
   ]
  },
  {
   "cell_type": "code",
   "execution_count": null,
   "metadata": {
    "id": "FmYmzq9z8QuK"
   },
   "outputs": [],
   "source": [
    "# 새로운 데이터를 추론\n",
    "new_X, _ = trainset[:5]\n",
    "load_boston_model.eval()\n",
    "with torch.no_grad():\n",
    "  new_y = load_boston_model(new_X)"
   ]
  },
  {
   "cell_type": "code",
   "execution_count": null,
   "metadata": {
    "id": "hSiiL4pT8RxG"
   },
   "outputs": [],
   "source": [
    "new_y"
   ]
  },
  {
   "cell_type": "code",
   "execution_count": null,
   "metadata": {
    "id": "zgbQQOps8R-a"
   },
   "outputs": [],
   "source": []
  },
  {
   "cell_type": "markdown",
   "metadata": {
    "id": "UXBtT9aG6L-I"
   },
   "source": [
    "## 분류 (Classification)\n",
    "\n",
    "### Fashion MNIST Dataset - **다중분류(Multi-Class Classification) 문제**\n",
    "\n",
    "10개의 범주(category)와 70,000개의 흑백 이미지로 구성된 [패션 MNIST](https://github.com/zalandoresearch/fashion-mnist) 데이터셋.\n",
    "이미지는 해상도(28x28 픽셀)가 낮고 다음처럼 개별 의류 품목을 나타낸다:\n",
    "\n",
    "<table>\n",
    "  <tr><td>\n",
    "    <img src=\"https://tensorflow.org/images/fashion-mnist-sprite.png\"\n",
    "         alt=\"Fashion MNIST sprite\"  width=\"600\">\n",
    "  </td></tr>\n",
    "  <tr><td align=\"center\">\n",
    "    <b>그림</b> <a href=\"https://github.com/zalandoresearch/fashion-mnist\">패션-MNIST 샘플</a> (Zalando, MIT License).<br/>&nbsp;\n",
    "  </td></tr>\n",
    "</table>"
   ]
  },
  {
   "cell_type": "markdown",
   "metadata": {
    "id": "erZfMSRX6L-I"
   },
   "source": [
    "- **Feature**이미지는 28x28 크기이며 Gray scale이다.\n",
    "- **Target**은 총 10개의 class로 구성되어 있으며 각 class의 class 이름은 다음과 같다.\n",
    "\n",
    "| 레이블 | 클래스       |\n",
    "|--------|--------------|\n",
    "| 0      | T-shirt/top |\n",
    "| 1      | Trousers    |\n",
    "| 2      | Pullover    |\n",
    "| 3      | Dress       |\n",
    "| 4      | Coat        |\n",
    "| 5      | Sandal      |\n",
    "| 6      | Shirt       |\n",
    "| 7      | Sneaker     |\n",
    "| 8      | Bag         |\n",
    "| 9      | Ankle boot  |"
   ]
  },
  {
   "cell_type": "markdown",
   "metadata": {
    "id": "2XpUTYQm6L-J"
   },
   "source": [
    "> #### 학습 도중 모델 저장\n",
    ">\n",
    "> - 학습 도중 가장 좋은 성능을 보이는 모델이 나올 수 있다.\n",
    "> - 학습 도중 모델을 저장하는 방법\n",
    ">   1. 각 에폭이 끝날 때 마다 모델을 저장한다.\n",
    ">   2. 한 에폭 학습 후 성능 개선이 있으면 모델을 저장하여 가장 성능 좋은 모델만 저장되도록 한다.\n",
    ">      - 최고 성능 점수(best score)와 현재 에폭의 성능을 비교하여, 성능이 개선되었을 경우 모델을 저장(덮어쓰기)한다.\n",
    ">\n",
    "> #### 조기 종료(Early Stopping)\n",
    ">\n",
    "> - 학습 도중 성능 개선이 나타나지 않으면, 중간에 학습을 종료하도록 구현한다.\n",
    "> - 에폭 수를 충분히 길게 설정한 뒤, 특정 횟수 동안 성능 개선이 없으면 학습을 조기 종료하도록 구현한다.\n"
   ]
  },
  {
   "cell_type": "code",
   "execution_count": 2,
   "metadata": {
    "colab": {
     "base_uri": "https://localhost:8080/"
    },
    "executionInfo": {
     "elapsed": 14,
     "status": "ok",
     "timestamp": 1747038668825,
     "user": {
      "displayName": "남궁건우",
      "userId": "00560730431062529338"
     },
     "user_tz": -540
    },
    "id": "1qf3Hvsr6L-J",
    "outputId": "1f17db46-4d1e-4168-ba5c-679c140a2c1e"
   },
   "outputs": [
    {
     "name": "stdout",
     "output_type": "stream",
     "text": [
      "cpu\n"
     ]
    }
   ],
   "source": [
    "import torch\n",
    "import torch.nn as nn\n",
    "from torchvision import datasets, transforms\n",
    "\n",
    "device = \"cuda\" if torch.cuda.is_available() else \"cpu\"\n",
    "print(device)"
   ]
  },
  {
   "cell_type": "code",
   "execution_count": 7,
   "metadata": {
    "id": "5F4Z-1tH6L-J"
   },
   "outputs": [
    {
     "name": "stderr",
     "output_type": "stream",
     "text": [
      "100.0%\n",
      "100.0%\n",
      "100.0%\n",
      "100.0%\n"
     ]
    }
   ],
   "source": [
    "# Dataset loading\n",
    "fmnist_trainset = datasets.FashionMNIST(\n",
    "    root='data', train=True, download=True,\n",
    "    transform=transforms.ToTensor() # pytorch의 모델은 tensor로 넣어야한다. 필로우이미지임 확인할땐 tensor로 바꾸면 안되겠지?\n",
    "\n",
    ")\n",
    "\n",
    "fmnist_testset = datasets.FashionMNIST(\n",
    "    root='data', train=False, download=True,\n",
    "    transform=transforms.ToTensor()\n",
    ")"
   ]
  },
  {
   "cell_type": "code",
   "execution_count": null,
   "metadata": {
    "colab": {
     "base_uri": "https://localhost:8080/"
    },
    "executionInfo": {
     "elapsed": 25,
     "status": "ok",
     "timestamp": 1747038671750,
     "user": {
      "displayName": "남궁건우",
      "userId": "00560730431062529338"
     },
     "user_tz": -540
    },
    "id": "as3M4G3S6L-M",
    "outputId": "eccdf8f7-51e3-4aa9-8a7c-d03f2869cb4d"
   },
   "outputs": [
    {
     "data": {
      "text/plain": [
       "(tensor([[[0.0000, 0.0000, 0.0000, 0.0000, 0.0000, 0.0000, 0.0000, 0.0000,\n",
       "           0.0000, 0.0000, 0.0000, 0.0000, 0.0000, 0.0000, 0.0000, 0.0000,\n",
       "           0.0000, 0.0000, 0.0000, 0.0000, 0.0000, 0.0000, 0.0000, 0.0000,\n",
       "           0.0000, 0.0000, 0.0000, 0.0000],\n",
       "          [0.0000, 0.0000, 0.0000, 0.0000, 0.0000, 0.0000, 0.0000, 0.0000,\n",
       "           0.0000, 0.0000, 0.0000, 0.0000, 0.0000, 0.0000, 0.0000, 0.0000,\n",
       "           0.0000, 0.0000, 0.0000, 0.0000, 0.0000, 0.0000, 0.0000, 0.0000,\n",
       "           0.0000, 0.0000, 0.0000, 0.0000],\n",
       "          [0.0000, 0.0000, 0.0000, 0.0000, 0.0000, 0.0000, 0.0000, 0.0000,\n",
       "           0.0000, 0.0000, 0.0000, 0.0000, 0.0000, 0.0000, 0.0000, 0.0000,\n",
       "           0.0000, 0.0000, 0.0000, 0.0000, 0.0000, 0.0000, 0.0000, 0.0000,\n",
       "           0.0000, 0.0000, 0.0000, 0.0000],\n",
       "          [0.0000, 0.0000, 0.0000, 0.0000, 0.0000, 0.0000, 0.0000, 0.0000,\n",
       "           0.0000, 0.0000, 0.0000, 0.0000, 0.0039, 0.0000, 0.0000, 0.0510,\n",
       "           0.2863, 0.0000, 0.0000, 0.0039, 0.0157, 0.0000, 0.0000, 0.0000,\n",
       "           0.0000, 0.0039, 0.0039, 0.0000],\n",
       "          [0.0000, 0.0000, 0.0000, 0.0000, 0.0000, 0.0000, 0.0000, 0.0000,\n",
       "           0.0000, 0.0000, 0.0000, 0.0000, 0.0118, 0.0000, 0.1412, 0.5333,\n",
       "           0.4980, 0.2431, 0.2118, 0.0000, 0.0000, 0.0000, 0.0039, 0.0118,\n",
       "           0.0157, 0.0000, 0.0000, 0.0118],\n",
       "          [0.0000, 0.0000, 0.0000, 0.0000, 0.0000, 0.0000, 0.0000, 0.0000,\n",
       "           0.0000, 0.0000, 0.0000, 0.0000, 0.0235, 0.0000, 0.4000, 0.8000,\n",
       "           0.6902, 0.5255, 0.5647, 0.4824, 0.0902, 0.0000, 0.0000, 0.0000,\n",
       "           0.0000, 0.0471, 0.0392, 0.0000],\n",
       "          [0.0000, 0.0000, 0.0000, 0.0000, 0.0000, 0.0000, 0.0000, 0.0000,\n",
       "           0.0000, 0.0000, 0.0000, 0.0000, 0.0000, 0.0000, 0.6078, 0.9255,\n",
       "           0.8118, 0.6980, 0.4196, 0.6118, 0.6314, 0.4275, 0.2510, 0.0902,\n",
       "           0.3020, 0.5098, 0.2824, 0.0588],\n",
       "          [0.0000, 0.0000, 0.0000, 0.0000, 0.0000, 0.0000, 0.0000, 0.0000,\n",
       "           0.0000, 0.0000, 0.0000, 0.0039, 0.0000, 0.2706, 0.8118, 0.8745,\n",
       "           0.8549, 0.8471, 0.8471, 0.6392, 0.4980, 0.4745, 0.4784, 0.5725,\n",
       "           0.5529, 0.3451, 0.6745, 0.2588],\n",
       "          [0.0000, 0.0000, 0.0000, 0.0000, 0.0000, 0.0000, 0.0000, 0.0000,\n",
       "           0.0000, 0.0039, 0.0039, 0.0039, 0.0000, 0.7843, 0.9098, 0.9098,\n",
       "           0.9137, 0.8980, 0.8745, 0.8745, 0.8431, 0.8353, 0.6431, 0.4980,\n",
       "           0.4824, 0.7686, 0.8980, 0.0000],\n",
       "          [0.0000, 0.0000, 0.0000, 0.0000, 0.0000, 0.0000, 0.0000, 0.0000,\n",
       "           0.0000, 0.0000, 0.0000, 0.0000, 0.0000, 0.7176, 0.8824, 0.8471,\n",
       "           0.8745, 0.8941, 0.9216, 0.8902, 0.8784, 0.8706, 0.8784, 0.8667,\n",
       "           0.8745, 0.9608, 0.6784, 0.0000],\n",
       "          [0.0000, 0.0000, 0.0000, 0.0000, 0.0000, 0.0000, 0.0000, 0.0000,\n",
       "           0.0000, 0.0000, 0.0000, 0.0000, 0.0000, 0.7569, 0.8941, 0.8549,\n",
       "           0.8353, 0.7765, 0.7059, 0.8314, 0.8235, 0.8275, 0.8353, 0.8745,\n",
       "           0.8627, 0.9529, 0.7922, 0.0000],\n",
       "          [0.0000, 0.0000, 0.0000, 0.0000, 0.0000, 0.0000, 0.0000, 0.0000,\n",
       "           0.0000, 0.0039, 0.0118, 0.0000, 0.0471, 0.8588, 0.8627, 0.8314,\n",
       "           0.8549, 0.7529, 0.6627, 0.8902, 0.8157, 0.8549, 0.8784, 0.8314,\n",
       "           0.8863, 0.7725, 0.8196, 0.2039],\n",
       "          [0.0000, 0.0000, 0.0000, 0.0000, 0.0000, 0.0000, 0.0000, 0.0000,\n",
       "           0.0000, 0.0000, 0.0235, 0.0000, 0.3882, 0.9569, 0.8706, 0.8627,\n",
       "           0.8549, 0.7961, 0.7765, 0.8667, 0.8431, 0.8353, 0.8706, 0.8627,\n",
       "           0.9608, 0.4667, 0.6549, 0.2196],\n",
       "          [0.0000, 0.0000, 0.0000, 0.0000, 0.0000, 0.0000, 0.0000, 0.0000,\n",
       "           0.0000, 0.0157, 0.0000, 0.0000, 0.2157, 0.9255, 0.8941, 0.9020,\n",
       "           0.8941, 0.9412, 0.9098, 0.8353, 0.8549, 0.8745, 0.9176, 0.8510,\n",
       "           0.8510, 0.8196, 0.3608, 0.0000],\n",
       "          [0.0000, 0.0000, 0.0039, 0.0157, 0.0235, 0.0275, 0.0078, 0.0000,\n",
       "           0.0000, 0.0000, 0.0000, 0.0000, 0.9294, 0.8863, 0.8510, 0.8745,\n",
       "           0.8706, 0.8588, 0.8706, 0.8667, 0.8471, 0.8745, 0.8980, 0.8431,\n",
       "           0.8549, 1.0000, 0.3020, 0.0000],\n",
       "          [0.0000, 0.0118, 0.0000, 0.0000, 0.0000, 0.0000, 0.0000, 0.0000,\n",
       "           0.0000, 0.2431, 0.5686, 0.8000, 0.8941, 0.8118, 0.8353, 0.8667,\n",
       "           0.8549, 0.8157, 0.8275, 0.8549, 0.8784, 0.8745, 0.8588, 0.8431,\n",
       "           0.8784, 0.9569, 0.6235, 0.0000],\n",
       "          [0.0000, 0.0000, 0.0000, 0.0000, 0.0706, 0.1725, 0.3216, 0.4196,\n",
       "           0.7412, 0.8941, 0.8627, 0.8706, 0.8510, 0.8863, 0.7843, 0.8039,\n",
       "           0.8275, 0.9020, 0.8784, 0.9176, 0.6902, 0.7373, 0.9804, 0.9725,\n",
       "           0.9137, 0.9333, 0.8431, 0.0000],\n",
       "          [0.0000, 0.2235, 0.7333, 0.8157, 0.8784, 0.8667, 0.8784, 0.8157,\n",
       "           0.8000, 0.8392, 0.8157, 0.8196, 0.7843, 0.6235, 0.9608, 0.7569,\n",
       "           0.8078, 0.8745, 1.0000, 1.0000, 0.8667, 0.9176, 0.8667, 0.8275,\n",
       "           0.8627, 0.9098, 0.9647, 0.0000],\n",
       "          [0.0118, 0.7922, 0.8941, 0.8784, 0.8667, 0.8275, 0.8275, 0.8392,\n",
       "           0.8039, 0.8039, 0.8039, 0.8627, 0.9412, 0.3137, 0.5882, 1.0000,\n",
       "           0.8980, 0.8667, 0.7373, 0.6039, 0.7490, 0.8235, 0.8000, 0.8196,\n",
       "           0.8706, 0.8941, 0.8824, 0.0000],\n",
       "          [0.3843, 0.9137, 0.7765, 0.8235, 0.8706, 0.8980, 0.8980, 0.9176,\n",
       "           0.9765, 0.8627, 0.7608, 0.8431, 0.8510, 0.9451, 0.2549, 0.2863,\n",
       "           0.4157, 0.4588, 0.6588, 0.8588, 0.8667, 0.8431, 0.8510, 0.8745,\n",
       "           0.8745, 0.8784, 0.8980, 0.1137],\n",
       "          [0.2941, 0.8000, 0.8314, 0.8000, 0.7569, 0.8039, 0.8275, 0.8824,\n",
       "           0.8471, 0.7255, 0.7725, 0.8078, 0.7765, 0.8353, 0.9412, 0.7647,\n",
       "           0.8902, 0.9608, 0.9373, 0.8745, 0.8549, 0.8314, 0.8196, 0.8706,\n",
       "           0.8627, 0.8667, 0.9020, 0.2627],\n",
       "          [0.1882, 0.7961, 0.7176, 0.7608, 0.8353, 0.7725, 0.7255, 0.7451,\n",
       "           0.7608, 0.7529, 0.7922, 0.8392, 0.8588, 0.8667, 0.8627, 0.9255,\n",
       "           0.8824, 0.8471, 0.7804, 0.8078, 0.7294, 0.7098, 0.6941, 0.6745,\n",
       "           0.7098, 0.8039, 0.8078, 0.4510],\n",
       "          [0.0000, 0.4784, 0.8588, 0.7569, 0.7020, 0.6706, 0.7176, 0.7686,\n",
       "           0.8000, 0.8235, 0.8353, 0.8118, 0.8275, 0.8235, 0.7843, 0.7686,\n",
       "           0.7608, 0.7490, 0.7647, 0.7490, 0.7765, 0.7529, 0.6902, 0.6118,\n",
       "           0.6549, 0.6941, 0.8235, 0.3608],\n",
       "          [0.0000, 0.0000, 0.2902, 0.7412, 0.8314, 0.7490, 0.6863, 0.6745,\n",
       "           0.6863, 0.7098, 0.7255, 0.7373, 0.7412, 0.7373, 0.7569, 0.7765,\n",
       "           0.8000, 0.8196, 0.8235, 0.8235, 0.8275, 0.7373, 0.7373, 0.7608,\n",
       "           0.7529, 0.8471, 0.6667, 0.0000],\n",
       "          [0.0078, 0.0000, 0.0000, 0.0000, 0.2588, 0.7843, 0.8706, 0.9294,\n",
       "           0.9373, 0.9490, 0.9647, 0.9529, 0.9569, 0.8667, 0.8627, 0.7569,\n",
       "           0.7490, 0.7020, 0.7137, 0.7137, 0.7098, 0.6902, 0.6510, 0.6588,\n",
       "           0.3882, 0.2275, 0.0000, 0.0000],\n",
       "          [0.0000, 0.0000, 0.0000, 0.0000, 0.0000, 0.0000, 0.0000, 0.1569,\n",
       "           0.2392, 0.1725, 0.2824, 0.1608, 0.1373, 0.0000, 0.0000, 0.0000,\n",
       "           0.0000, 0.0000, 0.0000, 0.0000, 0.0000, 0.0000, 0.0000, 0.0000,\n",
       "           0.0000, 0.0000, 0.0000, 0.0000],\n",
       "          [0.0000, 0.0000, 0.0000, 0.0000, 0.0000, 0.0000, 0.0000, 0.0000,\n",
       "           0.0000, 0.0000, 0.0000, 0.0000, 0.0000, 0.0000, 0.0000, 0.0000,\n",
       "           0.0000, 0.0000, 0.0000, 0.0000, 0.0000, 0.0000, 0.0000, 0.0000,\n",
       "           0.0000, 0.0000, 0.0000, 0.0000],\n",
       "          [0.0000, 0.0000, 0.0000, 0.0000, 0.0000, 0.0000, 0.0000, 0.0000,\n",
       "           0.0000, 0.0000, 0.0000, 0.0000, 0.0000, 0.0000, 0.0000, 0.0000,\n",
       "           0.0000, 0.0000, 0.0000, 0.0000, 0.0000, 0.0000, 0.0000, 0.0000,\n",
       "           0.0000, 0.0000, 0.0000, 0.0000]]]),\n",
       " 9)"
      ]
     },
     "execution_count": 81,
     "metadata": {},
     "output_type": "execute_result"
    }
   ],
   "source": [
    "fmnist_trainset[0] # 필로우이미지임을 확인"
   ]
  },
  {
   "cell_type": "code",
   "execution_count": null,
   "metadata": {
    "colab": {
     "base_uri": "https://localhost:8080/"
    },
    "executionInfo": {
     "elapsed": 48,
     "status": "ok",
     "timestamp": 1747038672786,
     "user": {
      "displayName": "남궁건우",
      "userId": "00560730431062529338"
     },
     "user_tz": -540
    },
    "id": "FLykv33X6L-M",
    "outputId": "df99190d-a3e3-4e19-b632-53ac778a60c8"
   },
   "outputs": [
    {
     "data": {
      "text/plain": [
       "tensor([[[0.0000, 0.0000, 0.0000, 0.0000, 0.0000, 0.0000, 0.0000, 0.0000,\n",
       "          0.0000, 0.0000, 0.0000, 0.0000, 0.0000, 0.0000, 0.0000, 0.0000,\n",
       "          0.0000, 0.0000, 0.0000, 0.0000, 0.0000, 0.0000, 0.0000, 0.0000,\n",
       "          0.0000, 0.0000, 0.0000, 0.0000],\n",
       "         [0.0000, 0.0000, 0.0000, 0.0000, 0.0000, 0.0000, 0.0000, 0.0000,\n",
       "          0.0000, 0.0000, 0.0000, 0.0000, 0.0000, 0.0000, 0.0000, 0.0000,\n",
       "          0.0000, 0.0000, 0.0000, 0.0000, 0.0000, 0.0000, 0.0000, 0.0000,\n",
       "          0.0000, 0.0000, 0.0000, 0.0000],\n",
       "         [0.0000, 0.0000, 0.0000, 0.0000, 0.0000, 0.0000, 0.0000, 0.0000,\n",
       "          0.0000, 0.0000, 0.0000, 0.0000, 0.0000, 0.0000, 0.0000, 0.0000,\n",
       "          0.0000, 0.0000, 0.0000, 0.0000, 0.0000, 0.0000, 0.0000, 0.0000,\n",
       "          0.0000, 0.0000, 0.0000, 0.0000],\n",
       "         [0.0000, 0.0000, 0.0000, 0.0000, 0.0000, 0.0000, 0.0000, 0.0000,\n",
       "          0.0000, 0.0000, 0.0000, 0.0000, 0.0039, 0.0000, 0.0000, 0.0510,\n",
       "          0.2863, 0.0000, 0.0000, 0.0039, 0.0157, 0.0000, 0.0000, 0.0000,\n",
       "          0.0000, 0.0039, 0.0039, 0.0000],\n",
       "         [0.0000, 0.0000, 0.0000, 0.0000, 0.0000, 0.0000, 0.0000, 0.0000,\n",
       "          0.0000, 0.0000, 0.0000, 0.0000, 0.0118, 0.0000, 0.1412, 0.5333,\n",
       "          0.4980, 0.2431, 0.2118, 0.0000, 0.0000, 0.0000, 0.0039, 0.0118,\n",
       "          0.0157, 0.0000, 0.0000, 0.0118],\n",
       "         [0.0000, 0.0000, 0.0000, 0.0000, 0.0000, 0.0000, 0.0000, 0.0000,\n",
       "          0.0000, 0.0000, 0.0000, 0.0000, 0.0235, 0.0000, 0.4000, 0.8000,\n",
       "          0.6902, 0.5255, 0.5647, 0.4824, 0.0902, 0.0000, 0.0000, 0.0000,\n",
       "          0.0000, 0.0471, 0.0392, 0.0000],\n",
       "         [0.0000, 0.0000, 0.0000, 0.0000, 0.0000, 0.0000, 0.0000, 0.0000,\n",
       "          0.0000, 0.0000, 0.0000, 0.0000, 0.0000, 0.0000, 0.6078, 0.9255,\n",
       "          0.8118, 0.6980, 0.4196, 0.6118, 0.6314, 0.4275, 0.2510, 0.0902,\n",
       "          0.3020, 0.5098, 0.2824, 0.0588],\n",
       "         [0.0000, 0.0000, 0.0000, 0.0000, 0.0000, 0.0000, 0.0000, 0.0000,\n",
       "          0.0000, 0.0000, 0.0000, 0.0039, 0.0000, 0.2706, 0.8118, 0.8745,\n",
       "          0.8549, 0.8471, 0.8471, 0.6392, 0.4980, 0.4745, 0.4784, 0.5725,\n",
       "          0.5529, 0.3451, 0.6745, 0.2588],\n",
       "         [0.0000, 0.0000, 0.0000, 0.0000, 0.0000, 0.0000, 0.0000, 0.0000,\n",
       "          0.0000, 0.0039, 0.0039, 0.0039, 0.0000, 0.7843, 0.9098, 0.9098,\n",
       "          0.9137, 0.8980, 0.8745, 0.8745, 0.8431, 0.8353, 0.6431, 0.4980,\n",
       "          0.4824, 0.7686, 0.8980, 0.0000],\n",
       "         [0.0000, 0.0000, 0.0000, 0.0000, 0.0000, 0.0000, 0.0000, 0.0000,\n",
       "          0.0000, 0.0000, 0.0000, 0.0000, 0.0000, 0.7176, 0.8824, 0.8471,\n",
       "          0.8745, 0.8941, 0.9216, 0.8902, 0.8784, 0.8706, 0.8784, 0.8667,\n",
       "          0.8745, 0.9608, 0.6784, 0.0000],\n",
       "         [0.0000, 0.0000, 0.0000, 0.0000, 0.0000, 0.0000, 0.0000, 0.0000,\n",
       "          0.0000, 0.0000, 0.0000, 0.0000, 0.0000, 0.7569, 0.8941, 0.8549,\n",
       "          0.8353, 0.7765, 0.7059, 0.8314, 0.8235, 0.8275, 0.8353, 0.8745,\n",
       "          0.8627, 0.9529, 0.7922, 0.0000],\n",
       "         [0.0000, 0.0000, 0.0000, 0.0000, 0.0000, 0.0000, 0.0000, 0.0000,\n",
       "          0.0000, 0.0039, 0.0118, 0.0000, 0.0471, 0.8588, 0.8627, 0.8314,\n",
       "          0.8549, 0.7529, 0.6627, 0.8902, 0.8157, 0.8549, 0.8784, 0.8314,\n",
       "          0.8863, 0.7725, 0.8196, 0.2039],\n",
       "         [0.0000, 0.0000, 0.0000, 0.0000, 0.0000, 0.0000, 0.0000, 0.0000,\n",
       "          0.0000, 0.0000, 0.0235, 0.0000, 0.3882, 0.9569, 0.8706, 0.8627,\n",
       "          0.8549, 0.7961, 0.7765, 0.8667, 0.8431, 0.8353, 0.8706, 0.8627,\n",
       "          0.9608, 0.4667, 0.6549, 0.2196],\n",
       "         [0.0000, 0.0000, 0.0000, 0.0000, 0.0000, 0.0000, 0.0000, 0.0000,\n",
       "          0.0000, 0.0157, 0.0000, 0.0000, 0.2157, 0.9255, 0.8941, 0.9020,\n",
       "          0.8941, 0.9412, 0.9098, 0.8353, 0.8549, 0.8745, 0.9176, 0.8510,\n",
       "          0.8510, 0.8196, 0.3608, 0.0000],\n",
       "         [0.0000, 0.0000, 0.0039, 0.0157, 0.0235, 0.0275, 0.0078, 0.0000,\n",
       "          0.0000, 0.0000, 0.0000, 0.0000, 0.9294, 0.8863, 0.8510, 0.8745,\n",
       "          0.8706, 0.8588, 0.8706, 0.8667, 0.8471, 0.8745, 0.8980, 0.8431,\n",
       "          0.8549, 1.0000, 0.3020, 0.0000],\n",
       "         [0.0000, 0.0118, 0.0000, 0.0000, 0.0000, 0.0000, 0.0000, 0.0000,\n",
       "          0.0000, 0.2431, 0.5686, 0.8000, 0.8941, 0.8118, 0.8353, 0.8667,\n",
       "          0.8549, 0.8157, 0.8275, 0.8549, 0.8784, 0.8745, 0.8588, 0.8431,\n",
       "          0.8784, 0.9569, 0.6235, 0.0000],\n",
       "         [0.0000, 0.0000, 0.0000, 0.0000, 0.0706, 0.1725, 0.3216, 0.4196,\n",
       "          0.7412, 0.8941, 0.8627, 0.8706, 0.8510, 0.8863, 0.7843, 0.8039,\n",
       "          0.8275, 0.9020, 0.8784, 0.9176, 0.6902, 0.7373, 0.9804, 0.9725,\n",
       "          0.9137, 0.9333, 0.8431, 0.0000],\n",
       "         [0.0000, 0.2235, 0.7333, 0.8157, 0.8784, 0.8667, 0.8784, 0.8157,\n",
       "          0.8000, 0.8392, 0.8157, 0.8196, 0.7843, 0.6235, 0.9608, 0.7569,\n",
       "          0.8078, 0.8745, 1.0000, 1.0000, 0.8667, 0.9176, 0.8667, 0.8275,\n",
       "          0.8627, 0.9098, 0.9647, 0.0000],\n",
       "         [0.0118, 0.7922, 0.8941, 0.8784, 0.8667, 0.8275, 0.8275, 0.8392,\n",
       "          0.8039, 0.8039, 0.8039, 0.8627, 0.9412, 0.3137, 0.5882, 1.0000,\n",
       "          0.8980, 0.8667, 0.7373, 0.6039, 0.7490, 0.8235, 0.8000, 0.8196,\n",
       "          0.8706, 0.8941, 0.8824, 0.0000],\n",
       "         [0.3843, 0.9137, 0.7765, 0.8235, 0.8706, 0.8980, 0.8980, 0.9176,\n",
       "          0.9765, 0.8627, 0.7608, 0.8431, 0.8510, 0.9451, 0.2549, 0.2863,\n",
       "          0.4157, 0.4588, 0.6588, 0.8588, 0.8667, 0.8431, 0.8510, 0.8745,\n",
       "          0.8745, 0.8784, 0.8980, 0.1137],\n",
       "         [0.2941, 0.8000, 0.8314, 0.8000, 0.7569, 0.8039, 0.8275, 0.8824,\n",
       "          0.8471, 0.7255, 0.7725, 0.8078, 0.7765, 0.8353, 0.9412, 0.7647,\n",
       "          0.8902, 0.9608, 0.9373, 0.8745, 0.8549, 0.8314, 0.8196, 0.8706,\n",
       "          0.8627, 0.8667, 0.9020, 0.2627],\n",
       "         [0.1882, 0.7961, 0.7176, 0.7608, 0.8353, 0.7725, 0.7255, 0.7451,\n",
       "          0.7608, 0.7529, 0.7922, 0.8392, 0.8588, 0.8667, 0.8627, 0.9255,\n",
       "          0.8824, 0.8471, 0.7804, 0.8078, 0.7294, 0.7098, 0.6941, 0.6745,\n",
       "          0.7098, 0.8039, 0.8078, 0.4510],\n",
       "         [0.0000, 0.4784, 0.8588, 0.7569, 0.7020, 0.6706, 0.7176, 0.7686,\n",
       "          0.8000, 0.8235, 0.8353, 0.8118, 0.8275, 0.8235, 0.7843, 0.7686,\n",
       "          0.7608, 0.7490, 0.7647, 0.7490, 0.7765, 0.7529, 0.6902, 0.6118,\n",
       "          0.6549, 0.6941, 0.8235, 0.3608],\n",
       "         [0.0000, 0.0000, 0.2902, 0.7412, 0.8314, 0.7490, 0.6863, 0.6745,\n",
       "          0.6863, 0.7098, 0.7255, 0.7373, 0.7412, 0.7373, 0.7569, 0.7765,\n",
       "          0.8000, 0.8196, 0.8235, 0.8235, 0.8275, 0.7373, 0.7373, 0.7608,\n",
       "          0.7529, 0.8471, 0.6667, 0.0000],\n",
       "         [0.0078, 0.0000, 0.0000, 0.0000, 0.2588, 0.7843, 0.8706, 0.9294,\n",
       "          0.9373, 0.9490, 0.9647, 0.9529, 0.9569, 0.8667, 0.8627, 0.7569,\n",
       "          0.7490, 0.7020, 0.7137, 0.7137, 0.7098, 0.6902, 0.6510, 0.6588,\n",
       "          0.3882, 0.2275, 0.0000, 0.0000],\n",
       "         [0.0000, 0.0000, 0.0000, 0.0000, 0.0000, 0.0000, 0.0000, 0.1569,\n",
       "          0.2392, 0.1725, 0.2824, 0.1608, 0.1373, 0.0000, 0.0000, 0.0000,\n",
       "          0.0000, 0.0000, 0.0000, 0.0000, 0.0000, 0.0000, 0.0000, 0.0000,\n",
       "          0.0000, 0.0000, 0.0000, 0.0000],\n",
       "         [0.0000, 0.0000, 0.0000, 0.0000, 0.0000, 0.0000, 0.0000, 0.0000,\n",
       "          0.0000, 0.0000, 0.0000, 0.0000, 0.0000, 0.0000, 0.0000, 0.0000,\n",
       "          0.0000, 0.0000, 0.0000, 0.0000, 0.0000, 0.0000, 0.0000, 0.0000,\n",
       "          0.0000, 0.0000, 0.0000, 0.0000],\n",
       "         [0.0000, 0.0000, 0.0000, 0.0000, 0.0000, 0.0000, 0.0000, 0.0000,\n",
       "          0.0000, 0.0000, 0.0000, 0.0000, 0.0000, 0.0000, 0.0000, 0.0000,\n",
       "          0.0000, 0.0000, 0.0000, 0.0000, 0.0000, 0.0000, 0.0000, 0.0000,\n",
       "          0.0000, 0.0000, 0.0000, 0.0000]]])"
      ]
     },
     "execution_count": 82,
     "metadata": {},
     "output_type": "execute_result"
    }
   ],
   "source": [
    "idx = 0\n",
    "fmnist_trainset[idx][0]"
   ]
  },
  {
   "cell_type": "code",
   "execution_count": null,
   "metadata": {
    "id": "GCyNltcHIPgF"
   },
   "outputs": [],
   "source": [
    "# trainset >>> trainset/validset으로 분리\n",
    "fmnist_trainset, fmnist_validset = torch.utils.data.random_split(fmnist_trainset, [50000, 10000])"
   ]
  },
  {
   "cell_type": "code",
   "execution_count": null,
   "metadata": {
    "colab": {
     "base_uri": "https://localhost:8080/"
    },
    "executionInfo": {
     "elapsed": 15,
     "status": "ok",
     "timestamp": 1747038675525,
     "user": {
      "displayName": "남궁건우",
      "userId": "00560730431062529338"
     },
     "user_tz": -540
    },
    "id": "5Ge3bI0EJ6cj",
    "outputId": "c9c16b42-3abb-404b-a48a-980aba8db37d"
   },
   "outputs": [
    {
     "data": {
      "text/plain": [
       "(50000, 10000, 10000)"
      ]
     },
     "execution_count": 84,
     "metadata": {},
     "output_type": "execute_result"
    }
   ],
   "source": [
    "len(fmnist_trainset), len(fmnist_validset), len(fmnist_testset)"
   ]
  },
  {
   "cell_type": "code",
   "execution_count": null,
   "metadata": {
    "colab": {
     "base_uri": "https://localhost:8080/"
    },
    "executionInfo": {
     "elapsed": 57,
     "status": "ok",
     "timestamp": 1747038676818,
     "user": {
      "displayName": "남궁건우",
      "userId": "00560730431062529338"
     },
     "user_tz": -540
    },
    "id": "aB--QgcOJ6ZM",
    "outputId": "111f902b-644d-4c95-bb96-704c3ef9f647"
   },
   "outputs": [
    {
     "data": {
      "text/plain": [
       "{'T-shirt/top': 0,\n",
       " 'Trouser': 1,\n",
       " 'Pullover': 2,\n",
       " 'Dress': 3,\n",
       " 'Coat': 4,\n",
       " 'Sandal': 5,\n",
       " 'Shirt': 6,\n",
       " 'Sneaker': 7,\n",
       " 'Bag': 8,\n",
       " 'Ankle boot': 9}"
      ]
     },
     "execution_count": 85,
     "metadata": {},
     "output_type": "execute_result"
    }
   ],
   "source": [
    "fmnist_testset.class_to_idx"
   ]
  },
  {
   "cell_type": "code",
   "execution_count": null,
   "metadata": {
    "colab": {
     "base_uri": "https://localhost:8080/"
    },
    "executionInfo": {
     "elapsed": 15,
     "status": "ok",
     "timestamp": 1747038677900,
     "user": {
      "displayName": "남궁건우",
      "userId": "00560730431062529338"
     },
     "user_tz": -540
    },
    "id": "qrRLcrAZJ6XX",
    "outputId": "1a36df96-f2ad-4cdb-d16e-caf6ac726431"
   },
   "outputs": [
    {
     "data": {
      "text/plain": [
       "['T-shirt/top',\n",
       " 'Trouser',\n",
       " 'Pullover',\n",
       " 'Dress',\n",
       " 'Coat',\n",
       " 'Sandal',\n",
       " 'Shirt',\n",
       " 'Sneaker',\n",
       " 'Bag',\n",
       " 'Ankle boot']"
      ]
     },
     "execution_count": 86,
     "metadata": {},
     "output_type": "execute_result"
    }
   ],
   "source": [
    "fmnist_testset.classes"
   ]
  },
  {
   "cell_type": "code",
   "execution_count": null,
   "metadata": {
    "id": "yj2qYPkiKX-v"
   },
   "outputs": [],
   "source": [
    "# DataLoader\n",
    "\n",
    "train_loader = torch.utils.data.DataLoader(fmnist_trainset, batch_size=200, shuffle=True, drop_last=True)\n",
    "valid_loader = torch.utils.data.DataLoader(fmnist_validset, batch_size=200)\n",
    "test_loader = torch.utils.data.DataLoader(fmnist_testset, batch_size=200)"
   ]
  },
  {
   "cell_type": "code",
   "execution_count": 3,
   "metadata": {
    "id": "ItIwGbVyJ6TM"
   },
   "outputs": [],
   "source": [
    "from typing_extensions import ParamSpecKwargs\n",
    "# 모델 정의\n",
    "\n",
    "class FMNISTModel(nn.Module):\n",
    "\n",
    "  def __init__(self):\n",
    "    super().__init__()\n",
    "    self.lr1 = nn.Linear(28*28, 512)\n",
    "    self.lr2 = nn.Linear(512, 256)\n",
    "    self.lr3 = nn.Linear(256, 128)\n",
    "    self.lr4 = nn.Linear(128, 64)\n",
    "    self.lr5 = nn.Linear(64, 10) # 출력 >> class개수로 출력되어야함\n",
    "    self.relu = nn.ReLU() # ReLU 함수는 Linear간에 한번씩 호출되지만, 입력값 출력값이 항상 같으므로 이렇게 한번만 써주면된다.\n",
    "\n",
    "\n",
    "  def forward(self, X):\n",
    "    \"\"\"\n",
    "    X: 입력 tensor - shape: [batch_size, 1, 28, 28] # >> 맨 앞의 batch_size는 유지한채 1x28x28을 flatten 시켜야한다.\n",
    "    \"\"\"\n",
    "\n",
    "    # 1. flatten -> 3차원 입력을 1차원으로 변환.\n",
    "    # 0번축(배치사이즈)을 유지하고 1번축부터 flatten >> 아래처럼 start_dim 정하면 된다.\n",
    "    # torch.flatten(X, start_dim=1)\n",
    "    X = nn. Flatten()(X) # 윗줄처럼 써도되지만, 이렇게 쓰면 default가 1번축 이후를 flatten하므로 결과는 똑같다.\n",
    "\n",
    "    X = self.lr1(X)\n",
    "    X = self.relu(X)\n",
    "\n",
    "    X = self.lr2(X)\n",
    "    X = self.relu(X)\n",
    "\n",
    "    X = self.lr3(X)\n",
    "    X = self.relu(X)\n",
    "\n",
    "    X = self.lr4(X)\n",
    "    X = self.relu(X)\n",
    "\n",
    "    out = self.lr5(X) # CrossEntropyLoss()를 사용할 것이기 때문에 >> Linear 출력결과를 그대로 반환. (Softmax를 적용 안함.)\n",
    "    return out"
   ]
  },
  {
   "cell_type": "code",
   "execution_count": 4,
   "metadata": {
    "colab": {
     "base_uri": "https://localhost:8080/"
    },
    "executionInfo": {
     "elapsed": 15,
     "status": "ok",
     "timestamp": 1747038689696,
     "user": {
      "displayName": "남궁건우",
      "userId": "00560730431062529338"
     },
     "user_tz": -540
    },
    "id": "wchVvvJqJ6RW",
    "outputId": "00e5a0af-809d-420a-b85f-14508ef80298"
   },
   "outputs": [
    {
     "data": {
      "text/plain": [
       "FMNISTModel(\n",
       "  (lr1): Linear(in_features=784, out_features=512, bias=True)\n",
       "  (lr2): Linear(in_features=512, out_features=256, bias=True)\n",
       "  (lr3): Linear(in_features=256, out_features=128, bias=True)\n",
       "  (lr4): Linear(in_features=128, out_features=64, bias=True)\n",
       "  (lr5): Linear(in_features=64, out_features=10, bias=True)\n",
       "  (relu): ReLU()\n",
       ")"
      ]
     },
     "execution_count": 4,
     "metadata": {},
     "output_type": "execute_result"
    }
   ],
   "source": [
    "# 모델 구조 확인\n",
    "m = FMNISTModel()\n",
    "m"
   ]
  },
  {
   "cell_type": "code",
   "execution_count": null,
   "metadata": {
    "colab": {
     "base_uri": "https://localhost:8080/"
    },
    "executionInfo": {
     "elapsed": 26,
     "status": "ok",
     "timestamp": 1747038690365,
     "user": {
      "displayName": "남궁건우",
      "userId": "00560730431062529338"
     },
     "user_tz": -540
    },
    "id": "Ofb_C-1XJ592",
    "outputId": "e57a3792-e9ba-47be-f4ec-ff9b4ad2a074"
   },
   "outputs": [
    {
     "data": {
      "text/plain": [
       "==========================================================================================\n",
       "Layer (type:depth-idx)                   Output Shape              Param #\n",
       "==========================================================================================\n",
       "FMNISTModel                              [200, 10]                 --\n",
       "├─Linear: 1-1                            [200, 512]                401,920\n",
       "├─ReLU: 1-2                              [200, 512]                --\n",
       "├─Linear: 1-3                            [200, 256]                131,328\n",
       "├─ReLU: 1-4                              [200, 256]                --\n",
       "├─Linear: 1-5                            [200, 128]                32,896\n",
       "├─ReLU: 1-6                              [200, 128]                --\n",
       "├─Linear: 1-7                            [200, 64]                 8,256\n",
       "├─ReLU: 1-8                              [200, 64]                 --\n",
       "├─Linear: 1-9                            [200, 10]                 650\n",
       "==========================================================================================\n",
       "Total params: 575,050\n",
       "Trainable params: 575,050\n",
       "Non-trainable params: 0\n",
       "Total mult-adds (Units.MEGABYTES): 115.01\n",
       "==========================================================================================\n",
       "Input size (MB): 0.63\n",
       "Forward/backward pass size (MB): 1.55\n",
       "Params size (MB): 2.30\n",
       "Estimated Total Size (MB): 4.48\n",
       "=========================================================================================="
      ]
     },
     "execution_count": 90,
     "metadata": {},
     "output_type": "execute_result"
    }
   ],
   "source": [
    "from torchinfo import summary\n",
    "summary(m, (200,1,28,28), device=device)"
   ]
  },
  {
   "cell_type": "code",
   "execution_count": null,
   "metadata": {
    "id": "F2Yu2ImKPgAf"
   },
   "outputs": [],
   "source": [
    "# 학습\n",
    "\n",
    "LR = 0.001\n",
    "EPOCHS = 20\n",
    "\n",
    "fmnist_model = FMNISTModel().to(device)\n",
    "optimizer = torch.optim.Adam(fmnist_model.parameters(), lr=LR)\n",
    "loss_fn = nn.CrossEntropyLoss()\n",
    "\n",
    "# 다중분류 loss: categorical crossentropy\n",
    "## CrossEntropyLoss의 역할: 1. y정답을 one hot encoding\n",
    "#                           2. pred 예측값에 softmax를 적용\n",
    "#                           3. categorical crossentropy 계산"
   ]
  },
  {
   "cell_type": "code",
   "execution_count": null,
   "metadata": {
    "colab": {
     "base_uri": "https://localhost:8080/"
    },
    "executionInfo": {
     "elapsed": 333369,
     "status": "ok",
     "timestamp": 1747037433003,
     "user": {
      "displayName": "남궁건우",
      "userId": "00560730431062529338"
     },
     "user_tz": -540
    },
    "id": "-prOC3YjPfzR",
    "outputId": "01d9bbe0-05de-4565-d201-abeaadcdd410"
   },
   "outputs": [
    {
     "name": "stdout",
     "output_type": "stream",
     "text": [
      "[1/20] train loss: 0.6926234450340271, valid loss: 0.46827545583248137, valid acc: 0.8342\n",
      "[2/20] train loss: 0.4203315385580063, valid loss: 0.37745515644550326, valid acc: 0.8657\n",
      "[3/20] train loss: 0.3646973155140877, valid loss: 0.3468776512145996, valid acc: 0.8734\n",
      "[4/20] train loss: 0.3326733750700951, valid loss: 0.3325105321407318, valid acc: 0.8788\n",
      "[5/20] train loss: 0.3149102640748024, valid loss: 0.3231155779957771, valid acc: 0.8815\n",
      "[6/20] train loss: 0.29440599924325944, valid loss: 0.31177900403738024, valid acc: 0.8862\n",
      "[7/20] train loss: 0.27928076845407485, valid loss: 0.30516473680734635, valid acc: 0.8895\n",
      "[8/20] train loss: 0.2701260127425194, valid loss: 0.3265059623122215, valid acc: 0.8801\n",
      "[9/20] train loss: 0.2542883202433586, valid loss: 0.3065723532438278, valid acc: 0.8896\n",
      "[10/20] train loss: 0.2463765830397606, valid loss: 0.304460289478302, valid acc: 0.8931\n",
      "[11/20] train loss: 0.23688648909330368, valid loss: 0.2937082889676094, valid acc: 0.8923\n",
      "[12/20] train loss: 0.22694172331690787, valid loss: 0.294458427131176, valid acc: 0.8947\n",
      "[13/20] train loss: 0.2207523553967476, valid loss: 0.29475907295942305, valid acc: 0.8983\n",
      "[14/20] train loss: 0.21427231112122536, valid loss: 0.31062845438718795, valid acc: 0.8905\n",
      "[15/20] train loss: 0.20440028882026673, valid loss: 0.34899987012147904, valid acc: 0.882\n",
      "[16/20] train loss: 0.20105657184123993, valid loss: 0.3193985903263092, valid acc: 0.8922\n",
      "[17/20] train loss: 0.19312790337204933, valid loss: 0.3345897582173347, valid acc: 0.8881\n",
      "[18/20] train loss: 0.18313698998093605, valid loss: 0.3132901853322983, valid acc: 0.899\n",
      "[19/20] train loss: 0.17727882811427118, valid loss: 0.31133878916502, valid acc: 0.8982\n",
      "[20/20] train loss: 0.17150464090704917, valid loss: 0.3186043810844421, valid acc: 0.8929\n",
      "학습에 걸린 총 시간: 333.3985023498535초\n"
     ]
    }
   ],
   "source": [
    "# 학습\n",
    "\n",
    "import time\n",
    "\n",
    "train_loss_list = []\n",
    "valid_loss_list =[]\n",
    "valid_acc_list = []\n",
    "\n",
    "s = time.time()\n",
    "\n",
    "# 1. train 코드 작성\n",
    "for epoch in range(EPOCHS):\n",
    "  # 학습\n",
    "  fmnist_model.train()\n",
    "  train_loss = 0.0\n",
    "  for X_train, y_train in train_loader:\n",
    "    # device로 이동\n",
    "    X_train, y_train = X_train.to(device), y_train.to(device)\n",
    "\n",
    "    # 추론\n",
    "    pred_train = fmnist_model(X_train)\n",
    "\n",
    "    # loss 계산\n",
    "    loss = loss_fn(pred_train, y_train)\n",
    "\n",
    "    # gradient 계산\n",
    "    loss.backward()\n",
    "\n",
    "    # parameter 업데이트\n",
    "    optimizer.step()\n",
    "\n",
    "    # gradient 초기화\n",
    "    optimizer.zero_grad()\n",
    "\n",
    "    train_loss += loss.item()\n",
    "\n",
    "  train_loss /= len(train_loader)\n",
    "  train_loss_list.append(train_loss)\n",
    "\n",
    "  # 1 epoch에 대한 검증\n",
    "  fmnist_model.eval()\n",
    "  valid_loss = valid_acc = 0.0\n",
    "  with torch.no_grad():\n",
    "    for X_valid, y_valid in valid_loader:\n",
    "      # device로 이동\n",
    "      X_valid, y_valid = X_valid.to(device), y_valid.to(device)\n",
    "\n",
    "      # 추론\n",
    "      pred_valid = fmnist_model(X_valid)\n",
    "\n",
    "      # 검증\n",
    "      ## loss\n",
    "      valid_loss += loss_fn(pred_valid, y_valid).item()\n",
    "      ## 정확도\n",
    "      ### 모델이 예측한 정답 class -> 10개 출력값 중 가장 큰 값이 있는 index\n",
    "      pred_class = pred_valid.argmax(dim=-1)\n",
    "      valid_acc += torch.sum(pred_class == y_valid).item()\n",
    "    valid_loss /= len(valid_loader) # step수로 나워서 평균계산\n",
    "    valid_acc /= len(fmnist_validset) # 총 데이터 개수\n",
    "    valid_loss_list.append(valid_loss)\n",
    "    valid_acc_list.append(valid_acc)\n",
    "\n",
    "\n",
    "    print(f\"[{epoch+1}/{EPOCHS}] train loss: {train_loss}, valid loss: {valid_loss}, valid acc: {valid_acc}\")\n",
    "\n",
    "\n",
    "e = time.time()\n",
    "print(f'학습에 걸린 총 시간: {e-s}초')"
   ]
  },
  {
   "cell_type": "code",
   "execution_count": null,
   "metadata": {
    "colab": {
     "base_uri": "https://localhost:8080/",
     "height": 465
    },
    "executionInfo": {
     "elapsed": 526,
     "status": "ok",
     "timestamp": 1747037479163,
     "user": {
      "displayName": "남궁건우",
      "userId": "00560730431062529338"
     },
     "user_tz": -540
    },
    "id": "A9wQWZ18PfuH",
    "outputId": "40ccb304-04e6-440c-c491-14001e5d4a2b"
   },
   "outputs": [
    {
     "data": {
      "image/png": "[encoded data removed]",
      "text/plain": [
       "<Figure size 1000x500 with 2 Axes>"
      ]
     },
     "metadata": {},
     "output_type": "display_data"
    }
   ],
   "source": [
    "# 결과 시각화\n",
    "import matplotlib.pyplot as plt\n",
    "\n",
    "plt.figure(figsize=(10, 5))\n",
    "plt.subplot(1,2,1)\n",
    "plt.plot(range(EPOCHS), train_loss_list, label=\"train loss\")\n",
    "plt.plot(range(EPOCHS), valid_loss_list, label=\"valid loss\")\n",
    "plt.ylabel(\"Loss\")\n",
    "plt.xlabel(\"Epochs\")\n",
    "\n",
    "plt.subplot(1,2,2)\n",
    "plt.plot(range(EPOCHS), valid_acc_list, label=\"valid acc\")\n",
    "\n",
    "plt.legend()\n",
    "plt.show()"
   ]
  },
  {
   "cell_type": "code",
   "execution_count": null,
   "metadata": {
    "colab": {
     "base_uri": "https://localhost:8080/"
    },
    "executionInfo": {
     "elapsed": 55,
     "status": "ok",
     "timestamp": 1747037542361,
     "user": {
      "displayName": "남궁건우",
      "userId": "00560730431062529338"
     },
     "user_tz": -540
    },
    "id": "ypBvwG_vPfr3",
    "outputId": "3fb21e99-f2b7-4c31-a94c-c858e22e190c"
   },
   "outputs": [
    {
     "data": {
      "text/plain": [
       "(np.float64(0.2937082889676094), np.int64(10))"
      ]
     },
     "execution_count": 78,
     "metadata": {},
     "output_type": "execute_result"
    }
   ],
   "source": [
    "import numpy as np\n",
    "np.min(valid_loss_list), np.argmin(valid_loss_list)\n",
    "#>>> 10 epoch때 성능이 가장 좋은 것 확인\n",
    "#>>> 10 이후는 불필요 epoch >> early stopping을 하는 이유\n",
    "#>>> 이하 early stopping 반영한 coding"
   ]
  },
  {
   "cell_type": "code",
   "execution_count": null,
   "metadata": {
    "colab": {
     "base_uri": "https://localhost:8080/"
    },
    "executionInfo": {
     "elapsed": 213986,
     "status": "ok",
     "timestamp": 1747038915742,
     "user": {
      "displayName": "남궁건우",
      "userId": "00560730431062529338"
     },
     "user_tz": -540
    },
    "id": "v8c5zrN0Pfpr",
    "outputId": "9ad1dd3f-acc5-4e2c-c223-8f20361eb181"
   },
   "outputs": [
    {
     "name": "stdout",
     "output_type": "stream",
     "text": [
      "[1/100] train loss: 0.6967282490730285, valid loss: 0.5465206801891327, valid acc: 0.8042\n",
      ">>>>>>>>>1 에폭에서 저장. 0.5465206801891327에서 0.5465206801891327만큼 validation loss가 개선됨\n",
      "[2/100] train loss: 0.4151137247085571, valid loss: 0.4063951528072357, valid acc: 0.849\n",
      ">>>>>>>>>2 에폭에서 저장. 0.4063951528072357에서 0.4063951528072357만큼 validation loss가 개선됨\n",
      "[3/100] train loss: 0.35968864339590073, valid loss: 0.36774504482746123, valid acc: 0.8646\n",
      ">>>>>>>>>3 에폭에서 저장. 0.36774504482746123에서 0.36774504482746123만큼 validation loss가 개선됨\n",
      "[4/100] train loss: 0.3352346517443657, valid loss: 0.3604216593503952, valid acc: 0.8665\n",
      ">>>>>>>>>4 에폭에서 저장. 0.3604216593503952에서 0.3604216593503952만큼 validation loss가 개선됨\n",
      "[5/100] train loss: 0.3093026876449585, valid loss: 0.33425917774438857, valid acc: 0.8752\n",
      ">>>>>>>>>5 에폭에서 저장. 0.33425917774438857에서 0.33425917774438857만큼 validation loss가 개선됨\n",
      "[6/100] train loss: 0.290894495844841, valid loss: 0.32237122833728793, valid acc: 0.8789\n",
      ">>>>>>>>>6 에폭에서 저장. 0.32237122833728793에서 0.32237122833728793만큼 validation loss가 개선됨\n",
      "[7/100] train loss: 0.2736059002280235, valid loss: 0.3396515402197838, valid acc: 0.8781\n",
      "[8/100] train loss: 0.26357394909858706, valid loss: 0.3219499129056931, valid acc: 0.883\n",
      ">>>>>>>>>8 에폭에서 저장. 0.3219499129056931에서 0.3219499129056931만큼 validation loss가 개선됨\n",
      "[9/100] train loss: 0.25833410513401034, valid loss: 0.3303780823945999, valid acc: 0.8818\n",
      "[10/100] train loss: 0.24399209022521973, valid loss: 0.3063176310062408, valid acc: 0.8874\n",
      ">>>>>>>>>10 에폭에서 저장. 0.3063176310062408에서 0.3063176310062408만큼 validation loss가 개선됨\n",
      "[11/100] train loss: 0.23426111549139023, valid loss: 0.31803850680589674, valid acc: 0.8857\n",
      "[12/100] train loss: 0.22380341798067094, valid loss: 0.30040148854255677, valid acc: 0.8921\n",
      ">>>>>>>>>12 에폭에서 저장. 0.30040148854255677에서 0.30040148854255677만큼 validation loss가 개선됨\n",
      "[13/100] train loss: 0.21616080531477927, valid loss: 0.3214149209856987, valid acc: 0.8834\n",
      "[14/100] train loss: 0.2086641540825367, valid loss: 0.337601335644722, valid acc: 0.8871\n",
      "[15/100] train loss: 0.20566882851719856, valid loss: 0.3149127528071404, valid acc: 0.8922\n",
      "[16/100] train loss: 0.19394161754846573, valid loss: 0.3308329251408577, valid acc: 0.8881\n",
      "[17/100] train loss: 0.1864239384531975, valid loss: 0.3290907552838325, valid acc: 0.8875\n",
      "===========17 에폭에서 조기종료합니다. 0.30040148854255677에서 개선되지 않음\n",
      "학습에 걸린 총 시간: 213.93711280822754초\n"
     ]
    }
   ],
   "source": [
    "# 학습\n",
    "\n",
    "import time\n",
    "\n",
    "train_loss_list = []\n",
    "valid_loss_list =[]\n",
    "valid_acc_list = []\n",
    "\n",
    "#################################\n",
    "# 1. 학습 도중 이전 epoch들 보다 성능이 개선되면 모델을 저장\n",
    "# 2. 특정 epoch 동안 성능 개선이 없으면 학습을 중지\n",
    "#################################\n",
    "# 변수들 선언\n",
    "saved_path = \"saved_models/fashion_mnist_model.pt\" # 성능이 좋으면 이전 모델 위에 덮어 씌움\n",
    "best_score = torch.inf # 현재 가장 좋은 평가지표(loss)\n",
    "# best_score > 검증loss : 성능이 개선됐다는 의미 -> 모델을 저장함\n",
    "\n",
    "## 조기종료 관련 변수\n",
    "patience = 5 # 성능이 개선되는지 안되는지를 가리기 위해 몇 에폭을 기다릴지 지정\n",
    "trigger_cnt = 0 # 몇 에폭째 기다리는지 저장할 변수\n",
    "\n",
    "EPOCHS = 100 # 조기종료할 것이므로, 충분한 횟수를 넣는다.\n",
    "\n",
    "s = time.time()\n",
    "\n",
    "# 1. train 코드 작성\n",
    "for epoch in range(EPOCHS):\n",
    "  # 학습\n",
    "  fmnist_model.train()\n",
    "  train_loss = 0.0\n",
    "  for X_train, y_train in train_loader:\n",
    "    # device로 이동\n",
    "    X_train, y_train = X_train.to(device), y_train.to(device)\n",
    "\n",
    "    # 추론\n",
    "    pred_train = fmnist_model(X_train)\n",
    "\n",
    "    # loss 계산\n",
    "    loss = loss_fn(pred_train, y_train)\n",
    "\n",
    "    # gradient 계산\n",
    "    loss.backward()\n",
    "\n",
    "    # parameter 업데이트\n",
    "    optimizer.step()\n",
    "\n",
    "    # gradient 초기화\n",
    "    optimizer.zero_grad()\n",
    "\n",
    "    train_loss += loss.item()\n",
    "\n",
    "  train_loss /= len(train_loader)\n",
    "  train_loss_list.append(train_loss)\n",
    "\n",
    "  # 1 epoch에 대한 검증\n",
    "  fmnist_model.eval()\n",
    "  valid_loss = valid_acc = 0.0\n",
    "  with torch.no_grad():\n",
    "    for X_valid, y_valid in valid_loader:\n",
    "      # device로 이동\n",
    "      X_valid, y_valid = X_valid.to(device), y_valid.to(device)\n",
    "\n",
    "      # 추론\n",
    "      pred_valid = fmnist_model(X_valid)\n",
    "\n",
    "      # 검증\n",
    "      ## loss\n",
    "      valid_loss += loss_fn(pred_valid, y_valid).item()\n",
    "      ## 정확도\n",
    "      ### 모델이 예측한 정답 class -> 10개 출력값 중 가장 큰 값이 있는 index\n",
    "      pred_class = pred_valid.argmax(dim=-1)\n",
    "      valid_acc += torch.sum(pred_class == y_valid).item()\n",
    "    valid_loss /= len(valid_loader) # step수로 나워서 평균계산\n",
    "    valid_acc /= len(fmnist_validset) # 총 데이터 개수\n",
    "    valid_loss_list.append(valid_loss)\n",
    "    valid_acc_list.append(valid_acc)\n",
    "\n",
    "\n",
    "    print(f\"[{epoch+1}/{EPOCHS}] train loss: {train_loss}, valid loss: {valid_loss}, valid acc: {valid_acc}\")\n",
    "\n",
    "  # 1 epoch 학습/검증 종료 후 모델 저장(성능개선 시), 조기 종료(성능개선이 없을 시)\n",
    "  if valid_loss < best_score: # 이전 epoch의 결과보다 성능 개선됨.\n",
    "    # 모델 저장\n",
    "    torch.save(fmnist_model, saved_path)\n",
    "    best_score = valid_loss\n",
    "    print(f\">>>>>>>>>{epoch+1} 에폭에서 저장. {best_score}에서 {valid_loss}만큼 validation loss가 개선됨\")\n",
    "    trigger_cnt = 0 # 조기 종료를 위해서 성능개선을 기다리는 에폭 수. 위에서 성능이 개선됐으므로, 기다리는 횟수를 초기화해야한다.\n",
    "  else:\n",
    "    # 조기종료 처리\n",
    "    trigger_cnt += 1\n",
    "    if patience == trigger_cnt: # 조건문: 기다리겠다고한 횟수만큼 성능개선이 없다면,\n",
    "      print(f\"==========={epoch+1} 에폭에서 조기종료합니다. {best_score}에서 개선되지 않음\")\n",
    "      break\n",
    "\n",
    "e = time.time()\n",
    "print(f'학습에 걸린 총 시간: {e-s}초')"
   ]
  },
  {
   "cell_type": "code",
   "execution_count": null,
   "metadata": {
    "colab": {
     "base_uri": "https://localhost:8080/"
    },
    "executionInfo": {
     "elapsed": 3175,
     "status": "ok",
     "timestamp": 1747039156307,
     "user": {
      "displayName": "남궁건우",
      "userId": "00560730431062529338"
     },
     "user_tz": -540
    },
    "id": "a0u-BZOKPfnd",
    "outputId": "bf33ad5f-bcd4-44c6-9e1b-37757ad533db"
   },
   "outputs": [
    {
     "name": "stdout",
     "output_type": "stream",
     "text": [
      "0.36659312188625337 0.8825\n"
     ]
    }
   ],
   "source": [
    "# 최종평가\n",
    "\n",
    "with torch.no_grad():\n",
    "  test_loss = 0.0\n",
    "  test_acc =0.0\n",
    "  for X_test, y_test in test_loader:\n",
    "    # device로 이동\n",
    "    X_test, y_test = X_test.to(device), y_test.to(device)\n",
    "    pred_test = fmnist_model(X_test)\n",
    "    loss_test = loss_fn(pred_test, y_test)\n",
    "    test_loss += loss_test.item()\n",
    "    test_acc += torch.sum(pred_test.argmax(dim=-1) == y_test).item()\n",
    "  test_loss /= len(test_loader)\n",
    "  test_acc /= len(fmnist_testset)\n",
    "print(test_loss, test_acc)\n"
   ]
  },
  {
   "cell_type": "code",
   "execution_count": 5,
   "metadata": {},
   "outputs": [
    {
     "data": {
      "text/plain": [
       "FMNISTModel(\n",
       "  (lr1): Linear(in_features=784, out_features=512, bias=True)\n",
       "  (lr2): Linear(in_features=512, out_features=256, bias=True)\n",
       "  (lr3): Linear(in_features=256, out_features=128, bias=True)\n",
       "  (lr4): Linear(in_features=128, out_features=64, bias=True)\n",
       "  (lr5): Linear(in_features=64, out_features=10, bias=True)\n",
       "  (relu): ReLU()\n",
       ")"
      ]
     },
     "execution_count": 5,
     "metadata": {},
     "output_type": "execute_result"
    }
   ],
   "source": [
    "load_fmodel = torch.load(\"fashion_mnist_model.pt\", weights_only=False)\n",
    "load_fmodel"
   ]
  },
  {
   "cell_type": "code",
   "execution_count": 13,
   "metadata": {},
   "outputs": [
    {
     "data": {
      "text/plain": [
       "(torch.Size([50, 1, 28, 28]), torch.Size([50]))"
      ]
     },
     "execution_count": 13,
     "metadata": {},
     "output_type": "execute_result"
    }
   ],
   "source": [
    "dataloader = torch.utils.data.DataLoader(fmnist_testset, batch_size=50)\n",
    "x, y = next(iter(dataloader))\n",
    "x.shape, y.shape"
   ]
  },
  {
   "cell_type": "code",
   "execution_count": null,
   "metadata": {},
   "outputs": [],
   "source": [
    "with torch.no_grad():\n",
    "    pred_logit = load_fmodel(x)\n",
    "    result = torch.max(pred_logit, dim = -1) "
   ]
  },
  {
   "cell_type": "code",
   "execution_count": null,
   "metadata": {},
   "outputs": [
    {
     "name": "stdout",
     "output_type": "stream",
     "text": [
      "tensor([ 6.6165, 10.2547, 17.5566, 15.8298,  5.5867, 12.9642, 12.3320, 12.8852,\n",
      "        12.3735,  7.2927,  5.8394,  8.4934,  5.0595,  6.3468,  5.9614,  9.6942,\n",
      "         8.1569,  6.4463, 11.1379,  5.2048,  3.2624,  4.3939,  7.9788,  5.0826,\n",
      "        16.5399,  5.5271,  7.8283,  4.4728,  5.8460,  2.2570, 18.4551, 14.1004,\n",
      "         4.2600,  3.6490, 22.8172,  8.0234,  6.0692,  9.5096,  7.7339, 10.2880,\n",
      "         6.9833, 14.9835,  5.2897,  5.6794,  8.4235,  5.0249,  3.5945,  8.6214,\n",
      "         5.4602,  4.6217])\n"
     ]
    }
   ],
   "source": [
    "print(result.values) #>> 1번축 방향 별로(가로방향) logit의 max값과 max의 index를 보여줌."
   ]
  },
  {
   "cell_type": "code",
   "execution_count": 19,
   "metadata": {},
   "outputs": [
    {
     "name": "stdout",
     "output_type": "stream",
     "text": [
      "확률값으로 변환 - softmax\n",
      "tensor([[2.1240e-05, 1.3741e-07, 2.1774e-08, 1.3933e-07, 5.7134e-07, 5.3490e-03,\n",
      "         9.4112e-07, 4.0693e-03, 3.0450e-06, 9.9056e-01],\n",
      "        [7.7839e-05, 8.9436e-09, 9.9583e-01, 1.6291e-06, 2.2422e-03, 1.9047e-13,\n",
      "         1.8472e-03, 4.1912e-14, 1.4444e-07, 3.2516e-14],\n",
      "        [7.1783e-11, 1.0000e+00, 1.9656e-13, 1.3607e-10, 1.3024e-14, 5.8065e-18,\n",
      "         3.2179e-10, 1.4075e-21, 2.1389e-13, 8.0509e-16],\n",
      "        [4.9369e-10, 1.0000e+00, 3.1878e-12, 3.9710e-09, 2.1329e-13, 8.4467e-17,\n",
      "         1.1058e-09, 2.0288e-20, 1.5356e-12, 5.8884e-15],\n",
      "        [2.2420e-01, 8.2326e-06, 1.1056e-03, 6.8042e-04, 3.6434e-04, 4.2179e-05,\n",
      "         7.7358e-01, 1.4358e-08, 1.3949e-05, 5.8992e-08],\n",
      "        [7.3029e-08, 1.0000e+00, 8.7635e-10, 2.0184e-08, 6.9003e-11, 3.8155e-13,\n",
      "         2.0961e-07, 4.9910e-16, 3.4739e-10, 7.3725e-12],\n",
      "        [1.7963e-08, 1.9673e-09, 8.7838e-05, 8.1959e-07, 9.9958e-01, 4.0402e-13,\n",
      "         3.2866e-04, 9.6261e-13, 2.6871e-10, 3.9642e-13],\n",
      "        [1.9375e-06, 1.6715e-11, 4.8659e-07, 4.1520e-07, 5.5161e-04, 4.8450e-08,\n",
      "         9.9945e-01, 1.1513e-13, 3.9517e-10, 2.5628e-14],\n",
      "        [6.9036e-09, 5.9141e-13, 1.8590e-13, 6.4431e-11, 1.1008e-12, 1.0000e+00,\n",
      "         4.1233e-08, 2.9959e-07, 2.6415e-09, 8.2559e-09],\n",
      "        [1.4432e-07, 8.1982e-08, 4.0231e-09, 2.2400e-07, 3.5354e-08, 1.0462e-04,\n",
      "         4.1962e-09, 9.9841e-01, 1.6920e-05, 1.4676e-03],\n",
      "        [1.5653e-04, 4.0892e-05, 3.7660e-02, 1.3993e-04, 9.1648e-01, 5.8436e-06,\n",
      "         4.5450e-02, 6.8648e-06, 5.2893e-05, 2.6680e-06],\n",
      "        [5.2814e-06, 2.5347e-09, 1.0455e-08, 6.9562e-08, 3.6676e-08, 9.9991e-01,\n",
      "         7.7659e-05, 6.2636e-06, 1.8099e-06, 1.6225e-06],\n",
      "        [6.5210e-07, 1.3787e-08, 2.7019e-10, 4.0604e-07, 1.1647e-09, 4.3667e-01,\n",
      "         4.5403e-08, 5.5187e-01, 1.1416e-02, 4.7447e-05],\n",
      "        [6.6132e-04, 7.8482e-04, 7.1012e-05, 9.9793e-01, 2.8724e-04, 4.3745e-08,\n",
      "         2.4706e-04, 4.8163e-10, 2.0656e-05, 1.0565e-08],\n",
      "        [3.7084e-04, 7.7673e-06, 1.3451e-01, 1.2815e-04, 8.4238e-01, 9.2336e-08,\n",
      "         2.2499e-02, 4.8420e-07, 1.0849e-04, 2.6032e-07],\n",
      "        [2.9659e-07, 9.9998e-01, 4.5460e-08, 1.4748e-05, 2.2718e-08, 6.3435e-11,\n",
      "         7.9339e-07, 9.3840e-13, 3.0633e-08, 1.9599e-09],\n",
      "        [1.7073e-03, 5.6315e-07, 9.9479e-01, 3.3224e-05, 9.1322e-04, 5.6828e-11,\n",
      "         2.5554e-03, 2.2726e-12, 2.8646e-06, 4.6834e-12],\n",
      "        [1.1989e-03, 4.9193e-06, 8.7457e-01, 2.0080e-05, 1.1488e-01, 5.0987e-09,\n",
      "         9.3092e-03, 5.5002e-09, 2.0280e-05, 7.1656e-09],\n",
      "        [1.5538e-05, 4.2720e-09, 8.8967e-08, 9.0118e-08, 8.2812e-08, 3.6628e-08,\n",
      "         2.5282e-06, 1.5691e-07, 9.9998e-01, 2.0856e-08],\n",
      "        [9.4708e-01, 1.3649e-04, 3.8657e-03, 4.6147e-03, 5.9512e-05, 1.0366e-06,\n",
      "         4.4206e-02, 1.9832e-09, 3.8399e-05, 2.5830e-08],\n",
      "        [2.1851e-01, 2.7920e-03, 7.3991e-01, 1.2694e-02, 5.6523e-03, 6.9251e-07,\n",
      "         1.9019e-02, 6.0101e-08, 1.4195e-03, 3.7415e-07],\n",
      "        [2.0966e-05, 4.2315e-06, 8.9607e-07, 1.6732e-05, 2.1746e-06, 6.7612e-01,\n",
      "         9.2393e-06, 3.1996e-01, 4.3620e-04, 3.4286e-03],\n",
      "        [2.7950e-08, 1.5399e-08, 5.9913e-10, 7.7373e-08, 8.1517e-09, 5.2188e-05,\n",
      "         9.6033e-10, 9.9971e-01, 1.3444e-05, 2.2745e-04],\n",
      "        [4.9487e-04, 4.6358e-06, 5.2338e-06, 1.1785e-05, 1.7084e-05, 9.8546e-01,\n",
      "         4.9704e-04, 2.4224e-03, 2.7596e-04, 1.0806e-02],\n",
      "        [3.6324e-10, 1.0000e+00, 1.6638e-12, 6.4876e-10, 4.0837e-14, 5.0260e-18,\n",
      "         5.4571e-10, 6.7879e-22, 6.8635e-13, 3.9760e-16],\n",
      "        [1.6860e-03, 9.5312e-06, 7.1867e-01, 1.2392e-03, 1.8441e-01, 2.3507e-08,\n",
      "         9.3963e-02, 8.8200e-09, 2.2876e-05, 4.8521e-09],\n",
      "        [1.0703e-04, 1.4976e-07, 1.3861e-03, 4.3869e-05, 7.2061e-02, 5.1791e-06,\n",
      "         9.2639e-01, 2.6471e-08, 6.7082e-06, 3.0544e-09],\n",
      "        [8.1971e-01, 1.0287e-03, 9.6008e-04, 4.6676e-02, 2.3137e-04, 1.7214e-06,\n",
      "         1.3136e-01, 2.2483e-09, 2.8988e-05, 3.9352e-08],\n",
      "        [2.2820e-05, 6.5440e-07, 2.1976e-07, 6.4225e-07, 3.4981e-06, 4.7281e-04,\n",
      "         1.4829e-06, 2.1526e-02, 1.1337e-05, 9.7796e-01],\n",
      "        [2.2027e-02, 3.3232e-03, 2.2391e-02, 4.0395e-01, 3.4918e-01, 1.0441e-04,\n",
      "         1.9401e-01, 9.0193e-05, 4.8845e-03, 4.5311e-05],\n",
      "        [3.0340e-09, 5.3492e-14, 1.0885e-11, 1.0593e-11, 8.8733e-11, 1.4948e-14,\n",
      "         1.8650e-10, 7.7033e-12, 1.0000e+00, 6.4047e-14],\n",
      "        [4.6165e-07, 8.1769e-12, 2.1189e-09, 2.9633e-09, 1.9006e-08, 9.4766e-11,\n",
      "         1.8523e-07, 3.8034e-10, 1.0000e+00, 5.4991e-12],\n",
      "        [4.6075e-03, 1.5234e-02, 8.4045e-04, 9.7438e-01, 2.2312e-03, 2.4418e-05,\n",
      "         2.1943e-03, 6.8204e-07, 4.8152e-04, 7.9905e-06],\n",
      "        [1.9937e-02, 1.8139e-03, 3.1547e-02, 8.7896e-01, 3.9208e-02, 1.3669e-06,\n",
      "         2.6624e-02, 3.4762e-07, 1.9108e-03, 7.2787e-07],\n",
      "        [7.8073e-12, 6.5543e-18, 1.5022e-14, 6.0852e-14, 9.1430e-14, 9.3881e-18,\n",
      "         8.7896e-13, 3.4265e-15, 1.0000e+00, 2.6413e-19],\n",
      "        [9.9430e-01, 2.9128e-07, 7.8166e-05, 2.3831e-05, 2.1888e-07, 1.2765e-08,\n",
      "         5.5964e-03, 3.9498e-13, 1.5093e-07, 3.3085e-11],\n",
      "        [1.2739e-06, 9.0755e-07, 1.0724e-07, 2.7167e-06, 1.0689e-06, 1.1674e-04,\n",
      "         9.6896e-08, 9.9819e-01, 1.1637e-04, 1.5707e-03],\n",
      "        [2.2607e-07, 5.8327e-10, 1.2351e-10, 1.0837e-08, 3.8437e-10, 9.9993e-01,\n",
      "         3.1892e-07, 6.5637e-05, 2.7902e-07, 3.5584e-06],\n",
      "        [3.1130e-08, 4.0795e-08, 1.9574e-09, 1.1385e-07, 2.3763e-08, 6.7951e-05,\n",
      "         1.5596e-09, 9.9947e-01, 2.4963e-06, 4.6141e-04],\n",
      "        [5.7631e-08, 7.9286e-11, 5.1889e-12, 3.2064e-11, 1.0014e-09, 6.7158e-06,\n",
      "         7.6341e-10, 1.1672e-04, 6.4057e-09, 9.9988e-01],\n",
      "        [9.3499e-01, 1.6137e-06, 1.1395e-04, 2.3849e-05, 5.4689e-06, 9.1605e-07,\n",
      "         6.4861e-02, 6.1576e-11, 4.2281e-07, 2.4916e-09],\n",
      "        [6.1772e-10, 1.0000e+00, 1.7401e-11, 4.0444e-09, 3.0630e-12, 2.4536e-15,\n",
      "         5.5185e-09, 5.1676e-18, 1.4437e-11, 3.3770e-13],\n",
      "        [8.5249e-02, 9.5305e-05, 5.8525e-04, 1.4626e-02, 3.1506e-03, 4.0855e-06,\n",
      "         8.9628e-01, 1.1372e-08, 7.7183e-06, 4.2688e-08],\n",
      "        [2.4017e-06, 9.0810e-07, 2.3873e-07, 2.6587e-06, 1.0011e-06, 4.6179e-04,\n",
      "         9.1797e-08, 9.5470e-01, 1.4990e-05, 4.4812e-02],\n",
      "        [6.6407e-05, 5.3601e-08, 7.3405e-04, 6.2860e-05, 8.2013e-02, 5.5943e-07,\n",
      "         9.1712e-01, 2.2168e-09, 8.1229e-07, 2.6208e-10],\n",
      "        [1.1702e-05, 4.9232e-06, 8.0092e-07, 7.6231e-06, 2.7015e-06, 1.0407e-02,\n",
      "         9.7525e-07, 9.5101e-01, 1.8712e-04, 3.8366e-02],\n",
      "        [3.3584e-02, 6.9408e-04, 7.9344e-01, 6.0374e-02, 4.1582e-02, 2.0755e-06,\n",
      "         6.7457e-02, 3.8633e-07, 2.8661e-03, 5.4528e-07],\n",
      "        [3.5360e-06, 9.9994e-01, 2.4835e-07, 5.2898e-05, 7.6376e-08, 6.6097e-10,\n",
      "         4.7654e-06, 9.6328e-12, 2.3931e-07, 1.1534e-08],\n",
      "        [8.7916e-04, 2.3115e-06, 4.4173e-01, 5.3288e-04, 2.8701e-01, 5.0021e-08,\n",
      "         2.6982e-01, 3.2748e-08, 2.8058e-05, 5.6201e-09],\n",
      "        [1.1282e-02, 6.4487e-05, 8.4631e-02, 4.8295e-03, 6.0088e-02, 8.8198e-05,\n",
      "         8.3841e-01, 2.7847e-06, 6.0336e-04, 1.4931e-06]])\n"
     ]
    }
   ],
   "source": [
    "print(\"확률값으로 변환 - softmax\")\n",
    "pred_proba = nn.Softmax(dim=-1)(pred_logit)\n",
    "print(pred_proba)"
   ]
  },
  {
   "cell_type": "code",
   "execution_count": 20,
   "metadata": {},
   "outputs": [
    {
     "data": {
      "text/plain": [
       "torch.return_types.max(\n",
       "values=tensor([0.9906, 0.9958, 1.0000, 1.0000, 0.7736, 1.0000, 0.9996, 0.9994, 1.0000,\n",
       "        0.9984, 0.9165, 0.9999, 0.5519, 0.9979, 0.8424, 1.0000, 0.9948, 0.8746,\n",
       "        1.0000, 0.9471, 0.7399, 0.6761, 0.9997, 0.9855, 1.0000, 0.7187, 0.9264,\n",
       "        0.8197, 0.9780, 0.4040, 1.0000, 1.0000, 0.9744, 0.8790, 1.0000, 0.9943,\n",
       "        0.9982, 0.9999, 0.9995, 0.9999, 0.9350, 1.0000, 0.8963, 0.9547, 0.9171,\n",
       "        0.9510, 0.7934, 0.9999, 0.4417, 0.8384]),\n",
       "indices=tensor([9, 2, 1, 1, 6, 1, 4, 6, 5, 7, 4, 5, 7, 3, 4, 1, 2, 2, 8, 0, 2, 5, 7, 5,\n",
       "        1, 2, 6, 0, 9, 3, 8, 8, 3, 3, 8, 0, 7, 5, 7, 9, 0, 1, 6, 7, 6, 7, 2, 1,\n",
       "        2, 6]))"
      ]
     },
     "execution_count": 20,
     "metadata": {},
     "output_type": "execute_result"
    }
   ],
   "source": [
    "result = torch.max(pred_proba, dim=-1)\n",
    "result"
   ]
  },
  {
   "cell_type": "code",
   "execution_count": 24,
   "metadata": {},
   "outputs": [],
   "source": [
    "def predict(model, x):\n",
    "    with torch.no_grad():\n",
    "        pred = model(x)\n",
    "        pred_proba = nn.Softmax(dim=-1)(pred)\n",
    "        result = torch.max(pred_proba, dim=-1)\n",
    "        return [(idx.item(), proba.item()) for idx, proba in zip(result.indices, result.values)]"
   ]
  },
  {
   "cell_type": "code",
   "execution_count": 25,
   "metadata": {},
   "outputs": [],
   "source": [
    "result = predict(load_fmodel, x)"
   ]
  },
  {
   "cell_type": "code",
   "execution_count": 26,
   "metadata": {},
   "outputs": [
    {
     "data": {
      "text/plain": [
       "[(9, 0.9905555844306946),\n",
       " (2, 0.9958310723304749),\n",
       " (1, 1.0),\n",
       " (1, 1.0),\n",
       " (6, 0.7735845446586609),\n",
       " (1, 0.9999996423721313),\n",
       " (4, 0.9995827078819275),\n",
       " (6, 0.9994454979896545),\n",
       " (5, 0.9999996423721313),\n",
       " (7, 0.9984103441238403),\n",
       " (4, 0.9164848923683167),\n",
       " (5, 0.9999071359634399),\n",
       " (7, 0.5518661737442017),\n",
       " (3, 0.9979277849197388),\n",
       " (4, 0.8423774838447571),\n",
       " (1, 0.9999840259552002),\n",
       " (2, 0.994787335395813),\n",
       " (2, 0.8745715022087097),\n",
       " (8, 0.9999815225601196),\n",
       " (0, 0.9470783472061157),\n",
       " (2, 0.7399144768714905),\n",
       " (5, 0.6761211156845093),\n",
       " (7, 0.9997068047523499),\n",
       " (5, 0.9854647517204285),\n",
       " (1, 1.0),\n",
       " (2, 0.7186679840087891),\n",
       " (6, 0.9263898134231567),\n",
       " (0, 0.819709300994873),\n",
       " (9, 0.9779600501060486),\n",
       " (3, 0.4039537310600281),\n",
       " (8, 1.0),\n",
       " (8, 0.9999992847442627),\n",
       " (3, 0.9743779897689819),\n",
       " (3, 0.8789570927619934),\n",
       " (8, 1.0),\n",
       " (0, 0.9943010807037354),\n",
       " (7, 0.9981901049613953),\n",
       " (5, 0.9999299049377441),\n",
       " (7, 0.9994679093360901),\n",
       " (9, 0.9998764991760254),\n",
       " (0, 0.9349932670593262),\n",
       " (1, 1.0),\n",
       " (6, 0.8962815403938293),\n",
       " (7, 0.954703688621521),\n",
       " (6, 0.9171225428581238),\n",
       " (7, 0.9510108232498169),\n",
       " (2, 0.793440580368042),\n",
       " (1, 0.9999381303787231),\n",
       " (2, 0.44173288345336914),\n",
       " (6, 0.8384090662002563)]"
      ]
     },
     "execution_count": 26,
     "metadata": {},
     "output_type": "execute_result"
    }
   ],
   "source": [
    "result"
   ]
  },
  {
   "cell_type": "code",
   "execution_count": null,
   "metadata": {},
   "outputs": [],
   "source": []
  },
  {
   "cell_type": "code",
   "execution_count": null,
   "metadata": {},
   "outputs": [],
   "source": []
  },
  {
   "cell_type": "markdown",
   "metadata": {
    "id": "FHZZcAAG6L-N"
   },
   "source": [
    "### 위스콘신 유방암 데이터셋 - **이진분류(Binary Classification) 문제**\n",
    "\n",
    "-   **이진 분류 문제 처리 모델의 두가지 방법**\n",
    "    1. positive(1)일 확률을 출력하도록 구현\n",
    "        - output layer: units=1, activation='sigmoid'\n",
    "        - loss: binary_crossentropy\n",
    "    2. negative(0)일 확률과 positive(1)일 확률을 출력하도록 구현 => 다중분류 처리 방식으로 해결\n",
    "        - output layer: units=2, activation='softmax', y(정답)은 one hot encoding 처리\n",
    "        - loss: categorical_crossentropy\n",
    "-   위스콘신 대학교에서 제공한 종양의 악성/양성여부 분류를 위한 데이터셋\n",
    "-   Feature\n",
    "    -   종양에 대한 다양한 측정값들\n",
    "-   Target의 class\n",
    "    -   0 - malignant(악성종양)\n",
    "    -   1 - benign(양성종양)\n"
   ]
  },
  {
   "cell_type": "code",
   "execution_count": 34,
   "metadata": {
    "id": "MidUqhH56L-N"
   },
   "outputs": [
    {
     "name": "stdout",
     "output_type": "stream",
     "text": [
      "cpu\n"
     ]
    }
   ],
   "source": [
    "from sklearn.datasets import load_breast_cancer\n",
    "from sklearn.preprocessing import StandardScaler\n",
    "from sklearn.model_selection import train_test_split\n",
    "\n",
    "import torch\n",
    "import torch.nn as nn\n",
    "import torch.optim as optim\n",
    "from torch.utils.data import DataLoader, TensorDataset\n",
    "\n",
    "import numpy as np\n",
    "import matplotlib.pyplot as plt\n",
    "\n",
    "device = \"cuda\" if torch.cuda.is_available() else \"cpu\"\n",
    "print(device)"
   ]
  },
  {
   "cell_type": "code",
   "execution_count": 35,
   "metadata": {
    "id": "2wlA0I7Y6L-N"
   },
   "outputs": [],
   "source": [
    "# Dataset\n",
    "X, y = load_breast_cancer(return_X_y=True)\n",
    "y = y.reshape(-1, 1) #>>> 최초의 y.shape은 (569,)이다. 이걸 2차원으로 (569,1)로 만들어야한다.\n",
    "# X.shape, y.shape, X.dtype\n",
    "X_train, X_test, y_train, y_test = train_test_split(X, y, stratify=y, test_size=0.25, random_state=0)"
   ]
  },
  {
   "cell_type": "code",
   "execution_count": 36,
   "metadata": {
    "id": "0UEF5kq26L-N"
   },
   "outputs": [],
   "source": [
    "# 전처리\n",
    "scaler = StandardScaler()\n",
    "X_train_scaled = scaler.fit_transform(X_train)\n",
    "X_test_scaled = scaler.transform(X_test)"
   ]
  },
  {
   "cell_type": "code",
   "execution_count": 37,
   "metadata": {
    "id": "Js07Tmg76L-N"
   },
   "outputs": [],
   "source": [
    "# class name <-> class index\n",
    "classes = np.array([\"악성종양\", \"양성종양\"])\n",
    "class_to_idx = {\"악성종양\":0, \"양성종양\":1}"
   ]
  },
  {
   "cell_type": "code",
   "execution_count": 38,
   "metadata": {
    "id": "SUjMIaeV6L-N"
   },
   "outputs": [],
   "source": [
    "# Dataset\n",
    "## 모델의 weight, bias -> float32. X, y는 weight, bias와 계산을 하게 되기 때문에 타입을 맞춰준다.\n",
    "trainset = TensorDataset(\n",
    "    torch.tensor(X_train_scaled, dtype=torch.float32),\n",
    "    torch.tensor(y_train, dtype=torch.float32)\n",
    ")\n",
    "testset = TensorDataset(\n",
    "    torch.tensor(X_test_scaled, dtype=torch.float32),\n",
    "    torch.tensor(y_test, dtype=torch.float32)\n",
    ")"
   ]
  },
  {
   "cell_type": "code",
   "execution_count": 39,
   "metadata": {
    "id": "WFOCPHg66L-N"
   },
   "outputs": [],
   "source": [
    "trainset.classes = classes\n",
    "trainset.class_to_idx = class_to_idx"
   ]
  },
  {
   "cell_type": "code",
   "execution_count": 40,
   "metadata": {
    "id": "ohoet9Ay6L-N"
   },
   "outputs": [],
   "source": [
    "# DataLoader\n",
    "train_loader = DataLoader(trainset, batch_size=200, shuffle=True, drop_last=True)\n",
    "test_loader = DataLoader(testset, batch_size=100)"
   ]
  },
  {
   "cell_type": "code",
   "execution_count": 41,
   "metadata": {},
   "outputs": [
    {
     "data": {
      "text/plain": [
       "(426, 30)"
      ]
     },
     "execution_count": 41,
     "metadata": {},
     "output_type": "execute_result"
    }
   ],
   "source": [
    "X_train.shape #>>> 1번축이 30 이므로, lr1은 30으로 시작해야한다."
   ]
  },
  {
   "cell_type": "code",
   "execution_count": 42,
   "metadata": {
    "id": "k5sVrg-a6L-N"
   },
   "outputs": [],
   "source": [
    "######### 모델 정의\n",
    "class BreastCancerModel(nn.Module):\n",
    "\n",
    "    def __init__(self):\n",
    "        super().__init__()\n",
    "        self.lr1 = nn.Linear(30, 32)\n",
    "        self.lr2 = nn.Linear(32, 8)\n",
    "        self.lr3 = nn.Linear(8, 1) # 출력 Layer 처리하는 함수. out_features=1 : positive일 확률.\n",
    "        self.relu = nn.ReLU()\n",
    "        self.logistic = nn.Sigmoid() # 입력값을 0 ~ 1 사이 실수로 반환.\n",
    "\n",
    "    def forward(self, X):\n",
    "        X = self.lr1(X)\n",
    "        X = self.relu(X)\n",
    "        X = self.lr2(X)\n",
    "        X = self.relu(X)\n",
    "        # 출력 Layer\n",
    "        output = self.lr3(X)\n",
    "        output = self.logistic(output)\n",
    "        return output"
   ]
  },
  {
   "cell_type": "code",
   "execution_count": 43,
   "metadata": {
    "id": "j1Fbq1tE6L-N"
   },
   "outputs": [
    {
     "data": {
      "text/plain": [
       "BreastCancerModel(\n",
       "  (lr1): Linear(in_features=30, out_features=32, bias=True)\n",
       "  (lr2): Linear(in_features=32, out_features=8, bias=True)\n",
       "  (lr3): Linear(in_features=8, out_features=1, bias=True)\n",
       "  (relu): ReLU()\n",
       "  (logistic): Sigmoid()\n",
       ")"
      ]
     },
     "execution_count": 43,
     "metadata": {},
     "output_type": "execute_result"
    }
   ],
   "source": [
    "b_model = BreastCancerModel()\n",
    "b_model"
   ]
  },
  {
   "cell_type": "code",
   "execution_count": null,
   "metadata": {},
   "outputs": [
    {
     "name": "stdout",
     "output_type": "stream",
     "text": [
      "Requirement already satisfied: torchinfo in c:\\users\\playdata\\appdata\\local\\miniconda3\\envs\\dl\\lib\\site-packages (1.8.0)\n",
      "Note: you may need to restart the kernel to use updated packages.\n"
     ]
    }
   ],
   "source": [
    "# %pip install torchinfo"
   ]
  },
  {
   "cell_type": "code",
   "execution_count": 44,
   "metadata": {
    "id": "7MzFiMKy6L-N",
    "scrolled": true
   },
   "outputs": [
    {
     "data": {
      "text/plain": [
       "==========================================================================================\n",
       "Layer (type:depth-idx)                   Output Shape              Param #\n",
       "==========================================================================================\n",
       "BreastCancerModel                        [10, 1]                   --\n",
       "├─Linear: 1-1                            [10, 32]                  992\n",
       "├─ReLU: 1-2                              [10, 32]                  --\n",
       "├─Linear: 1-3                            [10, 8]                   264\n",
       "├─ReLU: 1-4                              [10, 8]                   --\n",
       "├─Linear: 1-5                            [10, 1]                   9\n",
       "├─Sigmoid: 1-6                           [10, 1]                   --\n",
       "==========================================================================================\n",
       "Total params: 1,265\n",
       "Trainable params: 1,265\n",
       "Non-trainable params: 0\n",
       "Total mult-adds (Units.MEGABYTES): 0.01\n",
       "==========================================================================================\n",
       "Input size (MB): 0.00\n",
       "Forward/backward pass size (MB): 0.00\n",
       "Params size (MB): 0.01\n",
       "Estimated Total Size (MB): 0.01\n",
       "=========================================================================================="
      ]
     },
     "execution_count": 44,
     "metadata": {},
     "output_type": "execute_result"
    }
   ],
   "source": [
    "from torchinfo import summary\n",
    "summary(b_model, (10, 30), device=device)"
   ]
  },
  {
   "cell_type": "code",
   "execution_count": 45,
   "metadata": {
    "id": "k-6-nK6H6L-N"
   },
   "outputs": [
    {
     "data": {
      "text/plain": [
       "tensor([[0.5550],\n",
       "        [0.5214],\n",
       "        [0.5718],\n",
       "        [0.5858],\n",
       "        [0.5482],\n",
       "        [0.5564],\n",
       "        [0.5696],\n",
       "        [0.5312],\n",
       "        [0.5634],\n",
       "        [0.5519]], grad_fn=<SigmoidBackward0>)"
      ]
     },
     "execution_count": 45,
     "metadata": {},
     "output_type": "execute_result"
    }
   ],
   "source": [
    "# dummy data로 출력\n",
    "dummy_x = torch.randn(10, 30)\n",
    "# dummy_x.shape\n",
    "result = b_model(dummy_x)\n",
    "# result.shape\n",
    "result"
   ]
  },
  {
   "cell_type": "code",
   "execution_count": 46,
   "metadata": {
    "id": "V0iqwsQ96L-N"
   },
   "outputs": [
    {
     "data": {
      "text/plain": [
       "tensor([[1],\n",
       "        [1],\n",
       "        [1],\n",
       "        [1],\n",
       "        [1],\n",
       "        [1],\n",
       "        [1],\n",
       "        [1],\n",
       "        [1],\n",
       "        [1]], dtype=torch.int32)"
      ]
     },
     "execution_count": 46,
     "metadata": {},
     "output_type": "execute_result"
    }
   ],
   "source": [
    "(result > 0.5).type(torch.int32)  # bool -> int (True: 1, False: 0)"
   ]
  },
  {
   "cell_type": "code",
   "execution_count": 47,
   "metadata": {
    "id": "d5w5V5Sa6L-N"
   },
   "outputs": [],
   "source": [
    "lr = 0.001\n",
    "epochs = 1000\n",
    "######## 학습(train)\n",
    "b_model = b_model.to(device)\n",
    "optimizer = optim.Adam(b_model.parameters(), lr=lr)\n",
    "loss_fn = nn.BCELoss()   # 함수이름: binary crossentropy"
   ]
  },
  {
   "cell_type": "code",
   "execution_count": 48,
   "metadata": {
    "collapsed": true,
    "id": "9AzMVRav6L-O",
    "jupyter": {
     "outputs_hidden": true
    },
    "scrolled": true
   },
   "outputs": [
    {
     "name": "stdout",
     "output_type": "stream",
     "text": [
      "[0001/1000] train loss: 0.6767658889293671, valid loss: 0.6614393293857574, valid accuracy: 0.6293706293706294\n",
      ">>>>>> 1에서 성능이 개선되어 저장합니다. 0.6614393293857574\n",
      "[0002/1000] train loss: 0.6646051108837128, valid loss: 0.6521230936050415, valid accuracy: 0.6293706293706294\n",
      ">>>>>> 2에서 성능이 개선되어 저장합니다. 0.6521230936050415\n",
      "[0003/1000] train loss: 0.6562506556510925, valid loss: 0.643548458814621, valid accuracy: 0.6293706293706294\n",
      ">>>>>> 3에서 성능이 개선되어 저장합니다. 0.643548458814621\n",
      "[0004/1000] train loss: 0.6441288888454437, valid loss: 0.6349571645259857, valid accuracy: 0.6293706293706294\n",
      ">>>>>> 4에서 성능이 개선되어 저장합니다. 0.6349571645259857\n",
      "[0005/1000] train loss: 0.6399944424629211, valid loss: 0.6261858642101288, valid accuracy: 0.6293706293706294\n",
      ">>>>>> 5에서 성능이 개선되어 저장합니다. 0.6261858642101288\n",
      "[0006/1000] train loss: 0.628075897693634, valid loss: 0.6172932684421539, valid accuracy: 0.6293706293706294\n",
      ">>>>>> 6에서 성능이 개선되어 저장합니다. 0.6172932684421539\n",
      "[0007/1000] train loss: 0.6200313568115234, valid loss: 0.6083036065101624, valid accuracy: 0.6433566433566433\n",
      ">>>>>> 7에서 성능이 개선되어 저장합니다. 0.6083036065101624\n",
      "[0008/1000] train loss: 0.6104074716567993, valid loss: 0.5993064641952515, valid accuracy: 0.6503496503496503\n",
      ">>>>>> 8에서 성능이 개선되어 저장합니다. 0.5993064641952515\n",
      "[0009/1000] train loss: 0.6031381785869598, valid loss: 0.5903330743312836, valid accuracy: 0.6503496503496503\n",
      ">>>>>> 9에서 성능이 개선되어 저장합니다. 0.5903330743312836\n",
      "[0010/1000] train loss: 0.5912609100341797, valid loss: 0.5810194313526154, valid accuracy: 0.6853146853146853\n",
      ">>>>>> 10에서 성능이 개선되어 저장합니다. 0.5810194313526154\n",
      "[0011/1000] train loss: 0.5801818370819092, valid loss: 0.5713468492031097, valid accuracy: 0.6923076923076923\n",
      ">>>>>> 11에서 성능이 개선되어 저장합니다. 0.5713468492031097\n",
      "[0012/1000] train loss: 0.5715914368629456, valid loss: 0.5613133609294891, valid accuracy: 0.6923076923076923\n",
      ">>>>>> 12에서 성능이 개선되어 저장합니다. 0.5613133609294891\n",
      "[0013/1000] train loss: 0.5615748465061188, valid loss: 0.5509275496006012, valid accuracy: 0.7342657342657343\n",
      ">>>>>> 13에서 성능이 개선되어 저장합니다. 0.5509275496006012\n",
      "[0014/1000] train loss: 0.5479093492031097, valid loss: 0.5401466488838196, valid accuracy: 0.7552447552447552\n",
      ">>>>>> 14에서 성능이 개선되어 저장합니다. 0.5401466488838196\n",
      "[0015/1000] train loss: 0.5359799265861511, valid loss: 0.5290153920650482, valid accuracy: 0.7762237762237763\n",
      ">>>>>> 15에서 성능이 개선되어 저장합니다. 0.5290153920650482\n",
      "[0016/1000] train loss: 0.5264772474765778, valid loss: 0.5174924433231354, valid accuracy: 0.8251748251748252\n",
      ">>>>>> 16에서 성능이 개선되어 저장합니다. 0.5174924433231354\n",
      "[0017/1000] train loss: 0.5114861726760864, valid loss: 0.5055620819330215, valid accuracy: 0.8601398601398601\n",
      ">>>>>> 17에서 성능이 개선되어 저장합니다. 0.5055620819330215\n",
      "[0018/1000] train loss: 0.49925246834754944, valid loss: 0.49323131144046783, valid accuracy: 0.8951048951048951\n",
      ">>>>>> 18에서 성능이 개선되어 저장합니다. 0.49323131144046783\n",
      "[0019/1000] train loss: 0.48959410190582275, valid loss: 0.4805701822042465, valid accuracy: 0.8951048951048951\n",
      ">>>>>> 19에서 성능이 개선되어 저장합니다. 0.4805701822042465\n",
      "[0020/1000] train loss: 0.47650565207004547, valid loss: 0.46755895018577576, valid accuracy: 0.916083916083916\n",
      ">>>>>> 20에서 성능이 개선되어 저장합니다. 0.46755895018577576\n",
      "[0021/1000] train loss: 0.46081624925136566, valid loss: 0.4542321711778641, valid accuracy: 0.9300699300699301\n",
      ">>>>>> 21에서 성능이 개선되어 저장합니다. 0.4542321711778641\n",
      "[0022/1000] train loss: 0.44706791639328003, valid loss: 0.4406507611274719, valid accuracy: 0.9300699300699301\n",
      ">>>>>> 22에서 성능이 개선되어 저장합니다. 0.4406507611274719\n",
      "[0023/1000] train loss: 0.43142618238925934, valid loss: 0.42683494091033936, valid accuracy: 0.9300699300699301\n",
      ">>>>>> 23에서 성능이 개선되어 저장합니다. 0.42683494091033936\n",
      "[0024/1000] train loss: 0.4159027487039566, valid loss: 0.41282472014427185, valid accuracy: 0.9370629370629371\n",
      ">>>>>> 24에서 성능이 개선되어 저장합니다. 0.41282472014427185\n",
      "[0025/1000] train loss: 0.40270887315273285, valid loss: 0.3987303823232651, valid accuracy: 0.9440559440559441\n",
      ">>>>>> 25에서 성능이 개선되어 저장합니다. 0.3987303823232651\n",
      "[0026/1000] train loss: 0.38815708458423615, valid loss: 0.38460224866867065, valid accuracy: 0.9370629370629371\n",
      ">>>>>> 26에서 성능이 개선되어 저장합니다. 0.38460224866867065\n",
      "[0027/1000] train loss: 0.3728616237640381, valid loss: 0.37057429552078247, valid accuracy: 0.9440559440559441\n",
      ">>>>>> 27에서 성능이 개선되어 저장합니다. 0.37057429552078247\n",
      "[0028/1000] train loss: 0.35448621213436127, valid loss: 0.35662269592285156, valid accuracy: 0.9440559440559441\n",
      ">>>>>> 28에서 성능이 개선되어 저장합니다. 0.35662269592285156\n",
      "[0029/1000] train loss: 0.3440076857805252, valid loss: 0.3428295701742172, valid accuracy: 0.951048951048951\n",
      ">>>>>> 29에서 성능이 개선되어 저장합니다. 0.3428295701742172\n",
      "[0030/1000] train loss: 0.32745008170604706, valid loss: 0.32926808297634125, valid accuracy: 0.9370629370629371\n",
      ">>>>>> 30에서 성능이 개선되어 저장합니다. 0.32926808297634125\n",
      "[0031/1000] train loss: 0.31165167689323425, valid loss: 0.31607866287231445, valid accuracy: 0.9370629370629371\n",
      ">>>>>> 31에서 성능이 개선되어 저장합니다. 0.31607866287231445\n",
      "[0032/1000] train loss: 0.29545047879219055, valid loss: 0.3032560795545578, valid accuracy: 0.9370629370629371\n",
      ">>>>>> 32에서 성능이 개선되어 저장합니다. 0.3032560795545578\n",
      "[0033/1000] train loss: 0.28264208137989044, valid loss: 0.2909788340330124, valid accuracy: 0.9370629370629371\n",
      ">>>>>> 33에서 성능이 개선되어 저장합니다. 0.2909788340330124\n",
      "[0034/1000] train loss: 0.2682008147239685, valid loss: 0.2792300134897232, valid accuracy: 0.9370629370629371\n",
      ">>>>>> 34에서 성능이 개선되어 저장합니다. 0.2792300134897232\n",
      "[0035/1000] train loss: 0.2616380602121353, valid loss: 0.268125057220459, valid accuracy: 0.9370629370629371\n",
      ">>>>>> 35에서 성능이 개선되어 저장합니다. 0.268125057220459\n",
      "[0036/1000] train loss: 0.24408382177352905, valid loss: 0.25763676315546036, valid accuracy: 0.9370629370629371\n",
      ">>>>>> 36에서 성능이 개선되어 저장합니다. 0.25763676315546036\n",
      "[0037/1000] train loss: 0.23713368922472, valid loss: 0.24774307012557983, valid accuracy: 0.9440559440559441\n",
      ">>>>>> 37에서 성능이 개선되어 저장합니다. 0.24774307012557983\n",
      "[0038/1000] train loss: 0.22795965522527695, valid loss: 0.2384236454963684, valid accuracy: 0.9440559440559441\n",
      ">>>>>> 38에서 성능이 개선되어 저장합니다. 0.2384236454963684\n",
      "[0039/1000] train loss: 0.21355250477790833, valid loss: 0.2297016754746437, valid accuracy: 0.9440559440559441\n",
      ">>>>>> 39에서 성능이 개선되어 저장합니다. 0.2297016754746437\n",
      "[0040/1000] train loss: 0.20384135097265244, valid loss: 0.2214847132563591, valid accuracy: 0.9440559440559441\n",
      ">>>>>> 40에서 성능이 개선되어 저장합니다. 0.2214847132563591\n",
      "[0041/1000] train loss: 0.1947033628821373, valid loss: 0.2137850746512413, valid accuracy: 0.9440559440559441\n",
      ">>>>>> 41에서 성능이 개선되어 저장합니다. 0.2137850746512413\n",
      "[0042/1000] train loss: 0.18994669616222382, valid loss: 0.20661740750074387, valid accuracy: 0.9370629370629371\n",
      ">>>>>> 42에서 성능이 개선되어 저장합니다. 0.20661740750074387\n",
      "[0043/1000] train loss: 0.18271144479513168, valid loss: 0.19983815401792526, valid accuracy: 0.9370629370629371\n",
      ">>>>>> 43에서 성능이 개선되어 저장합니다. 0.19983815401792526\n",
      "[0044/1000] train loss: 0.1731681004166603, valid loss: 0.19353166222572327, valid accuracy: 0.9370629370629371\n",
      ">>>>>> 44에서 성능이 개선되어 저장합니다. 0.19353166222572327\n",
      "[0045/1000] train loss: 0.1607210859656334, valid loss: 0.18766698241233826, valid accuracy: 0.9370629370629371\n",
      ">>>>>> 45에서 성능이 개선되어 저장합니다. 0.18766698241233826\n",
      "[0046/1000] train loss: 0.16269584000110626, valid loss: 0.18216312676668167, valid accuracy: 0.9370629370629371\n",
      ">>>>>> 46에서 성능이 개선되어 저장합니다. 0.18216312676668167\n",
      "[0047/1000] train loss: 0.15239479392766953, valid loss: 0.17703618854284286, valid accuracy: 0.9370629370629371\n",
      ">>>>>> 47에서 성능이 개선되어 저장합니다. 0.17703618854284286\n",
      "[0048/1000] train loss: 0.14764834940433502, valid loss: 0.17221811413764954, valid accuracy: 0.9370629370629371\n",
      ">>>>>> 48에서 성능이 개선되어 저장합니다. 0.17221811413764954\n",
      "[0049/1000] train loss: 0.14092626422643661, valid loss: 0.1677728369832039, valid accuracy: 0.9440559440559441\n",
      ">>>>>> 49에서 성능이 개선되어 저장합니다. 0.1677728369832039\n",
      "[0050/1000] train loss: 0.14016591012477875, valid loss: 0.16361334919929504, valid accuracy: 0.9440559440559441\n",
      ">>>>>> 50에서 성능이 개선되어 저장합니다. 0.16361334919929504\n",
      "[0051/1000] train loss: 0.12622012943029404, valid loss: 0.1597290337085724, valid accuracy: 0.9440559440559441\n",
      ">>>>>> 51에서 성능이 개선되어 저장합니다. 0.1597290337085724\n",
      "[0052/1000] train loss: 0.13062181696295738, valid loss: 0.1560920998454094, valid accuracy: 0.9440559440559441\n",
      ">>>>>> 52에서 성능이 개선되어 저장합니다. 0.1560920998454094\n",
      "[0053/1000] train loss: 0.125017412006855, valid loss: 0.15264006704092026, valid accuracy: 0.9440559440559441\n",
      ">>>>>> 53에서 성능이 개선되어 저장합니다. 0.15264006704092026\n",
      "[0054/1000] train loss: 0.12031729891896248, valid loss: 0.14942757040262222, valid accuracy: 0.9440559440559441\n",
      ">>>>>> 54에서 성능이 개선되어 저장합니다. 0.14942757040262222\n",
      "[0055/1000] train loss: 0.11903393641114235, valid loss: 0.14643395692110062, valid accuracy: 0.9440559440559441\n",
      ">>>>>> 55에서 성능이 개선되어 저장합니다. 0.14643395692110062\n",
      "[0056/1000] train loss: 0.11692887544631958, valid loss: 0.14362876489758492, valid accuracy: 0.9440559440559441\n",
      ">>>>>> 56에서 성능이 개선되어 저장합니다. 0.14362876489758492\n",
      "[0057/1000] train loss: 0.11327139288187027, valid loss: 0.14101585373282433, valid accuracy: 0.951048951048951\n",
      ">>>>>> 57에서 성능이 개선되어 저장합니다. 0.14101585373282433\n",
      "[0058/1000] train loss: 0.10894203931093216, valid loss: 0.13855453953146935, valid accuracy: 0.951048951048951\n",
      ">>>>>> 58에서 성능이 개선되어 저장합니다. 0.13855453953146935\n",
      "[0059/1000] train loss: 0.10453671962022781, valid loss: 0.13621531054377556, valid accuracy: 0.951048951048951\n",
      ">>>>>> 59에서 성능이 개선되어 저장합니다. 0.13621531054377556\n",
      "[0060/1000] train loss: 0.09803035110235214, valid loss: 0.13402317091822624, valid accuracy: 0.951048951048951\n",
      ">>>>>> 60에서 성능이 개선되어 저장합니다. 0.13402317091822624\n",
      "[0061/1000] train loss: 0.09951172396540642, valid loss: 0.1319703795015812, valid accuracy: 0.951048951048951\n",
      ">>>>>> 61에서 성능이 개선되어 저장합니다. 0.1319703795015812\n",
      "[0062/1000] train loss: 0.10001413151621819, valid loss: 0.13004613295197487, valid accuracy: 0.951048951048951\n",
      ">>>>>> 62에서 성능이 개선되어 저장합니다. 0.13004613295197487\n",
      "[0063/1000] train loss: 0.09453650563955307, valid loss: 0.12829619646072388, valid accuracy: 0.951048951048951\n",
      ">>>>>> 63에서 성능이 개선되어 저장합니다. 0.12829619646072388\n",
      "[0064/1000] train loss: 0.09397203847765923, valid loss: 0.12667200341820717, valid accuracy: 0.951048951048951\n",
      ">>>>>> 64에서 성능이 개선되어 저장합니다. 0.12667200341820717\n",
      "[0065/1000] train loss: 0.09488988295197487, valid loss: 0.12514711543917656, valid accuracy: 0.951048951048951\n",
      ">>>>>> 65에서 성능이 개선되어 저장합니다. 0.12514711543917656\n",
      "[0066/1000] train loss: 0.08921781182289124, valid loss: 0.12370244041085243, valid accuracy: 0.951048951048951\n",
      ">>>>>> 66에서 성능이 개선되어 저장합니다. 0.12370244041085243\n",
      "[0067/1000] train loss: 0.08660288155078888, valid loss: 0.12234741821885109, valid accuracy: 0.951048951048951\n",
      ">>>>>> 67에서 성능이 개선되어 저장합니다. 0.12234741821885109\n",
      "[0068/1000] train loss: 0.08745646104216576, valid loss: 0.12109027802944183, valid accuracy: 0.951048951048951\n",
      ">>>>>> 68에서 성능이 개선되어 저장합니다. 0.12109027802944183\n",
      "[0069/1000] train loss: 0.07498858124017715, valid loss: 0.11993870511651039, valid accuracy: 0.951048951048951\n",
      ">>>>>> 69에서 성능이 개선되어 저장합니다. 0.11993870511651039\n",
      "[0070/1000] train loss: 0.0838511474430561, valid loss: 0.11882419139146805, valid accuracy: 0.951048951048951\n",
      ">>>>>> 70에서 성능이 개선되어 저장합니다. 0.11882419139146805\n",
      "[0071/1000] train loss: 0.07616207003593445, valid loss: 0.11777180433273315, valid accuracy: 0.951048951048951\n",
      ">>>>>> 71에서 성능이 개선되어 저장합니다. 0.11777180433273315\n",
      "[0072/1000] train loss: 0.07855439558625221, valid loss: 0.1167956031858921, valid accuracy: 0.951048951048951\n",
      ">>>>>> 72에서 성능이 개선되어 저장합니다. 0.1167956031858921\n",
      "[0073/1000] train loss: 0.07669355720281601, valid loss: 0.11587172746658325, valid accuracy: 0.951048951048951\n",
      ">>>>>> 73에서 성능이 개선되어 저장합니다. 0.11587172746658325\n",
      "[0074/1000] train loss: 0.07842251658439636, valid loss: 0.11500639095902443, valid accuracy: 0.958041958041958\n",
      ">>>>>> 74에서 성능이 개선되어 저장합니다. 0.11500639095902443\n",
      "[0075/1000] train loss: 0.0773371197283268, valid loss: 0.11421659216284752, valid accuracy: 0.958041958041958\n",
      ">>>>>> 75에서 성능이 개선되어 저장합니다. 0.11421659216284752\n",
      "[0076/1000] train loss: 0.07549409940838814, valid loss: 0.11343730986118317, valid accuracy: 0.951048951048951\n",
      ">>>>>> 76에서 성능이 개선되어 저장합니다. 0.11343730986118317\n",
      "[0077/1000] train loss: 0.07306063547730446, valid loss: 0.11274723336100578, valid accuracy: 0.951048951048951\n",
      ">>>>>> 77에서 성능이 개선되어 저장합니다. 0.11274723336100578\n",
      "[0078/1000] train loss: 0.07290409505367279, valid loss: 0.11209600046277046, valid accuracy: 0.951048951048951\n",
      ">>>>>> 78에서 성능이 개선되어 저장합니다. 0.11209600046277046\n",
      "[0079/1000] train loss: 0.07089623622596264, valid loss: 0.11145302280783653, valid accuracy: 0.951048951048951\n",
      ">>>>>> 79에서 성능이 개선되어 저장합니다. 0.11145302280783653\n",
      "[0080/1000] train loss: 0.07191734574735165, valid loss: 0.11085711792111397, valid accuracy: 0.9440559440559441\n",
      ">>>>>> 80에서 성능이 개선되어 저장합니다. 0.11085711792111397\n",
      "[0081/1000] train loss: 0.06736769899725914, valid loss: 0.11030032858252525, valid accuracy: 0.9440559440559441\n",
      ">>>>>> 81에서 성능이 개선되어 저장합니다. 0.11030032858252525\n",
      "[0082/1000] train loss: 0.06852511502802372, valid loss: 0.10976731032133102, valid accuracy: 0.9440559440559441\n",
      ">>>>>> 82에서 성능이 개선되어 저장합니다. 0.10976731032133102\n",
      "[0083/1000] train loss: 0.0638038907200098, valid loss: 0.10926230624318123, valid accuracy: 0.9440559440559441\n",
      ">>>>>> 83에서 성능이 개선되어 저장합니다. 0.10926230624318123\n",
      "[0084/1000] train loss: 0.06709067150950432, valid loss: 0.10875236243009567, valid accuracy: 0.9440559440559441\n",
      ">>>>>> 84에서 성능이 개선되어 저장합니다. 0.10875236243009567\n",
      "[0085/1000] train loss: 0.06692683324217796, valid loss: 0.10829164832830429, valid accuracy: 0.9440559440559441\n",
      ">>>>>> 85에서 성능이 개선되어 저장합니다. 0.10829164832830429\n",
      "[0086/1000] train loss: 0.06192127242684364, valid loss: 0.10784483328461647, valid accuracy: 0.951048951048951\n",
      ">>>>>> 86에서 성능이 개선되어 저장합니다. 0.10784483328461647\n",
      "[0087/1000] train loss: 0.060405828058719635, valid loss: 0.10745048895478249, valid accuracy: 0.951048951048951\n",
      ">>>>>> 87에서 성능이 개선되어 저장합니다. 0.10745048895478249\n",
      "[0088/1000] train loss: 0.06315091252326965, valid loss: 0.10708320513367653, valid accuracy: 0.951048951048951\n",
      ">>>>>> 88에서 성능이 개선되어 저장합니다. 0.10708320513367653\n",
      "[0089/1000] train loss: 0.05003814958035946, valid loss: 0.10674356296658516, valid accuracy: 0.951048951048951\n",
      ">>>>>> 89에서 성능이 개선되어 저장합니다. 0.10674356296658516\n",
      "[0090/1000] train loss: 0.051429104059934616, valid loss: 0.10638343915343285, valid accuracy: 0.951048951048951\n",
      ">>>>>> 90에서 성능이 개선되어 저장합니다. 0.10638343915343285\n",
      "[0091/1000] train loss: 0.057841990143060684, valid loss: 0.10605369508266449, valid accuracy: 0.951048951048951\n",
      ">>>>>> 91에서 성능이 개선되어 저장합니다. 0.10605369508266449\n",
      "[0092/1000] train loss: 0.05982052534818649, valid loss: 0.10572190582752228, valid accuracy: 0.951048951048951\n",
      ">>>>>> 92에서 성능이 개선되어 저장합니다. 0.10572190582752228\n",
      "[0093/1000] train loss: 0.045366691425442696, valid loss: 0.10545941069722176, valid accuracy: 0.951048951048951\n",
      ">>>>>> 93에서 성능이 개선되어 저장합니다. 0.10545941069722176\n",
      "[0094/1000] train loss: 0.056897107511758804, valid loss: 0.10520568117499352, valid accuracy: 0.951048951048951\n",
      ">>>>>> 94에서 성능이 개선되어 저장합니다. 0.10520568117499352\n",
      "[0095/1000] train loss: 0.05369513854384422, valid loss: 0.10497895628213882, valid accuracy: 0.951048951048951\n",
      ">>>>>> 95에서 성능이 개선되어 저장합니다. 0.10497895628213882\n",
      "[0096/1000] train loss: 0.04655441641807556, valid loss: 0.10475679859519005, valid accuracy: 0.951048951048951\n",
      ">>>>>> 96에서 성능이 개선되어 저장합니다. 0.10475679859519005\n",
      "[0097/1000] train loss: 0.05720380321145058, valid loss: 0.10456545650959015, valid accuracy: 0.951048951048951\n",
      ">>>>>> 97에서 성능이 개선되어 저장합니다. 0.10456545650959015\n",
      "[0098/1000] train loss: 0.04458838328719139, valid loss: 0.10438496246933937, valid accuracy: 0.951048951048951\n",
      ">>>>>> 98에서 성능이 개선되어 저장합니다. 0.10438496246933937\n",
      "[0099/1000] train loss: 0.05621223710477352, valid loss: 0.10417689383029938, valid accuracy: 0.951048951048951\n",
      ">>>>>> 99에서 성능이 개선되어 저장합니다. 0.10417689383029938\n",
      "[0100/1000] train loss: 0.053840672597289085, valid loss: 0.10395438969135284, valid accuracy: 0.951048951048951\n",
      ">>>>>> 100에서 성능이 개선되어 저장합니다. 0.10395438969135284\n",
      "[0101/1000] train loss: 0.05138269439339638, valid loss: 0.10376505553722382, valid accuracy: 0.951048951048951\n",
      ">>>>>> 101에서 성능이 개선되어 저장합니다. 0.10376505553722382\n",
      "[0102/1000] train loss: 0.05168091878294945, valid loss: 0.10358675569295883, valid accuracy: 0.951048951048951\n",
      ">>>>>> 102에서 성능이 개선되어 저장합니다. 0.10358675569295883\n",
      "[0103/1000] train loss: 0.04213877208530903, valid loss: 0.10341491177678108, valid accuracy: 0.951048951048951\n",
      ">>>>>> 103에서 성능이 개선되어 저장합니다. 0.10341491177678108\n",
      "[0104/1000] train loss: 0.053223542869091034, valid loss: 0.10324304178357124, valid accuracy: 0.951048951048951\n",
      ">>>>>> 104에서 성능이 개선되어 저장합니다. 0.10324304178357124\n",
      "[0105/1000] train loss: 0.053382523357868195, valid loss: 0.10304661467671394, valid accuracy: 0.951048951048951\n",
      ">>>>>> 105에서 성능이 개선되어 저장합니다. 0.10304661467671394\n",
      "[0106/1000] train loss: 0.0516534298658371, valid loss: 0.102860476821661, valid accuracy: 0.951048951048951\n",
      ">>>>>> 106에서 성능이 개선되어 저장합니다. 0.102860476821661\n",
      "[0107/1000] train loss: 0.05271640792489052, valid loss: 0.10270301252603531, valid accuracy: 0.951048951048951\n",
      ">>>>>> 107에서 성능이 개선되어 저장합니다. 0.10270301252603531\n",
      "[0108/1000] train loss: 0.05144466832280159, valid loss: 0.10254969447851181, valid accuracy: 0.951048951048951\n",
      ">>>>>> 108에서 성능이 개선되어 저장합니다. 0.10254969447851181\n",
      "[0109/1000] train loss: 0.05043264664709568, valid loss: 0.10241247713565826, valid accuracy: 0.951048951048951\n",
      ">>>>>> 109에서 성능이 개선되어 저장합니다. 0.10241247713565826\n",
      "[0110/1000] train loss: 0.049059608951210976, valid loss: 0.10228300467133522, valid accuracy: 0.951048951048951\n",
      ">>>>>> 110에서 성능이 개선되어 저장합니다. 0.10228300467133522\n",
      "[0111/1000] train loss: 0.05059760995209217, valid loss: 0.10213892161846161, valid accuracy: 0.951048951048951\n",
      ">>>>>> 111에서 성능이 개선되어 저장합니다. 0.10213892161846161\n",
      "[0112/1000] train loss: 0.04965272359549999, valid loss: 0.1020452082157135, valid accuracy: 0.951048951048951\n",
      ">>>>>> 112에서 성능이 개선되어 저장합니다. 0.1020452082157135\n",
      "[0113/1000] train loss: 0.048867788165807724, valid loss: 0.10195473954081535, valid accuracy: 0.951048951048951\n",
      ">>>>>> 113에서 성능이 개선되어 저장합니다. 0.10195473954081535\n",
      "[0114/1000] train loss: 0.048371730372309685, valid loss: 0.10185094177722931, valid accuracy: 0.951048951048951\n",
      ">>>>>> 114에서 성능이 개선되어 저장합니다. 0.10185094177722931\n",
      "[0115/1000] train loss: 0.0485991146415472, valid loss: 0.1017308346927166, valid accuracy: 0.951048951048951\n",
      ">>>>>> 115에서 성능이 개선되어 저장합니다. 0.1017308346927166\n",
      "[0116/1000] train loss: 0.04468625225126743, valid loss: 0.10160963609814644, valid accuracy: 0.951048951048951\n",
      ">>>>>> 116에서 성능이 개선되어 저장합니다. 0.10160963609814644\n",
      "[0117/1000] train loss: 0.04757019877433777, valid loss: 0.10147451981902122, valid accuracy: 0.951048951048951\n",
      ">>>>>> 117에서 성능이 개선되어 저장합니다. 0.10147451981902122\n",
      "[0118/1000] train loss: 0.04769044555723667, valid loss: 0.101334348320961, valid accuracy: 0.951048951048951\n",
      ">>>>>> 118에서 성능이 개선되어 저장합니다. 0.101334348320961\n",
      "[0119/1000] train loss: 0.04467660002410412, valid loss: 0.1011798195540905, valid accuracy: 0.951048951048951\n",
      ">>>>>> 119에서 성능이 개선되어 저장합니다. 0.1011798195540905\n",
      "[0120/1000] train loss: 0.046275838278234005, valid loss: 0.10103412717580795, valid accuracy: 0.951048951048951\n",
      ">>>>>> 120에서 성능이 개선되어 저장합니다. 0.10103412717580795\n",
      "[0121/1000] train loss: 0.04265765752643347, valid loss: 0.10093200206756592, valid accuracy: 0.951048951048951\n",
      ">>>>>> 121에서 성능이 개선되어 저장합니다. 0.10093200206756592\n",
      "[0122/1000] train loss: 0.031308009289205074, valid loss: 0.10085052251815796, valid accuracy: 0.951048951048951\n",
      ">>>>>> 122에서 성능이 개선되어 저장합니다. 0.10085052251815796\n",
      "[0123/1000] train loss: 0.044615646824240685, valid loss: 0.10076214745640755, valid accuracy: 0.951048951048951\n",
      ">>>>>> 123에서 성능이 개선되어 저장합니다. 0.10076214745640755\n",
      "[0124/1000] train loss: 0.04473510850220919, valid loss: 0.10065360739827156, valid accuracy: 0.951048951048951\n",
      ">>>>>> 124에서 성능이 개선되어 저장합니다. 0.10065360739827156\n",
      "[0125/1000] train loss: 0.04286889731884003, valid loss: 0.10057205334305763, valid accuracy: 0.951048951048951\n",
      ">>>>>> 125에서 성능이 개선되어 저장합니다. 0.10057205334305763\n",
      "[0126/1000] train loss: 0.04039694368839264, valid loss: 0.1004771888256073, valid accuracy: 0.951048951048951\n",
      ">>>>>> 126에서 성능이 개선되어 저장합니다. 0.1004771888256073\n",
      "[0127/1000] train loss: 0.04392269812524319, valid loss: 0.10034621506929398, valid accuracy: 0.951048951048951\n",
      ">>>>>> 127에서 성능이 개선되어 저장합니다. 0.10034621506929398\n",
      "[0128/1000] train loss: 0.04288457427173853, valid loss: 0.10021959245204926, valid accuracy: 0.951048951048951\n",
      ">>>>>> 128에서 성능이 개선되어 저장합니다. 0.10021959245204926\n",
      "[0129/1000] train loss: 0.04364316910505295, valid loss: 0.10014510527253151, valid accuracy: 0.951048951048951\n",
      ">>>>>> 129에서 성능이 개선되어 저장합니다. 0.10014510527253151\n",
      "[0130/1000] train loss: 0.042094482108950615, valid loss: 0.10000934824347496, valid accuracy: 0.951048951048951\n",
      ">>>>>> 130에서 성능이 개선되어 저장합니다. 0.10000934824347496\n",
      "[0131/1000] train loss: 0.04217160679399967, valid loss: 0.0999244973063469, valid accuracy: 0.951048951048951\n",
      ">>>>>> 131에서 성능이 개선되어 저장합니다. 0.0999244973063469\n",
      "[0132/1000] train loss: 0.04163164645433426, valid loss: 0.09983820468187332, valid accuracy: 0.951048951048951\n",
      ">>>>>> 132에서 성능이 개선되어 저장합니다. 0.09983820468187332\n",
      "[0133/1000] train loss: 0.03930683247745037, valid loss: 0.09976310282945633, valid accuracy: 0.951048951048951\n",
      ">>>>>> 133에서 성능이 개선되어 저장합니다. 0.09976310282945633\n",
      "[0134/1000] train loss: 0.0420676339417696, valid loss: 0.09964973479509354, valid accuracy: 0.951048951048951\n",
      ">>>>>> 134에서 성능이 개선되어 저장합니다. 0.09964973479509354\n",
      "[0135/1000] train loss: 0.04120846651494503, valid loss: 0.09956373646855354, valid accuracy: 0.951048951048951\n",
      ">>>>>> 135에서 성능이 개선되어 저장합니다. 0.09956373646855354\n",
      "[0136/1000] train loss: 0.029358123429119587, valid loss: 0.09951434656977654, valid accuracy: 0.951048951048951\n",
      ">>>>>> 136에서 성능이 개선되어 저장합니다. 0.09951434656977654\n",
      "[0137/1000] train loss: 0.037696899846196175, valid loss: 0.09944156929850578, valid accuracy: 0.951048951048951\n",
      ">>>>>> 137에서 성능이 개선되어 저장합니다. 0.09944156929850578\n",
      "[0138/1000] train loss: 0.03838888928294182, valid loss: 0.09935783222317696, valid accuracy: 0.951048951048951\n",
      ">>>>>> 138에서 성능이 개선되어 저장합니다. 0.09935783222317696\n",
      "[0139/1000] train loss: 0.0397394560277462, valid loss: 0.09930966049432755, valid accuracy: 0.951048951048951\n",
      ">>>>>> 139에서 성능이 개선되어 저장합니다. 0.09930966049432755\n",
      "[0140/1000] train loss: 0.03705134987831116, valid loss: 0.09921140596270561, valid accuracy: 0.951048951048951\n",
      ">>>>>> 140에서 성능이 개선되어 저장합니다. 0.09921140596270561\n",
      "[0141/1000] train loss: 0.03891097567975521, valid loss: 0.09909515082836151, valid accuracy: 0.951048951048951\n",
      ">>>>>> 141에서 성능이 개선되어 저장합니다. 0.09909515082836151\n",
      "[0142/1000] train loss: 0.03925902862101793, valid loss: 0.09902233257889748, valid accuracy: 0.951048951048951\n",
      ">>>>>> 142에서 성능이 개선되어 저장합니다. 0.09902233257889748\n",
      "[0143/1000] train loss: 0.03640865162014961, valid loss: 0.09893940761685371, valid accuracy: 0.951048951048951\n",
      ">>>>>> 143에서 성능이 개선되어 저장합니다. 0.09893940761685371\n",
      "[0144/1000] train loss: 0.03737731836736202, valid loss: 0.09892015159130096, valid accuracy: 0.951048951048951\n",
      ">>>>>> 144에서 성능이 개선되어 저장합니다. 0.09892015159130096\n",
      "[0145/1000] train loss: 0.02353573776781559, valid loss: 0.09888693317770958, valid accuracy: 0.951048951048951\n",
      ">>>>>> 145에서 성능이 개선되어 저장합니다. 0.09888693317770958\n",
      "[0146/1000] train loss: 0.03544384706765413, valid loss: 0.09886070340871811, valid accuracy: 0.951048951048951\n",
      ">>>>>> 146에서 성능이 개선되어 저장합니다. 0.09886070340871811\n",
      "[0147/1000] train loss: 0.03635662328451872, valid loss: 0.09884240850806236, valid accuracy: 0.951048951048951\n",
      ">>>>>> 147에서 성능이 개선되어 저장합니다. 0.09884240850806236\n",
      "[0148/1000] train loss: 0.03606327995657921, valid loss: 0.09884870797395706, valid accuracy: 0.951048951048951\n",
      "[0149/1000] train loss: 0.03700063284486532, valid loss: 0.09878860041499138, valid accuracy: 0.951048951048951\n",
      ">>>>>> 149에서 성능이 개선되어 저장합니다. 0.09878860041499138\n",
      "[0150/1000] train loss: 0.0371637511998415, valid loss: 0.09874008968472481, valid accuracy: 0.951048951048951\n",
      ">>>>>> 150에서 성능이 개선되어 저장합니다. 0.09874008968472481\n",
      "[0151/1000] train loss: 0.036327188834547997, valid loss: 0.09873782843351364, valid accuracy: 0.951048951048951\n",
      ">>>>>> 151에서 성능이 개선되어 저장합니다. 0.09873782843351364\n",
      "[0152/1000] train loss: 0.033591149374842644, valid loss: 0.09866486862301826, valid accuracy: 0.951048951048951\n",
      ">>>>>> 152에서 성능이 개선되어 저장합니다. 0.09866486862301826\n",
      "[0153/1000] train loss: 0.03598300088196993, valid loss: 0.09865844249725342, valid accuracy: 0.951048951048951\n",
      ">>>>>> 153에서 성능이 개선되어 저장합니다. 0.09865844249725342\n",
      "[0154/1000] train loss: 0.03523800801485777, valid loss: 0.09862854331731796, valid accuracy: 0.951048951048951\n",
      ">>>>>> 154에서 성능이 개선되어 저장합니다. 0.09862854331731796\n",
      "[0155/1000] train loss: 0.03535358980298042, valid loss: 0.09856507927179337, valid accuracy: 0.958041958041958\n",
      ">>>>>> 155에서 성능이 개선되어 저장합니다. 0.09856507927179337\n",
      "[0156/1000] train loss: 0.03497687168419361, valid loss: 0.09851909801363945, valid accuracy: 0.958041958041958\n",
      ">>>>>> 156에서 성능이 개선되어 저장합니다. 0.09851909801363945\n",
      "[0157/1000] train loss: 0.03490959666669369, valid loss: 0.09849832206964493, valid accuracy: 0.958041958041958\n",
      ">>>>>> 157에서 성능이 개선되어 저장합니다. 0.09849832206964493\n",
      "[0158/1000] train loss: 0.03314705565571785, valid loss: 0.09841198101639748, valid accuracy: 0.958041958041958\n",
      ">>>>>> 158에서 성능이 개선되어 저장합니다. 0.09841198101639748\n",
      "[0159/1000] train loss: 0.03319991193711758, valid loss: 0.09841582551598549, valid accuracy: 0.958041958041958\n",
      "[0160/1000] train loss: 0.033226821571588516, valid loss: 0.09836020693182945, valid accuracy: 0.958041958041958\n",
      ">>>>>> 160에서 성능이 개선되어 저장합니다. 0.09836020693182945\n",
      "[0161/1000] train loss: 0.03210120461881161, valid loss: 0.09835099428892136, valid accuracy: 0.958041958041958\n",
      ">>>>>> 161에서 성능이 개선되어 저장합니다. 0.09835099428892136\n",
      "[0162/1000] train loss: 0.03365898970514536, valid loss: 0.09832999482750893, valid accuracy: 0.958041958041958\n",
      ">>>>>> 162에서 성능이 개선되어 저장합니다. 0.09832999482750893\n",
      "[0163/1000] train loss: 0.033365363255143166, valid loss: 0.09832165390253067, valid accuracy: 0.958041958041958\n",
      ">>>>>> 163에서 성능이 개선되어 저장합니다. 0.09832165390253067\n",
      "[0164/1000] train loss: 0.031956033781170845, valid loss: 0.09828224405646324, valid accuracy: 0.958041958041958\n",
      ">>>>>> 164에서 성능이 개선되어 저장합니다. 0.09828224405646324\n",
      "[0165/1000] train loss: 0.03251648135483265, valid loss: 0.0981750339269638, valid accuracy: 0.958041958041958\n",
      ">>>>>> 165에서 성능이 개선되어 저장합니다. 0.0981750339269638\n",
      "[0166/1000] train loss: 0.03278557118028402, valid loss: 0.09808062389492989, valid accuracy: 0.958041958041958\n",
      ">>>>>> 166에서 성능이 개선되어 저장합니다. 0.09808062389492989\n",
      "[0167/1000] train loss: 0.022500094957649708, valid loss: 0.09795796498656273, valid accuracy: 0.958041958041958\n",
      ">>>>>> 167에서 성능이 개선되어 저장합니다. 0.09795796498656273\n",
      "[0168/1000] train loss: 0.031374938786029816, valid loss: 0.09790268167853355, valid accuracy: 0.958041958041958\n",
      ">>>>>> 168에서 성능이 개선되어 저장합니다. 0.09790268167853355\n",
      "[0169/1000] train loss: 0.03135684970766306, valid loss: 0.09775828570127487, valid accuracy: 0.958041958041958\n",
      ">>>>>> 169에서 성능이 개선되어 저장합니다. 0.09775828570127487\n",
      "[0170/1000] train loss: 0.029271691106259823, valid loss: 0.09758489206433296, valid accuracy: 0.958041958041958\n",
      ">>>>>> 170에서 성능이 개선되어 저장합니다. 0.09758489206433296\n",
      "[0171/1000] train loss: 0.031370787881314754, valid loss: 0.09744249284267426, valid accuracy: 0.958041958041958\n",
      ">>>>>> 171에서 성능이 개선되어 저장합니다. 0.09744249284267426\n",
      "[0172/1000] train loss: 0.03042765147984028, valid loss: 0.0973687693476677, valid accuracy: 0.958041958041958\n",
      ">>>>>> 172에서 성능이 개선되어 저장합니다. 0.0973687693476677\n",
      "[0173/1000] train loss: 0.03004961460828781, valid loss: 0.09728126972913742, valid accuracy: 0.958041958041958\n",
      ">>>>>> 173에서 성능이 개선되어 저장합니다. 0.09728126972913742\n",
      "[0174/1000] train loss: 0.029398122802376747, valid loss: 0.09719465300440788, valid accuracy: 0.958041958041958\n",
      ">>>>>> 174에서 성능이 개선되어 저장합니다. 0.09719465300440788\n",
      "[0175/1000] train loss: 0.028851504437625408, valid loss: 0.0970798060297966, valid accuracy: 0.958041958041958\n",
      ">>>>>> 175에서 성능이 개선되어 저장합니다. 0.0970798060297966\n",
      "[0176/1000] train loss: 0.027554750442504883, valid loss: 0.09702484682202339, valid accuracy: 0.958041958041958\n",
      ">>>>>> 176에서 성능이 개선되어 저장합니다. 0.09702484682202339\n",
      "[0177/1000] train loss: 0.027623910456895828, valid loss: 0.09703220427036285, valid accuracy: 0.958041958041958\n",
      "[0178/1000] train loss: 0.029645638540387154, valid loss: 0.09700408577919006, valid accuracy: 0.958041958041958\n",
      ">>>>>> 178에서 성능이 개선되어 저장합니다. 0.09700408577919006\n",
      "[0179/1000] train loss: 0.029460739344358444, valid loss: 0.09702582657337189, valid accuracy: 0.958041958041958\n",
      "[0180/1000] train loss: 0.028253994416445494, valid loss: 0.0970407985150814, valid accuracy: 0.958041958041958\n",
      "[0181/1000] train loss: 0.028883514925837517, valid loss: 0.09709973260760307, valid accuracy: 0.958041958041958\n",
      "[0182/1000] train loss: 0.028656844049692154, valid loss: 0.09711584076285362, valid accuracy: 0.958041958041958\n",
      "[0183/1000] train loss: 0.02741570770740509, valid loss: 0.09710248187184334, valid accuracy: 0.958041958041958\n",
      "[0184/1000] train loss: 0.027364017441868782, valid loss: 0.09706136211752892, valid accuracy: 0.958041958041958\n",
      "[0185/1000] train loss: 0.025268069934099913, valid loss: 0.09704771637916565, valid accuracy: 0.958041958041958\n",
      "[0186/1000] train loss: 0.025445781648159027, valid loss: 0.09701690450310707, valid accuracy: 0.958041958041958\n",
      "[0187/1000] train loss: 0.026715594343841076, valid loss: 0.09691061824560165, valid accuracy: 0.958041958041958\n",
      ">>>>>> 187에서 성능이 개선되어 저장합니다. 0.09691061824560165\n",
      "[0188/1000] train loss: 0.027004634961485863, valid loss: 0.0968686006963253, valid accuracy: 0.958041958041958\n",
      ">>>>>> 188에서 성능이 개선되어 저장합니다. 0.0968686006963253\n",
      "[0189/1000] train loss: 0.027322137728333473, valid loss: 0.09681446477770805, valid accuracy: 0.958041958041958\n",
      ">>>>>> 189에서 성능이 개선되어 저장합니다. 0.09681446477770805\n",
      "[0190/1000] train loss: 0.027010579593479633, valid loss: 0.09675438329577446, valid accuracy: 0.958041958041958\n",
      ">>>>>> 190에서 성능이 개선되어 저장합니다. 0.09675438329577446\n",
      "[0191/1000] train loss: 0.026423652656376362, valid loss: 0.09667805209755898, valid accuracy: 0.958041958041958\n",
      ">>>>>> 191에서 성능이 개선되어 저장합니다. 0.09667805209755898\n",
      "[0192/1000] train loss: 0.0241572386585176, valid loss: 0.09671204909682274, valid accuracy: 0.958041958041958\n",
      "[0193/1000] train loss: 0.025333091150969267, valid loss: 0.09671425819396973, valid accuracy: 0.958041958041958\n",
      "[0194/1000] train loss: 0.024829802103340626, valid loss: 0.09669158607721329, valid accuracy: 0.958041958041958\n",
      "[0195/1000] train loss: 0.025621655397117138, valid loss: 0.09668654948472977, valid accuracy: 0.958041958041958\n",
      "[0196/1000] train loss: 0.024649585597217083, valid loss: 0.09673105925321579, valid accuracy: 0.958041958041958\n",
      "[0197/1000] train loss: 0.023720095865428448, valid loss: 0.09682541713118553, valid accuracy: 0.958041958041958\n",
      "[0198/1000] train loss: 0.024316943250596523, valid loss: 0.09685012325644493, valid accuracy: 0.958041958041958\n",
      "[0199/1000] train loss: 0.024678168818354607, valid loss: 0.09693238139152527, valid accuracy: 0.958041958041958\n",
      "[0200/1000] train loss: 0.016989815048873425, valid loss: 0.0968850590288639, valid accuracy: 0.958041958041958\n",
      "[0201/1000] train loss: 0.024620622396469116, valid loss: 0.09684454649686813, valid accuracy: 0.958041958041958\n",
      "201 에폭에서 조기종료 합니다. 0.09667805209755898에서 개선되지 않음.\n",
      "걸린시간(초): 2.7450244426727295\n"
     ]
    }
   ],
   "source": [
    "import time\n",
    "\n",
    "### 모델 학습(train) 로직 작성\n",
    "#### 검증 결과 -> train loss, valid_loss, valid_accuracy\n",
    "### 모델 성능이 개선될 때 마다 저장.\n",
    "### 조기종료 - 10 epoch 동안 성능 개선이 없으면 조기종료\n",
    "\n",
    "save_path = \"saved_models/bc_model.pt\"\n",
    "best_score = torch.inf   # validation loss 기준으로 저장/조기종료 여부 확인.\n",
    "patience = 10\n",
    "trigger_cnt = 0\n",
    "\n",
    "train_losses, valid_losses, valid_acces = [], [], []\n",
    "\n",
    "s = time.time()\n",
    "for epoch in range(epochs):\n",
    "    ################### train #######################\n",
    "    b_model.train()\n",
    "    train_loss = 0.0\n",
    "    for X_train, y_train in train_loader:\n",
    "        X_train, y_train = X_train.to(device), y_train.to(device)\n",
    "        pred = b_model(X_train)  # positive일 확률\n",
    "        loss = loss_fn(pred, y_train)\n",
    "        loss.backward()\n",
    "        optimizer.step()\n",
    "        optimizer.zero_grad()\n",
    "        train_loss += loss.item()\n",
    "    train_loss /= len(train_loader)\n",
    "    train_losses.append(train_loss)\n",
    "    \n",
    "    ################### validation ##################\n",
    "    b_model.eval()\n",
    "    valid_loss = valid_acc = 0.0\n",
    "    with torch.no_grad():\n",
    "        for X_test, y_test in test_loader:\n",
    "            X_test, y_test = X_test.to(device), y_test.to(device)\n",
    "            pred_test = b_model(X_test) # positive일 확률\n",
    "            valid_loss += loss_fn(pred_test, y_test).item()\n",
    "            #  이진 분류에서 accuracy\n",
    "            valid_acc += torch.sum((pred_test > 0.5).type(torch.int32) == y_test).item()\n",
    "        valid_loss /= len(test_loader)\n",
    "        valid_acc /= len(test_loader.dataset)\n",
    "        valid_losses.append(valid_loss)\n",
    "        valid_acces.append(valid_acc)\n",
    "\n",
    "    log_template = \"[{:04d}/{}] train loss: {}, valid loss: {}, valid accuracy: {}\"\n",
    "    print(log_template.format(epoch+1, epochs, train_loss, valid_loss, valid_acc))\n",
    "    # 모델 저장, 조기종료\n",
    "    if valid_loss <  best_score: # 성능 개선\n",
    "        print(f\">>>>>> {epoch+1}에서 성능이 개선되어 저장합니다. {valid_loss}\")\n",
    "        torch.save(b_model, save_path)\n",
    "        best_score = valid_loss\n",
    "        trigger_cnt = 0\n",
    "    else:\n",
    "        trigger_cnt += 1\n",
    "        if patience == trigger_cnt:\n",
    "            print(f\"{epoch+1} 에폭에서 조기종료 합니다. {best_score}에서 개선되지 않음.\")\n",
    "            break\n",
    "\n",
    "e = time.time()\n",
    "print(\"걸린시간(초):\", e-s)"
   ]
  },
  {
   "cell_type": "code",
   "execution_count": 49,
   "metadata": {
    "id": "g9T-0Mxp6L-O"
   },
   "outputs": [
    {
     "data": {
      "text/plain": [
       "<function matplotlib.pyplot.show(close=None, block=None)>"
      ]
     },
     "execution_count": 49,
     "metadata": {},
     "output_type": "execute_result"
    },
    {
     "data": {
      "image/png": "[encoded data removed]",
      "text/plain": [
       "<Figure size 640x480 with 1 Axes>"
      ]
     },
     "metadata": {},
     "output_type": "display_data"
    }
   ],
   "source": [
    "## loss, acc 시각화\n",
    "\n",
    "plt.plot(range(len(train_losses)), train_losses, label='train_loss')\n",
    "plt.plot(range(len(valid_losses)), valid_losses, label='valid loss')\n",
    "plt.legend\n",
    "plt.show"
   ]
  },
  {
   "cell_type": "code",
   "execution_count": 50,
   "metadata": {},
   "outputs": [
    {
     "data": {
      "image/png": "[encoded data removed]",
      "text/plain": [
       "<Figure size 640x480 with 1 Axes>"
      ]
     },
     "metadata": {},
     "output_type": "display_data"
    }
   ],
   "source": [
    "plt.plot(range(len(valid_acces)), valid_acces)\n",
    "plt.show()"
   ]
  },
  {
   "cell_type": "code",
   "execution_count": 51,
   "metadata": {
    "collapsed": true,
    "id": "L03rQ4tq6L-O",
    "jupyter": {
     "outputs_hidden": true
    },
    "scrolled": true
   },
   "outputs": [
    {
     "data": {
      "text/plain": [
       "BreastCancerModel(\n",
       "  (lr1): Linear(in_features=30, out_features=32, bias=True)\n",
       "  (lr2): Linear(in_features=32, out_features=8, bias=True)\n",
       "  (lr3): Linear(in_features=8, out_features=1, bias=True)\n",
       "  (relu): ReLU()\n",
       "  (logistic): Sigmoid()\n",
       ")"
      ]
     },
     "execution_count": 51,
     "metadata": {},
     "output_type": "execute_result"
    }
   ],
   "source": [
    "best_model = torch.load(save_path, weights_only=False)\n",
    "best_model"
   ]
  },
  {
   "cell_type": "code",
   "execution_count": null,
   "metadata": {
    "id": "RjjQZpVO6L-O"
   },
   "outputs": [],
   "source": [
    "def predict_bc(model, X, device=\"cpu\"):\n",
    "    # model로 X를 추론한 결과를 반환\n",
    "    # label, 확률\n",
    "    result = []\n",
    "    with torch.no_grad():\n",
    "        pred_proba = model(X)\n",
    "        pred_class = (pred_proba > 0.5).type(torch.int32)\n",
    "        for class_index, proba in zip(pred_class, pred_proba):\n",
    "            # print(class_index, proba if class_index.item() == 1 else 1-proba)\n",
    "            result.append((class_index.item(), proba if class_index.item() == 1 else 1-proba))\n",
    "            # proba는 양성일 확률. 모델이 예측한 class가 1이면 proba를 그대로 쓰고, 모델이 예측한 class가 0 이면 1-proba를 써야한다.\n",
    "        return result"
   ]
  },
  {
   "cell_type": "code",
   "execution_count": 56,
   "metadata": {
    "id": "X2h0ZFrT6L-O"
   },
   "outputs": [],
   "source": [
    "new_data = torch.tensor(X_test_scaled[:5], dtype=torch.float32)\n",
    "# print(new_data.shape)\n",
    "result = predict_bc(best_model, new_data, device)"
   ]
  },
  {
   "cell_type": "code",
   "execution_count": 57,
   "metadata": {
    "id": "0cRm5X9x6L-O"
   },
   "outputs": [
    {
     "data": {
      "text/plain": [
       "[(1, tensor([0.9985])),\n",
       " (0, tensor([0.9999])),\n",
       " (0, tensor([0.9985])),\n",
       " (1, tensor([0.9998])),\n",
       " (0, tensor([0.9944]))]"
      ]
     },
     "execution_count": 57,
     "metadata": {},
     "output_type": "execute_result"
    }
   ],
   "source": [
    "result"
   ]
  },
  {
   "cell_type": "code",
   "execution_count": null,
   "metadata": {
    "id": "QLtT1W-g6L-O"
   },
   "outputs": [],
   "source": []
  },
  {
   "cell_type": "markdown",
   "metadata": {
    "id": "W5zRCLnD6L-O"
   },
   "source": [
    "# 모델 유형별 구현 정리\n",
    "\n",
    "## 공통\n",
    "\n",
    "-   Input layer(첫번째 Layer)의 in_features\n",
    "    -   입력데이터의 feature(속성) 개수에 맞춰준다.\n",
    "-   Hidden layer 수\n",
    "    -   경험적(art)으로 정한다.\n",
    "    -   Hidden layer에 Linear를 사용하는 경우 보통 feature 수를 줄여 나간다. (핵심 특성들을 추출해나가는 과정의 개념.)\n",
    "\n",
    "## 회귀 모델\n",
    "\n",
    "-   output layer의 출력 unit개수(out_features)\n",
    "    -   정답의 개수\n",
    "    -   ex\n",
    "        -   집값: 1\n",
    "        -   아파트가격, 단독가격, 빌라가격: 3 => y의 개수에 맞춘다.\n",
    "-   출력 Layer에 적용하는 activation 함수\n",
    "    -   일반적으로 **None**\n",
    "    -   값의 범위가 설정되 있고 그 범위의 값을 출력하는 함수가 있을 경우\n",
    "        -   ex) 0 ~ 1: logistic(Sigmoid), -1 ~ 1: hyperbolic tangent(Tanh)\n",
    "-   loss함수\n",
    "    -   MSELoss\n",
    "-   평가지표\n",
    "    -   MSE, RMSE, R square($R^2$)\n",
    "\n",
    "## 다중분류 모델\n",
    "\n",
    "-   output layer의 unit 개수\n",
    "    -   정답 class(고유값)의 개수\n",
    "-   출력 Layer에 적용하는 activation 함수\n",
    "    -   Softmax: 클래스별 확률을 출력\n",
    "-   loss함수\n",
    "    -   **categrocial crossentropy**\n",
    "    -   파이토치 함수\n",
    "        -   **CrossEntropyLoss** = NLLLoss(정답) + LogSoftmax(모델 예측값)\n",
    "        -   **NLLLoss**\n",
    "            -   정답을 OneHot Encoding 처리 후 Loss를 계산한다.\n",
    "            -   입력으로 LogSoftmax 처리한 모델 예측값과 onehot encoding 안 된 정답을 받는다.\n",
    "        -   **LogSoftmax**\n",
    "            -   입력값에 Softmax 계산후 그 Log를 계산한다.\n",
    "                -   NLLLoss의 모델 예측값 입력값으로 처리할 때 사용한다.\n",
    "\n",
    "```python\n",
    "pred = model(input)\n",
    "loss1 = nn.NLLLoss(nn.LogSoftmax(dim=-1)(pred), y)\n",
    "# or\n",
    "loss2 = nn.CrossEntropyLoss()(pred, y)\n",
    "```\n",
    "\n",
    "## 이진분류 모델\n",
    "\n",
    "-   output layer의 unit 개수\n",
    "    -   1개 (positive일 확률)\n",
    "-   출력 Layer에 적용하는 activation 함수\n",
    "    -   Sigmoid(Logistic)\n",
    "-   loss 함수\n",
    "    -   **Binary crossentropy**\n",
    "    -   파이토치 함수: **BCELoss**\n"
   ]
  }
 ],
 "metadata": {
  "colab": {
   "provenance": []
  },
  "kernelspec": {
   "display_name": "dl",
   "language": "python",
   "name": "python3"
  },
  "language_info": {
   "codemirror_mode": {
    "name": "ipython",
    "version": 3
   },
   "file_extension": ".py",
   "mimetype": "text/x-python",
   "name": "python",
   "nbconvert_exporter": "python",
   "pygments_lexer": "ipython3",
   "version": "3.12.10"
  },
  "toc": {
   "base_numbering": 1,
   "nav_menu": {},
   "number_sections": false,
   "sideBar": true,
   "skip_h1_title": false,
   "title_cell": "Table of Contents",
   "title_sidebar": "Contents",
   "toc_cell": false,
   "toc_position": {
    "height": "calc(100% - 180px)",
    "left": "10px",
    "top": "150px",
    "width": "512px"
   },
   "toc_section_display": true,
   "toc_window_display": false
  },
  "varInspector": {
   "cols": {
    "lenName": 16,
    "lenType": 16,
    "lenVar": 40
   },
   "kernels_config": {
    "python": {
     "delete_cmd_postfix": "",
     "delete_cmd_prefix": "del ",
     "library": "var_list.py",
     "varRefreshCmd": "print(var_dic_list())"
    },
    "r": {
     "delete_cmd_postfix": ") ",
     "delete_cmd_prefix": "rm(",
     "library": "var_list.r",
     "varRefreshCmd": "cat(var_dic_list()) "
    }
   },
   "types_to_exclude": [
    "module",
    "function",
    "builtin_function_or_method",
    "instance",
    "_Feature"
   ],
   "window_display": false
  }
 },
 "nbformat": 4,
 "nbformat_minor": 0
}
