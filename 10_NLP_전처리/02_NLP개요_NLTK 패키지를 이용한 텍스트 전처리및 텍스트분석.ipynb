{
 "cells": [
  {
   "cell_type": "markdown",
   "metadata": {},
   "source": [
    "# NLP(Natural Language Processing) 자연어 처리란"
   ]
  },
  {
   "cell_type": "markdown",
   "metadata": {},
   "source": [
    "## 자연어\n",
    "- 사람이 일상적으로 사용하는 언어를 말한다.\n",
    "    - 어떤 목적을 가지고 사람이 만든 것이 아니라 **자연적으로 만들어진 언어**를 말한다.\n",
    "- **인공언어**\n",
    "    - 특정 목적을 위해 사람이 인위적으로 만든 언어로 자연어의 대척점에 있는 언어 개념.\n",
    "    - 예: 프로그래밍 언어"
   ]
  },
  {
   "cell_type": "markdown",
   "metadata": {},
   "source": [
    "## 자연어 처리 (NLP)\n",
    "- 사람이 사용하는 자연어를 컴퓨터가 이해 할 수 있도록 처리하는 컴퓨터 공학의 한 분야.\n",
    "- 자연어 처리는 오래된 분야이지만, 딥러닝이 적용되면서 큰 발전을 이루었고, 특히 대규모 언어 모델(LLM)의 등장 이후로 획기적인 발전을 이루었다.\n",
    "\n",
    "### 자연어 처리 응용분야\n",
    "- **텍스트 분류(Text classification)**\n",
    "   - 입력받은 문장을 분류하는 문제로 대표적으로 감성분석(sementic analysis)가 있다.\n",
    "   - 감성분석\n",
    "       -  입력받은 텍스트가 어떤 감정의 글인지를 분류한다. 일반적으로 긍정, 중립, 부정적 인지를 분류한다.\n",
    "- **개체명인식(Named Entity Recognition)**\n",
    "   - 문장의 각 단어가 어떤 종류(의미) 인지를 찾는 문제\n",
    "   - 미국에 사는 톰은 스무살입니다. ==> 미국: 위치, 톰: 이름, 스므살: 나이\n",
    "- **품사태깅(Pos tagging)**\n",
    "   - 문장의 각 토큰의 품사를 찾는 문제\n",
    "   - 미국에 사는 톰은 스무살입니다. ==> 미국: 대명사, 에: 조사,  톰: 대명사, 은: 조사, 스무: 명사, 살: 명사, 이다: 동사\n",
    "- **문서요약**\n",
    "  - 제공 받은 문서의 내용을 요약하는 문제\n",
    "- **텍스트 생성**\n",
    "   - 주어진 문장을 기반으로 문장을 생성하는 문제\n",
    "- **대화형 시스템(Chatbot)**\n",
    "   - 입력받은 문장에 대한 답을 하는 시스템.\n",
    "   - Encoder는 질문을 받아 처리하고 Decoder는 답변을 생성하는 seq2seq 구조를 사용한다.\n",
    "- **기계번역(Machine translation)**\n",
    "   - 번역 시스템\n",
    "   - Encoder는 번역 대상문장을 입력받아 처리하고 Decoder는 번역 문장을 생성하는 seq2seq 구조를 사용한다.\n"
   ]
  },
  {
   "cell_type": "markdown",
   "metadata": {},
   "source": [
    "## 용어\n",
    "- **말뭉치(corpus, corpora)**: NLP 머신러닝 모델을 학습 시키기 위한  자연어 데이터 셋.\n",
    "- **어간(stem)**\n",
    "\t- 어간은 접미사나 다른 변화 형태가 추가되기 전의 **단어 기본 형태**를 말한다. 즉 활용시 변하지 않는 부분을 말한다.\n",
    "\t- **view** + ing, **view** + er\n",
    "\t- **먹** + 습니다.  **먹** + 었다.  **먹** + 고\n",
    "\t- **예쁘**  + 다, **예쁘**+ 고, **예쁘** + 지만, **예쁘**+ 어서(예뻐서)\n",
    "- **어미**\n",
    "\t- 어미는  어간(주로  용언-동사,형용사) 뒤에 붙어서 단어의 문법적 기능이나 의미를 구체화하는 요소.\n",
    "\t- walked: walk+**ed**: 과거시제, run+**s**: 3인칭 단수 주어의 동사에 붙는 어미.\n",
    "\t- 먹 + **었다**,  먹 + **다**, 갔습니까? : 가 + **ㅆ습니까?**\n",
    "- **조사**\n",
    "\t- 조사는 체언(명사, 대명사) 뒤에 붙어 그 단어의 문법적인 기능이나 관계(예: 주체, 목적, 소유, 방향 등)를 나타내는 요소.\n",
    "\t- 학교 + **에서** (장소를 나타내는 조사), 책+**을** 읽다. (목적어를 타나내는 조사.), 우리+**가** 간다. (주어를 나타내는 조사)\n",
    "- **어절(word segment)**\n",
    "\t- 문장 성분의 최소 단위로 띄어 쓰기의 기준이 된다. \n",
    "\t- 나는 학교에 간다. -> \"**나는**\", \"**학교에**\", \"**간다**\"\t\n",
    "- **형태소(morpheme)**: 의미(뜻)을 가진 가장 작은 언어의 단위, 더 이상 나눌 수 없는 언어의 조각 단위. 형태소는 그 자체로 의미를 가지며 단어를 형성하거나 변형 시키는데 사용한다.\n",
    "\t- 자립 형태소:  명사, 동사, 형용사 같이 독립적으로 사용될 수 있는 형태소\n",
    "\t\t- 나, 너, 택시, 가다, you, have\n",
    "\t- 의존 형태소: 조사, 접미사, 접두사 같이 다른 형태소와 결합해서 사용 되야 하는 형태소.\n",
    "\t\t- \\~의, \\~가, un\\~, \\~able\n",
    "\n",
    "> - **어간과 형태소의 차이**\n",
    "> \t-  **형태소**는 언어의 의미를 가진 최소 단위.   \n",
    "> \t  **어간**은 특정 단어에서 그 단어의 핵심 의미를 담은 부분. 형태소에서 주로 자립 형태소에 해당하고 어미와 같은 의존 형태소가 결합하여 문법적 기능이나 형태를 변화시킬 수 있다.\n",
    "> \t-  **형태소**는 의미를 구성하는 기본 단위로서의 역할을 하며, **어간**은 특히 단어를 형성하고 변형 시키는 기반으로서의 역할을 한다.\n",
    "\n",
    "> - **언어 형태 유형 종류**\n",
    ">     - **교착어**    \n",
    ">         - **정의**: 교착어는 단어에 하나 이상의 접사가 추가되어 새로운 의미나 문법적 기능을 형성하는 언어\n",
    ">         \t- 예) \"책\"\n",
    ">         \t\t- 책이\n",
    ">         \t\t- 책의\n",
    ">         \t\t- 책에\n",
    ">         \t\t- 책을\n",
    ">         - **주요 언어**: 한국어, 몽골어, 튀르키예어, 우랄어족(핀란드어, 헝가리어) 등\n",
    ">     \n",
    ">     - **굴절어**\n",
    ">         - **정의**: 굴절어는 단어 내의 모음이나 자음의 변화로 문법적 기능을 나타내는 언어이다. 이 변화는 단어의 뜻을 변경하지 않으면서도 시제, 인칭, 수, 성 등을 표현할 수 있다.\n",
    ">         \t- 단어 내의 변화로 문법적 기능을 표현.\n",
    ">         - 예) 라틴어에서 \"liber\"는 책을 의미\n",
    ">         \t-  **liber** (단수 주격, 남성) - \"책이/책은\"\n",
    ">         \t- **libri** (단수 소유격, 남성) - \"책의\"\n",
    ">         \t- **libro** (단수 여격, 남성) - \"책에\"\n",
    ">         \t- **librum** (단수 목적격, 남성) - \"책을\"\n",
    ">         - **주요 언어**: 라틴어, 그리스어, 이탈리아어, 스페인어, 독일어, 러시아어, 힌디어 등\n",
    ">     \n",
    ">     - **고립어**\n",
    ">         - **정의**: 어형 변화나 접사가 없고 위치에 의해서 단어가 문장 속에서 가지는 여러가지 관계가 결정되는 언어. 분석어, 위치어라고도 한다.\n",
    ">         - **주요 언어**: 영어, 중국어, 베트남어, 태국어 "
   ]
  },
  {
   "cell_type": "code",
   "execution_count": null,
   "metadata": {},
   "outputs": [],
   "source": []
  },
  {
   "cell_type": "markdown",
   "metadata": {},
   "source": [
    "# 자연어 처리 모델링 프로세스\n",
    "\n",
    "1. **데이터 수집**\n",
    "    - **Corpus(말뭉치)**: 자연어 학습을 위해 수집한 언어 표본 집합을 \"말뭉치\" 또는 \"Corpus\"라고 한다.\n",
    "    - **수집 방법**\n",
    "        - 공개 데이터 사용\n",
    "        - 데이터 구매\n",
    "        - 웹 크롤링\n",
    "\n",
    "2. **텍스트 전처리**\n",
    "     - 분석 목적에 맞게 텍스트를 전처리한다.\n",
    "     - **정제 (Cleaning)**\n",
    "       - 문서 내 노이즈(불필요한 문자, 기호, 빈도가 낮은 단어 등)를 제거한다.\n",
    "       - 불용어(Stop word) 제거: 분석에 불필요한 단어(예: \"의\", \"에\", \"은\" 등)를 삭제하여 모델 성능을 향상시킨다.\n",
    "     - **정규화 (Normalization)**\n",
    "       - 같은 의미의 단어들을 하나의 형태로 통일한다. (예: \"말하다\", \"말하면\", \"말하기\" → \"말\")\n",
    "       - **주요 기법**\n",
    "         - 어간 추출 (Stemming), 원형 복원 (Lemmatization), 형태소 분석\n",
    "\n",
    "3. **텍스트 토큰화**\n",
    "    - 문서의 텍스트를 분석하기 위해 최소 단위로 나누는 작업이다.\n",
    "    - 보통 단어 단위나 글자 단위로 나누며, 토큰을 기계가 이해할 수 있도록 정수 형태로 변환한다.\n",
    "\n",
    "4. **임베딩**\n",
    "    - 각 토큰(단어)의 의미나 특성을 보다 잘 표현할 수 있도록 단어를 고차원 벡터로 변환한다.\n",
    "    - Feature Extraction(특성 추출)과정이라고 볼 수 있다.\n",
    "    - 빈도수 기반 통계적 방식과 뉴럴 네트워크를 이용한 학습 방식이 있다.\n",
    "    - **주요 기법**\n",
    "      - TF-IDF, Word2Vec, FastText\n",
    "\n",
    "5. **모델링**\n",
    "    - 임베딩된 데이터를 입력으로 받아 자연어 관련 문제를 해결하는 머신러닝 또는 딥러닝 모델을 구현한다."
   ]
  },
  {
   "cell_type": "code",
   "execution_count": null,
   "metadata": {},
   "outputs": [],
   "source": []
  },
  {
   "cell_type": "markdown",
   "metadata": {},
   "source": [
    "# Text 전처리\n",
    "\n",
    "## 다양한 text 전처리 패키지(Library)\n",
    "### 영문\n",
    "- [NLTK](https://www.nltk.org/)\n",
    "- [spaCy](https://spacy.io/)\n",
    "### 한글\n",
    "- [KoNLPy](https://konlpy.org/ko/latest/)\n",
    "- [KiwiPiePy](https://github.com/bab2min/kiwipiepy)\n",
    "- [soynlp](https://github.com/lovit/soynlp)"
   ]
  },
  {
   "cell_type": "markdown",
   "metadata": {},
   "source": [
    "# NLTK \n",
    "- Natural Language ToolKit\n",
    "- https://www.nltk.org/\n",
    "- 자연어 처리를 위한 대표적인 파이썬 패키지. 한국어는 지원하지 않는다.\n",
    "\n",
    "## NLTK 설치\n",
    "- nltk 패키지 설치\n",
    "    - `pip install nltk`\n",
    "- NLTK 추가 패키지 설치\n",
    "```python\n",
    "import nltk\n",
    "nltk.download() # 설치 GUI 프로그램 실행을 실행해 다운로드\n",
    "nltk.download('패키지명')\n",
    "```"
   ]
  },
  {
   "cell_type": "code",
   "execution_count": null,
   "metadata": {},
   "outputs": [
    {
     "name": "stdout",
     "output_type": "stream",
     "text": [
      "Collecting nltk\n",
      "  Downloading nltk-3.9.1-py3-none-any.whl.metadata (2.9 kB)\n",
      "Collecting click (from nltk)\n",
      "  Downloading click-8.2.1-py3-none-any.whl.metadata (2.5 kB)\n",
      "Requirement already satisfied: joblib in c:\\users\\playdata\\appdata\\local\\miniconda3\\envs\\dl\\lib\\site-packages (from nltk) (1.5.0)\n",
      "Collecting regex>=2021.8.3 (from nltk)\n",
      "  Downloading regex-2024.11.6-cp312-cp312-win_amd64.whl.metadata (41 kB)\n",
      "Requirement already satisfied: tqdm in c:\\users\\playdata\\appdata\\local\\miniconda3\\envs\\dl\\lib\\site-packages (from nltk) (4.67.1)\n",
      "Requirement already satisfied: colorama in c:\\users\\playdata\\appdata\\local\\miniconda3\\envs\\dl\\lib\\site-packages (from click->nltk) (0.4.6)\n",
      "Downloading nltk-3.9.1-py3-none-any.whl (1.5 MB)\n",
      "   ---------------------------------------- 0.0/1.5 MB ? eta -:--:--\n",
      "   ---------------------------------------- 1.5/1.5 MB 40.1 MB/s eta 0:00:00\n",
      "Downloading regex-2024.11.6-cp312-cp312-win_amd64.whl (273 kB)\n",
      "Downloading click-8.2.1-py3-none-any.whl (102 kB)\n",
      "Installing collected packages: regex, click, nltk\n",
      "\n",
      "   ---------------------------------------- 0/3 [regex]\n",
      "   ---------------------------------------- 0/3 [regex]\n",
      "   ------------- -------------------------- 1/3 [click]\n",
      "   ------------- -------------------------- 1/3 [click]\n",
      "   ------------- -------------------------- 1/3 [click]\n",
      "   ------------- -------------------------- 1/3 [click]\n",
      "   -------------------------- ------------- 2/3 [nltk]\n",
      "   -------------------------- ------------- 2/3 [nltk]\n",
      "   -------------------------- ------------- 2/3 [nltk]\n",
      "   -------------------------- ------------- 2/3 [nltk]\n",
      "   -------------------------- ------------- 2/3 [nltk]\n",
      "   -------------------------- ------------- 2/3 [nltk]\n",
      "   -------------------------- ------------- 2/3 [nltk]\n",
      "   -------------------------- ------------- 2/3 [nltk]\n",
      "   -------------------------- ------------- 2/3 [nltk]\n",
      "   -------------------------- ------------- 2/3 [nltk]\n",
      "   -------------------------- ------------- 2/3 [nltk]\n",
      "   -------------------------- ------------- 2/3 [nltk]\n",
      "   -------------------------- ------------- 2/3 [nltk]\n",
      "   -------------------------- ------------- 2/3 [nltk]\n",
      "   -------------------------- ------------- 2/3 [nltk]\n",
      "   -------------------------- ------------- 2/3 [nltk]\n",
      "   -------------------------- ------------- 2/3 [nltk]\n",
      "   -------------------------- ------------- 2/3 [nltk]\n",
      "   -------------------------- ------------- 2/3 [nltk]\n",
      "   -------------------------- ------------- 2/3 [nltk]\n",
      "   -------------------------- ------------- 2/3 [nltk]\n",
      "   -------------------------- ------------- 2/3 [nltk]\n",
      "   -------------------------- ------------- 2/3 [nltk]\n",
      "   -------------------------- ------------- 2/3 [nltk]\n",
      "   -------------------------- ------------- 2/3 [nltk]\n",
      "   -------------------------- ------------- 2/3 [nltk]\n",
      "   -------------------------- ------------- 2/3 [nltk]\n",
      "   -------------------------- ------------- 2/3 [nltk]\n",
      "   -------------------------- ------------- 2/3 [nltk]\n",
      "   -------------------------- ------------- 2/3 [nltk]\n",
      "   -------------------------- ------------- 2/3 [nltk]\n",
      "   -------------------------- ------------- 2/3 [nltk]\n",
      "   -------------------------- ------------- 2/3 [nltk]\n",
      "   -------------------------- ------------- 2/3 [nltk]\n",
      "   -------------------------- ------------- 2/3 [nltk]\n",
      "   -------------------------- ------------- 2/3 [nltk]\n",
      "   -------------------------- ------------- 2/3 [nltk]\n",
      "   -------------------------- ------------- 2/3 [nltk]\n",
      "   -------------------------- ------------- 2/3 [nltk]\n",
      "   -------------------------- ------------- 2/3 [nltk]\n",
      "   -------------------------- ------------- 2/3 [nltk]\n",
      "   -------------------------- ------------- 2/3 [nltk]\n",
      "   -------------------------- ------------- 2/3 [nltk]\n",
      "   -------------------------- ------------- 2/3 [nltk]\n",
      "   -------------------------- ------------- 2/3 [nltk]\n",
      "   -------------------------- ------------- 2/3 [nltk]\n",
      "   -------------------------- ------------- 2/3 [nltk]\n",
      "   -------------------------- ------------- 2/3 [nltk]\n",
      "   -------------------------- ------------- 2/3 [nltk]\n",
      "   -------------------------- ------------- 2/3 [nltk]\n",
      "   -------------------------- ------------- 2/3 [nltk]\n",
      "   -------------------------- ------------- 2/3 [nltk]\n",
      "   -------------------------- ------------- 2/3 [nltk]\n",
      "   -------------------------- ------------- 2/3 [nltk]\n",
      "   -------------------------- ------------- 2/3 [nltk]\n",
      "   -------------------------- ------------- 2/3 [nltk]\n",
      "   -------------------------- ------------- 2/3 [nltk]\n",
      "   -------------------------- ------------- 2/3 [nltk]\n",
      "   -------------------------- ------------- 2/3 [nltk]\n",
      "   -------------------------- ------------- 2/3 [nltk]\n",
      "   -------------------------- ------------- 2/3 [nltk]\n",
      "   -------------------------- ------------- 2/3 [nltk]\n",
      "   -------------------------- ------------- 2/3 [nltk]\n",
      "   -------------------------- ------------- 2/3 [nltk]\n",
      "   -------------------------- ------------- 2/3 [nltk]\n",
      "   -------------------------- ------------- 2/3 [nltk]\n",
      "   -------------------------- ------------- 2/3 [nltk]\n",
      "   -------------------------- ------------- 2/3 [nltk]\n",
      "   -------------------------- ------------- 2/3 [nltk]\n",
      "   -------------------------- ------------- 2/3 [nltk]\n",
      "   -------------------------- ------------- 2/3 [nltk]\n",
      "   -------------------------- ------------- 2/3 [nltk]\n",
      "   -------------------------- ------------- 2/3 [nltk]\n",
      "   -------------------------- ------------- 2/3 [nltk]\n",
      "   -------------------------- ------------- 2/3 [nltk]\n",
      "   -------------------------- ------------- 2/3 [nltk]\n",
      "   -------------------------- ------------- 2/3 [nltk]\n",
      "   -------------------------- ------------- 2/3 [nltk]\n",
      "   -------------------------- ------------- 2/3 [nltk]\n",
      "   -------------------------- ------------- 2/3 [nltk]\n",
      "   -------------------------- ------------- 2/3 [nltk]\n",
      "   -------------------------- ------------- 2/3 [nltk]\n",
      "   -------------------------- ------------- 2/3 [nltk]\n",
      "   -------------------------- ------------- 2/3 [nltk]\n",
      "   ---------------------------------------- 3/3 [nltk]\n",
      "\n",
      "Successfully installed click-8.2.1 nltk-3.9.1 regex-2024.11.6\n",
      "Note: you may need to restart the kernel to use updated packages.\n"
     ]
    }
   ],
   "source": [
    "# %pip install nltk"
   ]
  },
  {
   "cell_type": "markdown",
   "metadata": {},
   "source": [
    "## NLTK 주요기능\n",
    "\n",
    "- ### 텍스트 토큰화/정규화/전처리등 처리를 위한 기능 제공\n",
    "    - 토큰화(Tokenization)\n",
    "    - Stop word(불용어) 제공\n",
    "    - 형태소 분석\n",
    "        - 형태소\n",
    "            - 의미가 있는 가장 작은 말의 단위\n",
    "        - 형태소 분석\n",
    "            - 말뭉치에서 의미있는(분석시 필요한) 형태소들만 추출하는 것           \n",
    "        - 어간추출(Stemming)\n",
    "        - 원형복원(Lemmatization)\n",
    "        - 품사부착(POS tagging - Part Of Speech)\n",
    "        \n",
    "- ### 텍스트 분석 기능을 제공"
   ]
  },
  {
   "cell_type": "code",
   "execution_count": 42,
   "metadata": {},
   "outputs": [
    {
     "name": "stdout",
     "output_type": "stream",
     "text": [
      "showing info https://raw.githubusercontent.com/nltk/nltk_data/gh-pages/index.xml\n"
     ]
    },
    {
     "data": {
      "text/plain": [
       "True"
      ]
     },
     "execution_count": 42,
     "metadata": {},
     "output_type": "execute_result"
    }
   ],
   "source": [
    "import nltk\n",
    "nltk.download()"
   ]
  },
  {
   "cell_type": "code",
   "execution_count": 12,
   "metadata": {},
   "outputs": [
    {
     "name": "stderr",
     "output_type": "stream",
     "text": [
      "[nltk_data] Downloading package punkt_tab to\n",
      "[nltk_data]     C:\\Users\\Playdata\\AppData\\Roaming\\nltk_data...\n",
      "[nltk_data]   Unzipping tokenizers\\punkt_tab.zip.\n"
     ]
    },
    {
     "data": {
      "text/plain": [
       "True"
      ]
     },
     "execution_count": 12,
     "metadata": {},
     "output_type": "execute_result"
    }
   ],
   "source": [
    "import nltk\n",
    "nltk.download('punkt_tab')"
   ]
  },
  {
   "cell_type": "markdown",
   "metadata": {},
   "source": [
    "# NLTK 텍스트 정규화 기본 문법\n",
    "\n",
    "## Tokenization (토큰화)\n",
    "\n",
    "- 문자열을 분석의 최소단위(Token)으로 나누는 작업.\n",
    "- 글자단위, 단어단위, 형태소 단위, 문장단위 등 다양 방식으로 나눌 수있다.\n",
    "- 분석을 위해 문서를 작은 단위로 나누는 작업.\n",
    "- **주요 Tokenizer (함수)**\n",
    "    - **sent_tokenize()** : 문장단위로 나눠준다.\n",
    "    - **word_tokenize()** : 단어단위로 나눠준다.\n",
    "    - **regexp_tokenize()** : 토큰의 단위를 정규표현식으로 지정\n",
    "        - regular expression\n",
    "    - return: 분리된 토큰들을 원소로 하는 list"
   ]
  },
  {
   "cell_type": "code",
   "execution_count": 1,
   "metadata": {},
   "outputs": [
    {
     "name": "stdout",
     "output_type": "stream",
     "text": [
      "The Zen of Python, by Tim Peters\n",
      "\n",
      "Beautiful is better than ugly.\n",
      "Explicit is better than implicit.\n",
      "Simple is better than complex.\n",
      "Complex is better than complicated.\n",
      "Flat is better than nested.\n",
      "Sparse is better than dense.\n",
      "Readability counts.\n",
      "Special cases aren't special enough to break the rules.\n",
      "Although practicality beats purity.\n",
      "Errors should never pass silently.\n",
      "Unless explicitly silenced.\n",
      "In the face of ambiguity, refuse the temptation to guess.\n",
      "There should be one-- and preferably only one --obvious way to do it.\n",
      "Although that way may not be obvious at first unless you're Dutch.\n",
      "Now is better than never.\n",
      "Although never is often better than *right* now.\n",
      "If the implementation is hard to explain, it's a bad idea.\n",
      "If the implementation is easy to explain, it may be a good idea.\n",
      "Namespaces are one honking great idea -- let's do more of those!\n"
     ]
    }
   ],
   "source": [
    "import this"
   ]
  },
  {
   "cell_type": "code",
   "execution_count": 2,
   "metadata": {},
   "outputs": [],
   "source": [
    "text_sample = \"\"\"Beautiful is better than ugly.\n",
    "Explicit is better than implicit.\n",
    "Simple is better than complex.\n",
    "Complex is better than complicated.\n",
    "Flat is better than nested.\n",
    "Sparse is better than dense.\n",
    "Readability counts.\n",
    "Special cases aren't special enough to break the rules.\n",
    "Although practicality beats purity.\n",
    "Errors should never pass silently.\n",
    "Unless explicitly silenced.\n",
    "In the face of ambiguity, refuse the temptation to guess.\n",
    "There should be one-- and preferably only one --obvious way to do it.\n",
    "Although that way may not be obvious at first unless you're Dutch.\n",
    "Now is better than never.\n",
    "Although never is often better than *right* now.\n",
    "If the implementation is hard to explain, it's a bad idea.\n",
    "If the implementation is easy to explain, it may be a good idea.\n",
    "Namespaces are one honking great idea -- let's do more of those!\"\"\""
   ]
  },
  {
   "cell_type": "code",
   "execution_count": 3,
   "metadata": {},
   "outputs": [
    {
     "name": "stdout",
     "output_type": "stream",
     "text": [
      "['Beautiful is better than ugly.', 'Explicit is better than implicit.', 'Simple is better than complex.', 'Complex is better than complicated.', 'Flat is better than nested.', 'Sparse is better than dense.', 'Readability counts.', \"Special cases aren't special enough to break the rules.\", 'Although practicality beats purity.', 'Errors should never pass silently.', 'Unless explicitly silenced.', 'In the face of ambiguity, refuse the temptation to guess.', 'There should be one-- and preferably only one --obvious way to do it.', \"Although that way may not be obvious at first unless you're Dutch.\", 'Now is better than never.', 'Although never is often better than *right* now.', \"If the implementation is hard to explain, it's a bad idea.\", 'If the implementation is easy to explain, it may be a good idea.', \"Namespaces are one honking great idea -- let's do more of those!\"] 19\n",
      "['Beautiful', 'is', 'better', 'than', 'ugly', '.', 'Explicit', 'is', 'better', 'than', 'implicit', '.', 'Simple', 'is', 'better', 'than', 'complex', '.', 'Complex', 'is', 'better', 'than', 'complicated', '.', 'Flat', 'is', 'better', 'than', 'nested', '.', 'Sparse', 'is', 'better', 'than', 'dense', '.', 'Readability', 'counts', '.', 'Special', 'cases', 'are', \"n't\", 'special', 'enough', 'to', 'break', 'the', 'rules', '.', 'Although', 'practicality', 'beats', 'purity', '.', 'Errors', 'should', 'never', 'pass', 'silently', '.', 'Unless', 'explicitly', 'silenced', '.', 'In', 'the', 'face', 'of', 'ambiguity', ',', 'refuse', 'the', 'temptation', 'to', 'guess', '.', 'There', 'should', 'be', 'one', '--', 'and', 'preferably', 'only', 'one', '--', 'obvious', 'way', 'to', 'do', 'it', '.', 'Although', 'that', 'way', 'may', 'not', 'be', 'obvious', 'at', 'first', 'unless', 'you', \"'re\", 'Dutch', '.', 'Now', 'is', 'better', 'than', 'never', '.', 'Although', 'never', 'is', 'often', 'better', 'than', '*', 'right', '*', 'now', '.', 'If', 'the', 'implementation', 'is', 'hard', 'to', 'explain', ',', 'it', \"'s\", 'a', 'bad', 'idea', '.', 'If', 'the', 'implementation', 'is', 'easy', 'to', 'explain', ',', 'it', 'may', 'be', 'a', 'good', 'idea', '.', 'Namespaces', 'are', 'one', 'honking', 'great', 'idea', '--', 'let', \"'s\", 'do', 'more', 'of', 'those', '!'] 167\n"
     ]
    }
   ],
   "source": [
    "import nltk\n",
    "\n",
    "# 문장단위 토큰화\n",
    "sent_list = nltk.sent_tokenize(text_sample)\n",
    "print(sent_list, len(sent_list))\n",
    "\n",
    "# 단어단위 토큰화\n",
    "word_list = nltk.word_tokenize(text_sample)\n",
    "print(word_list, len(word_list))"
   ]
  },
  {
   "cell_type": "code",
   "execution_count": 4,
   "metadata": {},
   "outputs": [],
   "source": [
    "txt1 = \"Many of life’s failures are people who didn't realize how close they were to success when they gave up.\"\n",
    "txt2 = \"Starting a home-based restaurant may be an ideal. it doesn't have a food chain or restaurant of their own.\""
   ]
  },
  {
   "cell_type": "code",
   "execution_count": 5,
   "metadata": {},
   "outputs": [
    {
     "data": {
      "text/plain": [
       "['Many',\n",
       " 'of',\n",
       " 'life',\n",
       " '’',\n",
       " 's',\n",
       " 'failures',\n",
       " 'are',\n",
       " 'people',\n",
       " 'who',\n",
       " 'did',\n",
       " \"n't\",\n",
       " 'realize',\n",
       " 'how',\n",
       " 'close',\n",
       " 'they',\n",
       " 'were',\n",
       " 'to',\n",
       " 'success',\n",
       " 'when',\n",
       " 'they',\n",
       " 'gave',\n",
       " 'up',\n",
       " '.']"
      ]
     },
     "execution_count": 5,
     "metadata": {},
     "output_type": "execute_result"
    }
   ],
   "source": [
    "word_token = nltk.word_tokenize(txt1)\n",
    "word_token      # life ' s 분리 | did n't 분리"
   ]
  },
  {
   "cell_type": "code",
   "execution_count": 6,
   "metadata": {},
   "outputs": [
    {
     "data": {
      "text/plain": [
       "['Many',\n",
       " 'of',\n",
       " 'life',\n",
       " 's',\n",
       " 'failures',\n",
       " 'are',\n",
       " 'people',\n",
       " 'who',\n",
       " 'didn',\n",
       " 't',\n",
       " 'realize',\n",
       " 'how',\n",
       " 'close',\n",
       " 'they',\n",
       " 'were',\n",
       " 'to',\n",
       " 'success',\n",
       " 'when',\n",
       " 'they',\n",
       " 'gave',\n",
       " 'up']"
      ]
     },
     "execution_count": 6,
     "metadata": {},
     "output_type": "execute_result"
    }
   ],
   "source": [
    "word_tokens2 = nltk.regexp_tokenize(\n",
    "    txt1,               # 토큰화할 대상 문서\n",
    "    r'[a-zA-Z0-9\\-]+',  # 토큰의 패턴 - 공백, ', 구두점 등등 제외 \n",
    ")\n",
    "word_tokens2"
   ]
  },
  {
   "cell_type": "code",
   "execution_count": 19,
   "metadata": {},
   "outputs": [],
   "source": [
    "# Penn Treebank 토큰화 - word 단위 토큰화의 한 종류 \n",
    "## 규칙1:  하이픈(-) 으로 구성된 것은 하나의 토큰으로 유지 \"home-base\"\n",
    "## 규칙2:  didn't  접어를 이용해서 축약한 경우는 분할 해준다. - 명사's 제외 동사't 등 제외"
   ]
  },
  {
   "cell_type": "code",
   "execution_count": null,
   "metadata": {},
   "outputs": [
    {
     "data": {
      "text/plain": [
       "['Many',\n",
       " 'of',\n",
       " 'life’s',\n",
       " 'failures',\n",
       " 'are',\n",
       " 'people',\n",
       " 'who',\n",
       " 'did',\n",
       " \"n't\",\n",
       " 'realize',\n",
       " 'how',\n",
       " 'close',\n",
       " 'they',\n",
       " 'were',\n",
       " 'to',\n",
       " 'success',\n",
       " 'when',\n",
       " 'they',\n",
       " 'gave',\n",
       " 'up',\n",
       " '.']"
      ]
     },
     "execution_count": 20,
     "metadata": {},
     "output_type": "execute_result"
    }
   ],
   "source": [
    "tokenizer = nltk.TreebankWordTokenizer()    # 부정- n't는 분리 / life's 분리 x\n",
    "word_token3 = tokenizer.tokenize(txt1)\n",
    "word_token3     # life's 하나의 단어 처리 "
   ]
  },
  {
   "cell_type": "markdown",
   "metadata": {},
   "source": [
    "## Stopword (불용어)\n",
    "- 분석에 필요 없는 단어들을 말한다.\n",
    "    - 문장내에서는 많이 사용되지만 문장의 전체 맥락이나 내용 파악에는 필요 없는 단어들을 말한다.\n",
    "    - 많이 나오기 때문에 중요한 단어로 인식 할 수 있다. 그래서 제거하는 것이 좋다.\n",
    "    - 대표적인 불용어들은 조사, 접미사, 접속사, 대명사 등이 있다. \n",
    "-  실제 분석 대상에 맞게 Stop word 목록을 만들어서 사용한다. \n",
    "    - 보통 불용어로 사용할 단어들을 text 파일에 저장해 놓고 필요할 때 loading 해서 사용한다.\n",
    "    - nltk는 언어별로 일반적인 Stop word 사전을 제공."
   ]
  },
  {
   "cell_type": "code",
   "execution_count": 23,
   "metadata": {},
   "outputs": [
    {
     "name": "stderr",
     "output_type": "stream",
     "text": [
      "[nltk_data] Downloading package stopwords to\n",
      "[nltk_data]     C:\\Users\\Playdata\\AppData\\Roaming\\nltk_data...\n",
      "[nltk_data]   Unzipping corpora\\stopwords.zip.\n"
     ]
    },
    {
     "data": {
      "text/plain": [
       "True"
      ]
     },
     "execution_count": 23,
     "metadata": {},
     "output_type": "execute_result"
    }
   ],
   "source": [
    "import nltk\n",
    "nltk.download('stopwords')"
   ]
  },
  {
   "cell_type": "code",
   "execution_count": 8,
   "metadata": {},
   "outputs": [
    {
     "data": {
      "text/plain": [
       "<WordListCorpusReader in 'C:\\\\Users\\\\Playdata\\\\AppData\\\\Roaming\\\\nltk_data\\\\corpora\\\\stopwords'>"
      ]
     },
     "execution_count": 8,
     "metadata": {},
     "output_type": "execute_result"
    }
   ],
   "source": [
    "# nltk에서 제공하는 불용어 사전\n",
    "from nltk.corpus import stopwords\n",
    "stopwords"
   ]
  },
  {
   "cell_type": "code",
   "execution_count": 9,
   "metadata": {},
   "outputs": [
    {
     "data": {
      "text/plain": [
       "['albanian',\n",
       " 'arabic',\n",
       " 'azerbaijani',\n",
       " 'basque',\n",
       " 'belarusian',\n",
       " 'bengali',\n",
       " 'catalan',\n",
       " 'chinese',\n",
       " 'danish',\n",
       " 'dutch',\n",
       " 'english',\n",
       " 'finnish',\n",
       " 'french',\n",
       " 'german',\n",
       " 'greek',\n",
       " 'hebrew',\n",
       " 'hinglish',\n",
       " 'hungarian',\n",
       " 'indonesian',\n",
       " 'italian',\n",
       " 'kazakh',\n",
       " 'nepali',\n",
       " 'norwegian',\n",
       " 'portuguese',\n",
       " 'romanian',\n",
       " 'russian',\n",
       " 'slovene',\n",
       " 'spanish',\n",
       " 'swedish',\n",
       " 'tajik',\n",
       " 'tamil',\n",
       " 'turkish']"
      ]
     },
     "execution_count": 9,
     "metadata": {},
     "output_type": "execute_result"
    }
   ],
   "source": [
    "# 불용어사전을 제공하는 언어 목록 - nltk는 영어용이라 한국어 불용어 사전은 없어....\n",
    "stopwords.fileids() "
   ]
  },
  {
   "cell_type": "code",
   "execution_count": 10,
   "metadata": {},
   "outputs": [
    {
     "data": {
      "text/plain": [
       "198"
      ]
     },
     "execution_count": 10,
     "metadata": {},
     "output_type": "execute_result"
    }
   ],
   "source": [
    "# 특정 언어의 불용어 사전 조회\n",
    "stopword_list = stopwords.words('english')\n",
    "len(stopword_list)"
   ]
  },
  {
   "cell_type": "code",
   "execution_count": 11,
   "metadata": {},
   "outputs": [
    {
     "name": "stdout",
     "output_type": "stream",
     "text": [
      "True\n",
      "False\n"
     ]
    }
   ],
   "source": [
    "# 특정 토큰이 불용어인지 확인\n",
    "print('i' in stopword_list)\n",
    "print('korea' in stopword_list)"
   ]
  },
  {
   "cell_type": "markdown",
   "metadata": {},
   "source": [
    "## 단어 사전 만들기\n",
    "- 불용어는 제거되어있지만 아직 단어의 의미를 기준으로 나누지 못함"
   ]
  },
  {
   "cell_type": "markdown",
   "metadata": {},
   "source": [
    "- `.punctuation`은 Python에서 문자열(string)에 사용되는 **문장 부호(punctuation)**를 모아둔 문자열 상수\n",
    "- 이 상수는 `string` 모듈에 정의되어 있습니다.\n",
    "\n",
    "```python\n",
    "# 예시\n",
    "import string\n",
    "\n",
    "print(string.punctuation)\n",
    "# 출력: !\"#$%&'()*+,-./:;<=>?@[\\]^_`{|}~\n",
    "```"
   ]
  },
  {
   "cell_type": "code",
   "execution_count": 18,
   "metadata": {
    "ExecuteTime": {
     "end_time": "2021-04-13T02:03:51.905615Z",
     "start_time": "2021-04-13T02:03:51.892618Z"
    }
   },
   "outputs": [],
   "source": [
    "import nltk\n",
    "from nltk.corpus import stopwords\n",
    "import string\n",
    "\n",
    "# 1. 전처리 >>>>> # 2. 토큰화 \n",
    "def tokenize_text(text):\n",
    "    \"\"\"\n",
    "    전달받은 text 토큰화해 반환하는 함수\n",
    "    문장별로 단어 리스트(의미를 파악하는데 중요한 단어들)를 2차원 배열 형태로 반환\n",
    "        1차원: 문장 리스트, 2차원: 문장내 토큰.\n",
    "    구두점/특수문자, 숫자, 불용어(stop words)들은 모두 제거한다.\n",
    "    parameters:\n",
    "        text: string - 변환하려는 전체문장\n",
    "    return:\n",
    "        2차원 리스트. 1차원: 문장 리스트, 2차원: 문장내 토큰.\n",
    "    \"\"\"\n",
    "    # 전처리(Cleaning 작업)\n",
    "    # 1. 소문자로 변환 (대문자 혹은 소문자로 통일)\n",
    "    text = text.lower()\n",
    "    # 2. 문장 단위 토큰화\n",
    "    sent_list = nltk.sent_tokenize(text)            # [문장1, 문장2, ...] 꼴\n",
    "    # 3. stopword 사전 생성\n",
    "    stopword_list = stopwords.words('english')  # 원래 있는 불용어들\n",
    "    # 4. stopword 사전에 불용어 추가 (옵션)\n",
    "    stopword_list.extend(['although', 'unless', 'may']) # 새로운 불용어 추가\n",
    "    stopword_list.extend(list(string.punctuation)) # 구주점 추가\n",
    "\n",
    "    # Cleaning + 토큰화\n",
    "    result_list = []\n",
    "    for sent in sent_list: # 문장단위로 토큰화 + 전처리\n",
    "        word_list = nltk.word_tokenize(sent)        # [단어1, 단어2, ...] 꼴\n",
    "        # 불용어 제거 \n",
    "        word_list = [ word for word in word_list if word not in stopword_list ]\n",
    "        result_list.append(word_list)\n",
    "    \n",
    "    return result_list"
   ]
  },
  {
   "cell_type": "code",
   "execution_count": 19,
   "metadata": {},
   "outputs": [
    {
     "data": {
      "text/plain": [
       "'!\"#$%&\\'()*+,-./:;<=>?@[\\\\]^_`{|}~'"
      ]
     },
     "execution_count": 19,
     "metadata": {},
     "output_type": "execute_result"
    }
   ],
   "source": [
    "import string\n",
    "string.punctuation"
   ]
  },
  {
   "cell_type": "code",
   "execution_count": 20,
   "metadata": {},
   "outputs": [
    {
     "data": {
      "text/plain": [
       "[['beautiful', 'better', 'ugly'],\n",
       " ['explicit', 'better', 'implicit'],\n",
       " ['simple', 'better', 'complex'],\n",
       " ['complex', 'better', 'complicated'],\n",
       " ['flat', 'better', 'nested']]"
      ]
     },
     "execution_count": 20,
     "metadata": {},
     "output_type": "execute_result"
    }
   ],
   "source": [
    "tokens = tokenize_text(text_sample)\n",
    "tokens[:5]"
   ]
  },
  {
   "cell_type": "code",
   "execution_count": 31,
   "metadata": {},
   "outputs": [
    {
     "data": {
      "text/plain": [
       "[\"'re\",\n",
       " \"'s\",\n",
       " '--',\n",
       " 'ambiguity',\n",
       " 'bad',\n",
       " 'beats',\n",
       " 'beautiful',\n",
       " 'better',\n",
       " 'break',\n",
       " 'cases']"
      ]
     },
     "execution_count": 31,
     "metadata": {},
     "output_type": "execute_result"
    }
   ],
   "source": [
    "# 단어사전 (vocab) -> 전체 데이터셋을 기준으로 정의\n",
    "# 토큰 - 토큰 id    ex) better -> 23 !\n",
    "s = set()\n",
    "for line in tokens:\n",
    "    for word in line:\n",
    "        s.add(word)\n",
    "\n",
    "# 토큰id - 토큰 : list 형태\n",
    "## 모든 단어를 flatten 시켜 리스트에 담아 \n",
    "idx2word = sorted(s)\n",
    "idx2word[:10]"
   ]
  },
  {
   "cell_type": "code",
   "execution_count": 32,
   "metadata": {},
   "outputs": [
    {
     "data": {
      "text/plain": [
       "5"
      ]
     },
     "execution_count": 32,
     "metadata": {},
     "output_type": "execute_result"
    }
   ],
   "source": [
    "# 토큰 - 토큰id : dict 형태\n",
    "## 리스트의 idx를 이용해 label encoding \n",
    "word2idx = {word:idx for idx, word in enumerate(idx2word)}\n",
    "word2idx['beats']"
   ]
  },
  {
   "cell_type": "markdown",
   "metadata": {},
   "source": [
    "# 형태소 분석\n",
    "- 형태소\n",
    "    - 일정한 의미가 있는 가장 작은 말의 단위\n",
    "- 형태소 분석  \n",
    "    - 말뭉치에서 의미있는(분석에 필요한) 형태소들만 추출하는 것\n",
    "    - 보통 단어로 부터 어근, 접두사, 접미사, 품사등 언어적 속성을 파악하여 처리한다. \n",
    "- 형태소 분석을 위한 기법\n",
    "    - 어간추출(Stemming)\n",
    "    - 원형(기본형) 복원 (Lemmatization)\n",
    "    - 품사부착 (POS tagging - Part Of Speech)"
   ]
  },
  {
   "cell_type": "markdown",
   "metadata": {},
   "source": [
    "### 어간추출(Stemming)\n",
    "- 단어에서 어간을 추출해주는 stemmer 객체 이용\n",
    "- 어간: 활용어에서 변하지 않는 부분\n",
    "    - painted, paint, painting → 어간: paint\n",
    "    - 보다, 보니, 보고 → 어간: `보`\n",
    "- 어간 추출 목적\n",
    "    - 같은 의미를 가지는 단어의 여러가지 활용이 있을 경우 다른 단어로 카운트 되는 문제점을 해결한다.\n",
    "        - flower, flowers 가 두개의 단어로 카운트 되는 것을 flower로 통일한다.        \n",
    "- nltk의 주요 어간 추출 알고리즘\n",
    "    - Porter Stemmer\n",
    "    - Lancaster Stemmer\n",
    "    - Snowball Stemmer\n",
    "- 메소드\n",
    "    - `stemmer객체.stem(단어)`\n",
    "- stemming의 문제\n",
    "    - 완벽하지 않다는 것이 문제이다.        \n",
    "        - ex) new와 news는 다른 단어 인데 둘다 new로 처리한다.\n",
    "    - 처리후 눈으로 직접 확인해야 한다.\n",
    "    - be 동사 등 어간 추출이 어려운 경우가 존재한다."
   ]
  },
  {
   "cell_type": "markdown",
   "metadata": {},
   "source": [
    "## 한국어에서 토큰화가 어려운 이유\n",
    "- 영어는 띄어쓰기(공백)을 기준으로 토큰화를 진행해도 큰 문제가 없다.\n",
    "- 한국어는 교착어이기 때문에 띄어쓰기를 기준으로 토큰화를 하면 같은 단어가 다른 토큰으로 인식되어 여러개 추출되는 문제가 발생한다.\n",
    "    - 예) \"그가\", \"그는\", \"그의\", \"그와\" 모두 \"그\"를 나타내지만 붙은 조사가 달라 다 다른 토큰으로 추출되게 된다.\n",
    "- 그래서 한국어는 어절 단위 토큰화는 하지 않도록 한다.\n",
    "- 대신 형태소에 기반한 토큰화를 하는 것이 좋다."
   ]
  },
  {
   "cell_type": "code",
   "execution_count": 33,
   "metadata": {},
   "outputs": [],
   "source": [
    "words = [\n",
    "    \"Working\",\n",
    "    \"works\",\n",
    "    \"worked\",\n",
    "    \"Painting\",\n",
    "    \"Painted\",\n",
    "    \"paints\",\n",
    "    \"Happy\",\n",
    "    \"happier\",\n",
    "    \"happiest\",\n",
    "    \"am\",\n",
    "    \"are\",\n",
    "    \"is\",\n",
    "]"
   ]
  },
  {
   "cell_type": "code",
   "execution_count": 34,
   "metadata": {},
   "outputs": [
    {
     "data": {
      "text/plain": [
       "'paint'"
      ]
     },
     "execution_count": 34,
     "metadata": {},
     "output_type": "execute_result"
    }
   ],
   "source": [
    "from nltk.stem import PorterStemmer, LancasterStemmer, SnowballStemmer\n",
    "\n",
    "stemmer = PorterStemmer()\n",
    "stemmer.stem('painted')\n"
   ]
  },
  {
   "cell_type": "code",
   "execution_count": 35,
   "metadata": {},
   "outputs": [
    {
     "data": {
      "text/plain": [
       "['work',\n",
       " 'work',\n",
       " 'work',\n",
       " 'paint',\n",
       " 'paint',\n",
       " 'paint',\n",
       " 'happi',\n",
       " 'happier',\n",
       " 'happiest',\n",
       " 'am',\n",
       " 'are',\n",
       " 'is']"
      ]
     },
     "execution_count": 35,
     "metadata": {},
     "output_type": "execute_result"
    }
   ],
   "source": [
    "[stemmer.stem(word) for word in words]"
   ]
  },
  {
   "cell_type": "code",
   "execution_count": null,
   "metadata": {},
   "outputs": [],
   "source": []
  },
  {
   "cell_type": "markdown",
   "metadata": {},
   "source": [
    "## 원형(기본형)복원(Lemmatization)\n",
    "- 단어의 원형(기본형)을 반환한다.\n",
    "    - ex) am, is, are => be\n",
    "- 단어의 품사를 지정하면 정확한 결과를 얻을 수 있다. ----> 각 단어별 품사를 붙여줘야하는 시간적 소요 존재 + 품사만 다르고 비슷한 단어 구별 X\n",
    "- `WordNetLemmatizer객체.lemmatize(단어 [, pos=품사])`"
   ]
  },
  {
   "cell_type": "code",
   "execution_count": 37,
   "metadata": {},
   "outputs": [
    {
     "name": "stderr",
     "output_type": "stream",
     "text": [
      "[nltk_data] Downloading package wordnet to\n",
      "[nltk_data]     C:\\Users\\Playdata\\AppData\\Roaming\\nltk_data...\n"
     ]
    },
    {
     "data": {
      "text/plain": [
       "True"
      ]
     },
     "execution_count": 37,
     "metadata": {},
     "output_type": "execute_result"
    }
   ],
   "source": [
    "import nltk\n",
    "nltk.download('wordnet')"
   ]
  },
  {
   "cell_type": "code",
   "execution_count": 38,
   "metadata": {},
   "outputs": [
    {
     "name": "stdout",
     "output_type": "stream",
     "text": [
      "{'n': [('s', ''), ('ses', 's'), ('ves', 'f'), ('xes', 'x'), ('zes', 'z'), ('ches', 'ch'), ('shes', 'sh'), ('men', 'man'), ('ies', 'y')], 'v': [('s', ''), ('ies', 'y'), ('es', 'e'), ('es', ''), ('ed', 'e'), ('ed', ''), ('ing', 'e'), ('ing', '')], 'a': [('er', ''), ('est', ''), ('er', 'e'), ('est', 'e')], 'r': [], 's': [('er', ''), ('est', ''), ('er', 'e'), ('est', 'e')]}\n",
      "n a v\n"
     ]
    }
   ],
   "source": [
    "from nltk.stem import WordNetLemmatizer\n",
    "from nltk.corpus import wordnet # WordNetLemmatizer에서 지정할 수 있는 품사 목록\n",
    "\n",
    "# 각 품사별 고려사항\n",
    "print(wordnet.MORPHOLOGICAL_SUBSTITUTIONS)\n",
    "\n",
    "# 각 품사별 약자\n",
    "print(wordnet.NOUN, wordnet.ADJ, wordnet.VERB)"
   ]
  },
  {
   "cell_type": "code",
   "execution_count": 39,
   "metadata": {},
   "outputs": [
    {
     "data": {
      "text/plain": [
       "'be'"
      ]
     },
     "execution_count": 39,
     "metadata": {},
     "output_type": "execute_result"
    }
   ],
   "source": [
    "lemm = WordNetLemmatizer()\n",
    "lemm.lemmatize('are', pos=wordnet.VERB)"
   ]
  },
  {
   "cell_type": "code",
   "execution_count": 40,
   "metadata": {},
   "outputs": [
    {
     "name": "stdout",
     "output_type": "stream",
     "text": [
      "happi\n",
      "happy\n",
      "happy\n"
     ]
    }
   ],
   "source": [
    "w_list = ['happi', 'happier', 'happiest']   # 어간 추출 시 다른 값으로 나옴 -> 어간추출 아니면 원형복원 중에 하나만 쓰자 \n",
    "for w in w_list:\n",
    "    print(lemm.lemmatize(w, pos='a'))"
   ]
  },
  {
   "cell_type": "markdown",
   "metadata": {},
   "source": [
    "## 어간추출과 원형복원의 장단점\n",
    "\n",
    "- **원형 복원 (Lemmatization)**\n",
    "\n",
    "   - **장점**:\n",
    "      - 문맥과 품사를 고려하여 정확한 사전적 원형을 반환하므로 의미적으로 정확한 결과를 얻을 수 있다.\n",
    "      - 품사 정보를 유지하기 때문에 의미론적 분석에 유리하다.\n",
    "   - **단점**:\n",
    "      - 형태소 분석과 사전 조회 과정이 필요하기 때문에 어간 추출보다 처리속도가 느리다.\n",
    "      - 구현이 더 복잡하며, 품사 태깅 및 사전 데이터베이스가 필요하다.\n",
    "\n",
    "- **어간 추출 (Stemming)**\n",
    "\n",
    "   - **장점**:\n",
    "     - 규칙 기반 알고리즘으로 동작하므로 처리속도가 빠르다.\n",
    "     - 처리속도가 빠르므로 대량의 텍스트를 효율적으로 처리할 수 있다.\n",
    "     - 정보 검색이나 텍스트 분류 등 단순한 텍스트 정규화 작업에 적합하다\n",
    "   - **단점**:\n",
    "      - 문법적 차이를 고려하지 않고 기계적으로 자르기 때문에 의미 손실이 발생하거나 다른 단어들이 같은 어간으로 추출될 수 있다.\n"
   ]
  },
  {
   "cell_type": "markdown",
   "metadata": {},
   "source": [
    "## 품사부착-POS Tagging(Part-Of-Speech Tagging)\n",
    "- 형태소에 품사를 붙이는 작업.\n",
    "    - 품사의 구분이나 표현은 언어, 학자마다 다르다. \n",
    "- NLTK는 [펜 트리뱅크 태그세트](https://bluebreeze.co.kr/1357)(Penn Treebank Tagset) 이용\n",
    "    - 명사 : N으로 시작 (NN-일반명사, NNP-고유명사)\n",
    "    - 형용사 : J로 시작(JJ, JJR-비교급, JJS-최상급)\n",
    "    - 동사: V로 시작 (VB-동사원형, VBP-3인칭 아닌 현재형 동사)\n",
    "    - 부사: R로 시작 (RB-부사)\n",
    "    - `nltk.help.upenn_tagset('키워드')` : 도움말\n",
    "- `pos_tag(단어_리스트)`    \n",
    "    - 단어와 품사를 튜플로 묶은 리스트를 반환"
   ]
  },
  {
   "cell_type": "code",
   "execution_count": 45,
   "metadata": {},
   "outputs": [
    {
     "name": "stdout",
     "output_type": "stream",
     "text": [
      "$: dollar\n",
      "    $ -$ --$ A$ C$ HK$ M$ NZ$ S$ U.S.$ US$\n",
      "'': closing quotation mark\n",
      "    ' ''\n",
      "(: opening parenthesis\n",
      "    ( [ {\n",
      "): closing parenthesis\n",
      "    ) ] }\n",
      ",: comma\n",
      "    ,\n",
      "--: dash\n",
      "    --\n",
      ".: sentence terminator\n",
      "    . ! ?\n",
      ":: colon or ellipsis\n",
      "    : ; ...\n",
      "CC: conjunction, coordinating\n",
      "    & 'n and both but either et for less minus neither nor or plus so\n",
      "    therefore times v. versus vs. whether yet\n",
      "CD: numeral, cardinal\n",
      "    mid-1890 nine-thirty forty-two one-tenth ten million 0.5 one forty-\n",
      "    seven 1987 twenty '79 zero two 78-degrees eighty-four IX '60s .025\n",
      "    fifteen 271,124 dozen quintillion DM2,000 ...\n",
      "DT: determiner\n",
      "    all an another any both del each either every half la many much nary\n",
      "    neither no some such that the them these this those\n",
      "EX: existential there\n",
      "    there\n",
      "FW: foreign word\n",
      "    gemeinschaft hund ich jeux habeas Haementeria Herr K'ang-si vous\n",
      "    lutihaw alai je jour objets salutaris fille quibusdam pas trop Monte\n",
      "    terram fiche oui corporis ...\n",
      "IN: preposition or conjunction, subordinating\n",
      "    astride among uppon whether out inside pro despite on by throughout\n",
      "    below within for towards near behind atop around if like until below\n",
      "    next into if beside ...\n",
      "JJ: adjective or numeral, ordinal\n",
      "    third ill-mannered pre-war regrettable oiled calamitous first separable\n",
      "    ectoplasmic battery-powered participatory fourth still-to-be-named\n",
      "    multilingual multi-disciplinary ...\n",
      "JJR: adjective, comparative\n",
      "    bleaker braver breezier briefer brighter brisker broader bumper busier\n",
      "    calmer cheaper choosier cleaner clearer closer colder commoner costlier\n",
      "    cozier creamier crunchier cuter ...\n",
      "JJS: adjective, superlative\n",
      "    calmest cheapest choicest classiest cleanest clearest closest commonest\n",
      "    corniest costliest crassest creepiest crudest cutest darkest deadliest\n",
      "    dearest deepest densest dinkiest ...\n",
      "LS: list item marker\n",
      "    A A. B B. C C. D E F First G H I J K One SP-44001 SP-44002 SP-44005\n",
      "    SP-44007 Second Third Three Two * a b c d first five four one six three\n",
      "    two\n",
      "MD: modal auxiliary\n",
      "    can cannot could couldn't dare may might must need ought shall should\n",
      "    shouldn't will would\n",
      "NN: noun, common, singular or mass\n",
      "    common-carrier cabbage knuckle-duster Casino afghan shed thermostat\n",
      "    investment slide humour falloff slick wind hyena override subhumanity\n",
      "    machinist ...\n",
      "NNP: noun, proper, singular\n",
      "    Motown Venneboerger Czestochwa Ranzer Conchita Trumplane Christos\n",
      "    Oceanside Escobar Kreisler Sawyer Cougar Yvette Ervin ODI Darryl CTCA\n",
      "    Shannon A.K.C. Meltex Liverpool ...\n",
      "NNPS: noun, proper, plural\n",
      "    Americans Americas Amharas Amityvilles Amusements Anarcho-Syndicalists\n",
      "    Andalusians Andes Andruses Angels Animals Anthony Antilles Antiques\n",
      "    Apache Apaches Apocrypha ...\n",
      "NNS: noun, common, plural\n",
      "    undergraduates scotches bric-a-brac products bodyguards facets coasts\n",
      "    divestitures storehouses designs clubs fragrances averages\n",
      "    subjectivists apprehensions muses factory-jobs ...\n",
      "PDT: pre-determiner\n",
      "    all both half many quite such sure this\n",
      "POS: genitive marker\n",
      "    ' 's\n",
      "PRP: pronoun, personal\n",
      "    hers herself him himself hisself it itself me myself one oneself ours\n",
      "    ourselves ownself self she thee theirs them themselves they thou thy us\n",
      "PRP$: pronoun, possessive\n",
      "    her his mine my our ours their thy your\n",
      "RB: adverb\n",
      "    occasionally unabatingly maddeningly adventurously professedly\n",
      "    stirringly prominently technologically magisterially predominately\n",
      "    swiftly fiscally pitilessly ...\n",
      "RBR: adverb, comparative\n",
      "    further gloomier grander graver greater grimmer harder harsher\n",
      "    healthier heavier higher however larger later leaner lengthier less-\n",
      "    perfectly lesser lonelier longer louder lower more ...\n",
      "RBS: adverb, superlative\n",
      "    best biggest bluntest earliest farthest first furthest hardest\n",
      "    heartiest highest largest least less most nearest second tightest worst\n",
      "RP: particle\n",
      "    aboard about across along apart around aside at away back before behind\n",
      "    by crop down ever fast for forth from go high i.e. in into just later\n",
      "    low more off on open out over per pie raising start teeth that through\n",
      "    under unto up up-pp upon whole with you\n",
      "SYM: symbol\n",
      "    % & ' '' ''. ) ). * + ,. < = > @ A[fj] U.S U.S.S.R * ** ***\n",
      "TO: \"to\" as preposition or infinitive marker\n",
      "    to\n",
      "UH: interjection\n",
      "    Goodbye Goody Gosh Wow Jeepers Jee-sus Hubba Hey Kee-reist Oops amen\n",
      "    huh howdy uh dammit whammo shucks heck anyways whodunnit honey golly\n",
      "    man baby diddle hush sonuvabitch ...\n",
      "VB: verb, base form\n",
      "    ask assemble assess assign assume atone attention avoid bake balkanize\n",
      "    bank begin behold believe bend benefit bevel beware bless boil bomb\n",
      "    boost brace break bring broil brush build ...\n",
      "VBD: verb, past tense\n",
      "    dipped pleaded swiped regummed soaked tidied convened halted registered\n",
      "    cushioned exacted snubbed strode aimed adopted belied figgered\n",
      "    speculated wore appreciated contemplated ...\n",
      "VBG: verb, present participle or gerund\n",
      "    telegraphing stirring focusing angering judging stalling lactating\n",
      "    hankerin' alleging veering capping approaching traveling besieging\n",
      "    encrypting interrupting erasing wincing ...\n",
      "VBN: verb, past participle\n",
      "    multihulled dilapidated aerosolized chaired languished panelized used\n",
      "    experimented flourished imitated reunifed factored condensed sheared\n",
      "    unsettled primed dubbed desired ...\n",
      "VBP: verb, present tense, not 3rd person singular\n",
      "    predominate wrap resort sue twist spill cure lengthen brush terminate\n",
      "    appear tend stray glisten obtain comprise detest tease attract\n",
      "    emphasize mold postpone sever return wag ...\n",
      "VBZ: verb, present tense, 3rd person singular\n",
      "    bases reconstructs marks mixes displeases seals carps weaves snatches\n",
      "    slumps stretches authorizes smolders pictures emerges stockpiles\n",
      "    seduces fizzes uses bolsters slaps speaks pleads ...\n",
      "WDT: WH-determiner\n",
      "    that what whatever which whichever\n",
      "WP: WH-pronoun\n",
      "    that what whatever whatsoever which who whom whosoever\n",
      "WP$: WH-pronoun, possessive\n",
      "    whose\n",
      "WRB: Wh-adverb\n",
      "    how however whence whenever where whereby whereever wherein whereof why\n",
      "``: opening quotation mark\n",
      "    ` ``\n",
      "NN: noun, common, singular or mass\n",
      "    common-carrier cabbage knuckle-duster Casino afghan shed thermostat\n",
      "    investment slide humour falloff slick wind hyena override subhumanity\n",
      "    machinist ...\n"
     ]
    }
   ],
   "source": [
    "# Tagset 조회\n",
    "nltk.help.upenn_tagset()        # 전체 태그셋 설명\n",
    "nltk.help.upenn_tagset('NN')    # 개별 태그셋 설명 "
   ]
  },
  {
   "cell_type": "code",
   "execution_count": 46,
   "metadata": {},
   "outputs": [
    {
     "data": {
      "text/plain": [
       "[('News', 'NNP'), ('news', 'NN'), ('new', 'JJ'), ('New', 'NNP')]"
      ]
     },
     "execution_count": 46,
     "metadata": {},
     "output_type": "execute_result"
    }
   ],
   "source": [
    "# pos_tag(iterable) -> (element, tag) 꼴 반환 \n",
    "from nltk.tag import pos_tag\n",
    "words = [\"Book\", \"car\", \"have\", \"Korea\", \"is\", 'well', 'can']\n",
    "pos_tag(['News', 'news', 'new', 'New'])"
   ]
  },
  {
   "cell_type": "markdown",
   "metadata": {},
   "source": [
    "## 품사부착과 원형복원을 이용해 import this 원형복원하기.\n",
    "- 품사부착으로 품사 조회\n",
    "    - pos_tag와 lemmatization이 사용하는 품사 형태 다르기 때문에 변환함수 만듬\n",
    "- lemmatization하기.    "
   ]
  },
  {
   "cell_type": "code",
   "execution_count": 47,
   "metadata": {},
   "outputs": [],
   "source": [
    "# Pos-tag 에서 반환한 품사표기(펜 트리뱅크 태그세트)을 WordNetLemmatizer의 품사표기로 변환\n",
    "def get_wordnet_pos(pos_tag):\n",
    "    \"\"\"\n",
    "    펜 트리뱅크 품사표기를 WordNetLemmatizer에서 사용하는 품사표기로 변환\n",
    "    형용사/동사/명사/부사 표기 변환\n",
    "    \"\"\"\n",
    "    if pos_tag.startswith(\"J\"):\n",
    "        return wordnet.ADJ\n",
    "    elif pos_tag.startswith(\"V\"):\n",
    "        return wordnet.VERB\n",
    "    elif pos_tag.startswith(\"N\"):\n",
    "        return wordnet.NOUN\n",
    "    elif pos_tag.startswith(\"R\"):\n",
    "        return wordnet.ADV\n",
    "    else:\n",
    "        return None"
   ]
  },
  {
   "cell_type": "code",
   "execution_count": 48,
   "metadata": {},
   "outputs": [
    {
     "data": {
      "text/plain": [
       "[['beautiful', 'better', 'ugly'],\n",
       " ['explicit', 'better', 'implicit'],\n",
       " ['simple', 'better', 'complex'],\n",
       " ['complex', 'better', 'complicated'],\n",
       " ['flat', 'better', 'nested'],\n",
       " ['sparse', 'better', 'dense'],\n",
       " ['readability', 'counts'],\n",
       " ['special', 'cases', \"n't\", 'special', 'enough', 'break', 'rules'],\n",
       " ['practicality', 'beats', 'purity'],\n",
       " ['errors', 'never', 'pass', 'silently'],\n",
       " ['explicitly', 'silenced'],\n",
       " ['face', 'ambiguity', 'refuse', 'temptation', 'guess'],\n",
       " ['one', '--', 'preferably', 'one', '--', 'obvious', 'way'],\n",
       " ['way', 'obvious', 'first', \"'re\", 'dutch'],\n",
       " ['better', 'never'],\n",
       " ['never', 'often', 'better', 'right'],\n",
       " ['implementation', 'hard', 'explain', \"'s\", 'bad', 'idea'],\n",
       " ['implementation', 'easy', 'explain', 'good', 'idea'],\n",
       " ['namespaces', 'one', 'honking', 'great', 'idea', '--', 'let', \"'s\"]]"
      ]
     },
     "execution_count": 48,
     "metadata": {},
     "output_type": "execute_result"
    }
   ],
   "source": [
    "# 토큰화 + 품사 태깅 + 원형 복원\n",
    "sent_tokens = tokenize_text(text_sample)\n",
    "sent_tokens"
   ]
  },
  {
   "cell_type": "code",
   "execution_count": 49,
   "metadata": {},
   "outputs": [
    {
     "data": {
      "text/plain": [
       "[['beautiful', 'good', 'ugly'],\n",
       " ['explicit', 'well', 'implicit'],\n",
       " ['simple', 'well', 'complex'],\n",
       " ['complex', 'well', 'complicate'],\n",
       " ['flat', 'well', 'nest'],\n",
       " ['sparse', 'well', 'dense'],\n",
       " ['readability', 'count'],\n",
       " ['special', 'case', \"n't\", 'special', 'enough', 'break', 'rule'],\n",
       " ['practicality', 'beat', 'purity'],\n",
       " ['error', 'never', 'pass', 'silently'],\n",
       " ['explicitly', 'silence'],\n",
       " ['face', 'ambiguity', 'refuse', 'temptation', 'guess'],\n",
       " ['preferably', 'obvious', 'way'],\n",
       " ['way', 'obvious', 'first', \"'re\", 'dutch'],\n",
       " ['well', 'never'],\n",
       " ['never', 'often', 'good', 'right'],\n",
       " ['implementation', 'hard', 'explain', 'bad', 'idea'],\n",
       " ['implementation', 'easy', 'explain', 'good', 'idea'],\n",
       " ['namespaces', 'honk', 'great', 'idea', 'let']]"
      ]
     },
     "execution_count": 49,
     "metadata": {},
     "output_type": "execute_result"
    }
   ],
   "source": [
    "result = []\n",
    "lemm = WordNetLemmatizer()\n",
    "for sent in sent_tokens:\n",
    "    l = []\n",
    "    for word, pos in pos_tag(sent):\n",
    "        pos = get_wordnet_pos(pos)\n",
    "        if pos:                             # 명사, 동사, 형용사, 부사가 아닌경우 tag로 None 반환하도록 만들어놨잫아\n",
    "            l.append(lemm.lemmatize(word, pos=pos))\n",
    "    result.append(l)\n",
    "result"
   ]
  },
  {
   "cell_type": "code",
   "execution_count": 50,
   "metadata": {},
   "outputs": [],
   "source": [
    "# 원형복원의 경우, 품사 태깅 등 소요가 더 크지만 그만큼 잘 바뀌네 ! "
   ]
  },
  {
   "cell_type": "markdown",
   "metadata": {},
   "source": [
    "## 텍스트 전처리 프로세스\n",
    "- 클렌징(cleansing)\n",
    "    - 특수문자, 기호 필요없는 문자 제거\n",
    "    - 대소문자 변경\n",
    "- stop word(분석에 필요 없는 토큰) 제거\n",
    "- 텍스트 토큰화\n",
    "    - 분석의 최소단위로 나누는 작업\n",
    "    - 보통 단어단위나 글자단위로 나눈다.\n",
    "- 어근 추출(Stemming/Lemmatization)을 통한 텍스트 정규화 작업"
   ]
  },
  {
   "cell_type": "code",
   "execution_count": 51,
   "metadata": {},
   "outputs": [],
   "source": [
    "import nltk\n",
    "from nltk.corpus import stopwords\n",
    "import string\n",
    "from nltk.stem import WordNetLemmatizer\n",
    "from nltk.tag import pos_tag\n",
    "\n",
    "sts = []\n",
    "for st in string.punctuation:\n",
    "    sts.append(st)\n",
    "# \n",
    "def tokenize_text(text):\n",
    "    \"\"\"\n",
    "    전달받은 text 토큰화+원형복원해 반환하는 함수\n",
    "    문장별로 단어 리스트(의미를 파악하는데 중요한 단어들)를 2차원 배열 형태로 반환\n",
    "        1차원: 문장 리스트, 2차원: 문장내 토큰.\n",
    "    구두점/특수문자, 숫자, 불용어(stop words)들은 모두 제거한다.\n",
    "    parameters:\n",
    "        text: string - 변환하려는 전체문장\n",
    "    return:\n",
    "        2차원 리스트. 1차원: 문장 리스트, 2차원: 문장내 토큰.\n",
    "    \"\"\"\n",
    "    # Cleaning 작업\n",
    "    # 1. 소문자로 변환\n",
    "    text = text.lower()\n",
    "    # 2. 문장 단위 토큰화\n",
    "    sent_list = nltk.sent_tokenize(text)            # [문장1, 문장2, ...] 꼴\n",
    "    # 3. stopword 사전 생성\n",
    "    stopword_list = stopwords.words('english')\n",
    "    # 4. stopword 사전에 불용어 추가\n",
    "    stopword_list.extend(['although', 'unless', 'may'])\n",
    "    stopword_list.extend(sts)\n",
    "    # 5. Lemmatizer 객체 생성\n",
    "    lemm = WordNetLemmatizer()\n",
    "\n",
    "    # Cleaning + 토큰화\n",
    "    result_list = []\n",
    "    for sent in sent_list:\n",
    "        word_list = nltk.word_tokenize(sent)        # [단어1, 단어2, ...] 꼴\n",
    "        # 불용어 제거 \n",
    "        word_list = [ word for word in word_list if word not in stopword_list ]\n",
    "        # 품사 부착 + 원형 복원 \n",
    "        tokens = [lemm.lemmatize(word, pos=get_wordnet_pos(pos)) for word, pos in pos_tag(word_list) if get_wordnet_pos(pos)]\n",
    "\n",
    "        result_list.append(tokens)\n",
    "    \n",
    "    return result_list"
   ]
  },
  {
   "cell_type": "code",
   "execution_count": 52,
   "metadata": {},
   "outputs": [
    {
     "data": {
      "text/plain": [
       "[['beautiful', 'good', 'ugly'],\n",
       " ['explicit', 'well', 'implicit'],\n",
       " ['simple', 'well', 'complex'],\n",
       " ['complex', 'well', 'complicate'],\n",
       " ['flat', 'well', 'nest'],\n",
       " ['sparse', 'well', 'dense'],\n",
       " ['readability', 'count'],\n",
       " ['special', 'case', \"n't\", 'special', 'enough', 'break', 'rule'],\n",
       " ['practicality', 'beat', 'purity'],\n",
       " ['error', 'never', 'pass', 'silently'],\n",
       " ['explicitly', 'silence'],\n",
       " ['face', 'ambiguity', 'refuse', 'temptation', 'guess'],\n",
       " ['preferably', 'obvious', 'way'],\n",
       " ['way', 'obvious', 'first', \"'re\", 'dutch'],\n",
       " ['well', 'never'],\n",
       " ['never', 'often', 'good', 'right'],\n",
       " ['implementation', 'hard', 'explain', 'bad', 'idea'],\n",
       " ['implementation', 'easy', 'explain', 'good', 'idea'],\n",
       " ['namespaces', 'honk', 'great', 'idea', 'let']]"
      ]
     },
     "execution_count": 52,
     "metadata": {},
     "output_type": "execute_result"
    }
   ],
   "source": [
    "tokenize_text(text_sample)"
   ]
  },
  {
   "cell_type": "code",
   "execution_count": null,
   "metadata": {},
   "outputs": [],
   "source": []
  },
  {
   "cell_type": "code",
   "execution_count": null,
   "metadata": {},
   "outputs": [],
   "source": []
  },
  {
   "cell_type": "markdown",
   "metadata": {},
   "source": [
    "# NLTK의 분석을 위한 클래스들\n",
    "\n",
    "## Text클래스\n",
    "- 문서 분석에 유용한 여러 메소드 제공\n",
    "- **토큰 리스트**을 입력해 객체생성 후 제공되는 메소드를 이용해 분석한다.\n",
    "- ### 생성\n",
    "    - Text(토큰리스트, [name=이름])\n",
    "- ### 주요 메소드\n",
    "    - count(단어)\n",
    "        - 매개변수로 전달한 단어의 빈도수\n",
    "    - plot(N)\n",
    "        - 빈도수 상위 N개 단어를 선그래프로 시각화\n",
    "    - dispersion_plot(단어리스트)\n",
    "        - 매개변수로 전달한 단어들이 전체 말뭉치의 어느 부분에 나오는지 시각화"
   ]
  },
  {
   "cell_type": "code",
   "execution_count": 53,
   "metadata": {},
   "outputs": [
    {
     "data": {
      "text/plain": [
       "12977"
      ]
     },
     "execution_count": 53,
     "metadata": {},
     "output_type": "execute_result"
    }
   ],
   "source": [
    "with open('data/news.txt', 'rt', encoding='utf=8') as fr:\n",
    "        news_txt = fr.read()\n",
    "len(news_txt)"
   ]
  },
  {
   "cell_type": "code",
   "execution_count": 54,
   "metadata": {},
   "outputs": [
    {
     "data": {
      "text/plain": [
       "'Sitting in his parents’ hair salon, Min-Kyu is buried in his computer game.\\nWearing his gray soccer '"
      ]
     },
     "execution_count": 54,
     "metadata": {},
     "output_type": "execute_result"
    }
   ],
   "source": [
    "news_txt[:100]"
   ]
  },
  {
   "cell_type": "code",
   "execution_count": 55,
   "metadata": {},
   "outputs": [
    {
     "data": {
      "text/plain": [
       "[['sit',\n",
       "  'parent',\n",
       "  '’',\n",
       "  'hair',\n",
       "  'salon',\n",
       "  'min-kyu',\n",
       "  'bury',\n",
       "  'computer',\n",
       "  'game']]"
      ]
     },
     "execution_count": 55,
     "metadata": {},
     "output_type": "execute_result"
    }
   ],
   "source": [
    "# 토큰화\n",
    "news_tokens = tokenize_text(news_txt)\n",
    "news_tokens[:1]"
   ]
  },
  {
   "cell_type": "code",
   "execution_count": 56,
   "metadata": {},
   "outputs": [],
   "source": [
    "# 벡터변환\n",
    "## Flatten\n",
    "news_tokens_flat = [word for sent in news_tokens for word in sent]\n",
    "## 딕셔너리화\n",
    "token2idx = {word:idx for idx, word in enumerate(news_tokens_flat)}"
   ]
  },
  {
   "cell_type": "code",
   "execution_count": 57,
   "metadata": {},
   "outputs": [
    {
     "data": {
      "text/plain": [
       "{'sit': 1226,\n",
       " 'parent': 1033,\n",
       " '’': 1239,\n",
       " 'hair': 1143,\n",
       " 'salon': 1161,\n",
       " 'min-kyu': 1222,\n",
       " 'bury': 6,\n",
       " 'computer': 7,\n",
       " 'game': 671,\n",
       " 'wear': 9,\n",
       " 'gray': 10,\n",
       " 'soccer': 11,\n",
       " 'kit': 12,\n",
       " 'boot': 13,\n",
       " 'constantly': 14,\n",
       " 'click': 15,\n",
       " 'tiled': 16,\n",
       " 'floor': 17,\n",
       " '11-year-old': 18,\n",
       " 'lose': 19,\n",
       " 'parallel': 20,\n",
       " 'universe': 21,\n",
       " 'far': 760,\n",
       " 'distract': 23,\n",
       " 'noise': 24,\n",
       " 'electric': 25,\n",
       " 'clipper': 26,\n",
       " 'faint': 27,\n",
       " 'smell': 28,\n",
       " 'hairspray': 29,\n",
       " 'seem': 30,\n",
       " 'happen': 31,\n",
       " 'often': 1164,\n",
       " 'part': 33,\n",
       " 'world': 564,\n",
       " 'new': 1214,\n",
       " 'malden': 1215,\n",
       " 'suburban': 37,\n",
       " 'southwest': 38,\n",
       " 'london': 1156,\n",
       " 'ears': 40,\n",
       " 'prick': 41,\n",
       " 'name': 585,\n",
       " '“': 1236,\n",
       " 'mr': 44,\n",
       " 'son': 1242,\n",
       " '”': 1246,\n",
       " 'mention': 47,\n",
       " 'mr.': 63,\n",
       " 'affectionately': 50,\n",
       " 'know': 1128,\n",
       " 'actually': 52,\n",
       " 'heung-min': 54,\n",
       " 'south': 809,\n",
       " 'korean': 1097,\n",
       " 'tottenham': 958,\n",
       " 'football': 1227,\n",
       " 'star': 483,\n",
       " 'national': 561,\n",
       " 'hero': 831,\n",
       " 'refer': 62,\n",
       " 'sign': 487,\n",
       " 'high': 448,\n",
       " 'esteem': 67,\n",
       " 'hold': 68,\n",
       " 'instantly': 71,\n",
       " 'recognizable': 72,\n",
       " 'face': 1131,\n",
       " 'broadcast': 74,\n",
       " 'score': 210,\n",
       " 'first': 752,\n",
       " 'ever': 78,\n",
       " 'goal': 211,\n",
       " 'stadium': 83,\n",
       " 'shin': 84,\n",
       " 'example': 1234,\n",
       " 'insatiable': 86,\n",
       " 'work': 1220,\n",
       " 'ethic': 1028,\n",
       " 'yield': 89,\n",
       " 'success': 1240,\n",
       " 'strike': 982,\n",
       " 'win': 1151,\n",
       " 'manchester': 899,\n",
       " 'city': 94,\n",
       " 'leg': 96,\n",
       " 'champion': 767,\n",
       " 'league': 1187,\n",
       " 'quarterfinal': 99,\n",
       " 'serve': 688,\n",
       " 'enhance': 101,\n",
       " 'reputation': 369,\n",
       " 'hard': 1219,\n",
       " 'explain': 106,\n",
       " 'make': 1202,\n",
       " 'feel': 629,\n",
       " 'think': 1237,\n",
       " 'anything': 110,\n",
       " 'proud': 919,\n",
       " 'say': 1221,\n",
       " 'become': 1132,\n",
       " 'professional': 1133,\n",
       " 'player': 1019,\n",
       " 'move': 957,\n",
       " 'korea': 1044,\n",
       " 'germany': 190,\n",
       " 'england': 1092,\n",
       " 'best': 747,\n",
       " 'time': 916,\n",
       " 'park': 1055,\n",
       " 'ji-sung': 884,\n",
       " 'good': 345,\n",
       " 'different': 399,\n",
       " 'level': 144,\n",
       " 'always': 1223,\n",
       " 'give': 1207,\n",
       " 'live': 330,\n",
       " 'beat': 159,\n",
       " 'talent': 160,\n",
       " 'see': 1245,\n",
       " 'do': 164,\n",
       " 'belief': 166,\n",
       " 'too.': 167,\n",
       " 'many': 1086,\n",
       " 'diaspora': 173,\n",
       " 'source': 639,\n",
       " 'pride': 1007,\n",
       " 'bear': 181,\n",
       " 'chuncheon': 182,\n",
       " 'northeast': 183,\n",
       " 'capital': 184,\n",
       " 'seoul': 1127,\n",
       " 'europe': 256,\n",
       " 'teenager': 193,\n",
       " 'hamburg': 194,\n",
       " 'earn': 224,\n",
       " 'bayer': 198,\n",
       " 'leverkusen': 199,\n",
       " 'caught': 200,\n",
       " 'eye': 201,\n",
       " 'persuade': 202,\n",
       " 'pay': 833,\n",
       " 'report': 205,\n",
       " 'forward': 206,\n",
       " 'fee': 207,\n",
       " 'repaid': 208,\n",
       " 'appearance': 212,\n",
       " 'last': 213,\n",
       " 'season': 214,\n",
       " 'alone': 215,\n",
       " 'performance': 216,\n",
       " 'achievement': 772,\n",
       " 'establish': 218,\n",
       " 'exciting': 220,\n",
       " 'premier': 1186,\n",
       " 'huge': 258,\n",
       " 'popularity': 226,\n",
       " 'much': 228,\n",
       " 'near': 229,\n",
       " 'home': 851,\n",
       " 'perhaps': 1064,\n",
       " 'community': 1005,\n",
       " 'local': 1004,\n",
       " 'councillor': 268,\n",
       " 'jaesung': 325,\n",
       " 'ha': 390,\n",
       " 'call': 241,\n",
       " 'little': 243,\n",
       " 'even': 247,\n",
       " 'great': 1233,\n",
       " 'corner': 249,\n",
       " 'united': 929,\n",
       " 'kingdom': 251,\n",
       " 'large': 294,\n",
       " 'retain': 257,\n",
       " 'affection': 259,\n",
       " 'country': 1150,\n",
       " 'especially': 261,\n",
       " 'come': 1149,\n",
       " 'sport': 1051,\n",
       " 'accord': 815,\n",
       " 'elect': 269,\n",
       " 'approximately': 271,\n",
       " 'north': 273,\n",
       " 'chinese': 274,\n",
       " 'borough': 278,\n",
       " 'situate': 281,\n",
       " '20-minute': 282,\n",
       " 'train': 1212,\n",
       " 'ride': 284,\n",
       " 'waterloo': 287,\n",
       " 'station': 288,\n",
       " 'leafy': 289,\n",
       " 'suburb': 290,\n",
       " 'uk': 1069,\n",
       " 'easy': 1071,\n",
       " 'acclimatize': 301,\n",
       " 'represent': 304,\n",
       " 'liberal': 305,\n",
       " 'democrat': 306,\n",
       " 'smile': 1110,\n",
       " 'talk': 501,\n",
       " 'read': 590,\n",
       " 'eat': 314,\n",
       " 'food': 837,\n",
       " 'appeal': 807,\n",
       " 'me.': 318,\n",
       " 'old': 917,\n",
       " 'member': 861,\n",
       " 'originally': 328,\n",
       " 'hop': 1098,\n",
       " 'close': 331,\n",
       " 'embassy': 333,\n",
       " 'wimbledon': 355,\n",
       " 'dream': 335,\n",
       " 'prove': 350,\n",
       " 'expensive': 337,\n",
       " 'instead': 338,\n",
       " 'beautifully': 341,\n",
       " 'manicure': 342,\n",
       " 'residential': 343,\n",
       " 'street': 449,\n",
       " 'school': 428,\n",
       " 'excellent': 347,\n",
       " 'transport': 838,\n",
       " 'link': 349,\n",
       " 'economical': 352,\n",
       " 'rather': 353,\n",
       " 'luxurious': 354,\n",
       " 'mile': 356,\n",
       " 'away': 371,\n",
       " 'others': 782,\n",
       " 'follow': 1061,\n",
       " 'study': 361,\n",
       " 'business': 363,\n",
       " 'begin': 373,\n",
       " 'take': 1190,\n",
       " 'shape': 375,\n",
       " 'grocery': 376,\n",
       " 'shop': 433,\n",
       " 'bakeries': 378,\n",
       " 'restaurant': 512,\n",
       " 'cater': 380,\n",
       " 'clientele': 382,\n",
       " 'walk': 459,\n",
       " 'along': 384,\n",
       " 'difficult': 1196,\n",
       " 'disagree': 389,\n",
       " 'assessment': 392,\n",
       " 'menu': 394,\n",
       " 'plaster': 395,\n",
       " 'window': 396,\n",
       " 'offer': 663,\n",
       " 'deal': 400,\n",
       " 'spoil': 402,\n",
       " 'choice': 403,\n",
       " 'ask': 1189,\n",
       " 'recommendation': 405,\n",
       " 'spend': 406,\n",
       " 'half': 407,\n",
       " 'day': 847,\n",
       " 'argue': 409,\n",
       " 'cuisine': 413,\n",
       " 'theater': 419,\n",
       " 'welcome': 420,\n",
       " 'center': 1209,\n",
       " 'travel': 1193,\n",
       " 'agent': 868,\n",
       " 'language': 1076,\n",
       " 'dot': 429,\n",
       " 'traditional': 430,\n",
       " 'fish': 431,\n",
       " 'chip': 432,\n",
       " 'pubs': 434,\n",
       " 'poster': 435,\n",
       " 'advertise': 436,\n",
       " 'chelsea': 940,\n",
       " 'woman': 439,\n",
       " 'team': 993,\n",
       " 'ji': 1136,\n",
       " 'so-yun': 447,\n",
       " 'favorite': 452,\n",
       " 'mie': 696,\n",
       " 'owner': 456,\n",
       " 'daughter': 1170,\n",
       " 'door': 460,\n",
       " 'suddenly': 462,\n",
       " 'apparent': 463,\n",
       " 'place': 1152,\n",
       " 'footballer': 1134,\n",
       " 'include': 471,\n",
       " 'taste': 474,\n",
       " 'stand': 476,\n",
       " 'proudly': 477,\n",
       " 'table': 478,\n",
       " 'point': 887,\n",
       " 'hundred': 481,\n",
       " 'photos': 482,\n",
       " 'shirt': 587,\n",
       " 'adorn': 489,\n",
       " 'wall': 490,\n",
       " 'family': 1085,\n",
       " \"n't\": 528,\n",
       " 'visit': 495,\n",
       " 'father': 1137,\n",
       " 'liked': 498,\n",
       " 'barbecue': 499,\n",
       " 'photo': 502,\n",
       " 'journalist': 508,\n",
       " 'part-time': 509,\n",
       " 'waitress': 510,\n",
       " 'spent': 515,\n",
       " 'couple': 1160,\n",
       " 'year': 1126,\n",
       " 'write': 518,\n",
       " 'extensively': 519,\n",
       " 'phone': 522,\n",
       " 'stop': 523,\n",
       " 'ring': 524,\n",
       " 'people': 855,\n",
       " 'beg': 526,\n",
       " 'ticket': 874,\n",
       " 'get': 1083,\n",
       " 'number': 531,\n",
       " 'mum': 533,\n",
       " 'throw': 534,\n",
       " 'tell': 1037,\n",
       " 'everyone': 931,\n",
       " 'laugh.\\\\': 539,\n",
       " 'britain': 543,\n",
       " 'grow': 544,\n",
       " 'witnessed': 547,\n",
       " 'sea': 548,\n",
       " 'change': 549,\n",
       " 'attitudes': 550,\n",
       " 'arrival': 556,\n",
       " 'unite': 900,\n",
       " 'cup': 565,\n",
       " 'reach': 566,\n",
       " 'semifinal': 567,\n",
       " 'co-hosts': 568,\n",
       " 'believe': 569,\n",
       " 'spark': 572,\n",
       " 'wave': 574,\n",
       " 'hysteria': 575,\n",
       " 'patriotism': 576,\n",
       " 'inspire': 1241,\n",
       " 'young': 1140,\n",
       " 'generation': 1095,\n",
       " 'back': 586,\n",
       " 'never': 588,\n",
       " 'kid': 608,\n",
       " 'newspaper': 591,\n",
       " 'child': 1235,\n",
       " 'admire': 605,\n",
       " 'want': 719,\n",
       " 'footstep': 1063,\n",
       " 'fan': 616,\n",
       " 'watch': 1101,\n",
       " 'go': 938,\n",
       " 'underground': 618,\n",
       " 'bus': 619,\n",
       " 'waving': 623,\n",
       " 'flag': 625,\n",
       " 'television': 626,\n",
       " 'grown': 627,\n",
       " 'strange': 630,\n",
       " 'thing': 633,\n",
       " 'secure': 674,\n",
       " 'victory': 682,\n",
       " 'asian': 666,\n",
       " 'headline': 649,\n",
       " 'news': 650,\n",
       " 'men': 653,\n",
       " 'deem': 654,\n",
       " 'physically': 655,\n",
       " 'capable': 656,\n",
       " 'require': 1194,\n",
       " 'complete': 658,\n",
       " 'month': 659,\n",
       " 'military': 691,\n",
       " 'service': 661,\n",
       " 'exemption': 730,\n",
       " 'gold': 743,\n",
       " 'medal': 744,\n",
       " 'color': 669,\n",
       " 'olympic': 1052,\n",
       " 'fortunately': 672,\n",
       " 'much-needed': 675,\n",
       " 'lead': 678,\n",
       " '2-1': 681,\n",
       " 'japan': 683,\n",
       " 'end': 879,\n",
       " 'speculation': 685,\n",
       " 'halt': 686,\n",
       " 'career': 704,\n",
       " 'something': 692,\n",
       " 'really': 739,\n",
       " 'sensitive': 694,\n",
       " 'add': 697,\n",
       " 'prolong': 703,\n",
       " 'normally': 711,\n",
       " 'specific': 712,\n",
       " 'reason': 713,\n",
       " 'government': 725,\n",
       " 'thought': 726,\n",
       " '‘': 728,\n",
       " 'house': 734,\n",
       " 'well.': 735,\n",
       " 'baseball': 738,\n",
       " 'big': 740,\n",
       " 'proper': 745,\n",
       " 'way': 1029,\n",
       " 'turn': 748,\n",
       " 'out.': 749,\n",
       " 'play': 939,\n",
       " 'impact': 1091,\n",
       " 'felt': 759,\n",
       " 'wide': 761,\n",
       " 'title': 765,\n",
       " 'european': 766,\n",
       " 'pioneer': 771,\n",
       " 'overshadow': 774,\n",
       " 'alongside': 776,\n",
       " 'like': 1058,\n",
       " 'cristiano': 778,\n",
       " 'ronaldo': 779,\n",
       " 'wayne': 780,\n",
       " 'rooney': 781,\n",
       " 'seol': 783,\n",
       " 'ki-hyun': 784,\n",
       " 'lee': 785,\n",
       " 'young-pyo': 786,\n",
       " 'kim': 871,\n",
       " 'bo-kyung': 788,\n",
       " 'din': 792,\n",
       " 'fail': 793,\n",
       " 'quite': 794,\n",
       " 'appear': 1117,\n",
       " 'problem': 854,\n",
       " 'goal-scoring': 802,\n",
       " 'exploit': 1002,\n",
       " 'propel': 804,\n",
       " 'spotlight': 805,\n",
       " 'fly': 850,\n",
       " 'action': 814,\n",
       " 'sukchan': 869,\n",
       " 'daniel': 870,\n",
       " 'unusual': 852,\n",
       " 'supporter': 921,\n",
       " 'catch': 829,\n",
       " 'glimpse': 830,\n",
       " 'flight': 834,\n",
       " 'addition': 835,\n",
       " 'accommodation': 836,\n",
       " 'match': 839,\n",
       " 'stayed': 846,\n",
       " 'sometimes': 873,\n",
       " 'secondary': 877,\n",
       " 'website': 878,\n",
       " 'price': 882,\n",
       " 'start': 886,\n",
       " 'interest': 890,\n",
       " 'rocket': 891,\n",
       " 'inspired': 895,\n",
       " 'whole': 896,\n",
       " 'sam': 1177,\n",
       " 'own': 907,\n",
       " 'support': 1180,\n",
       " 'trafford': 918,\n",
       " 'club': 1188,\n",
       " 'yes': 962,\n",
       " 'probably': 943,\n",
       " 'would.': 944,\n",
       " 'hoil': 965,\n",
       " 'choi': 966,\n",
       " 'dentist': 964,\n",
       " 'agrees': 950,\n",
       " 'consider': 952,\n",
       " 'switch': 953,\n",
       " 'allegiance': 954,\n",
       " 'arsenal': 955,\n",
       " 'deadly': 959,\n",
       " 'rival': 960,\n",
       " 'laugh': 961,\n",
       " 'wait': 1244,\n",
       " 'haircut': 969,\n",
       " 'sunny': 1159,\n",
       " 'field': 1103,\n",
       " 'chord': 983,\n",
       " 'byeong': 1054,\n",
       " 'pastor': 987,\n",
       " 'also': 988,\n",
       " 'run': 1146,\n",
       " 'branch': 996,\n",
       " 'council': 1046,\n",
       " 'admires': 1008,\n",
       " 'technical': 1010,\n",
       " 'physical': 1011,\n",
       " 'attribute': 1012,\n",
       " 'instilled': 1015,\n",
       " 'former': 1018,\n",
       " 'woon-jung': 1021,\n",
       " 'next': 1024,\n",
       " 'prepare': 1031,\n",
       " 'life': 1032,\n",
       " 'real': 1034,\n",
       " 'cnn': 1038,\n",
       " 'hyoon-gyun': 1039,\n",
       " 'oh': 1040,\n",
       " 'chairman': 1041,\n",
       " 'right': 1114,\n",
       " 'pin': 1048,\n",
       " 'symbol': 1049,\n",
       " 'committee': 1053,\n",
       " 'lapel': 1057,\n",
       " 'youngster': 1060,\n",
       " 'second': 1066,\n",
       " 'third': 1067,\n",
       " \"'son\": 1068,\n",
       " 'future': 1070,\n",
       " 'adapt': 1075,\n",
       " 'barrier': 1077,\n",
       " 'raise': 1079,\n",
       " 'obstacle': 1081,\n",
       " 'bring': 1084,\n",
       " 'struggle': 1089,\n",
       " 'british-born': 1096,\n",
       " 'forge': 1099,\n",
       " 'path': 1100,\n",
       " 'side': 1102,\n",
       " 'min': 1104,\n",
       " 'kyu': 1105,\n",
       " 'look': 1109,\n",
       " 'ball': 1113,\n",
       " 'foot': 1119,\n",
       " 'leave': 1116,\n",
       " 'comfortable': 1118,\n",
       " 'training': 1120,\n",
       " 'drill': 1121,\n",
       " 'keen': 1123,\n",
       " 'teenage': 1125,\n",
       " 'challenge': 1129,\n",
       " 'cut': 1139,\n",
       " 'customer': 1141,\n",
       " 'wife': 1158,\n",
       " 'sassoon': 1153,\n",
       " 'hairdressing': 1154,\n",
       " 'academy': 1155,\n",
       " 'meet': 1157,\n",
       " 'long': 1166,\n",
       " 'hour': 1167,\n",
       " 'provide': 1168,\n",
       " 'successful': 1171,\n",
       " 'junior': 1172,\n",
       " 'golfer': 1173,\n",
       " 'pursue': 1175,\n",
       " 'commitment': 1183,\n",
       " 'least': 1185,\n",
       " 'trial': 1192,\n",
       " 'find': 1197,\n",
       " 'cover': 1198,\n",
       " 'unable': 1201,\n",
       " 'sacrifice': 1203,\n",
       " 'mean': 1205,\n",
       " 'min-kyu-ji': 1208,\n",
       " 'sits': 1210,\n",
       " 'teammate': 1211,\n",
       " 'session': 1213,\n",
       " 'love': 1217,\n",
       " 'eats': 1225,\n",
       " 'miracle': 1229,\n",
       " 'brilliant': 1231,\n",
       " 'guess': 1243}"
      ]
     },
     "execution_count": 57,
     "metadata": {},
     "output_type": "execute_result"
    }
   ],
   "source": [
    "token2idx"
   ]
  },
  {
   "cell_type": "code",
   "execution_count": 58,
   "metadata": {},
   "outputs": [
    {
     "data": {
      "text/plain": [
       "<Text: 손흥민 관련 뉴스 기사>"
      ]
     },
     "execution_count": 58,
     "metadata": {},
     "output_type": "execute_result"
    }
   ],
   "source": [
    "from nltk import Text\n",
    "import matplotlib.pyplot as plt\n",
    "\n",
    "# Text객체 생성 - 토큰을 분석해주는 객체 \n",
    "news_text = Text(\n",
    "    news_tokens_flat, # 분석 대상 문서 : 토큰 리스트(1차원) or str-내부적으로 글자 단위 토큰화 \n",
    "    name='손흥민 관련 뉴스 기사'\n",
    ")\n",
    "news_text"
   ]
  },
  {
   "cell_type": "code",
   "execution_count": 59,
   "metadata": {},
   "outputs": [
    {
     "name": "stdout",
     "output_type": "stream",
     "text": [
      "2 13\n",
      "new malden; premier league; hair salon; korean community; work ethic;\n",
      "travel agent; south korean; hoil choi; sukchan daniel; agent sukchan;\n",
      "south korea; become professional; daniel kim; sport council; asian\n",
      "game; gold medal; high street; score goal; home large; champion league\n",
      "None\n",
      "[ConcordanceLine(left=['clipper', 'faint', 'smell', 'hairspray', 'seem', 'happen', 'often', 'part', 'world', 'new', 'malden', 'suburban', 'southwest', 'london', 'ears', 'prick', 'name', '“', 'mr'], query='son', right=['”', 'mention', 'mr.', 'son', 'affectionately', 'know', 'actually', 'son', 'heung-min', 'south', 'korean', 'tottenham', 'football', 'star', 'national', 'hero', 'refer', 'mr.'], offset=45, left_print='southwest london ears prick name “ mr', right_print='” mention mr. son affectionately know', line='southwest london ears prick name “ mr son ” mention mr. son affectionately know'), ConcordanceLine(left=['seem', 'happen', 'often', 'part', 'world', 'new', 'malden', 'suburban', 'southwest', 'london', 'ears', 'prick', 'name', '“', 'mr', 'son', '”', 'mention', 'mr.'], query='son', right=['affectionately', 'know', 'actually', 'son', 'heung-min', 'south', 'korean', 'tottenham', 'football', 'star', 'national', 'hero', 'refer', 'mr.', 'son', 'sign', 'high', 'esteem'], offset=49, left_print='ars prick name “ mr son ” mention mr.', right_print='affectionately know actually son heun', line='ars prick name “ mr son ” mention mr. son affectionately know actually son heun')]\n"
     ]
    }
   ],
   "source": [
    "# 특정 단어의 빈도수\n",
    "print(news_text.count('foot'), news_text.count('football'))\n",
    "# 관계있는 단어 세트\n",
    "print(news_text.collocations())\n",
    "# 문맥 파악 \n",
    "print(news_text.concordance_list('son')[:2])"
   ]
  },
  {
   "cell_type": "code",
   "execution_count": 60,
   "metadata": {},
   "outputs": [],
   "source": [
    "plt.rcParams['font.family'] = 'malgun gothic'\n",
    "plt.rcParams['axes.unicode_minus'] = False"
   ]
  },
  {
   "cell_type": "code",
   "execution_count": 61,
   "metadata": {},
   "outputs": [
    {
     "data": {
      "image/png": "[encoded data removed]",
      "text/plain": [
       "<Figure size 640x480 with 1 Axes>"
      ]
     },
     "metadata": {},
     "output_type": "display_data"
    }
   ],
   "source": [
    "# 내부 plot(n) 메소드 : 상위 빈도 n개 시각화 \n",
    "news_text.plot(20)\n",
    "plt.title('빈도수 상위 20%')\n",
    "plt.show()\n"
   ]
  },
  {
   "cell_type": "code",
   "execution_count": 62,
   "metadata": {},
   "outputs": [
    {
     "data": {
      "image/png": "[encoded data removed]",
      "text/plain": [
       "<Figure size 640x480 with 1 Axes>"
      ]
     },
     "metadata": {},
     "output_type": "display_data"
    }
   ],
   "source": [
    "# 내부 dispoersion_plot(words:list) : 주어진 토큰의 출현 빈도 시각화\n",
    "news_text.dispersion_plot(\n",
    "    ['korean', 'son', 'football', 'korea']\n",
    ")\n",
    "plt.title('문맥에 따른 단어 출현 빈도')\n",
    "plt.show()"
   ]
  },
  {
   "cell_type": "markdown",
   "metadata": {},
   "source": [
    "## FreqDist\n",
    "- Text 객체에서 뽑거나 직접 생성할 수 있다.\n",
    "- document에서 사용된 토큰(단어)의 사용 빈도수와 관련 정보를 조회할 수있는 분석 클래스.\n",
    "    - 토큰(단어)를 key, 개수를 value로 가지는 딕셔너리 형태 -> 딕셔너리 기본 메소드 사용가능\n",
    "- 생성\n",
    "    - Text 객체의 vocab() 메소드로 조회한다.\n",
    "    - 생성자(Initializer)에 토큰 List를 직접 넣어 생성가능\n",
    "- 주요 메소드\n",
    "    - B(): 출연한 고유 단어의 개수\n",
    "        - [Apple, Apple] -> 1\n",
    "    - N(): 총 단어수 \n",
    "        - [Apple, Apple] -> 2\n",
    "    - get(단어) 또는 FreqDist['단어'] : 특정 단어의 출연 빈도수\n",
    "    - freq(단어): 총 단어수 대비 특정단어의 출연비율\n",
    "    - most_common() : 빈도수 순서로 정렬하여 리스트로 반환"
   ]
  },
  {
   "cell_type": "code",
   "execution_count": 63,
   "metadata": {},
   "outputs": [
    {
     "data": {
      "text/plain": [
       "(FreqDist({'son': 44, '’': 37, 'korean': 33, '“': 18, 'new': 17, 'say': 15, 'malden': 13, 'football': 13, 'south': 12, 'work': 12, ...}),\n",
       " FreqDist({'son': 44, '’': 37, 'korean': 33, '“': 18, 'new': 17, 'say': 15, 'malden': 13, 'football': 13, 'south': 12, 'work': 12, ...}))"
      ]
     },
     "execution_count": 63,
     "metadata": {},
     "output_type": "execute_result"
    }
   ],
   "source": [
    "from nltk import FreqDist\n",
    "freq = news_text.vocab()\n",
    "freq2 = FreqDist(news_tokens_flat)\n",
    "freq, freq2"
   ]
  },
  {
   "cell_type": "code",
   "execution_count": 64,
   "metadata": {},
   "outputs": [
    {
     "name": "stdout",
     "output_type": "stream",
     "text": [
      "총 토큰 수 :  1247\n",
      "고유 토큰 수 :  574\n"
     ]
    }
   ],
   "source": [
    "print('총 토큰 수 : ', freq.N())\n",
    "print('고유 토큰 수 : ', freq.B())"
   ]
  },
  {
   "cell_type": "code",
   "execution_count": 65,
   "metadata": {},
   "outputs": [
    {
     "name": "stdout",
     "output_type": "stream",
     "text": [
      "son의 빈도수:  44 44\n",
      "son의 비율 :  0.03528468323977546\n"
     ]
    }
   ],
   "source": [
    "# 특정 토큰(단어) 빈도수_비율 확인\n",
    "word = 'son'\n",
    "print(f'{word}의 빈도수: ', freq.get(word), freq[word])\n",
    "print(f'{word}의 비율 : ', freq.freq(word))"
   ]
  },
  {
   "cell_type": "code",
   "execution_count": 66,
   "metadata": {},
   "outputs": [
    {
     "data": {
      "text/plain": [
       "[('son', 44), ('’', 37), ('korean', 33), ('“', 18), ('new', 17)]"
      ]
     },
     "execution_count": 66,
     "metadata": {},
     "output_type": "execute_result"
    }
   ],
   "source": [
    "freq.most_common(5)"
   ]
  },
  {
   "cell_type": "code",
   "execution_count": null,
   "metadata": {},
   "outputs": [],
   "source": []
  },
  {
   "cell_type": "markdown",
   "metadata": {},
   "source": [
    "# Word Cloud\n",
    "\n",
    "- 텍스트의 단어의 빈도수를 시각적으로 표현하는 도구로 **문서의 주요 키워드들을 시각적으로 확인할 때 사용한다.**\n",
    "     - 빈도수가 높은 단어는 크고 굵게, 빈도수가 낮은 단어는 작고 얇게 표현한다.\n",
    "- wordcloud 패키지 사용\n",
    "     - 설치: `pip install wordcloud`"
   ]
  },
  {
   "cell_type": "code",
   "execution_count": null,
   "metadata": {},
   "outputs": [
    {
     "name": "stdout",
     "output_type": "stream",
     "text": [
      "Collecting wordcloud\n",
      "  Downloading wordcloud-1.9.4-cp312-cp312-win_amd64.whl.metadata (3.5 kB)\n",
      "Requirement already satisfied: numpy>=1.6.1 in c:\\users\\playdata\\appdata\\local\\miniconda3\\envs\\dl\\lib\\site-packages (from wordcloud) (2.2.5)\n",
      "Requirement already satisfied: pillow in c:\\users\\playdata\\appdata\\local\\miniconda3\\envs\\dl\\lib\\site-packages (from wordcloud) (11.2.1)\n",
      "Requirement already satisfied: matplotlib in c:\\users\\playdata\\appdata\\local\\miniconda3\\envs\\dl\\lib\\site-packages (from wordcloud) (3.10.1)\n",
      "Requirement already satisfied: contourpy>=1.0.1 in c:\\users\\playdata\\appdata\\local\\miniconda3\\envs\\dl\\lib\\site-packages (from matplotlib->wordcloud) (1.3.2)\n",
      "Requirement already satisfied: cycler>=0.10 in c:\\users\\playdata\\appdata\\local\\miniconda3\\envs\\dl\\lib\\site-packages (from matplotlib->wordcloud) (0.12.1)\n",
      "Requirement already satisfied: fonttools>=4.22.0 in c:\\users\\playdata\\appdata\\local\\miniconda3\\envs\\dl\\lib\\site-packages (from matplotlib->wordcloud) (4.57.0)\n",
      "Requirement already satisfied: kiwisolver>=1.3.1 in c:\\users\\playdata\\appdata\\local\\miniconda3\\envs\\dl\\lib\\site-packages (from matplotlib->wordcloud) (1.4.8)\n",
      "Requirement already satisfied: packaging>=20.0 in c:\\users\\playdata\\appdata\\local\\miniconda3\\envs\\dl\\lib\\site-packages (from matplotlib->wordcloud) (25.0)\n",
      "Requirement already satisfied: pyparsing>=2.3.1 in c:\\users\\playdata\\appdata\\local\\miniconda3\\envs\\dl\\lib\\site-packages (from matplotlib->wordcloud) (3.2.3)\n",
      "Requirement already satisfied: python-dateutil>=2.7 in c:\\users\\playdata\\appdata\\local\\miniconda3\\envs\\dl\\lib\\site-packages (from matplotlib->wordcloud) (2.9.0.post0)\n",
      "Requirement already satisfied: six>=1.5 in c:\\users\\playdata\\appdata\\local\\miniconda3\\envs\\dl\\lib\\site-packages (from python-dateutil>=2.7->matplotlib->wordcloud) (1.17.0)\n",
      "Downloading wordcloud-1.9.4-cp312-cp312-win_amd64.whl (301 kB)\n",
      "Installing collected packages: wordcloud\n",
      "Successfully installed wordcloud-1.9.4\n",
      "Note: you may need to restart the kernel to use updated packages.\n"
     ]
    }
   ],
   "source": [
    "# %pip install wordcloud"
   ]
  },
  {
   "cell_type": "code",
   "execution_count": 71,
   "metadata": {},
   "outputs": [],
   "source": [
    "from wordcloud import WordCloud\n",
    "# 1. WordCloud 객체 생성 - 어떻게 그릴지 설정\n",
    "wc = WordCloud(\n",
    "    max_words=200,          # 최대 사용 단어 제한 by 빈도수 순서 \n",
    "    prefer_horizontal=0.5,  # 가로로 작성할 단어의 비율, default -> random 임\n",
    "    min_font_size=1,\n",
    "    relative_scaling=0.5,   # 빈도수 별 scaling 상승 비율 \n",
    "    width=400,\n",
    "    height=300,\n",
    "    colormap='winter',\n",
    "    contour_color='black'\n",
    ")"
   ]
  },
  {
   "cell_type": "code",
   "execution_count": 72,
   "metadata": {},
   "outputs": [
    {
     "data": {
      "text/plain": [
       "<wordcloud.wordcloud.WordCloud at 0x22ab2412390>"
      ]
     },
     "execution_count": 72,
     "metadata": {},
     "output_type": "execute_result"
    }
   ],
   "source": [
    "# 2. WordCloud 객체에 Data를 넣어서 그래프를 생성\n",
    "wc_img = wc.generate_from_frequencies(freq)\n",
    "wc_img"
   ]
  },
  {
   "cell_type": "code",
   "execution_count": 73,
   "metadata": {},
   "outputs": [
    {
     "data": {
      "text/plain": [
       "<wordcloud.wordcloud.WordCloud at 0x22ab2412390>"
      ]
     },
     "execution_count": 73,
     "metadata": {},
     "output_type": "execute_result"
    }
   ],
   "source": [
    "# 3. 이미지 객체를 파일로 저장\n",
    "wc_img.to_file('news_cloud.png')"
   ]
  },
  {
   "cell_type": "code",
   "execution_count": 74,
   "metadata": {},
   "outputs": [
    {
     "data": {
      "image/png": "[encoded data removed]",
      "text/plain": [
       "<Figure size 640x480 with 1 Axes>"
      ]
     },
     "metadata": {},
     "output_type": "display_data"
    }
   ],
   "source": [
    "plt.imshow(wc_img)\n",
    "plt.xticks([])\n",
    "plt.yticks([])\n",
    "plt.tight_layout()\n",
    "plt.show()"
   ]
  },
  {
   "cell_type": "code",
   "execution_count": null,
   "metadata": {},
   "outputs": [],
   "source": []
  },
  {
   "cell_type": "code",
   "execution_count": null,
   "metadata": {},
   "outputs": [],
   "source": []
  }
 ],
 "metadata": {
  "kernelspec": {
   "display_name": "dl",
   "language": "python",
   "name": "python3"
  },
  "language_info": {
   "codemirror_mode": {
    "name": "ipython",
    "version": 3
   },
   "file_extension": ".py",
   "mimetype": "text/x-python",
   "name": "python",
   "nbconvert_exporter": "python",
   "pygments_lexer": "ipython3",
   "version": "3.12.10"
  },
  "toc": {
   "base_numbering": 1,
   "nav_menu": {},
   "number_sections": false,
   "sideBar": true,
   "skip_h1_title": false,
   "title_cell": "Table of Contents",
   "title_sidebar": "Contents",
   "toc_cell": false,
   "toc_position": {},
   "toc_section_display": true,
   "toc_window_display": false
  },
  "varInspector": {
   "cols": {
    "lenName": 16,
    "lenType": 16,
    "lenVar": 40
   },
   "kernels_config": {
    "python": {
     "delete_cmd_postfix": "",
     "delete_cmd_prefix": "del ",
     "library": "var_list.py",
     "varRefreshCmd": "print(var_dic_list())"
    },
    "r": {
     "delete_cmd_postfix": ") ",
     "delete_cmd_prefix": "rm(",
     "library": "var_list.r",
     "varRefreshCmd": "cat(var_dic_list()) "
    }
   },
   "types_to_exclude": [
    "module",
    "function",
    "builtin_function_or_method",
    "instance",
    "_Feature"
   ],
   "window_display": false
  }
 },
 "nbformat": 4,
 "nbformat_minor": 4
}
