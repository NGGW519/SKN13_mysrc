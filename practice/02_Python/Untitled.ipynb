{
 "cells": [
  {
   "cell_type": "code",
   "execution_count": 1,
   "id": "7b7a25e7-a862-4257-93aa-c3be7f9dfdee",
   "metadata": {},
   "outputs": [
    {
     "name": "stdout",
     "output_type": "stream",
     "text": [
      "Writing ./module_prac/test_module.py\n"
     ]
    }
   ],
   "source": [
    "%%writefile ./module_prac/test_module.py\n",
    "\n",
    "PI = 3.141592\n",
    "\n",
    "def number_input():\n",
    "    output = input(\"Enter number>\")\n",
    "    return float(output)\n",
    "\n",
    "def get_circumference(radius):\n",
    "    return 2 * PI * radius\n",
    "\n",
    "def get_circle_area(radius):\n",
    "    return PI * radius ** 2"
   ]
  },
  {
   "cell_type": "code",
   "execution_count": 6,
   "id": "472d7efa-c044-4e81-ad43-55d2edabb64a",
   "metadata": {},
   "outputs": [
    {
     "name": "stdout",
     "output_type": "stream",
     "text": [
      "37.699104000000005\n",
      "113.097312\n"
     ]
    }
   ],
   "source": [
    "print(tm.get_circumference(radius))\n",
    "print(tm.get_circle_area(radius))"
   ]
  },
  {
   "cell_type": "code",
   "execution_count": 4,
   "id": "3c01e080-e865-49d2-88ce-8e852d90b587",
   "metadata": {},
   "outputs": [
    {
     "name": "stdin",
     "output_type": "stream",
     "text": [
      "Enter number> 6\n"
     ]
    },
    {
     "name": "stdout",
     "output_type": "stream",
     "text": [
      "37.699104000000005\n",
      "113.097312\n"
     ]
    }
   ],
   "source": [
    "from module_prac import test_module as tm\n",
    "\n",
    "radius = tm.number_input()\n",
    "print(tm.get_circumference(radius))\n",
    "print(tm.get_circle_area(radius))"
   ]
  }
 ],
 "metadata": {
  "kernelspec": {
   "display_name": "Python 3 (ipykernel)",
   "language": "python",
   "name": "python3"
  },
  "language_info": {
   "codemirror_mode": {
    "name": "ipython",
    "version": 3
   },
   "file_extension": ".py",
   "mimetype": "text/x-python",
   "name": "python",
   "nbconvert_exporter": "python",
   "pygments_lexer": "ipython3",
   "version": "3.12.9"
  }
 },
 "nbformat": 4,
 "nbformat_minor": 5
}
