{
 "cells": [
  {
   "cell_type": "markdown",
   "id": "a2f58681",
   "metadata": {},
   "source": [
    "# pymysql\n",
    "\n",
    "-   파이썬에서 MySQL, MariaDB DBMS와 연동하는 다양한 함수를 제공하는 모듈\n",
    "-   Python [DB API 2.0](http://www.python.org/dev/peps/pep-0249) 표준을 따른다.\n",
    "-   https://github.com/PyMySQL/PyMySQL/\n",
    "-   https://pymysql.readthedocs.io/en/latest/\n"
   ]
  },
  {
   "cell_type": "markdown",
   "id": "43cccb80",
   "metadata": {},
   "source": [
    "# 설치\n",
    "\n",
    "-   조건\n",
    "    -   python version 3.6 이상\n",
    "    -   mysql version 5.6 이상\n",
    "-   설치\n",
    "    -   `pip install pymysql`\n",
    "    -   `conda install -c conda-forge pymysql`\n"
   ]
  },
  {
   "cell_type": "code",
   "execution_count": 1,
   "id": "16ddb3ec",
   "metadata": {},
   "outputs": [
    {
     "name": "stdout",
     "output_type": "stream",
     "text": [
      "Requirement already satisfied: pymysql in c:\\users\\playdata\\appdata\\local\\miniconda3\\lib\\site-packages (1.1.1)\n",
      "Note: you may need to restart the kernel to use updated packages.\n"
     ]
    }
   ],
   "source": [
    "%pip install pymysql"
   ]
  },
  {
   "cell_type": "markdown",
   "id": "7572463d",
   "metadata": {},
   "source": [
    "# 기본 작성 절차\n",
    "\n",
    "1. Database 연결\n",
    "    ```python\n",
    "       connection =  pymysql.connect(host:str=\"DBMS 서버 ip\",\n",
    "                                     port:int=port번호,\n",
    "                                     user:str=\"계정명\",\n",
    "                                     password:str=\"비밀번호\",\n",
    "                                     db:str=\"연결할데이터베이스이름\")\n",
    "    ```\n",
    "    - port 번호 기본값: 3306\n",
    "    - ContextManager 타입으로 with 구문을 이용해 작성하면 close() 작업을 자동으로 처리한다.\n",
    "2. Connection을 이용해 Cursor 생성\n",
    "    - Cursor: 연결된 Database에 sql문을 전송하고 select결과 조회 기능을 제공하는 객체. 즉, 입출력 작업을 해주는 애\n",
    "    ```python\n",
    "        cursor = connection.cursor()\n",
    "    ```\n",
    "    - ContextManager 타입으로 with 구문을 이용해 작성하면 close() 작업을 자동으로 처리한다.\n",
    "3. Cusror를 이용해 SQL문 실행(DB Server로 전송)\n",
    "    ```python\n",
    "        cursor.execute(\"sql문\")\n",
    "    ```\n",
    "4. Select 결과 조회\n",
    "    - select 문을 실행한 경우 cursor를 의 fetch 메소드들을 이용해 select 결과를 조회한다.\n",
    "    ```python\n",
    "    result = cursor.fetchall()\n",
    "    ```\n",
    "5. 연결 닫기\n",
    "    - cursor, connection 연결을 닫는다.\n",
    "    - with문을 이용할 수 있다.\n",
    "    ```python\n",
    "    cursor.close()\n",
    "    connection.close()\n",
    "    ```\n"
   ]
  },
  {
   "cell_type": "markdown",
   "id": "3262b127",
   "metadata": {},
   "source": [
    "# 예제\n",
    "\n",
    "## 테이블 생성\n"
   ]
  },
  {
   "cell_type": "code",
   "execution_count": 5,
   "id": "1fbddc50-275f-4803-b3f9-2f8f19a86690",
   "metadata": {},
   "outputs": [],
   "source": [
    "create_sql = \"\"\"\n",
    "create table customer(\n",
    "  id  int  auto_increment  primary key,\n",
    "  name  varchar(20) not null,\n",
    "  email  varchar(50) not null unique, \n",
    "  tall   double,\n",
    "  birthday  date,\n",
    "  created_at  datetime  not null\n",
    ")\n",
    "\"\"\"\n",
    "# sql 문 마지막에 `;` 은 붙이지 않는다."
   ]
  },
  {
   "cell_type": "code",
   "execution_count": 6,
   "id": "d9b6ce09-4545-4540-aa6a-d73adf5a6c13",
   "metadata": {
    "scrolled": true
   },
   "outputs": [],
   "source": [
    "import pymysql # pymysql import하는 것 까먹지 말기\n",
    "\n",
    "try:\n",
    "    conn = None # connection을 저장할 변수\n",
    "    \n",
    "    # 1. Database와 연결.\n",
    "    conn = pymysql.connect(\n",
    "        host=\"127.0.0.1\",    # DBMS 의 ip(host) : str\n",
    "        port=3306,           # DBMS의 port 번호: int\n",
    "        user='nggw519',        # username: str 대문자/소문자 주의!!\n",
    "        password=\"1111\",    # password: str\n",
    "        db=\"mydb\"            #  연결할 Database이름: str\n",
    "    )  # 연결 성공하면 연결된 DB와 관련 작업할 수있는 기능을 제공하는 Connection객체를 반환\n",
    "    \n",
    "    # 2. Connection을 사용해서 Cursor 객체 생성\n",
    "    #    Cursor: sql 처리를 하는 기능을 제공.( sql 전송하고 처리결과를 받을 때까지를 관리)\n",
    "    cursor = conn.cursor()\n",
    "        \n",
    "    # 3. SQL 문 전송\n",
    "    cursor.execute(\"drop table if exists customer\") # 1 만약 customer가 있으면 먼저 지우고 만든다!\n",
    "    cursor.execute(create_sql) \n",
    "    \n",
    "finally:\n",
    "    # 4. 연결닫기(끊기)\n",
    "    # 만약 connection을 하는 과정에서 에러가 생겼다면, 애초에 conn이 발생하지않아 close 할 필요도 없다.\n",
    "    # 이경우 exception이 생겨 finally구문에서는 if조건절이 None(false)이므로 close 실행 안함\n",
    "    # but 정상적으로 작동해서 conn이 생긴다면 조건절이 True가 되어 close한다\n",
    "    if conn: # conn != None  -> 최초에 conn에 None을 담아두었다. \n",
    "        cursor.close() # 4-1. cursor 연결 닫기\n",
    "        conn.close()   # 4-2. connection 연결 닫기"
   ]
  },
  {
   "cell_type": "code",
   "execution_count": null,
   "id": "6f676b11-04b4-4591-9601-51973a9415f7",
   "metadata": {},
   "outputs": [],
   "source": []
  },
  {
   "cell_type": "markdown",
   "id": "98b6a836-68da-4dcb-80fc-f0ac22949b8b",
   "metadata": {},
   "source": [
    "## 파이썬 타입과 연결된 sql 데이터타입 \n",
    "- str - 문자열타입(char, varchar, text,...)\n",
    "- int - 정수(tiny int , int, ....)\n",
    "- float - 실수(float, double)\n",
    "- decimal.Decimal - 실수(decimal)\n",
    "- datetime.date - date\n",
    "- datetime.time - time\n",
    "- datetime.datetime - datetime, timestamp"
   ]
  },
  {
   "cell_type": "markdown",
   "id": "6741499c-a897-4092-8f11-df4720345cf7",
   "metadata": {},
   "source": [
    "> ### datetime 모듈\n",
    "> - 파이썬에서 날짜, 시간을 다루는 모듈\n",
    "> - 날짜 type(class): date\n",
    "> - 시간 type: time\n",
    "> - 날짜시간 type: datetime"
   ]
  },
  {
   "cell_type": "code",
   "execution_count": 12,
   "id": "49c5123b-bde7-48f4-b50e-df760306608f",
   "metadata": {},
   "outputs": [
    {
     "name": "stdout",
     "output_type": "stream",
     "text": [
      "2025-04-08 10:12:12.440025\n",
      "2025 4 8 10 12 12\n",
      "2025-04-08\n",
      "2000-10-02\n",
      "1990-02-07 10:22:53\n",
      "17:22:33\n"
     ]
    }
   ],
   "source": [
    "# datetime 모듈 쓰는법\n",
    "# datetime은 파이썬에서 제공하는 내장된 표준모듈\n",
    "\n",
    "from datetime import date, time, datetime\n",
    "\n",
    "#실행시점\n",
    "a = datetime.now()\n",
    "print(a)\n",
    "print(a.year, a.month ,a.day, a.hour, a.minute, a.second)\n",
    "b = date.today() # 날짜만!!\n",
    "print(b)\n",
    "\n",
    "# 특정 시점의 일시\n",
    "c = date(2000, 10, 2)\n",
    "print(c)\n",
    "d = datetime(1990, 2, 7, 10, 22, 53)\n",
    "print(d)\n",
    "e = time(17, 22, 33)\n",
    "print(e)"
   ]
  },
  {
   "cell_type": "markdown",
   "id": "59b4e786",
   "metadata": {},
   "source": [
    "## DML\n",
    "\n",
    "### insert\n"
   ]
  },
  {
   "cell_type": "code",
   "execution_count": 13,
   "id": "61deab37",
   "metadata": {},
   "outputs": [],
   "source": [
    "sql = \"insert into customer (name, email, tall, birthday, created_at) values('이순신', 'lee1@naver.com', 185.23, '2000-09-20', now())\"\n",
    "# id는 auto_increment라서 생략함\n",
    "# values 넣을때 작은따옴표!!"
   ]
  },
  {
   "cell_type": "code",
   "execution_count": 14,
   "id": "c78ebebd",
   "metadata": {
    "scrolled": true
   },
   "outputs": [
    {
     "name": "stdout",
     "output_type": "stream",
     "text": [
      "처리 행수: 1\n"
     ]
    }
   ],
   "source": [
    "# with 문을 이용해 connection, cursor 생성: with block을 빠져 나올 때 자동으로 close() 처리한다.\n",
    "#  DML(insert/update/delete) 처리 후 commit을 실행해야 영구적으로 적용된다.\n",
    "with pymysql.connect(host=\"127.0.0.1\", port=3306, user=\"nggw519\", password=\"1111\", db=\"mydb\") as conn:\n",
    "    with conn.cursor() as cursor:\n",
    "        result = cursor.execute(sql) # execute는 무조건 반환값이 있다. 반환값: 괄호안에 넣어준 쿼리 내에서 처리된 문장 행수(insert/delete/update된행수, select 조회행수)\n",
    "        print(\"처리 행수:\", result)\n",
    "        conn.commit()\n",
    "# execute를 하면 메모리에(DBMS) sql문이 임시적으로 저장된다. 이후 commit을 해줘야 db내에 영구적으로 저장이 된다.\n",
    "# commit 전에는 아직 db에 저장된게 아니라서, db를 확인해보면 DML이 처리되기 전이다.\n",
    "# commit되기 전에는 rollback 가능"
   ]
  },
  {
   "cell_type": "markdown",
   "id": "c1d9de83",
   "metadata": {
    "ExecuteTime": {
     "end_time": "2022-04-19T06:23:30.323879Z",
     "start_time": "2022-04-19T06:23:30.304888Z"
    }
   },
   "source": [
    "### Parameterized Query\n",
    "\n",
    "-   Parameterized Query\n",
    "    -   SQL 문에서 컬럼 값이 들어가는 자리에 값대신 `%s` placeholder를 사용한뒤 execute()에서 placeholder에 넣을 값을 list나 tuple로 제공한다.\n",
    "    -   동일한 쿼리문을 값을 바꿔가면서 여러번 실행할 때 유용하다.\n"
   ]
  },
  {
   "cell_type": "code",
   "execution_count": 10,
   "id": "85b23241-9ea0-4d76-8ce4-1502e5d2c49f",
   "metadata": {
    "scrolled": true
   },
   "outputs": [
    {
     "name": "stdin",
     "output_type": "stream",
     "text": [
      "이름: 김철수\n",
      "이메일주소: ads@ds.d\n",
      "키: 179\n"
     ]
    },
    {
     "name": "stdout",
     "output_type": "stream",
     "text": [
      "처리 행수: 1\n"
     ]
    }
   ],
   "source": [
    "import pymysql\n",
    "\n",
    "# insert할 값 입력받기\n",
    "name = input(\"이름:\")\n",
    "email = input(\"이메일주소:\")\n",
    "tall = float(input(\"키:\"))\n",
    "\n",
    "insert_sql = \"insert into customer (name, email, tall, birthday, created_at) values (%s, %s, %s, %s, now())\"\n",
    "\n",
    "with pymysql.connect(host=\"127.0.0.1\", port=3306, user='nggw519', password='1111', db='mydb') as conn:\n",
    "    with conn.cursor() as cursor:\n",
    "        result = cursor.execute(insert_sql, [name, email, tall, \"2010-01-01\"]) # 리스트나 튜플로 묶어주면된다.\n",
    "        conn.commit()\n",
    "        print(\"처리 행수:\", result)"
   ]
  },
  {
   "cell_type": "markdown",
   "id": "7322f3bb",
   "metadata": {},
   "source": [
    "#### Parameterized Query를 이용해 여러개 행 insert\n",
    "\n",
    "- executemany() 사용\n",
    "    - insert할 값들을 가진 리스트를 넣어 한번에 여러 행을 insert한다.\n"
   ]
  },
  {
   "cell_type": "code",
   "execution_count": 11,
   "id": "f72beeb1",
   "metadata": {},
   "outputs": [],
   "source": [
    "from datetime import datetime, date\n",
    "datas = [\n",
    "    [\"김인영\", \"abc2@a.com\", 165, date(2005, 1, 12), datetime.now()],\n",
    "    [\"오수철\", \"def2@a.com\", 175, date(1995, 12, 20), datetime.now()],\n",
    "    [\"최유명\", \"ghi2@a.com\", 183, date(1978, 10, 28), datetime.now()],\n",
    "    [\"김명수\", \"jkl@abc.com\", 177, date(2000, 2, 12), datetime.now()],\n",
    "    [\"이지영\", \"mno@abc.com\", 163, date(1995, 4, 21), datetime.now()],\n",
    "    [\"박명수\", \"pqr@abc.com\", 185, date(2002, 7, 5), datetime.now()],\n",
    "]"
   ]
  },
  {
   "cell_type": "code",
   "execution_count": 12,
   "id": "2792bae6",
   "metadata": {},
   "outputs": [
    {
     "name": "stdout",
     "output_type": "stream",
     "text": [
      "insert된 총 행수: 6\n"
     ]
    }
   ],
   "source": [
    "insert_sql = \"insert into customer(name, email, tall, birthday, created_at) values(%s, %s, %s, %s, %s)\"\n",
    "with pymysql.connect(host=\"127.0.0.1\", port=3306, user='nggw519', password='1111', db='mydb') as conn:\n",
    "    with conn.cursor() as cursor:\n",
    "        cnt = cursor.executemany(insert_sql, datas) # execute는 하나씩 처리해주지만 executemany는 datas에 리스트로 된것을 넣어주면 for문으로 돌려주는 것.\n",
    "        conn.commit()\n",
    "\n",
    "print(\"insert된 총 행수:\", cnt)\n",
    "\n",
    "\n",
    "# 아래 두개 코딩은 같은것\n",
    "# 1. cursor.executemany(insert_sql, datas)\n",
    "# 2. for data in datas\n",
    "#        cursor.executemany(insert_sql, datas)"
   ]
  },
  {
   "cell_type": "markdown",
   "id": "d78f4253",
   "metadata": {},
   "source": [
    "### update/delete\n",
    "\n",
    "-   코딩 절차는 insert 와 동일\n"
   ]
  },
  {
   "cell_type": "code",
   "execution_count": 22,
   "id": "5f056266",
   "metadata": {},
   "outputs": [
    {
     "name": "stdin",
     "output_type": "stream",
     "text": [
      "변경할 키:  177.2\n",
      "변경할 고객 ID:  6\n"
     ]
    },
    {
     "name": "stdout",
     "output_type": "stream",
     "text": [
      "처리 행수:  1\n"
     ]
    }
   ],
   "source": [
    "update_sql = \"update customer set tall=%s where id=%s\"\n",
    "tall = float(input(\"변경할 키: \"))\n",
    "cust_id = int(input(\"변경할 고객 ID: \")) # 6번 오수철씨 키 바꿔보기\n",
    "\n",
    "with pymysql.connect(host=\"127.0.0.1\", port=3306, user='nggw519', password='1111', db='mydb') as conn:\n",
    "    with conn.cursor() as cursor:\n",
    "        result = cursor.execute(update_sql, [tall, cust_id])\n",
    "        print(\"처리 행수: \", result)\n",
    "        conn.commit()"
   ]
  },
  {
   "cell_type": "code",
   "execution_count": 24,
   "id": "c07f1e80-a9a4-4a8b-bd4c-e9d0fc1fcd7e",
   "metadata": {},
   "outputs": [
    {
     "name": "stdin",
     "output_type": "stream",
     "text": [
      "변경할 Email주소:  such@sad.com\n",
      "변경할 키:  174\n",
      "변경할 고객 ID:  6\n"
     ]
    },
    {
     "name": "stdout",
     "output_type": "stream",
     "text": [
      "처리 행수:  1\n"
     ]
    }
   ],
   "source": [
    "update_sql = \"update customer set email=%s, tall=%s where id=%s\"\n",
    "email = input(\"변경할 Email주소: \")\n",
    "tall = float(input(\"변경할 키: \"))\n",
    "cust_id = int(input(\"변경할 고객 ID: \")) # 마찬가지 6번 바꿔보기\n",
    "\n",
    "with pymysql.connect(host=\"127.0.0.1\", port=3306, user='nggw519', password='1111', db='mydb') as conn:\n",
    "    with conn.cursor() as cursor:\n",
    "        result = cursor.execute(update_sql, [email, tall, cust_id])\n",
    "        print(\"처리 행수: \", result)\n",
    "        conn.commit()"
   ]
  },
  {
   "cell_type": "code",
   "execution_count": 25,
   "id": "55cc6af5",
   "metadata": {},
   "outputs": [
    {
     "name": "stdin",
     "output_type": "stream",
     "text": [
      "삭제기준 키: 180\n"
     ]
    },
    {
     "name": "stdout",
     "output_type": "stream",
     "text": [
      "처리 행수:  4\n"
     ]
    }
   ],
   "source": [
    "delete_sql = \"delete from customer where tall > %s\"\n",
    "\n",
    "tall = float(input(\"삭제기준 키:\")) #180 이상만 삭제하기\n",
    "with pymysql.connect(host=\"127.0.0.1\", port=3306, user='nggw519', password='1111', db='mydb') as conn:\n",
    "    with conn.cursor() as cursor:\n",
    "        result = cursor.execute(delete_sql, [tall])\n",
    "        print(\"처리 행수: \", result)\n",
    "        conn.commit()"
   ]
  },
  {
   "cell_type": "code",
   "execution_count": null,
   "id": "ea34cdb7",
   "metadata": {},
   "outputs": [],
   "source": []
  },
  {
   "cell_type": "markdown",
   "id": "096891b8",
   "metadata": {},
   "source": [
    "## select (DQL - Data Query Language)\n",
    "\n",
    "-   조회결과 조회\n",
    "    -   `cursor.execute(\"select문\")` 실행 후 cursor의 결과 조회 메소드(fetch메소드)를 이용해 결과를 받는다.\n",
    "    -   select 실행된 결과가 메모리에 저장되고, fetch를 이용하여 메모리에서 결과를 가져온다.\n",
    "    -   위에서 배운 delete등의 구문과 달리 select은 execute이 처리한 행수가 중요하지 않다.\n",
    "    -   따라서 fetchall로 조회한 행을 보야야한다.\n",
    "-   fetch메소드\n",
    "    -   **fetchall()**\n",
    "        -   조회한 모든 행을을 반환. \n",
    "    -   **fetchmany(size=개수)**\n",
    "        -   전체 조회한 행들 중 지정한 size개수 만큼 반환.\n",
    "        -   연속적으로 실행하면 다음 size개수 만큼씩 반환한다.\n",
    "        -   더 이상 조회한 결과가 없으면 빈 튜플을 반환한다.\n",
    "    -   **fetchone()**\n",
    "        -   조회결과 중 첫번째 행만 반환\n",
    "        -   주로 pk 동등 조건으로 조회한 경우 사용\n"
   ]
  },
  {
   "cell_type": "markdown",
   "id": "524f4cb8",
   "metadata": {},
   "source": [
    "### fetchall()\n"
   ]
  },
  {
   "cell_type": "code",
   "execution_count": 28,
   "id": "93a06bf2",
   "metadata": {},
   "outputs": [
    {
     "name": "stdout",
     "output_type": "stream",
     "text": [
      "조회행수: 6\n"
     ]
    }
   ],
   "source": [
    "sql = \"select id, name, tall from customer\" \n",
    "with pymysql.connect(host=\"127.0.0.1\", port=3306, user='nggw519', password='1111', db='mydb') as conn:\n",
    "    with conn.cursor() as cursor:\n",
    "        result = cursor.execute(sql)\n",
    "        print(\"조회행수:\", result)\n",
    "        resultset = cursor.fetchall()"
   ]
  },
  {
   "cell_type": "code",
   "execution_count": 29,
   "id": "82a62b01",
   "metadata": {},
   "outputs": [
    {
     "data": {
      "text/plain": [
       "((3, '양금명', 165.88),\n",
       " (4, '양은명', 179.6),\n",
       " (5, '김인영', 165.0),\n",
       " (6, '오수철', 174.0),\n",
       " (8, '김명수', 177.0),\n",
       " (9, '이지영', 163.0))"
      ]
     },
     "execution_count": 29,
     "metadata": {},
     "output_type": "execute_result"
    }
   ],
   "source": [
    "resultset\n",
    "# tuple(개별행 - tuple(컬럼값들 ))"
   ]
  },
  {
   "cell_type": "code",
   "execution_count": 30,
   "id": "32518037-2b70-444d-8b57-7b4531d79b6f",
   "metadata": {},
   "outputs": [
    {
     "data": {
      "text/plain": [
       "'양금명'"
      ]
     },
     "execution_count": 30,
     "metadata": {},
     "output_type": "execute_result"
    }
   ],
   "source": [
    "resultset[0][1]"
   ]
  },
  {
   "cell_type": "markdown",
   "id": "2be0cc74-4dbc-4964-b2f7-d897c9fe5ccd",
   "metadata": {},
   "source": [
    "### 조회결과를 dictionary로 반환\n",
    "- pymysql.cursors.DictCursor 사용\n",
    "    - Connection 생성시 또는 Cursor 생성시 지정한다.\n",
    "    - 컴럼명도 같이 보고싶을 때 쓴다.\n",
    "- key: 컬럼명, value: 컬럼값"
   ]
  },
  {
   "cell_type": "code",
   "execution_count": 32,
   "id": "bce604d1-9215-4afc-b54a-5ff44c82d488",
   "metadata": {},
   "outputs": [
    {
     "name": "stdout",
     "output_type": "stream",
     "text": [
      "조회행수: 6\n"
     ]
    }
   ],
   "source": [
    "sql = \"select id, name, tall from customer\" \n",
    "with pymysql.connect(host=\"127.0.0.1\", port=3306, user='nggw519', password='1111', db='mydb') as conn:\n",
    "    with conn.cursor(pymysql.cursors.DictCursor) as cursor:  \n",
    "        result = cursor.execute(sql)\n",
    "        print(\"조회행수:\", result)\n",
    "        resultset = cursor.fetchall()"
   ]
  },
  {
   "cell_type": "code",
   "execution_count": 33,
   "id": "e04c153c-aad0-4b4a-92d3-a19ae9d9385d",
   "metadata": {},
   "outputs": [
    {
     "data": {
      "text/plain": [
       "[{'id': 3, 'name': '양금명', 'tall': 165.88},\n",
       " {'id': 4, 'name': '양은명', 'tall': 179.6},\n",
       " {'id': 5, 'name': '김인영', 'tall': 165.0},\n",
       " {'id': 6, 'name': '오수철', 'tall': 174.0},\n",
       " {'id': 8, 'name': '김명수', 'tall': 177.0},\n",
       " {'id': 9, 'name': '이지영', 'tall': 163.0}]"
      ]
     },
     "execution_count": 33,
     "metadata": {},
     "output_type": "execute_result"
    }
   ],
   "source": [
    "resultset\n",
    "# list[dictionary{key:컬럼명, value:컬럼값}]"
   ]
  },
  {
   "cell_type": "code",
   "execution_count": 34,
   "id": "253cbef7-8f8a-405e-9036-330adcc3fc05",
   "metadata": {},
   "outputs": [
    {
     "data": {
      "text/plain": [
       "'양은명'"
      ]
     },
     "execution_count": 34,
     "metadata": {},
     "output_type": "execute_result"
    }
   ],
   "source": [
    "resultset[1]['name']"
   ]
  },
  {
   "cell_type": "markdown",
   "id": "b3a9867d",
   "metadata": {},
   "source": [
    "### fetchone()\n"
   ]
  },
  {
   "cell_type": "code",
   "execution_count": 13,
   "id": "97500b7b",
   "metadata": {},
   "outputs": [
    {
     "name": "stdout",
     "output_type": "stream",
     "text": [
      "조회행수: 1\n"
     ]
    }
   ],
   "source": [
    "sql = \"select * from customer where id = %s\" \n",
    "with pymysql.connect(host=\"127.0.0.1\", port=3306, user='nggw519', password='1111', db='mydb') as conn:\n",
    "    with conn.cursor() as cursor:\n",
    "        result = cursor.execute(sql, [5])  #(2, ) []괄호 안은, PK의 값을 찾아간다.\n",
    "        print(\"조회행수:\", result)\n",
    "        resultset = cursor.fetchone()\n",
    "        # resultset = cursor.fetchall()"
   ]
  },
  {
   "cell_type": "code",
   "execution_count": 14,
   "id": "b0eaf81d",
   "metadata": {},
   "outputs": [
    {
     "name": "stdout",
     "output_type": "stream",
     "text": [
      "(5, '김명수', 'jkl@abc.com', 177.0, datetime.date(2000, 2, 12), datetime.datetime(2025, 4, 8, 11, 55, 17))\n"
     ]
    }
   ],
   "source": [
    "if resultset:  # 조회결과가 없으면 None\n",
    "    print(resultset)\n",
    "else:\n",
    "    print(\"조회결과가 없음.\")\n",
    "  "
   ]
  },
  {
   "cell_type": "code",
   "execution_count": 15,
   "id": "8b57f7b7-e290-4f74-8233-b320fca5b855",
   "metadata": {},
   "outputs": [
    {
     "data": {
      "text/plain": [
       "'jkl@abc.com'"
      ]
     },
     "execution_count": 15,
     "metadata": {},
     "output_type": "execute_result"
    }
   ],
   "source": [
    "  # fetchall을 쓰면 튜플로 묶어서 주기 때문에, 만약 이메일만 조회하고싶으면 인덱스를 따로 지정해야한다.\n",
    "resultset[2]"
   ]
  },
  {
   "cell_type": "markdown",
   "id": "cc8054bc",
   "metadata": {},
   "source": [
    "### fetchmany()\n"
   ]
  },
  {
   "cell_type": "code",
   "execution_count": 16,
   "id": "7d72f49c",
   "metadata": {},
   "outputs": [
    {
     "name": "stdout",
     "output_type": "stream",
     "text": [
      "조회행수: 7\n"
     ]
    }
   ],
   "source": [
    "sql = \"select id, name, birthday from customer\" \n",
    "with pymysql.connect(host=\"127.0.0.1\", port=3306, user='nggw519', password='1111', db='mydb') as conn:\n",
    "    with conn.cursor() as cursor:\n",
    "        result = cursor.execute(sql)\n",
    "        print(\"조회행수:\", result)\n",
    "        resultset1 = cursor.fetchmany(size=2)  # 처음 두개\n",
    "        resultset2 = cursor.fetchmany(size=2)  # 다음 두개\n",
    "        resultset3 = cursor.fetchmany(size=2)\n",
    "        resultset4 = cursor.fetchmany(size=2)"
   ]
  },
  {
   "cell_type": "code",
   "execution_count": 21,
   "id": "50fffed5",
   "metadata": {},
   "outputs": [
    {
     "name": "stdout",
     "output_type": "stream",
     "text": [
      "((1, '김철수', datetime.date(2010, 1, 1)), (2, '김인영', datetime.date(2005, 1, 12)))\n",
      "((3, '오수철', datetime.date(1995, 12, 20)), (4, '최유명', datetime.date(1978, 10, 28)))\n",
      "((5, '김명수', datetime.date(2000, 2, 12)), (6, '이지영', datetime.date(1995, 4, 21)))\n",
      "((7, '박명수', datetime.date(2002, 7, 5)),)\n",
      "김인영\n"
     ]
    }
   ],
   "source": [
    "print(resultset1)\n",
    "print(resultset2)\n",
    "print(resultset3)\n",
    "print(resultset4)\n",
    "print(resultset1[1][1])"
   ]
  },
  {
   "cell_type": "markdown",
   "id": "fca900bd",
   "metadata": {},
   "source": [
    "### select문을 실행한 cursor 는 iterable 타입\n",
    "\n",
    "-   for in 문에 select query를 실행한 cursor를 사용하면 조회결과를 한 행씩 조회할 수 있다.\n",
    "-   cursor를 돌려서 한 행씩 처리하고 싶을때 사용한다.\n"
   ]
  },
  {
   "cell_type": "code",
   "execution_count": 63,
   "id": "8332ff67",
   "metadata": {},
   "outputs": [
    {
     "name": "stdout",
     "output_type": "stream",
     "text": [
      "조회행수: 6\n",
      "3 , 양금명 , gold@ps.com , 165.88 , 2010-01-01 , 2025-04-08 10:32:57\n",
      "4 , 양은명 , silver@ps.com , 179.6 , 2010-01-01 , 2025-04-08 10:33:38\n",
      "5 , 김인영 , abc2@a.com , 165.0 , 2005-01-12 , 2025-04-08 10:37:10\n",
      "6 , 오수철 , such@sad.com , 174.0 , 1995-12-20 , 2025-04-08 10:37:10\n",
      "8 , 김명수 , jkl@abc.com , 177.0 , 2000-02-12 , 2025-04-08 10:37:10\n",
      "9 , 이지영 , mno@abc.com , 163.0 , 1995-04-21 , 2025-04-08 10:37:10\n"
     ]
    }
   ],
   "source": [
    "sql = \"select * from customer\" \n",
    "with pymysql.connect(host=\"127.0.0.1\", port=3306, user='nggw519', password='1111', db='mydb') as conn:\n",
    "    with conn.cursor() as cursor:\n",
    "        result = cursor.execute(sql)\n",
    "        print(\"조회행수:\", result)\n",
    "        for id, name, email, tall, birthday, created_at in cursor: # cursor는 튜플이므로 for문의 변수를 왼쪽과같이 적어줄 수 있다.\n",
    "            print(id, name, email, tall, birthday, created_at, sep=\" , \")"
   ]
  },
  {
   "cell_type": "code",
   "execution_count": 82,
   "id": "c420bded-7489-47f2-9c68-0f48b77015b0",
   "metadata": {},
   "outputs": [],
   "source": [
    "#####################\n",
    "# SQL 실행코드를 함수화\n",
    "#####################\n",
    "\n",
    "def select_customer_by_id(cust_id:int) -> tuple|None: #|(세로줄)은 or이라는 뜻\n",
    "    \"\"\"\n",
    "    고객 id로 정보를 DB에서 조회해서 반환하는 함수.\n",
    "    Args:pass\n",
    "    Returns\n",
    "        tuple: 조회결과 있으면 튜플로 리턴\n",
    "        None: 조회결과 없으면 None으로 리턴\n",
    "    Raises:pass\n",
    "    \"\"\"\n",
    "    sql = \"select * from customer where id = %s\" \n",
    "    with pymysql.connect(host=\"127.0.0.1\", port=3306, user='nggw519', password='1111', db='mydb') as conn:\n",
    "        with conn.cursor() as cursor:\n",
    "            result = cursor.execute(sql, [cust_id])\n",
    "            print(\"조회행수:\", result)\n",
    "            return cursor.fetchone()\n",
    "\n"
   ]
  },
  {
   "cell_type": "code",
   "execution_count": 73,
   "id": "d51cf0dd-2368-4d7f-8fa1-e77f0907bd90",
   "metadata": {},
   "outputs": [
    {
     "name": "stdout",
     "output_type": "stream",
     "text": [
      "조회행수: 1\n",
      "(5, '김인영', 'abc2@a.com', 165.0, datetime.date(2005, 1, 12), datetime.datetime(2025, 4, 8, 10, 37, 10))\n"
     ]
    }
   ],
   "source": [
    "result = select_customer_by_id(5)\n",
    "print(result)"
   ]
  },
  {
   "cell_type": "code",
   "execution_count": 74,
   "id": "ccb5d067-c180-42aa-9fa4-df86d77ed236",
   "metadata": {},
   "outputs": [
    {
     "name": "stdout",
     "output_type": "stream",
     "text": [
      "조회행수: 0\n",
      "None\n"
     ]
    }
   ],
   "source": [
    "result = select_customer_by_id(1) #없는 사람이면 None 반환\n",
    "print(result)"
   ]
  },
  {
   "cell_type": "code",
   "execution_count": 76,
   "id": "5b686bd1-bb15-4693-9875-6981b57687f7",
   "metadata": {},
   "outputs": [
    {
     "data": {
      "text/plain": [
       "'sssssssssssssssssssssssssssssssssssssssssssssssssssssssssssssssssssssssssssssssssssssssssssssssss'"
      ]
     },
     "execution_count": 76,
     "metadata": {},
     "output_type": "execute_result"
    }
   ],
   "source": [
    "# 문장이 너무 길때 실제론 1줄인데 나눠서 보이게하느 방법\n",
    "# 1.\\ 사용\n",
    "\"sssssssssssssssssssssssssssssssssssssssssssss\\\n",
    "ssssssssssssssssssssssssssssssssssssssssssssssssssss\"\n",
    "\n",
    " # 2. 괄호 사용(쉼표 없음 주의)\n",
    "(\n",
    "    \"aaaaaaaaaaaaaaaaaaaaaaaaaaaaaaaaaaaaaaaaaaaaaaaaaa\"\n",
    "    \"bbbbbbbbbbbbbbbbbbbbbbbbbbbbbbbbbbbbbbbbbbb\"\n",
    "    \"ccccccccccccccccccccccccccccccccccccccccccccccccc\"\n",
    ")"
   ]
  },
  {
   "cell_type": "code",
   "execution_count": 83,
   "id": "853ecc75-e582-4e35-907f-6a8597ebdba3",
   "metadata": {},
   "outputs": [],
   "source": [
    "def update_customer(cust_id:int, name:str, email:str, tall:float, birthday:date|str) -> int:\n",
    "\n",
    "    sql = (\"update customer \"\n",
    "           \"set name=%s, email=%s, tall=%s, birthday=%s \" # 공백 남기기 중요! 안남기면 붙는다.\n",
    "           \"where id=%s\")\n",
    "    with pymysql.connect(host=\"127.0.0.1\", port=3306, user='nggw519', password='1111', db='mydb') as conn:\n",
    "        with conn.cursor() as cursor:\n",
    "            result = cursor.execute(sql, (name, email, tall, birthday, cust_id))\n",
    "            return result"
   ]
  },
  {
   "cell_type": "code",
   "execution_count": 84,
   "id": "f9f09a2a-7bdc-4fa9-bd2f-ce5b75671381",
   "metadata": {},
   "outputs": [
    {
     "data": {
      "text/plain": [
       "1"
      ]
     },
     "execution_count": 84,
     "metadata": {},
     "output_type": "execute_result"
    }
   ],
   "source": [
    "update_customer(5,\"김인영\", \"new@ds.com\", 165, '2005-03-02')\n",
    "# 바꾸지 않을건 그냥 원래 값 넣어 주면된다."
   ]
  }
 ],
 "metadata": {
  "kernelspec": {
   "display_name": "Python 3 (ipykernel)",
   "language": "python",
   "name": "python3"
  },
  "language_info": {
   "codemirror_mode": {
    "name": "ipython",
    "version": 3
   },
   "file_extension": ".py",
   "mimetype": "text/x-python",
   "name": "python",
   "nbconvert_exporter": "python",
   "pygments_lexer": "ipython3",
   "version": "3.12.9"
  },
  "toc": {
   "base_numbering": 1,
   "nav_menu": {},
   "number_sections": false,
   "sideBar": true,
   "skip_h1_title": false,
   "title_cell": "Table of Contents",
   "title_sidebar": "Contents",
   "toc_cell": false,
   "toc_position": {},
   "toc_section_display": true,
   "toc_window_display": false
  },
  "varInspector": {
   "cols": {
    "lenName": 16,
    "lenType": 16,
    "lenVar": 40
   },
   "kernels_config": {
    "python": {
     "delete_cmd_postfix": "",
     "delete_cmd_prefix": "del ",
     "library": "var_list.py",
     "varRefreshCmd": "print(var_dic_list())"
    },
    "r": {
     "delete_cmd_postfix": ") ",
     "delete_cmd_prefix": "rm(",
     "library": "var_list.r",
     "varRefreshCmd": "cat(var_dic_list()) "
    }
   },
   "types_to_exclude": [
    "module",
    "function",
    "builtin_function_or_method",
    "instance",
    "_Feature"
   ],
   "window_display": false
  }
 },
 "nbformat": 4,
 "nbformat_minor": 5
}
