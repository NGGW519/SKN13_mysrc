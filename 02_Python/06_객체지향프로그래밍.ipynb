{
 "cells": [
  {
   "cell_type": "markdown",
   "metadata": {
    "slideshow": {
     "slide_type": "slide"
    }
   },
   "source": [
    "# 객체지향 프로그래밍 (Object Oriented Programming)\n",
    "\n",
    "- 데이터를 객체(object)로 취급하며, 이러한 객체가 바로 프로그래밍의 구현의 중심인 프로그래밍 개발 방식.\n",
    "- 지금까지의 절차지향 프로그램은 큰 한 덩어리의 프로그램을 순서대로 진행되도록 코딩했다.\n",
    "- 하지만, 이제는 객체지향 프로그래밍으로서, 프로그램 안에서 작은 단위로 쪼개서 만들어놓고 유지보수에 유리하도록 한다!\n"
   ]
  },
  {
   "cell_type": "markdown",
   "metadata": {},
   "source": [
    "## Class(클래스) 정의\n",
    "\n",
    "-   객체지향 언어에서 데이터인 **객체(instance)** 를 어떻게 구성할지 정의한 설계도/템플릿을 **클래스** 라고 한다.\n",
    "-   Class에는 다음 두가지를 정의한다.\n",
    "    1. **Attribute/State**\n",
    "        - 객체의 속성, 상태 값을 저장할 변수\n",
    "        - 보통 class로 정의하는 data는 여러개의 값들로 구성된다. 이 값들을 저장하는 변수를 attribute/state 라고 한다.\n",
    "            - **고객**: 고객ID, 패스워드, 이름, email, 주소, 전화번호, point ...\n",
    "            - **제품**: 제품번호, 이름, 제조사, 가격, 재고량\n",
    "        - Instance 변수라고 한다.\n",
    "        - 개별 객체는 각각의 instance변수를 가진다.\n",
    "    2. **behavior**\n",
    "        - 객체의 state 값을 처리하는 함수.\n",
    "        - instance method 라고 한다.\n",
    "        - 개별 객체(instance)들은 동일한 instance 메소드를 이용해 자신의 instance 변수의 값들을 처리한다.\n",
    "-   객체지향 프로그래밍이란 Data와 Data를 처리하는 함수를 분리하지 않고 하나로 묶어 모듈로 개발하는 방식이다. 그래서 어떤 값들과 어떤 함수를 묶을 것인지를 class로 정의한다. 그리고 그 class로 부터 **객체(instance)** 를 생성(instantiate)해서 사용한다.\n",
    "-   **class는 Data type이고 instance는 value 이다.**\n",
    "    > 파이썬에서는 class에 정의된 instance변수와 method를 합쳐 **Attribute** 라고 표현한다.\n",
    "\n",
    "### class 정의\n",
    "\n",
    "```python\n",
    "class 클래스이름:  #선언부\n",
    "    #클래스 구현\n",
    "    #메소드들을 정의\n",
    "```\n",
    "\n",
    "-   **클래스 이름의 관례**\n",
    "    -   **파스칼 표기법** 사용-각 단어의 첫글자는 대문자 나머진 소문자로 정의한다.\n",
    "    -   ex) Person, Student, HighSchoolStudent\n"
   ]
  },
  {
   "cell_type": "markdown",
   "metadata": {
    "slideshow": {
     "slide_type": "fragment"
    }
   },
   "source": [
    "## Instance(객체)\n",
    "\n",
    "-   class로 부터 생성된 값(value)로 클래스에서 정의한 attribute를 behavior를 이용해 처리한다.\n",
    "\n",
    "### 클래스로부터 객체(Instance) 생성\n",
    "\n",
    "```python\n",
    "변수 = 클래스이름()\n",
    "```\n"
   ]
  },
  {
   "cell_type": "code",
   "execution_count": 2,
   "metadata": {},
   "outputs": [],
   "source": [
    "# 클래스 정의 -> 데이터 타입을 정의\n",
    "class Person:\n",
    "    pass"
   ]
  },
  {
   "cell_type": "code",
   "execution_count": 3,
   "metadata": {
    "slideshow": {
     "slide_type": "fragment"
    }
   },
   "outputs": [],
   "source": [
    "#클래스로부터 객체(instance)를 생성. 즉 값을 생성한다는 의미.\n",
    "p1 = Person() # 30이라는 숫자를 변수 v에 담아 사용하듯 클래스도 변수에 담는다.\n",
    "p2 = Person() # p1와 p2는 다른값이지만 타입은 같다/. 마치 10과 30이 다른 값이지만 int인것 처럼"
   ]
  },
  {
   "cell_type": "code",
   "execution_count": 4,
   "metadata": {},
   "outputs": [
    {
     "name": "stdout",
     "output_type": "stream",
     "text": [
      "<class '__main__.Person'>\n"
     ]
    }
   ],
   "source": [
    "print(type(p1)) # type이 클래스임을 확인."
   ]
  },
  {
   "cell_type": "markdown",
   "metadata": {
    "slideshow": {
     "slide_type": "subslide"
    }
   },
   "source": [
    "## Attribute(속성) - instance 변수\n",
    "\n",
    "-   attribute는 객체의 데이터, 객체를 구성하는 값들, 객체의 상태값들을 말한다.\n",
    "-   값을 저장하므로 변수로 정의한다. 그래서 **instance 변수** 라고 한다.\n",
    "\n",
    "### 객체에 속성을 추가, 조회\n",
    "\n",
    "-   **객체의 속성 추가(값 변경)**\n",
    "    1. Initializer(생성자)를 통한 추가\n",
    "        - 객체에 처음 attribute를 정의한다. 이것을 **초기화** 라고 한다.\n",
    "    2. 객체.속성명 = 값 (추가/변경)\n",
    "    3. 메소드를 통한 추가/변경\n",
    "        - 2, 3번 방식은 initializer에서 초기화한 attribute를 변경한다.\n",
    "-   **속성 값 조회**\n",
    "    -   `객체.속성명`\n",
    "-   `객체.___dict__`\n",
    "    -   객체가 가지고 있는 Attribute들을 dictionary로 반환한다.\n"
   ]
  },
  {
   "cell_type": "markdown",
   "metadata": {
    "slideshow": {
     "slide_type": "subslide"
    }
   },
   "source": [
    "### 생성자(Initializer)\n",
    "\n",
    "-   객체를 생성할 때 호출되는 특수메소드로 attribute들 초기화에 하는 코드를 구현한다.\n",
    "    -   Initializer를 이용해 초기화하는 Attribute들이 그 클래스에서 생성된 객체들이 가지는 Attribute가 된다.\n",
    "    -   객체 생성후 새로운 attribute들을 추가 할 수 있지만 하지 않는 것이 좋다.\n",
    "-   구문\n",
    "\n",
    "```python\n",
    "def __init__(self [,매개변수들 선언]):  #[ ] 옵션.\n",
    "    # 구현 -> attribute(instance변수) 초기화\n",
    "    self.속성명 = 값\n",
    "```\n",
    "\n",
    "> 변수 초기화: 처음 변수 만들어서 처음 값 대입하는 것.\n"
   ]
  },
  {
   "cell_type": "code",
   "execution_count": 3,
   "metadata": {
    "slideshow": {
     "slide_type": "fragment"
    }
   },
   "outputs": [],
   "source": [
    "class person:\n",
    "    pass"
   ]
  },
  {
   "cell_type": "code",
   "execution_count": 23,
   "metadata": {
    "slideshow": {
     "slide_type": "fragment"
    }
   },
   "outputs": [],
   "source": [
    "p1 = Person() #결국 class란 여기서 Person이라는 클래스에 p1,p2 사람의 정보를 저장하는것\n",
    "p2 = Person()\n",
    "\n",
    "p1.name = '홍길동' #원래 그냥 name = '홍길동' 이렇게 적었으면 클로벌 변수였을텐데, 홍길동은 p의 name을 의미하므로 p라는 영역 안의 name임을 구분하고자 .을 붙인다.\n",
    "p2.name = '이순신'"
   ]
  },
  {
   "cell_type": "code",
   "execution_count": 24,
   "metadata": {},
   "outputs": [
    {
     "name": "stdout",
     "output_type": "stream",
     "text": [
      "홍길동\n",
      "이순신\n"
     ]
    }
   ],
   "source": [
    "print(p1.name)\n",
    "print(p2.name)"
   ]
  },
  {
   "cell_type": "code",
   "execution_count": 19,
   "metadata": {},
   "outputs": [
    {
     "name": "stdout",
     "output_type": "stream",
     "text": [
      "유관순\n"
     ]
    }
   ],
   "source": [
    "p1.name = \"유관순\"\n",
    "print(p1.name) #p1의 이름 변경"
   ]
  },
  {
   "cell_type": "code",
   "execution_count": null,
   "metadata": {},
   "outputs": [],
   "source": [
    "p1.age = 30"
   ]
  },
  {
   "cell_type": "code",
   "execution_count": 29,
   "metadata": {},
   "outputs": [],
   "source": [
    "# Initializer를 이용해 instance 변수(속성) 초기화\n",
    "## 같은 클래스에서 생성된 모든 값들(instance)이 공통적으로 가져야하는 instance변수들을 정의\n",
    "\n",
    "class Person1:\n",
    "\n",
    "    def __init__(self, name, age, address): #클래스내 함수를 만드는데(이걸 메서드라 함), 함수의이름은 __init__으로 정해져있다. 첫번쨰 파라미터는 무조건 self.\n",
    "        \"\"\" # 이후에 객체가 만들어지면서 self가 그 객체를 받는다.\n",
    "              init 메서드가 현재 만들어진 객체를 받는거라고 알려주는 것임\n",
    "        Args:\n",
    "            self(Person1) - 생성중인 객체(instance)\n",
    "            name, age, address(추가 파라미터) instance 변수에 저장할 값\n",
    "        \"\"\"\n",
    "        self.name = name\n",
    "        self.age = age\n",
    "        self.address = address\n",
    "    "
   ]
  },
  {
   "cell_type": "code",
   "execution_count": 33,
   "metadata": {},
   "outputs": [
    {
     "name": "stdout",
     "output_type": "stream",
     "text": [
      "Lee 20 Seoul\n"
     ]
    }
   ],
   "source": [
    "p = Person1('Lee', 20, \"Seoul\") #이 자체가 __init__()을 호출. 객체 생성될때 init 메서드가 실행\n",
    "print(p.name ,p.age, p.address)"
   ]
  },
  {
   "cell_type": "markdown",
   "metadata": {
    "slideshow": {
     "slide_type": "subslide"
    }
   },
   "source": [
    "### Instance 메소드(method)\n",
    "\n",
    "-   객체가 제공하는 기능\n",
    "-   객체의 attribute 값을 처리하는 기능을 구현한다.\n",
    "-   구문\n",
    "\n",
    "```python\n",
    "def 이름(self [, 매개변수들 선언]):\n",
    "    # 구현\n",
    "    # attribute 사용(조회/대입)\n",
    "    self.attribute\n",
    "```\n",
    "\n",
    "-   self 매개변수 - 메소드를 소유한 객체를 받는 변수 - 호출할 때 전달하는 argument를 받는 매개변수는 두번째 부터 선언한다.<br><br>\n",
    "    ![self](images/ch06_01.png)\n",
    "-   **메소드 호출**\n",
    "    -   `객체.메소드이름([argument, ...])`\n",
    "\n",
    "### instance 메소드의 self parameter\n",
    "\n",
    "-   메소드는 반드시 한개 이상의 parameter를 선언해야 하고 그 첫번째 parameter는 **관례적으로** 변수명을 `self`로 한다.\n",
    "-   메소드 호출시 그 메소드를 소유한 instance가 self parameter에 할당된다.\n",
    "    -   메소드 안에서 self는 instance를 가리키며 그 instance에 정의된 attribute나 method를 호출 할 때 사용한다.\n",
    "-   **Initializer의 self**\n",
    "    -   현재 만들어 지고 있는 객체를 받는다.\n",
    "-   **메소드의 self**\n",
    "    -   메소드를 소유한 객체를 받는다.\n",
    "-   Caller에서 생성자/메소드에 전달된 argument들을 받을 parameter는 두번째 변수부터 선언한다.\n"
   ]
  },
  {
   "cell_type": "code",
   "execution_count": 6,
   "metadata": {
    "slideshow": {
     "slide_type": "fragment"
    }
   },
   "outputs": [],
   "source": [
    "class Person2:\n",
    "\n",
    "    def __init__(self, name, age, address): #클래스내 함수를 만드는데(이걸 메서드라 함), 함수의이름은 __init__으로 정해져있다. 첫번쨰 파라미터는 무조건 self.\n",
    "        \"\"\"\n",
    "        Args:\n",
    "            self(Person1) - 생성중인 객체(instance)\n",
    "            name, age, address(추가 파라미터) instance 변수에 저장할 값\n",
    "        \"\"\"\n",
    "        self.name = name\n",
    "        self.age = age\n",
    "        self.address = address\n",
    "    def get_info(self):\n",
    "        \"\"\"\n",
    "        Person의 정보를 반환하는 메소드. (name, age, address를 하나의 문자열에 묶어서 반)\n",
    "        \"\"\"\n",
    "        return f\"이름: {self.name}, 나이: {self.age}, 주소: {self.address}\""
   ]
  },
  {
   "cell_type": "code",
   "execution_count": 7,
   "metadata": {},
   "outputs": [],
   "source": [
    "p1 = Person2(\"홍길동\", 20, \"서울\")\n",
    "p2 = Person2(\"이순신\", 30, \"인천\")\n",
    "\n",
    "info1 = p1.get_info()\n",
    "info2 = p2.get_info()"
   ]
  },
  {
   "cell_type": "code",
   "execution_count": 8,
   "metadata": {},
   "outputs": [
    {
     "name": "stdout",
     "output_type": "stream",
     "text": [
      "이름: 홍길동, 나이: 20, 주소: 서울\n",
      "이름: 이순신, 나이: 30, 주소: 인천\n"
     ]
    }
   ],
   "source": [
    "print(info1)\n",
    "print(info2)"
   ]
  },
  {
   "cell_type": "markdown",
   "metadata": {
    "slideshow": {
     "slide_type": "slide"
    }
   },
   "source": [
    "## 상속 (Inheritance)\n",
    "\n",
    "-   기존 클래스를 확장하여 새로운 클래스를 구현한다.\n",
    "    -   생성된 객체(instance)가 기존 클래스에 정의된 Attribute나 method를 사용할 수있고 그 외의 추가적인 attribute와 method들을 가질 수 있는 클래스를 구현하는 방법.\n",
    "    -   같은 category의 클래스들을 하나로 묶어주는 역할을 한다.\n",
    "-   **기반(Base) 클래스, 상위(Super) 클래스, 부모(Parent) 클래스**\n",
    "    -   물려 주는 클래스.\n",
    "    -   상속하는 클래스에 비해 더 추상적인 클래스가 된다.\n",
    "    -   상속하는 클래스의 데이터 타입이 된다.\n",
    "-   **파생(Derived) 클래스, 하위(Sub) 클래스, 자식(Child) 클래스**\n",
    "    -   상속하는 클래스.\n",
    "    -   상속을 해준 클래스 보다 좀더 구체적인 클래스가 된다.\n",
    "-   상위 클래스와 하위 클래스는 계층관계를 이룬다.\n",
    "    -   상위 클래스는 하위 클래스 객체의 타입이 된다.\n",
    "-   다중상속\n",
    "    -   하나의 클래스가 여러 클래스를 상속받아 정의 하는 것을 다중상속이라고 하며 **파이썬은 다중상속이 가능하다.**\n",
    "-   MRO (Method Resolution Order)\n",
    "    -   다중상속시 메소드 호출할 때 그 메소드를 찾는 순서.\n",
    "    1. 자기 자신\n",
    "    2. 상위클래스(하위에서 상위로 올라간다)\n",
    "        - 다중상속의 경우 먼저 선언한 클래스 부터 찾는다. (왼쪽->오른쪽)\n",
    "-   MRO 순서 조회\n",
    "    -   Class이름.mro()\n",
    "-   `object` class\n",
    "    -   모든 클래스의 최상위 클래스\n",
    "    -   상속 하지 않은 클래스는 `object` 를 상속받는다.\n",
    "    -   special method, special attribute 를 정의 하고 있다.\n",
    "\n",
    "```python\n",
    "class Parent1:\n",
    "    ...\n",
    "\n",
    "class Parent2:\n",
    "    ...\n",
    "\n",
    "class Sub(Parent1, Parent1):\n",
    "    ...\n",
    "```\n"
   ]
  },
  {
   "cell_type": "markdown",
   "metadata": {},
   "source": [
    "### 객체 지향 프로그래밍(OOP)의 중요한 3가지 개념\n",
    "# - 캡슐화(Encapsulation)\n",
    "# - 상속(Inheritance)\n",
    "# - 다형성 (Polymorphism)\n",
    "\n",
    "###MRO\n",
    "- 클래스 C가 A와B를 둘다 상속할때, 같은 이름의 메서드가 A,B둘다 존재할 수있다. 이럴땐 먼저 선언한 부모클래스부터 실행함\n",
    "- ex. class C(A, B):  A를 먼저 선언함\n",
    "- [클래스 이름].mro()를 쳐보면 호출 순서를 알려준다."
   ]
  },
  {
   "cell_type": "code",
   "execution_count": 42,
   "metadata": {},
   "outputs": [],
   "source": [
    "class A:\n",
    "    pass\n",
    "class SA(A):\n",
    "    pass\n",
    "class B:\n",
    "    pass\n",
    "class C:\n",
    "    pass\n",
    "class D(SA, B, C):\n",
    "    pass"
   ]
  },
  {
   "cell_type": "code",
   "execution_count": 43,
   "metadata": {},
   "outputs": [
    {
     "data": {
      "text/plain": [
       "[__main__.D, __main__.SA, __main__.A, __main__.B, __main__.C, object]"
      ]
     },
     "execution_count": 43,
     "metadata": {},
     "output_type": "execute_result"
    }
   ],
   "source": [
    "D.mro() #호출순서 확인. object는 최상위를 말함"
   ]
  },
  {
   "cell_type": "code",
   "execution_count": 9,
   "metadata": {
    "slideshow": {
     "slide_type": "fragment"
    }
   },
   "outputs": [
    {
     "name": "stdout",
     "output_type": "stream",
     "text": [
      "밥을 먹습니다.\n",
      "학교에 갑니다.\n"
     ]
    }
   ],
   "source": [
    "class Person:\n",
    "\n",
    "    def eat(self):\n",
    "        print(\"밥을 먹습니다.\")\n",
    "\n",
    "    def go(self, dest):\n",
    "        print(f\"{dest}에 갑니다.\")\n",
    "\n",
    "p = Person()\n",
    "p.eat()\n",
    "p.go(\"학교\")"
   ]
  },
  {
   "cell_type": "code",
   "execution_count": 17,
   "metadata": {},
   "outputs": [
    {
     "name": "stdout",
     "output_type": "stream",
     "text": [
      "수학를 공부합니다.\n",
      "급식을 먹습니다.\n",
      "학교에 갑니다.\n",
      "\n",
      "과학를 공부합니다.\n",
      "급식을 먹습니다.\n",
      "집에 갑니다.\n"
     ]
    }
   ],
   "source": [
    "#Person을 상속하는 클래스: Student, Teacher\n",
    "class Student(Person):\n",
    "    \n",
    "    def eat(self): # 상속받은 내용을 덮어 씌워서 수정하기. 부모 class의 내용은 수정하지 않고, 자식 class에만 적용되도록한다.\n",
    "        print(\"급식을 먹습니다.\")\n",
    "\n",
    "    def study(self, subject):\n",
    "        print(f\"{subject}를 공부합니다.\")\n",
    "        \n",
    "class Teacher(Person):\n",
    "    \n",
    "    def eat(self):\n",
    "        print(\"도시락을 먹습니다.\")\n",
    "\n",
    "    def teach(self, subject):\n",
    "        print(f\"{subject}를 가르칩니다.\")\n",
    "\n",
    "s = Student()\n",
    "s.study(\"수학\")\n",
    "s.eat()\n",
    "s.go(\"학교\")\n",
    "\n",
    "print()\n",
    "\n",
    "t = Student()\n",
    "t.study(\"과학\")\n",
    "t.eat()\n",
    "t.go(\"집\")"
   ]
  },
  {
   "cell_type": "code",
   "execution_count": null,
   "metadata": {},
   "outputs": [],
   "source": [
    "class Calculator:\n",
    "    def calculate(self, num1, num2):\n",
    "        pass\n",
    "\n",
    "class Plus(Claculator):\n",
    "    def calculate(self, num1, num2):\n",
    "        덧셈 코드 작성\n",
    "\n",
    "class Minus(Claculator):\n",
    "    def calculate(self, num1, num2):\n",
    "        뺄셈 코드 작성"
   ]
  },
  {
   "cell_type": "markdown",
   "metadata": {
    "slideshow": {
     "slide_type": "subslide"
    }
   },
   "source": [
    "### Method Overriding (메소드 재정의)\n",
    "\n",
    "상위 클래스에 정의한 메소드의 구현부를 하위 클래스에서 다시 구현하는 것.\n",
    "상위 클래스는 모든 하위 클래스들에 적용할 수 있는 추상적인 구현 밖에는 못한다.  \n",
    "하위 클래스에서 그 기능을 자신에 맞게 좀 더 구체적으로 재구현할 수 있게 해주는 것을 Method Overriding이라고 한다.\n",
    "\n",
    "-   방법: 메소드 선언은 동일하게 하고 구현부는 새롭게 구현한다.\n",
    "\n",
    "### super() 내장함수\n",
    "\n",
    "-   하위 클래스에서 **상위 클래스의 instance를** 사용할 수있도록 해주는 함수. 상위클래스에 정의된 instance 변수, 메소드를 호출할 때 사용한다.\n",
    "-   구문\n",
    "\n",
    "```python\n",
    "super().메소드명()\n",
    "```\n",
    "\n",
    "-   상위 클래스의 Instance 메소드를 호출할 때 – super().메소드()\n",
    "    -   특히 method overriding을 한 하위 클래스에서 상위 클래스의 원본 메소드를 호출 할 경우 반드시 `super().메소드() `형식으로 호출해야 한다.\n",
    "-   메소드에서\n",
    "    -   self.xxxx : 같은 클래스에 정의된 메소드나 attribute(instance 변수) 호출\n",
    "    -   super().xxxx : 부모클래스에 정의된 메소드나 attribute(부모객체의 attribute) 호출\n"
   ]
  },
  {
   "cell_type": "code",
   "execution_count": 12,
   "metadata": {
    "slideshow": {
     "slide_type": "fragment"
    }
   },
   "outputs": [],
   "source": [
    "class Person:\n",
    "\n",
    "    def __init__(self, name, age):\n",
    "        self.name = name\n",
    "        self.age = age\n",
    "\n",
    "    def get_info(self):\n",
    "        return f\"이름:{self.name}, 나이: {self.age}\"\n"
   ]
  },
  {
   "cell_type": "code",
   "execution_count": 15,
   "metadata": {},
   "outputs": [],
   "source": [
    "class Student(Person):\n",
    "    def __init__(self, name, age, grade):\n",
    "        # self.name = name\n",
    "        # self.age = age\n",
    "        super().__init__(name, age) # 부모class의 init을 호출. 위 두개의cell과 같은 기능\n",
    "        self.grade = grade # self.이라고 시작하면 자식class 자기꺼 쓴단 소리. supper().이라고 시작하면 부모class꺼 쓴단 소리\n",
    "\n",
    "    def get_info(self):\n",
    "        return f\"{super().get_info()}, 성적: {self.grade}\""
   ]
  },
  {
   "cell_type": "code",
   "execution_count": 16,
   "metadata": {},
   "outputs": [
    {
     "name": "stdout",
     "output_type": "stream",
     "text": [
      "Kim 16 A\n"
     ]
    }
   ],
   "source": [
    "s = Student(\"Kim\", 16, \"A\")\n",
    "print(s.name, s.age, s.grade)"
   ]
  },
  {
   "cell_type": "code",
   "execution_count": 17,
   "metadata": {},
   "outputs": [
    {
     "data": {
      "text/plain": [
       "'이름:Kim, 나이: 16, 성적: A'"
      ]
     },
     "execution_count": 17,
     "metadata": {},
     "output_type": "execute_result"
    }
   ],
   "source": [
    "s.get_info()"
   ]
  },
  {
   "cell_type": "code",
   "execution_count": 29,
   "metadata": {},
   "outputs": [],
   "source": [
    "class Teacher(Person):\n",
    "\n",
    "    def __init__(self, name, age, subject):\n",
    "        super().__init__(name, age)\n",
    "        self.subject = subject\n",
    "    def get_info(self):\n",
    "        return f\"{super().get_info()}, 과목: {self.subject}\""
   ]
  },
  {
   "cell_type": "code",
   "execution_count": 30,
   "metadata": {},
   "outputs": [
    {
     "name": "stdout",
     "output_type": "stream",
     "text": [
      "Lee 30 math\n"
     ]
    }
   ],
   "source": [
    "t = Teacher(\"Lee\", 30, \"math\")\n",
    "print(t.name, t.age, t.subject)"
   ]
  },
  {
   "cell_type": "code",
   "execution_count": 31,
   "metadata": {},
   "outputs": [
    {
     "data": {
      "text/plain": [
       "'이름:Lee, 나이: 30, 과목: math'"
      ]
     },
     "execution_count": 31,
     "metadata": {},
     "output_type": "execute_result"
    }
   ],
   "source": [
    "t.get_info()"
   ]
  },
  {
   "cell_type": "code",
   "execution_count": null,
   "metadata": {},
   "outputs": [],
   "source": []
  },
  {
   "cell_type": "markdown",
   "metadata": {
    "slideshow": {
     "slide_type": "slide"
    }
   },
   "source": [
    "## 객체 관련 유용한 내장 함수, 특수 변수\n",
    "\n",
    "-   **`isinstance(객체, 클래스이름-datatype)`** : bool\n",
    "    -   객체가 두번째 매개변수로 지정한 클래스의 타입이면 True, 아니면 False 반환\n",
    "    -   여러개의 타입여부를 확인할 경우 class이름(type)들을 **튜플(tuple)로** 묶어 준다.\n",
    "    -   상위 클래스는 하위 클래스객체의 타입이 되므로 객체와 그 객체의 상위 클래스 비교시 True가 나온다.\n",
    "-   **`객체.__dict__`**\n",
    "    -   객체가 가지고 있는 Attribute 변수들과 대입된 값을 dictionary에 넣어 반환\n"
   ]
  },
  {
   "cell_type": "code",
   "execution_count": 44,
   "metadata": {},
   "outputs": [
    {
     "data": {
      "text/plain": [
       "True"
      ]
     },
     "execution_count": 44,
     "metadata": {},
     "output_type": "execute_result"
    }
   ],
   "source": [
    "a=10\n",
    "isinstance(a, int)"
   ]
  },
  {
   "cell_type": "code",
   "execution_count": 48,
   "metadata": {},
   "outputs": [
    {
     "data": {
      "text/plain": [
       "True"
      ]
     },
     "execution_count": 48,
     "metadata": {},
     "output_type": "execute_result"
    }
   ],
   "source": [
    "isinstance(a,(int,float)) # int 또는 float인지?"
   ]
  },
  {
   "cell_type": "code",
   "execution_count": 49,
   "metadata": {},
   "outputs": [
    {
     "data": {
      "text/plain": [
       "__main__.Student"
      ]
     },
     "execution_count": 49,
     "metadata": {},
     "output_type": "execute_result"
    }
   ],
   "source": [
    "type(s)"
   ]
  },
  {
   "cell_type": "code",
   "execution_count": 50,
   "metadata": {},
   "outputs": [
    {
     "data": {
      "text/plain": [
       "True"
      ]
     },
     "execution_count": 50,
     "metadata": {},
     "output_type": "execute_result"
    }
   ],
   "source": [
    "isinstance(s, Person) #s가 Person Class에 속하는지?"
   ]
  },
  {
   "cell_type": "code",
   "execution_count": 52,
   "metadata": {},
   "outputs": [
    {
     "data": {
      "text/plain": [
       "False"
      ]
     },
     "execution_count": 52,
     "metadata": {},
     "output_type": "execute_result"
    }
   ],
   "source": [
    "type(s) == Person #s의 타입 자체가 Person은 아니다."
   ]
  },
  {
   "cell_type": "code",
   "execution_count": 57,
   "metadata": {},
   "outputs": [
    {
     "name": "stdout",
     "output_type": "stream",
     "text": [
      "xxxx\n"
     ]
    }
   ],
   "source": [
    "def check_person(p):\n",
    "    if isinstance(p, (Teacher, Student)):\n",
    "        info = p.get_info()\n",
    "        print(info)\n",
    "    else:\n",
    "        print(\"xxxx\")\n",
    "\n",
    "check_person(\"AAAA\")"
   ]
  },
  {
   "cell_type": "code",
   "execution_count": 58,
   "metadata": {},
   "outputs": [],
   "source": [
    "# Person에 Employee 새롭게 넣었을때,  if isinstance(p, (Teacher, Student) 여기에 또 새롭게 Employee 넣기엔 번거롭다.\n",
    "# 따라서  그냥 애초에 Person인지 물어서 바로 사용한다."
   ]
  },
  {
   "cell_type": "code",
   "execution_count": 62,
   "metadata": {},
   "outputs": [
    {
     "name": "stdout",
     "output_type": "stream",
     "text": [
      "xxxx\n"
     ]
    }
   ],
   "source": [
    "def check_person(p):\n",
    "    if isinstance(p, Person): #자식클래스가 부모클래스와 같은 타입임을 이용\n",
    "        info = p.get_info()\n",
    "        print(info)\n",
    "    else:\n",
    "        print(\"xxxx\")\n",
    "        \n",
    "class Employee(Person):\n",
    "    def __init__(self, name, age, dept):\n",
    "        super().__init__(self, name, age, dept)\n",
    "        self.dept = dept\n",
    "\n",
    "check_person(\"aaa\")\n"
   ]
  },
  {
   "cell_type": "markdown",
   "metadata": {
    "slideshow": {
     "slide_type": "slide"
    }
   },
   "source": [
    "## 특수 메소드(Special method)\n",
    "\n",
    "### 특수 메소드란\n",
    "\n",
    "-   파이썬 실행환경(Python runtime)이 객체와 관련해서 특정 상황 발생하면 호출 하도록 정의한 메소드들. 그 특정상황에서 처리해야 할 일이 있으면 구현을 재정의 한다.\n",
    "    -   객체에 특정 기능들을 추가할 때 사용한다.\n",
    "    -   정의한 메소드와 그것을 호출하는 함수가 다르다.\n",
    "        -   ex) `__init__()` => **객체 생성할 때** 호출 된다.\n",
    "-   메소드 명이 더블 언더스코어로 시작하고 끝난다.\n",
    "    -   ex) `__init__(), __str__()`\n",
    "-   매직 메소드(Magic Method), 던더(DUNDER) 메소드라고도 한다.\n",
    "-   특수메소드 종류\n",
    "    -   https://docs.python.org/ko/3/reference/datamodel.html#special-method-names\n"
   ]
  },
  {
   "cell_type": "markdown",
   "metadata": {
    "slideshow": {
     "slide_type": "subslide"
    }
   },
   "source": [
    "### 주요 특수메소드\n",
    "\n",
    "-   **`__init__(self [, …])`**\n",
    "    -   Initializer\n",
    "    -   객체 생성시 호출 된다.\n",
    "    -   객체 생성시 Attribute의 값들을 초기화하는 것을 구현한다.\n",
    "    -   self 변수로 받은 instance에 Attribute를 설정한다.\n",
    "-   **`__call__(self [, …])`**\n",
    "-   객체를 함수처럼 호출 하면 실행되는 메소드\n",
    "    -   Argument를 받을 Parameter 변수는 self 변수 다음에 필요한대로 선언한다.\n",
    "    -   처리결과를 반환하도록 구현할 경우 `return value` 구문을 넣는다. (필수는 아니다.)\n"
   ]
  },
  {
   "cell_type": "markdown",
   "metadata": {
    "slideshow": {
     "slide_type": "subslide"
    }
   },
   "source": [
    "-   **`__str__(self)`**\n",
    "    -   Instance(객체)의 Attribute들을 묶어서 문자열로 반환한다.\n",
    "    -   내장 함수 **str(객체)** 호출할 때 이 메소드가 호출 된다.\n",
    "        -   str() 호출할 때 객체에 `__str__()`의 정의 안되 있으면 `__repr__()` 을 호출한다. `__repr__()`도 없으면 상위클래스에 정의된 `__str__()`을 호출한다.\n",
    "        -   print() 함수는 값을 문자열로 변환해서 출력한다. 이때 그 값을 str() 에 넣어 문자열로 변환한다.\n"
   ]
  },
  {
   "cell_type": "code",
   "execution_count": null,
   "metadata": {
    "slideshow": {
     "slide_type": "fragment"
    }
   },
   "outputs": [],
   "source": []
  },
  {
   "cell_type": "markdown",
   "metadata": {
    "slideshow": {
     "slide_type": "subslide"
    }
   },
   "source": [
    "#### 연산자 재정의(Operator overriding) 관련 특수 메소드\n",
    "\n",
    "-   연산자의 피연산자로 객체를 사용하면 호출되는 메소드들\n",
    "-   다항연산자일 경우 가장 왼쪽의 객체에 정의된 메소드가 호출된다. other에는 아무 타입이나 받을 수 있다.\n",
    "    -   `a + b` 일경우 a의 `__add__()` 가 호출된다.\n",
    "-   **비교 연산자**\n",
    "    -   **`__eq__(self, other)`** : self == other\n",
    "        -   == 로 객체의 내용을 비교할 때 정의 한다.\n",
    "    -   **`__lt__(self, other)`** : self < other, (less than)\n",
    "    -   **`__gt__(self, other)`**: self > other (greater than)\n",
    "        -   min()이나 max()에서 인수로 사용할 경우 정의해야 한다.\n",
    "    -   **`__le__(self, other)`**: self <= other \n",
    "    -   **`__ge__(self, other)`**: self >= other\n",
    "    -   **`__ne__(self, other)`**: self != other (not eqaul)\n"
   ]
  },
  {
   "cell_type": "markdown",
   "metadata": {
    "slideshow": {
     "slide_type": "fragment"
    }
   },
   "source": [
    "-   **산술 연산자**\n",
    "    -   **`__add__(self, other)`**: self + other\n",
    "    -   **`__sub__(self, other)`**: self - other\n",
    "    -   **`__mul__(self, other)`**: self \\* other\n",
    "    -   **`__truediv__(self, other)`**: self / other\n",
    "    -   **`__floordiv__(self, other)`**: self // other\n",
    "    -   **`__mod__(self, other)`**: self % other\n"
   ]
  },
  {
   "cell_type": "code",
   "execution_count": 85,
   "metadata": {
    "slideshow": {
     "slide_type": "fragment"
    }
   },
   "outputs": [
    {
     "name": "stdout",
     "output_type": "stream",
     "text": [
      "name: Cho, age: 50\n"
     ]
    }
   ],
   "source": [
    "class Person:\n",
    "    def __init__(self, name, age):\n",
    "        # __init__은 객체 생성하는 시점에 호출된다. instance 변수 초기화\n",
    "        self.name = name\n",
    "        self.age = age\n",
    "        \n",
    "    def __str__(self):\n",
    "        #__str__ : 객체를 str으로 변환하는 코드를 작성. attribute들을 모아서 하나의 문자열로 반환\n",
    "        return f\"name: {self.name}, age: {self.age}\"\n",
    "\n",
    "    ## 연산자 재정의 특수 메소드들을 재정의\n",
    "    ### == 비교시 호출되는 메소드(둘이 같냐고 물어볼때 나오는 메소드)\n",
    "    # def __eq__(self, obj):\n",
    "    #     #p1 == p4를 묻는 경우, self에 p1이 들어가고, obj에 p4가 들어간다.  => p1.__eq__(p4)\n",
    "    #     if not isinstance(obj, Person):\n",
    "    #         return False #여기선 그냥 True라고 적어뒀지만, 둘이 같은지 비교하는 로직을 세워두면된다.\n",
    "    #                 # ==을 묻는 경우에는 파이썬이 __iq__를 자동으로 거친다.\n",
    "\n",
    "    #     if self.name == obj.name and self.age == obj.age:  # self와 obj의 instance 변수가 같은지?\n",
    "    #         return True\n",
    "    #     else:\n",
    "    #         return False\n",
    "    def __gt__(self, obj): #p1>p2 비교하는걸 자동으로호출해주는 메서드  \n",
    "        print(\"__gt__()\")\n",
    "        return True\n",
    "        \n",
    "p = Person(\"Cho\", 50)\n",
    "print(p) # pfmf 문자열로 반환한 결과르 출력"
   ]
  },
  {
   "cell_type": "code",
   "execution_count": 84,
   "metadata": {},
   "outputs": [
    {
     "name": "stdout",
     "output_type": "stream",
     "text": [
      "False\n",
      "False\n",
      "True\n"
     ]
    }
   ],
   "source": [
    "p1 = Person(\"Lee\", 30)\n",
    "p2 = Person(\"Kim\", 15)\n",
    "p3 = Person(\"Lee\", 30)\n",
    "\n",
    "print(p1==p2) #둘이 같은 instance인지 비교하는 것. 같은 객체인지!!!\n",
    "print(p1==p3) # 얘네 둘은 값은 같지만 같은 객체는 아니다. but 위의 __eq__를 실행하면 instance변수가 같으므로 True가 나온다.\n",
    "p4 = p1\n",
    "print(p1==p4) # 위에서 p4와 p1는 같다고 했으니 둘은 같은 객체!!"
   ]
  },
  {
   "cell_type": "code",
   "execution_count": 86,
   "metadata": {},
   "outputs": [],
   "source": [
    "class Calculation:\n",
    "    def __init__(self, num):\n",
    "        self.num = num\n",
    "    def add(self, num):\n",
    "        return self.num + num"
   ]
  },
  {
   "cell_type": "code",
   "execution_count": 88,
   "metadata": {},
   "outputs": [
    {
     "data": {
      "text/plain": [
       "230"
      ]
     },
     "execution_count": 88,
     "metadata": {},
     "output_type": "execute_result"
    }
   ],
   "source": [
    "p = Calculation(200)\n",
    "p.add(30) #그런데 어차피 class 내부적으로 부르는게 add하나 밖에 없는데 더 간단한 방법 없을까?"
   ]
  },
  {
   "cell_type": "code",
   "execution_count": 94,
   "metadata": {},
   "outputs": [],
   "source": [
    "class Calculation:\n",
    "    def __init__(self, num):\n",
    "        self.num = num\n",
    "    def __call__(self, num): # callable로 바꿔줌\n",
    "        return self.num + num"
   ]
  },
  {
   "cell_type": "code",
   "execution_count": 98,
   "metadata": {},
   "outputs": [
    {
     "name": "stdout",
     "output_type": "stream",
     "text": [
      "330\n"
     ]
    }
   ],
   "source": [
    "p = Calculation(300)\n",
    "a = p(30) #마치 함수를 호출하듯이 사용함. 이건 호출할게 add하나밖에 없었기 때문에 가능한 것임\n",
    "print(a)"
   ]
  },
  {
   "cell_type": "markdown",
   "metadata": {
    "slideshow": {
     "slide_type": "slide"
    }
   },
   "source": [
    "# class변수, class 메소드\n",
    "\n",
    "-   **class변수**\n",
    "    -   (Intance가 아닌) 클래스 자체의 데이터\n",
    "    -   Attribute가 객체별로 생성된다면, class변수는 클래스당 하나가 생성된다.\n",
    "    -   구현\n",
    "        -   class 블럭에 변수 선언.\n",
    "-   **class 메소드**\n",
    "    -   클래스 변수를 처리하는 메소드\n",
    "    -   구현\n",
    "        -   @classmethod 데코레이터를 붙인다.\n",
    "        -   첫번째 매개변수로 클래스를 받는 변수를 선언한다. 이 변수를 이용해 클래스 변수나 다른 클래스 메소드를 호출 한다.\n"
   ]
  },
  {
   "cell_type": "markdown",
   "metadata": {
    "slideshow": {
     "slide_type": "fragment"
    }
   },
   "source": [
    "## class 메소드/변수 호출\n",
    "\n",
    "-   클래스이름.변수\n",
    "-   클래스이름.메소드()\n"
   ]
  },
  {
   "cell_type": "code",
   "execution_count": 111,
   "metadata": {
    "slideshow": {
     "slide_type": "fragment"
    }
   },
   "outputs": [],
   "source": [
    "class Person:\n",
    "\n",
    "    job_list = [\"학생\", \"직장인\", \"자영업\"]\n",
    "                    # 클래스메서드: class의 변수를 다루는 메서드.\n",
    "    @classmethod #아래의 내용이 클래스메서드임을 알려주는 것 이걸 안하면 객체가 넘어온다. 이걸 해야 클래스 자체가 넘어옴\n",
    "    def add_job(cls, job): # Person이 cls에 들어가는 것. cls는 마치 self의 역할\n",
    "        #job이 job_list에 없으면 append시키기\n",
    "        if job not in cls.job_list:\n",
    "            cls.job_list.append(job)\n",
    "        else:\n",
    "            print(f\"{job}은 이미 list에 있습니다.\")\n",
    "\n",
    "    def __init__(self, name, age, job):\n",
    "        self.name = name\n",
    "        self.age = age\n",
    "        self.job = job\n",
    "\n",
    "    def __str__(self):\n",
    "        return f\"이름: {self.name}, 나이: {self.age}, 직업: {self.job}\"\n",
    "\n",
    "        "
   ]
  },
  {
   "cell_type": "code",
   "execution_count": 115,
   "metadata": {},
   "outputs": [
    {
     "name": "stdout",
     "output_type": "stream",
     "text": [
      "사업은 이미 list에 있습니다.\n"
     ]
    }
   ],
   "source": [
    "Person.add_job(\"사업\")"
   ]
  },
  {
   "cell_type": "code",
   "execution_count": null,
   "metadata": {},
   "outputs": [],
   "source": []
  }
 ],
 "metadata": {
  "kernelspec": {
   "display_name": "Python 3 (ipykernel)",
   "language": "python",
   "name": "python3"
  },
  "language_info": {
   "codemirror_mode": {
    "name": "ipython",
    "version": 3
   },
   "file_extension": ".py",
   "mimetype": "text/x-python",
   "name": "python",
   "nbconvert_exporter": "python",
   "pygments_lexer": "ipython3",
   "version": "3.12.9"
  },
  "toc": {
   "base_numbering": 1,
   "nav_menu": {},
   "number_sections": true,
   "sideBar": true,
   "skip_h1_title": false,
   "title_cell": "Table of Contents",
   "title_sidebar": "Contents",
   "toc_cell": false,
   "toc_position": {},
   "toc_section_display": true,
   "toc_window_display": false
  },
  "varInspector": {
   "cols": {
    "lenName": 16,
    "lenType": 16,
    "lenVar": 40
   },
   "kernels_config": {
    "python": {
     "delete_cmd_postfix": "",
     "delete_cmd_prefix": "del ",
     "library": "var_list.py",
     "varRefreshCmd": "print(var_dic_list())"
    },
    "r": {
     "delete_cmd_postfix": ") ",
     "delete_cmd_prefix": "rm(",
     "library": "var_list.r",
     "varRefreshCmd": "cat(var_dic_list()) "
    }
   },
   "types_to_exclude": [
    "module",
    "function",
    "builtin_function_or_method",
    "instance",
    "_Feature"
   ],
   "window_display": false
  }
 },
 "nbformat": 4,
 "nbformat_minor": 4
}
