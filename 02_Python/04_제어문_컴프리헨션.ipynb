{
 "cells": [
  {
   "cell_type": "markdown",
   "id": "8c49cd8e",
   "metadata": {
    "slideshow": {
     "slide_type": "slide"
    }
   },
   "source": [
    "# 제어문(Control flow statement)\n",
    "\n",
    "기본적으로 프로그램은 순차구조를 가진다. 즉 작성한 순서대로 실행이 된다.  \n",
    "이런 실행흐름을 다른 순서로 제어하기 위한 구문을 만드는 문법이 제어문이다.  \n",
    "제어문은 **조건문** 과 **반복문** 두가지 문법이 있다.\n",
    "\n",
    "-   **조건문**\n",
    "    -   if 문\n",
    "-   **반복문**\n",
    "    -   while 문\n",
    "    -   for in 문\n"
   ]
  },
  {
   "cell_type": "markdown",
   "id": "92c502ce",
   "metadata": {
    "slideshow": {
     "slide_type": "slide"
    }
   },
   "source": [
    "# 조건문/분기문 (conditional statement)\n",
    "\n",
    "-   프로그램이 명령문들을 실행하는 도중 특정 순서에서 **조건에 따라 흐름의 나눠져야 하는 경우 사용한다**\n",
    "-   파이썬은 조건문으로 **if문**이 있다.\n",
    "\n",
    "![조건문](images/ch03_01.png)\n",
    "\n",
    "<center>입력 받은 a 의 값이 0인지 여부에 따라 두가지 흐름으로 분기된다.</center>\n"
   ]
  },
  {
   "cell_type": "markdown",
   "id": "2a3c1835",
   "metadata": {
    "slideshow": {
     "slide_type": "subslide"
    }
   },
   "source": [
    "## 구문\n",
    "\n",
    "-   조건이 True일 경우만 특정 구문들을 실행 하는 조건문.\n",
    "\n",
    "```python\n",
    "if 조건:    # 조건은 bool 표현식을 기술한다. 조건선언 다음에 : 으로 선언해서 코드블록을 구분한다.\n",
    "    명령문1  # 조건이 True이면 실행할 구문들을 코드블럭에 기술한다.\n",
    "    명령문2  # 코드 블록은 들여쓰기를 이용해 묶어준다. 보통 공백 4칸으로 들여쓰기를 한다.\n",
    "    ...\n",
    "```\n",
    "\n",
    "> ### 파이썬의 코드블록(code block)\n",
    ">\n",
    "> 코드블록이란 **여러 명령문들을 묶어놓은 것을** 말한다. 코드블록으로 묶이면 실행시 같이 다 실행되고 실행이 안되면 같이 다 실행이 안된다.  \n",
    "> 파이썬에서는 코드블록을 작성할 때 **들여쓰기를 이용해 묶어준다.**  \n",
    "> 같은 칸만큼 들여쓰기를 한 명령문들이 같은 블록으로 묶인다.\n",
    "> 들여쓰기는 관례적으로 **공백 4칸을** 사용한다.\n",
    "\n",
    "> ### pass 키워드(예약어)\n",
    ">\n",
    "> -   빈 구현부를 만들때 사용\n",
    ">     -   제어문, 함수의 body 코드블럭은 비울 수 없다. 반드시 명령문을 한개 이상 작성해야한다.\n",
    ">     -   작성할 내용이 없을 경우 사용하는 키워드로 `pass`를 사용한다.\n"
   ]
  },
  {
   "cell_type": "code",
   "execution_count": null,
   "id": "9aa311a5",
   "metadata": {
    "slideshow": {
     "slide_type": "fragment"
    }
   },
   "outputs": [],
   "source": []
  },
  {
   "cell_type": "markdown",
   "id": "09c79c35",
   "metadata": {
    "slideshow": {
     "slide_type": "subslide"
    }
   },
   "source": [
    "-   **조건이 True일 때 False일때 실행 구문이 분기되는 조건문.**\n",
    "\n",
    "```python\n",
    "if 조건:\n",
    "    명령문1_1 # 조건이 True일 경우 실행할 구문들\n",
    "    명령문1_2\n",
    "    ...\n",
    "else:\n",
    "    명령문2_1 # 조건이 False일 경우 실행할 구문들\n",
    "    명령문2_2\n",
    "    ...\n",
    "```\n"
   ]
  },
  {
   "cell_type": "code",
   "execution_count": 1,
   "id": "87b51956",
   "metadata": {
    "slideshow": {
     "slide_type": "fragment"
    }
   },
   "outputs": [
    {
     "name": "stdout",
     "output_type": "stream",
     "text": [
      "it's zero\n"
     ]
    }
   ],
   "source": [
    "num = 0\n",
    "if num == 0:print(\"It's zero\") # 명령어가 하나면 바로 옆에 붙여 쓸 수 있다.\n",
    "else: print(\"It's not zero\")"
   ]
  },
  {
   "cell_type": "markdown",
   "id": "621eae9a",
   "metadata": {
    "slideshow": {
     "slide_type": "subslide"
    }
   },
   "source": [
    "-   **조건이 여러 개인 조건문.**\n",
    "\n",
    "```python\n",
    "if 조건1:\n",
    "    명령문1_1  # 조건1이 True일 경우 실행할 코드블록.\n",
    "    명령문1_2\n",
    "    ...\n",
    "elif 조건2:    # 다음 조건으로 앞의 조건들이 모드 False일 경우 비교한다.\n",
    "    명령문2_1  # 조건2가 True일 경우 실행할 코드블록.\n",
    "    명령문2_2\n",
    "    ...\n",
    "elif 조건3 :\n",
    "    명령문3_1\n",
    "    명령문3_2\n",
    "    ...\n",
    "else:         # 위의 모든 조건이 False일 경우 실행하는 코드블록. 생략 가능하다.\n",
    "    명령문4\n",
    "```\n"
   ]
  },
  {
   "cell_type": "code",
   "execution_count": null,
   "id": "4c6a532d",
   "metadata": {
    "slideshow": {
     "slide_type": "fragment"
    }
   },
   "outputs": [],
   "source": []
  },
  {
   "cell_type": "markdown",
   "id": "2149b728",
   "metadata": {
    "slideshow": {
     "slide_type": "slide"
    }
   },
   "source": [
    "# 반복문 (Loop statement)\n",
    "\n",
    "특정 구문들을 반복해서 실행할 때 사용한다. 동일한 코드를 여러번 반복하거나 값이 일정하게 변하는 코드를 반복할 경우 사용한다.  \n",
    "단순 반복을 처리하는 **while문**과 iterable객체가 제공하는 값들을 반복 조회하는 **for in문** 두가지 문법이 있다.\n",
    "\n",
    "![반복문](images/ch03_02.png)\n",
    "\n",
    "<center>count의 값이 limit의 값보다 크거나 같을때 까지 count의 값을 1증가 후 출력하는 구문을 반복한다. </center>\n"
   ]
  },
  {
   "cell_type": "markdown",
   "id": "b4740a36",
   "metadata": {
    "slideshow": {
     "slide_type": "subslide"
    }
   },
   "source": [
    "## while문\n",
    "\n",
    "-   조건이 True인 동안 구문을 반복해서 실행한다.\n",
    "\n",
    "### 구문\n",
    "\n",
    "```python\n",
    "while 조건:       # 조건은 bool 표현식을 기술한다. 조건선언 다음에 : 으로 선언해서 코드블록을 구분한다\n",
    "    반복할 구문1  # 반복할 구문을 코드블록으로 작성한다.\n",
    "    반복할 구문2\n",
    "    ...\n",
    "```\n"
   ]
  },
  {
   "cell_type": "code",
   "execution_count": 4,
   "id": "922d57e0-a985-44a2-b231-2c533b9f7afb",
   "metadata": {},
   "outputs": [
    {
     "name": "stdout",
     "output_type": "stream",
     "text": [
      "0.안녕하세요.\n",
      "2.안녕하세요.\n",
      "4.안녕하세요.\n",
      "6.안녕하세요.\n",
      "8.안녕하세요.\n",
      "종료\n"
     ]
    }
   ],
   "source": [
    "count = 0\n",
    "limit = 10\n",
    "while count < limit:\n",
    "    print(f\"{count}.안녕하세요.\")\n",
    "    count += 2\n",
    "print(\"종료\")"
   ]
  },
  {
   "cell_type": "code",
   "execution_count": null,
   "id": "6b11bde6",
   "metadata": {
    "slideshow": {
     "slide_type": "fragment"
    }
   },
   "outputs": [],
   "source": [
    "while True:\n",
    "    user_input = input(\"0이 아닌 정수를 입력하세요: \")\n",
    "    try:\n",
    "        a = int(user_input)  # 정수 변환 시도\n",
    "\n",
    "        if a == 0:\n",
    "            print(\"0으로는 나눌 수 없습니다.\")\n",
    "            continue  # 다시 입력 받기\n",
    "\n",
    "        b = 10 / a\n",
    "        print(f\"b = 10 / {a} = {b}\")\n",
    "        break  # 성공했으니 반복 종료\n",
    "\n",
    "    except ValueError:\n",
    "        print(\"정수가 아닙니다.\")"
   ]
  },
  {
   "cell_type": "markdown",
   "id": "04f12e55",
   "metadata": {
    "slideshow": {
     "slide_type": "subslide"
    }
   },
   "source": [
    "## for in 문\n",
    "\n",
    "-   Iterable 객체를 순환조회하는 구문\n",
    "    -   for in문은 Iterable 타입의 객체가 가지고 있는 값들을 하나씩 처리하는 구문을 작성할 때 사용한다.\n",
    "\n",
    "> -   **Iterable**\n",
    ">     -   반복가능한 객체. 반복문(for in)을 이용해 일련의 값들을 반복적으로 각각 제공하는 객체를 말한다.\n",
    ">     -   대표적으로 List, Tuple, Dictionary, Set, 문자열 등이 있다.\n",
    "\n",
    "### 구문\n",
    "\n",
    "```python\n",
    "for 변수 in Iterable: # for in 선언후 : 으로 선언부와 구현부를 나눈다.\n",
    "    반복구문          # Iterable이 반복시 제공하는 값을 가지는 \"변수\"를 이용해 값들을 처리하는 구문을 코드블록으로 작성한다.\n",
    "    반복구문\n",
    "```\n"
   ]
  },
  {
   "cell_type": "code",
   "execution_count": 9,
   "id": "da0ce0f6",
   "metadata": {
    "slideshow": {
     "slide_type": "fragment"
    }
   },
   "outputs": [
    {
     "name": "stdout",
     "output_type": "stream",
     "text": [
      "[0, 2, 4, 6, 8, 10, 12, 14, 16, 18]\n"
     ]
    }
   ],
   "source": [
    "l1 = [0,1,2,3,4,5,6,7,8,9]\n",
    "\n",
    "#l1 모든 값 두배로 늘리기\n",
    "l2 = []\n",
    "for i in l1:\n",
    "    l2.append(i*2)\n",
    "print(l2)"
   ]
  },
  {
   "cell_type": "code",
   "execution_count": 12,
   "id": "3961e326-bf6e-4e51-b2a6-37ba78b96475",
   "metadata": {},
   "outputs": [
    {
     "name": "stdout",
     "output_type": "stream",
     "text": [
      "[0, 3, 6, 9]\n"
     ]
    }
   ],
   "source": [
    "# 3의 배수 찾기\n",
    "l3 = []\n",
    "for i in l1:\n",
    "    if i%3==0:\n",
    "        l3.append(i)\n",
    "print(l3)"
   ]
  },
  {
   "cell_type": "code",
   "execution_count": 18,
   "id": "d3c5fda8-613b-4c6e-a912-71be40e37c58",
   "metadata": {},
   "outputs": [
    {
     "name": "stdout",
     "output_type": "stream",
     "text": [
      "{'k1': 1, 'k2': 2, 'k3': 3, 'k4': 4}\n",
      "k1 1\n",
      "k2 2\n",
      "k3 3\n",
      "k4 4\n"
     ]
    }
   ],
   "source": [
    "d1 = dict(\n",
    "    k1=1,\n",
    "    k2=2,\n",
    "    k3=3,\n",
    "    k4=4,\n",
    ")\n",
    "print(d1) # dict 형태로 출력\n",
    "\n",
    "for key, value in d1.items(): # tuple 대입하여 출력\n",
    "    print(key, value)"
   ]
  },
  {
   "cell_type": "markdown",
   "id": "1f30cd6f",
   "metadata": {
    "slideshow": {
     "slide_type": "subslide"
    }
   },
   "source": [
    "## continue와 break를 이용한 반복문 제어\n",
    "\n",
    "-   **continue**\n",
    "    -   실행 블록에서 continue가 실행되면 현재 반복을 중단하고 다음 반복을 진행한다.\n",
    "    -   특정 조건에서 처리를 멈추고 다음 처리를 반복할 때 사용한다.\n",
    "-   **break**\n",
    "    -   반복문 실행을 중단한다.\n",
    "    -   특정 조건에서 반복문을 중간에 중지할때 사용한다.\n",
    "-   continue와 break는 특정 조건에서 실행되야 하는 경우가 대부분이므로 if문 안에 작성한다.\n"
   ]
  },
  {
   "cell_type": "code",
   "execution_count": 21,
   "id": "90c41e9f",
   "metadata": {
    "slideshow": {
     "slide_type": "fragment"
    }
   },
   "outputs": [
    {
     "name": "stdout",
     "output_type": "stream",
     "text": [
      "0\n",
      "2\n",
      "4\n",
      "6\n",
      "8\n"
     ]
    }
   ],
   "source": [
    "ll1 = [0,1,2,3,4,5,6,7,8,9]\n",
    "# 짝수만 출력(1)\n",
    "# for v in ll1:\n",
    "#     if v%2==0:\n",
    "#         print(v)\n",
    "# 짝수만 출력(2)\n",
    "for v in ll1:\n",
    "    if v%2!=0:\n",
    "        continue\n",
    "    print(v)"
   ]
  },
  {
   "cell_type": "code",
   "execution_count": 23,
   "id": "be4076da-3637-4dd1-86f7-c6d08119f67a",
   "metadata": {},
   "outputs": [
    {
     "name": "stdout",
     "output_type": "stream",
     "text": [
      "0\n",
      "1\n",
      "2\n",
      "3\n",
      "4\n",
      "5\n",
      "6\n",
      "종료\n"
     ]
    }
   ],
   "source": [
    "#만약 7이면 반복을 종료\n",
    "for v in ll1:\n",
    "    if v ==7:\n",
    "        break\n",
    "    print(v)\n",
    "print(\"종료\")"
   ]
  },
  {
   "cell_type": "code",
   "execution_count": 44,
   "id": "37965a19-a1da-4b52-b460-a323462650ce",
   "metadata": {},
   "outputs": [
    {
     "data": {
      "text/plain": [
       "20"
      ]
     },
     "execution_count": 44,
     "metadata": {},
     "output_type": "execute_result"
    }
   ],
   "source": [
    "import random\n",
    "random.randint(10,20) # 10이상 20이하 범위의 임의 정수(난수=하나를 반환)"
   ]
  },
  {
   "cell_type": "code",
   "execution_count": 87,
   "id": "28cd90a7-10f4-4088-bee8-06ddb9fb36a5",
   "metadata": {},
   "outputs": [
    {
     "name": "stdout",
     "output_type": "stream",
     "text": [
      "[61, 32, 68, 41, 29, 29, 28, 73, 15, 43, 50, 32, 47, 94, 28, 16, 46, 49, 1, 75, 90, 27, 52, 38, 70, 87, 82, 9, 34, 66, 38, 95, 84, 46, 57, 83, 81, 45, 64, 59, 40, 100, 62, 14, 67, 76, 65, 47, 11, 75, 46, 96, 1, 94, 41, 18, 7, 59, 32, 16, 34, 96, 56, 89, 94, 75, 26, 44, 22, 19, 59, 48, 87, 70, 36, 98, 27, 12, 36, 68, 85, 29, 51, 8, 42, 36, 2, 36, 14, 31, 5, 64, 48, 37, 80, 80, 88, 33, 50, 65, 69, 82, 27, 81]\n",
      "\n",
      "[-36, -83, -13, -50, -20, -62, -37, -74, -36, -35, -67, -90, -56, -9, -90, -25, -53, -94, -95, -14, -53, -71, -77, -38, -53, -21, -95, -35, -72, -1, -51, -70, -98, -26, -81, -45, -70, -51, -21, -79, -61, -11, -12, -82, -1, -13, -32, -45, -17, -76, -83, -39, -54, -10, -14, -69, -49, -87, -26, -82, -59, -43, -99, -30, -51, -15, -37, -29, -98, -52, -30, -10, -28, -71, -66, -60, -77, -52, -100, -48, -13, -16, -71, -1, -34, -28, -65, -95, -67, -23, -99, -63]\n"
     ]
    }
   ],
   "source": [
    "# 난수 하나 뽑아서 0이 나올때까지 양수와 음수 모으기 방법 1\n",
    "import random\n",
    "nn1 = random.randint(-100,100) #조건절에 앞서 난수를 반환\n",
    "pos1 = []\n",
    "neg1 = []\n",
    "\n",
    "while nn1 != 0: #조건절에 난수를 사용\n",
    "    if nn1 > 0:\n",
    "        pos1.append(nn1)\n",
    "    else:\n",
    "        neg1.append(nn1) # 아직까진 난수는 그대로\n",
    "    nn1 = random.randint(-100,100) # 난수를 새로 뽑아줘야한다.\n",
    "print(pos1)\n",
    "print()\n",
    "print(neg1)"
   ]
  },
  {
   "cell_type": "code",
   "execution_count": 88,
   "id": "a0a32ac5-04cb-4c71-8048-660214a029ab",
   "metadata": {},
   "outputs": [
    {
     "name": "stdout",
     "output_type": "stream",
     "text": [
      "[25, 39, 13, 13, 58, 24, 68, 35, 60, 35, 21, 64, 55, 77, 99, 57, 9, 25, 48, 54, 85, 16, 19, 10, 61, 50, 18, 10, 78, 89, 13, 82, 71, 29, 70, 87, 41, 53, 57, 71, 55, 30, 4, 27, 56, 53, 56, 91, 53, 70, 18, 22, 82, 81, 30, 78, 38, 80, 11, 8, 34, 8, 47, 57, 56, 33, 7, 43, 18, 56, 20, 39, 7, 30, 24, 82, 82, 58, 71, 57, 14, 7, 7, 36, 51, 10, 2, 37, 99, 25, 98, 9, 75, 80, 33, 81, 54, 25, 6, 79, 3, 94, 41, 69, 20, 72, 7, 31, 2, 2, 43, 60, 76, 33, 54, 34, 75, 25, 67, 16, 39, 51, 12, 89, 65, 76, 93, 95, 47, 69, 45, 15, 69, 61, 82, 3, 82, 24, 42, 40, 80, 75, 77, 2, 47, 25, 25, 14]\n",
      "\n",
      "[-79, -91, -23, -29, -93, -71, -92, -48, -45, -47, -53, -86, -50, -21, -68, -91, -87, -95, -75, -73, -76, -69, -61, -89, -68, -99, -70, -2, -49, -52, -56, -40, -57, -42, -20, -75, -60, -89, -82, -36, -91, -60, -77, -8, -31, -98, -65, -76, -4, -65, -57, -22, -20, -81, -17, -80, -72, -58, -61, -31, -21, -23, -58, -18, -46, -79, -77, -75, -87, -42, -14, -84, -70, -2, -82, -22, -49, -58, -97, -63, -90, -77, -55, -57, -34, -80, -68, -84, -12, -41, -18, -92, -32, -34, -2, -83, -54, -97, -20, -12, -92, -23, -9, -4, -10, -51, -16, -89, -84, -16, -50, -78, -26, -25, -89, -18, -70, -41, -100, -12, -17, -75, -19, -88, -66, -43, -60, -13, -38, -84, -54, -74, -16, -11, -90, -45, -92, -26, -89, -48, -13]\n"
     ]
    }
   ],
   "source": [
    "# 난수 하나 뽑아서 0이 나올때까지 양수와 음수 모으기 방법 2\n",
    "import random\n",
    "pos2 = []\n",
    "neg2 = []\n",
    "\n",
    "while True:\n",
    "    nn1 = random.randint(-100,100) # while 안에 넣음으로서 반복하여 난수뽑도록한다. 난수뽑는 코드를 한번만 적도록함\n",
    "    if nn1 > 0:\n",
    "        pos2.append(nn1)\n",
    "    elif nn1 < 0:\n",
    "        neg2.append(nn1)\n",
    "    else:\n",
    "        break\n",
    "print(pos2)\n",
    "print()\n",
    "print(neg2)"
   ]
  },
  {
   "cell_type": "code",
   "execution_count": 93,
   "id": "2c2126c7-6577-4780-a602-31ccfdef466b",
   "metadata": {},
   "outputs": [
    {
     "name": "stdout",
     "output_type": "stream",
     "text": [
      "[23, 62, 42, 62, 52, 14, 90, 56, 91, 19, 22, 73, 21, 55, 88, 15, 81, 46, 22, 49, 89, 64, 20, 67, 82, 44, 93, 25, 74, 71, 62, 60, 74, 77, 82, 50, 79, 3, 86, 99, 73, 73, 14, 25, 60, 42, 6, 37, 60, 75, 21, 60, 81, 41, 67, 70, 92, 19, 30, 67, 15, 51, 29, 90, 64, 28, 37, 64, 18, 46, 33, 25, 14, 22, 78, 22, 41, 68, 40, 28, 73, 30, 30, 10, 87, 41, 26, 24]\n",
      "[-22, -8, -49, -24, -79, -99, -16, -41, -49, -89, -83, -72, -64, -11, -67, -66, -9, -33, -85, -24, -59, -74, -75, -40, -10, -74, -17, -73, -98, -16, -96, -100, -36, -4, -58, -35, -8, -61, -53, -95, -58, -10, -42, -35, -90, -84, -95, -12, -99, -11, -18, -19, -57, -82, -59, -35, -28, -17, -76, -34, -18, -33, -34, -56, -94, -85, -24, -48, -37, -48, -55, -3, -97, -12, -66, -40, -49, -30, -17]\n"
     ]
    }
   ],
   "source": [
    "# 난수 하나 뽑아서 0이 나올때까지 양수와 음수 모으기 방법 3\n",
    "import random\n",
    "pos3 = []\n",
    "neg3 = []\n",
    "# := (왈러스 연산자-대입연산자) - if/while 조건절에 쓰임\n",
    "# 값을 변수에 대입하고 반환. 1-값을 변수에 대입, 2-대입한 값을 다시 반환.\n",
    "# 조건절에 앞서서 값을 만들었고, 조건절의 조건문에도 값이 들어가야하는경우 상기 방법 1에 대한 문제점을 극복\n",
    "while nn1 := random.randint(-100,100): # 난수가 0이면 False이므로 그냥 조건문을 빠져나간다.\n",
    "    if nn1 > 0:\n",
    "        pos3.append(nn1)\n",
    "    elif nn1 < 0:\n",
    "        neg3.append(nn1)\n",
    "print(pos3)\n",
    "print(neg3)"
   ]
  },
  {
   "cell_type": "code",
   "execution_count": 95,
   "id": "e4542b5b-be48-4d8f-ae21-97bbd17dd74b",
   "metadata": {},
   "outputs": [
    {
     "name": "stdout",
     "output_type": "stream",
     "text": [
      "True\n"
     ]
    }
   ],
   "source": [
    "#왈러스 정리\n",
    "print((a := 20) > 0) # a에 20을 넣고, 그 넣은 값과 0을 비교한다."
   ]
  },
  {
   "cell_type": "markdown",
   "id": "dc6099c5",
   "metadata": {
    "slideshow": {
     "slide_type": "slide"
    }
   },
   "source": [
    "## for in 문 연관 내장 함수\n",
    "\n",
    "### range()\n",
    "\n",
    "-   일정한 간격의 연속된 정수를 제공하는 반복가능 객체 생성한다.\n",
    "-   구문\n",
    "    -   `range([시작값], 멈춤값, [증감값])`\n",
    "        -   시작값, 멈춤값, 증감값 모두 정수만 가능하다.\n",
    "        -   시작값 > 멈춤값 이고 증감값이 음수이면 내림차순으로 값을 제공한다.\n",
    "        1. 전달값이 **1개: 멈춤값**.\n",
    "            - 0 ~ (멈춤값-1)까지 1씩 증가하는 정수를 제공\n",
    "        2. 전달값이 **2개: 시작값, 멈춤값**.\n",
    "            - 시작값 ~ (멈춤값-1) 까지 1씩 증가하는 정수 제공\n",
    "        3. 전달값이 **3개: 시작값, 멈춤값, 증감값(간격)**.\n",
    "            - 시작값 ~ (멈춤값-1)까지 증감값만큼 증가하는 정수를 제공.\n"
   ]
  },
  {
   "cell_type": "code",
   "execution_count": null,
   "id": "352d937b",
   "metadata": {
    "slideshow": {
     "slide_type": "fragment"
    }
   },
   "outputs": [],
   "source": []
  },
  {
   "cell_type": "markdown",
   "id": "5de9d74e",
   "metadata": {
    "slideshow": {
     "slide_type": "subslide"
    }
   },
   "source": [
    "## enumerate()\n",
    "\n",
    "-   구문\n",
    "    -   `enumerate(Iterable,  [, start=정수])`\n",
    "        -   현재 몇번째 값을 제공하는 지(현재 몇번째 반복인지)를 나타내는 **index**와 제공하는 **원소**를 tuple로 묶어서 반환\n",
    "        -   Iterable\n",
    "            -   값을 제공할 Iterable객체\n",
    "        -   start: 정수\n",
    "            -   index 시작 값. 생략하면 0부터 시작한다.\n"
   ]
  },
  {
   "cell_type": "code",
   "execution_count": 1,
   "id": "33dd96c5",
   "metadata": {
    "slideshow": {
     "slide_type": "fragment"
    }
   },
   "outputs": [
    {
     "name": "stdout",
     "output_type": "stream",
     "text": [
      "(0, 10) (1, 11) (2, 12) (3, 13) (4, 14) (5, 15) (6, 16) (7, 17) (8, 18) (9, 19) "
     ]
    }
   ],
   "source": [
    "lll = list(range(10,20))\n",
    "for v in enumerate(lll): #(index: 몇번째 반복인지, 값) \n",
    "    print(v, end=\" \")"
   ]
  },
  {
   "cell_type": "code",
   "execution_count": 99,
   "id": "a1639838-1510-47f9-859a-2bb0b870de36",
   "metadata": {},
   "outputs": [
    {
     "name": "stdout",
     "output_type": "stream",
     "text": [
      "0 10\n",
      "1 11\n",
      "2 12\n",
      "3 13\n",
      "4 14\n",
      "5 15\n",
      "6 16\n",
      "7 17\n",
      "8 18\n",
      "9 19\n"
     ]
    }
   ],
   "source": [
    "for idx, value in enumerate(lll): # 튜플로 출력했을땐 자료처리가 귀찮아서 이렇게도 출력함\n",
    "    print(idx, value)"
   ]
  },
  {
   "cell_type": "code",
   "execution_count": 101,
   "id": "7deeff0c-505a-4fc5-abf9-c9d3597e07d9",
   "metadata": {},
   "outputs": [
    {
     "name": "stdout",
     "output_type": "stream",
     "text": [
      "1000 - 중간결과\n",
      "2000 - 중간결과\n",
      "3000 - 중간결과\n",
      "4000 - 중간결과\n",
      "5000 - 중간결과\n",
      "6000 - 중간결과\n",
      "7000 - 중간결과\n",
      "8000 - 중간결과\n",
      "9000 - 중간결과\n",
      "10000 - 중간결과\n"
     ]
    }
   ],
   "source": [
    "# 10000번 반복처리하는 것을 중간결과를 1000에 한번씩 출력하기\n",
    "for idx, value in enumerate(range(10000), start=1):\n",
    "    #작업내용 적고\n",
    "    if idx % 1000 == 0:\n",
    "        print(f\"{idx} - 중간결과\") # 중간결과를 출력\n"
   ]
  },
  {
   "cell_type": "markdown",
   "id": "f5a5540f",
   "metadata": {
    "slideshow": {
     "slide_type": "subslide"
    }
   },
   "source": [
    "## zip()\n",
    "\n",
    "-   여러 개의 Iterable 객체를 받아 반복시 같은 index의 값끼리 튜플로 묶어 반환한다.\n",
    "-   구문\n",
    "    -   `zip(Iterable1, Iterable2, Iterable3 [, .......])`\n",
    "        -   Iterable 2개이상.전달한다.\n",
    "-   각 Iterable이 제공하는 원소의 개수가가 다를 경우 가장 적은 것의 개수에 맞춰 반복한다.\n"
   ]
  },
  {
   "cell_type": "code",
   "execution_count": 103,
   "id": "1b99057f",
   "metadata": {
    "slideshow": {
     "slide_type": "fragment"
    }
   },
   "outputs": [
    {
     "name": "stdout",
     "output_type": "stream",
     "text": [
      "('Lee', 10, 'Seoul')\n",
      "('Kim', 20, 'Incheon')\n",
      "('Park', 30, 'Busan')\n"
     ]
    }
   ],
   "source": [
    "name_list = ['Lee', 'Kim', 'Park']\n",
    "age_list = [10, 20, 30]\n",
    "address_list = ['Seoul', 'Incheon', 'Busan']\n",
    "# index가 같다면, 한 사람의 데이터일때. 개별 사람의 데이터를 출력하는 방법\n",
    "for v in zip(name_list, age_list, address_list):\n",
    "    print(v)"
   ]
  },
  {
   "cell_type": "code",
   "execution_count": 104,
   "id": "416e13c4-87b9-4ddf-9d0a-36f9f48f6733",
   "metadata": {},
   "outputs": [
    {
     "name": "stdout",
     "output_type": "stream",
     "text": [
      "Lee 10 Seoul\n",
      "Kim 20 Incheon\n",
      "Park 30 Busan\n"
     ]
    }
   ],
   "source": [
    "for name, age, address in zip(name_list, age_list, address_list):\n",
    "    print(name, age, address)"
   ]
  },
  {
   "cell_type": "markdown",
   "id": "2df89dae",
   "metadata": {
    "slideshow": {
     "slide_type": "subslide"
    }
   },
   "source": [
    "# 컴프리헨션(Comprehension)\n",
    "\n",
    "-   기존 Iterable의 원소들을 이용해서 새로운 자료구조(List, Dictionary, Set)를 생성하는 구문.\n",
    "    -   기존 Iterable의 **원소들을 처리한 결과**나 **특정 조건이 True인 값들을** 새로운 자료구조에 넣을때 사용.\n",
    "    -   결과를 넣을 새로운 자료구조 타입에 따라 다음 세가지가 있다.\n",
    "        -   리스트 컴프리헨션\n",
    "        -   딕셔너리 컴프리헨션\n",
    "        -   셋 컴프리헨션\n",
    "- **튜플 컴프리헨션**은 tuple() 함수를 이용해서 만든다.\n",
    "-   **딕셔너리 컴프리헨션**과 **셋 컴프리헨션**은 파이썬 3 에 새로 추가되었다.\n",
    "-   컴프리헨션 문법은 iterable 을 타입을 넣는 곳에서는 다 적용할 수있다.\n"
   ]
  },
  {
   "cell_type": "code",
   "execution_count": 107,
   "id": "e04827d9",
   "metadata": {
    "slideshow": {
     "slide_type": "fragment"
    }
   },
   "outputs": [
    {
     "name": "stdout",
     "output_type": "stream",
     "text": [
      "[0, 2, 4, 6, 8, 10, 12, 14, 16, 18]\n",
      "[0, 2, 4, 6, 8]\n"
     ]
    }
   ],
   "source": [
    "# filtering: iterable의 자료에서 원하는 값만 걸러내어 새 자료구조를 만드는것\n",
    "# mapping: iterable의 자료에서 일괄적으로 계산을 넣어주어 새 자료구조를 만드는것\n",
    "# 위 두개 모두 컴프리헨션을 많이 쓴다.\n",
    "\n",
    "pre_list = [0,1,2,3,4,5,6,7,8,9]\n",
    "\n",
    "mapping_list = [v*2 for v in pre_list]\n",
    "print(mapping_list)\n",
    "\n",
    "filtering_list = [v for v in pre_list if v%2==0]\n",
    "print(filtering_list)"
   ]
  },
  {
   "cell_type": "code",
   "execution_count": 110,
   "id": "a5cf60b7-0f6b-4541-8bc9-e6c7a3190bc0",
   "metadata": {},
   "outputs": [
    {
     "name": "stdout",
     "output_type": "stream",
     "text": [
      "{0, 2, 4, 6, 8, 10, 12, 14, 16, 18}\n",
      "{0: 0, 1: 2, 2: 4, 3: 6, 4: 8, 5: 10, 6: 12, 7: 14, 8: 16, 9: 18}\n",
      "<generator object <genexpr> at 0x00000282A4F7DBE0>\n",
      "(0, 2, 4, 6, 8, 10, 12, 14, 16, 18)\n"
     ]
    }
   ],
   "source": [
    "# set comprehension\n",
    "sss = {v*2 for v in pre_list}\n",
    "print(sss)\n",
    "\n",
    "# dict comprehension\n",
    "ddd = {v:v*2 for v in pre_list}\n",
    "print(ddd)\n",
    "\n",
    "#generator 생성\n",
    "ggg = (v*2 for v in pre_list) # 튜플만드는거 아님\n",
    "print(ggg) \n",
    "\n",
    "# tuple 생성\n",
    "ttt = tuple(v*2 for v in pre_list) # 튜플 함수를 써야한다.\n",
    "print(ttt)"
   ]
  },
  {
   "cell_type": "code",
   "execution_count": 111,
   "id": "7f295c5e-f6cb-4af8-9c60-c7a7f589d3a0",
   "metadata": {},
   "outputs": [
    {
     "name": "stdout",
     "output_type": "stream",
     "text": [
      "[1, 53, 253, 767, 123, 231]\n"
     ]
    }
   ],
   "source": [
    "# 이차원리스트 내 원소를 저장하기\n",
    "# lll2 원소 중 홀수만 저장하기\n",
    "lll2 = [[1,2134542,124,53,253],[1234,23516,767,354,123,231]]\n",
    "\n",
    "result = [v for a in lll2 for v in a if v%2 != 0]\n",
    "print(result)\n",
    "\n",
    "# 정석\n",
    "# result = []\n",
    "# for a in lll2:\n",
    "#     for v in a:\n",
    "#         if v%2 != 0:\n",
    "#             result.append(v)\n",
    "# print(result)"
   ]
  },
  {
   "cell_type": "markdown",
   "id": "092288d7",
   "metadata": {
    "slideshow": {
     "slide_type": "skip"
    }
   },
   "source": [
    "# TODO\n"
   ]
  },
  {
   "cell_type": "code",
   "execution_count": 2,
   "id": "3775615f-faa1-43bb-a7dc-374b4b5daadd",
   "metadata": {
    "slideshow": {
     "slide_type": "skip"
    }
   },
   "outputs": [
    {
     "name": "stdin",
     "output_type": "stream",
     "text": [
      "ID를 입력하세요. dddd\n"
     ]
    },
    {
     "name": "stdout",
     "output_type": "stream",
     "text": [
      "사용할 수 있습니다.\n"
     ]
    }
   ],
   "source": [
    "# (1) 사용자로 부터 ID를 입력 받은 뒤 입력받은 ID가 5글자 이상이면 \"사용할 수 있습니다.\"를 5글자 미만이면 \"사용할 수 없는 ID입니다.\"를 출력하세요.\n",
    "id = len(input(\"ID를 입력하세요.\"))\n",
    "\n",
    "if id>= 5:\n",
    "    print(\"사용할 수 있습니다.\")\n",
    "else:\n",
    "    print(\"사용할 수 없는 ID입니다.\")"
   ]
  },
  {
   "cell_type": "code",
   "execution_count": 16,
   "id": "cd329a53-808f-4dab-936a-0f9485217999",
   "metadata": {
    "slideshow": {
     "slide_type": "skip"
    }
   },
   "outputs": [
    {
     "name": "stdin",
     "output_type": "stream",
     "text": [
      "도시명을 입력하세요. 강화\n"
     ]
    },
    {
     "name": "stdout",
     "output_type": "stream",
     "text": [
      "특별시나 광역시가 아닙니다.\n"
     ]
    }
   ],
   "source": [
    "# (2) 사용자로부터 우리나라 도시명을 입력 받은 뒤 입력받은 도시명이 서울이면 \"특별시\"를 인천,부산,광주,대구,대전,울산 이면 \"광역시\"를 나머지는 \"특별시나 광역시가 아닙니다.\"를 출력하세요.\n",
    "city = input(\"도시명을 입력하세요.\")\n",
    "\n",
    "if city == \"서울\":\n",
    "    print(\"특별시\")\n",
    "elif city in [\"인천\",\"부산\",\"광주\",\"대구\",\"대전\",\"울산\"]:\n",
    "    print(\"광역시\")\n",
    "else:\n",
    "    print(\"특별시나 광역시가 아닙니다.\")"
   ]
  },
  {
   "cell_type": "code",
   "execution_count": 4,
   "id": "24332762-d9c2-4915-83f8-9557372113a6",
   "metadata": {
    "slideshow": {
     "slide_type": "skip"
    }
   },
   "outputs": [
    {
     "name": "stdout",
     "output_type": "stream",
     "text": [
      "89.0\n",
      "0-pass\n",
      "1-pass\n",
      "2-pass\n",
      "3-fail\n",
      "4-fail\n",
      "5-pass\n",
      "6-fail\n",
      "7-pass\n",
      "8-pass\n",
      "9-fail\n",
      "\n",
      "0-pass\n",
      "1-pass\n",
      "2-pass\n",
      "3-fail\n",
      "4-fail\n",
      "5-pass\n",
      "6-fail\n",
      "7-pass\n",
      "8-pass\n",
      "9-fail\n"
     ]
    }
   ],
   "source": [
    "# (3-4)\n",
    "# (3) 아래 리스트의 평균을 구하시오.\n",
    "jumsu = [100, 90, 100, 80, 70, 100, 80, 90, 95, 85]\n",
    "average = sum(jumsu)/len(jumsu)\n",
    "print(average)\n",
    "# 강사답안\n",
    "# jumsu_sum = 0\n",
    "# for v in jumsu:\n",
    "#     jumsu_sum = jumsu + v\n",
    "\n",
    "# (4) 위 jumsu리스트에서 평균점수이상은 pass, 미만은 fail을 index번호와 함께 출력하시오. (ex: 0-pass, 1-pass, 2-fail)\n",
    "for i in range(len(jumsu)):\n",
    "    if jumsu[i] >= average:\n",
    "        print(f\"{i}-pass\")\n",
    "    else:\n",
    "        print(f\"{i}-fail\")\n",
    "print()\n",
    "#강사 답안\n",
    "for idx, i in enumerate(jumsu):\n",
    "    if i >= average:\n",
    "        print(f\"{idx}-pass\")\n",
    "    else:\n",
    "        print(f\"{idx}-fail\")"
   ]
  },
  {
   "cell_type": "code",
   "execution_count": 5,
   "id": "ede329e0-fd32-4190-8dd8-3fed0db18850",
   "metadata": {
    "slideshow": {
     "slide_type": "skip"
    }
   },
   "outputs": [
    {
     "name": "stdout",
     "output_type": "stream",
     "text": [
      "95\n"
     ]
    }
   ],
   "source": [
    "# (5) 아래 리스트 값들 중 최대값을 조회해 출력하시오.\n",
    "jumsu = [60, 90, 80, 80, 70, 55, 80, 90, 95, 85]\n",
    "# 첫 내 답안\n",
    "# maximum = max(jumsu)\n",
    "# print(maximum)\n",
    "\n",
    "# for in 문으로 풀어보기 강사 답안\n",
    "maximum = jumsu[0] # 최대값을 저장할 변수\n",
    "\n",
    "for v in jumsu:\n",
    "    if maximum < v:\n",
    "        maximum = v\n",
    "print(maximum)    "
   ]
  },
  {
   "cell_type": "code",
   "execution_count": 9,
   "id": "315db7cb-71c3-4f02-80e5-582a6600ad85",
   "metadata": {
    "slideshow": {
     "slide_type": "skip"
    }
   },
   "outputs": [
    {
     "name": "stdout",
     "output_type": "stream",
     "text": [
      "2 x 1 = 2\t3 x 1 = 3\t4 x 1 = 4\t5 x 1 = 5\t6 x 1 = 6\t7 x 1 = 7\t8 x 1 = 8\t9 x 1 = 9\t\n",
      "2 x 2 = 4\t3 x 2 = 6\t4 x 2 = 8\t5 x 2 = 10\t6 x 2 = 12\t7 x 2 = 14\t8 x 2 = 16\t9 x 2 = 18\t\n",
      "2 x 3 = 6\t3 x 3 = 9\t4 x 3 = 12\t5 x 3 = 15\t6 x 3 = 18\t7 x 3 = 21\t8 x 3 = 24\t9 x 3 = 27\t\n",
      "2 x 4 = 8\t3 x 4 = 12\t4 x 4 = 16\t5 x 4 = 20\t6 x 4 = 24\t7 x 4 = 28\t8 x 4 = 32\t9 x 4 = 36\t\n",
      "2 x 5 = 10\t3 x 5 = 15\t4 x 5 = 20\t5 x 5 = 25\t6 x 5 = 30\t7 x 5 = 35\t8 x 5 = 40\t9 x 5 = 45\t\n",
      "2 x 6 = 12\t3 x 6 = 18\t4 x 6 = 24\t5 x 6 = 30\t6 x 6 = 36\t7 x 6 = 42\t8 x 6 = 48\t9 x 6 = 54\t\n",
      "2 x 7 = 14\t3 x 7 = 21\t4 x 7 = 28\t5 x 7 = 35\t6 x 7 = 42\t7 x 7 = 49\t8 x 7 = 56\t9 x 7 = 63\t\n",
      "2 x 8 = 16\t3 x 8 = 24\t4 x 8 = 32\t5 x 8 = 40\t6 x 8 = 48\t7 x 8 = 56\t8 x 8 = 64\t9 x 8 = 72\t\n",
      "2 x 9 = 18\t3 x 9 = 27\t4 x 9 = 36\t5 x 9 = 45\t6 x 9 = 54\t7 x 9 = 63\t8 x 9 = 72\t9 x 9 = 81\t\n"
     ]
    }
   ],
   "source": [
    "# (6) 사용자로부터 정수를 입력받아 그 정수 단의 구구단을 출력하시오.\n",
    "# ex)\n",
    "# 단을 입력하시오 : 2\n",
    "# 2 x 1 = 2\n",
    "# 2 x 2 = 4\n",
    "# ..\n",
    "# 2 x 9 = 18\n",
    "\n",
    "# n = int(input(\"단을 입력하시오 : \"))\n",
    "# for i in range(1,10):\n",
    "#     x = n*i\n",
    "#     print(f\"{n} x {i} = {x}\")\n",
    "\n",
    "# 구구단 표를 만들기\n",
    "for i in range(1,10): # X*1=Y 꼴을 먼저 채운다. 그다음은 X * 2 =Y 꼴 등\n",
    "    for j in range(2,10):\n",
    "        print(f\"{j} x {i} = {j*i}\", end='\\t')\n",
    "    print()"
   ]
  },
  {
   "cell_type": "code",
   "execution_count": 34,
   "id": "470b917c-726a-4d66-9258-37a96dd24185",
   "metadata": {
    "slideshow": {
     "slide_type": "skip"
    }
   },
   "outputs": [
    {
     "name": "stdout",
     "output_type": "stream",
     "text": [
      "[(10, 100), (30, 300), (70, 700), (5, 50), (5, 50), (120, 1200), (700, 7000), (1, 10), (35, 350), (35, 350)]\n"
     ]
    }
   ],
   "source": [
    "# 컴프리헨션\n",
    "\n",
    "# (7) 다음 리스트의 원소들에 10배한 값을 (원래값, 10배값) 의 튜플 묶음으로 가지는 리스트를 만드시오 (리스트 컴프리헨션 이용)\n",
    "# Ex) [(10,100), (30,300), .., (35, 350)]\n",
    "lst = [10, 30, 70, 5, 5, 120, 700, 1, 35, 35]\n",
    "\n",
    "list_c1 = [(lst[i], int(lst[i])*10) for i in range(len(lst))]\n",
    "print(list_c1)"
   ]
  },
  {
   "cell_type": "code",
   "execution_count": 38,
   "id": "5dfee96f-2c0c-4aa4-8b5d-71bca6f9d1db",
   "metadata": {
    "slideshow": {
     "slide_type": "skip"
    }
   },
   "outputs": [
    {
     "name": "stdout",
     "output_type": "stream",
     "text": [
      "[3, 33, 21, 33, 60, 120]\n"
     ]
    }
   ],
   "source": [
    "# (8) 다음 리스트가 가진 값들 중 3의 배수만 가지는 리스트를 만드시오. (리스트 컴프리헨션 이용)\n",
    "lst2 = [3, 20, 33, 21, 33, 8, 11, 10, 7, 17, 60, 120, 2]\n",
    "\n",
    "list_c2 = [lst2[i] for i in range(len(lst2)) if int(lst2[i]) % 3 == 0]\n",
    "print(list_c2)"
   ]
  },
  {
   "cell_type": "code",
   "execution_count": 12,
   "id": "c1353f4d-4473-40e5-9c50-e761be278c28",
   "metadata": {
    "slideshow": {
     "slide_type": "skip"
    }
   },
   "outputs": [
    {
     "name": "stdout",
     "output_type": "stream",
     "text": [
      "['a.exe', 'function.exe', 'b.exe', 'run.exe']\n"
     ]
    }
   ],
   "source": [
    "# (9)) 다음 파일이름들을 담은 리스트에서 확장자가 exe인 파일만 골라서 새로운 리스트에 담으시오.(string의 endswith()함수 이용)\n",
    "file_names = [\n",
    "    \"test.txt\",\n",
    "    \"a.exe\",\n",
    "    \"jupyter.bat\",\n",
    "    \"function.exe\",\n",
    "    \"b.exe\",\n",
    "    \"cat.jpg\",\n",
    "    \"dog.png\",\n",
    "    \"run.exe\",\n",
    "    \"i.dll\",\n",
    "]\n",
    "# 두번째 답안\n",
    "new_list = [i for i in file_names if i.endswith('exe')]\n",
    "print(new_list)\n",
    "\n",
    "# 첫 답안\n",
    "# list_c3 = [file_names[i] for i in range(len(file_names)) if file_names[i].endswith(\"exe\")]\n",
    "# print(list_c3)"
   ]
  },
  {
   "cell_type": "code",
   "execution_count": 15,
   "id": "63c28d07-9184-4072-a5a3-6ea22de5746a",
   "metadata": {
    "slideshow": {
     "slide_type": "skip"
    }
   },
   "outputs": [
    {
     "name": "stdout",
     "output_type": "stream",
     "text": [
      "['mystroy.txt', 'jupyter.bat', 'function.exe']\n"
     ]
    }
   ],
   "source": [
    "# (10) 다음 중 10글자 이상인 파일명(확장자포함)만 가지는 리스트를 만드시오.\n",
    "file_names = [\n",
    "    \"mystroy.txt\",\n",
    "    \"a.exe\",\n",
    "    \"jupyter.bat\",\n",
    "    \"function.exe\",\n",
    "    \"b.exe\",\n",
    "    \"cat.jpg\",\n",
    "    \"dog.png\",\n",
    "    \"run.exe\",\n",
    "    \"i.dll\",\n",
    "]\n",
    "# 두 번째 답안\n",
    "new2_list = [v for v in file_names if len(v)>=10]\n",
    "print(new2_list)\n",
    "\n",
    "# 첫 답안\n",
    "# list_c4 = [file_names[i] for i in range(len(file_names)) if len(file_names[i]) >= 10]\n",
    "# print(list_c4)"
   ]
  }
 ],
 "metadata": {
  "kernelspec": {
   "display_name": "Python 3 (ipykernel)",
   "language": "python",
   "name": "python3"
  },
  "language_info": {
   "codemirror_mode": {
    "name": "ipython",
    "version": 3
   },
   "file_extension": ".py",
   "mimetype": "text/x-python",
   "name": "python",
   "nbconvert_exporter": "python",
   "pygments_lexer": "ipython3",
   "version": "3.12.9"
  },
  "toc": {
   "base_numbering": 1,
   "nav_menu": {},
   "number_sections": true,
   "sideBar": true,
   "skip_h1_title": false,
   "title_cell": "Table of Contents",
   "title_sidebar": "Contents",
   "toc_cell": false,
   "toc_position": {},
   "toc_section_display": true,
   "toc_window_display": false
  },
  "varInspector": {
   "cols": {
    "lenName": 16,
    "lenType": 16,
    "lenVar": 40
   },
   "kernels_config": {
    "python": {
     "delete_cmd_postfix": "",
     "delete_cmd_prefix": "del ",
     "library": "var_list.py",
     "varRefreshCmd": "print(var_dic_list())"
    },
    "r": {
     "delete_cmd_postfix": ") ",
     "delete_cmd_prefix": "rm(",
     "library": "var_list.r",
     "varRefreshCmd": "cat(var_dic_list()) "
    }
   },
   "types_to_exclude": [
    "module",
    "function",
    "builtin_function_or_method",
    "instance",
    "_Feature"
   ],
   "window_display": false
  }
 },
 "nbformat": 4,
 "nbformat_minor": 5
}
