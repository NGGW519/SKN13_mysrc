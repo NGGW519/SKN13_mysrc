{
 "cells": [
  {
   "cell_type": "markdown",
   "metadata": {
    "slideshow": {
     "slide_type": "slide"
    }
   },
   "source": [
    "# 함수란\n",
    "\n",
    "-   함수란 **입력변수와 출력변수간의 대응 관계**를 정의한 것을 말한다.\n",
    "-   프로그램에서 함수란 하나의 작업, 기능, 동작을 처리하기 위한 사용자 정의 연산자라고 할 수 있다.\n",
    "    -   함수는 값을 **입력(Input)을** 받아서 **처리 후** 처리결과를 **출력(Output)하는** 일련의 과정을 정의한 것을 말한다.\n",
    "    -   만들어진 함수는 동일한 작업이 필요할 때 마다 재사용될 수 있다.\n",
    "    -   함수를 구현해 파이썬 실행환경에 등록하는 것을 **함수를 정의(define)한다** 라고 한다.\n",
    "    -   정의된 함수를 사용하는 것을 **함수를 호출(call)한다** 라고 한다.\n",
    "    -   파이썬에서 함수는 일급 시민 객체(First Class Citizen/First Class Object)이다.\n",
    "\n",
    "> -   **일급 시민 객체 란**  \n",
    ">      – **변수에 할당할 수 있고, 함수의 입력값으로 전달할 수 있고, 함수의 반환 값으로 반환할 수 있는 객체를 말한다.**\n",
    ">\n",
    "> -   일급시민객체는 일급시민 이란 말에서 유래된 용어이다.\n",
    ">          - 일급 시민이란 자유롭게 거주하며 일을 할 수 있고, 출입국의 자유를 가지며 투표의 자유를 가지는 시민을 의미한다.\n",
    ">          - 일급 시민 객체란 적용 가능한 연산을 모두 지원하는 객체를 뜻한다."
   ]
  },
  {
   "cell_type": "markdown",
   "metadata": {
    "slideshow": {
     "slide_type": "slide"
    }
   },
   "source": [
    "## 함수 정의\n",
    "\n",
    "-   새로운 함수를 만드는 것을 함수의 정의라고 한다.\n",
    "-   함수를 구현하고 그것을 **파이썬 실행환경에** 새로운 기능으로 **등록하는** 과정을 말한다.\n",
    "\n",
    "### 함수 구현\n",
    "\n",
    "-   함수의 선언부와 구현부로 나누어진다\n",
    "    -   함수의 선언부(Header) : 함수의 이름과 입력값을 받을 변수(Parameter, 매개변수)를 지정한다.\n",
    "    -   함수의 구현부(Body) : 함수가 호출 되었을 때 실행할 실행문들을 순서대로 작성한다.\n"
   ]
  },
  {
   "cell_type": "markdown",
   "metadata": {
    "slideshow": {
     "slide_type": "fragment"
    }
   },
   "source": [
    "```python\n",
    "def 함수이름( [변수, 변수, ..]):  # 선언 부(Header), [] 안에 있는 내용은 선택적인 것\n",
    "    # 구현 부(body)\n",
    "    실행구문1\n",
    "    실행구문2\n",
    "    실행구문3\n",
    "    …\n",
    "    [return [결과값]]\n",
    "```\n",
    "\n",
    "-   함수 선언 마지막에는 `:` 을 넣어 구현부와 구분한다.\n",
    "-   Parameter(매개변수)는 argument(호출하는 곳에서 전달하는 함수의 입력값)를 받기 위한 변수로 0개 이상 선언할 수 있다.\n",
    "-   함수의 실행구문은 코드블록으로 들여쓰기로 블록을 묶어준다.\n",
    "    -   들여쓰기는 보통 공백 4칸을 사용한다.\n",
    "-   함수의 처리 결과값이 있을 경우 **return 구문**을 넣고 없을 경우 return은 생략할 수 있다.\n",
    "-   **함수이름 관례**\n",
    "    -   함수이름은 보통 동사형으로 만든다.\n",
    "    -   Snake 표기법사용: 모두 소문자로 하고 여러단어로 구성할 경우 각 단어들을 `_`로 연결한다. (변수와 동일)\n"
   ]
  },
  {
   "cell_type": "code",
   "execution_count": 12,
   "metadata": {
    "slideshow": {
     "slide_type": "fragment"
    }
   },
   "outputs": [],
   "source": [
    "# 함수 정의\n",
    "## 파라미터, 리턴값 모두 없는 함수\n",
    "def greet1(): # 선언부(Header)\n",
    "    print(\"Hello\")\n",
    "    print(\"Nice to meet you\")\n",
    "\n",
    "# 주의: 함수를 정의한 cell을 한번 실행하여 메모리에 등록을 해야 이후에 함수를 호출할때 제대로 호출된다.\n",
    "# 함수를 메모리에 등록하지 않은 채 함수를 호출하면 에러가 뜬다.\n",
    "# 마찬가지로 새로고침 후에 다시 메모리에 등록하지 않는다면 에러가 뜬다."
   ]
  },
  {
   "cell_type": "code",
   "execution_count": 13,
   "metadata": {
    "slideshow": {
     "slide_type": "fragment"
    }
   },
   "outputs": [
    {
     "name": "stdout",
     "output_type": "stream",
     "text": [
      "Hello\n",
      "Nice to meet you\n"
     ]
    }
   ],
   "source": [
    "# 호출: 함수이름 적기 + 필요에 따라 괄호내에 argument 넣기\n",
    "greet1()"
   ]
  },
  {
   "cell_type": "code",
   "execution_count": 14,
   "metadata": {},
   "outputs": [
    {
     "name": "stdout",
     "output_type": "stream",
     "text": [
      "Hello. Kim.\n"
     ]
    }
   ],
   "source": [
    "# 파라미터 있는 함수\n",
    "def greet2(name):\n",
    "    print(f\"Hello. {name}.\")\n",
    "\n",
    "greet2(\"Kim\")\n",
    "# 아무것도 안 적는 greet2()의 경우는 에러가 난다. 즉 변수 개수를 맞춰 적어야함"
   ]
  },
  {
   "cell_type": "code",
   "execution_count": null,
   "metadata": {},
   "outputs": [],
   "source": []
  },
  {
   "cell_type": "markdown",
   "metadata": {
    "slideshow": {
     "slide_type": "subslide"
    }
   },
   "source": [
    "## 함수 parameter와 return value\n",
    "\n",
    "-   **parameter:** 함수가 호출하는 곳으로 부터 입력받는 값을 저장하는 변수.\n",
    "    -   **arugument:**  호출할 때 파라미터에 전달 하는 값.\n",
    "-   **return value:** 함수의 처리결과로 호출하는 곳에 전달(반환)하는 값.\n",
    "\n",
    "### return value(반환값)\n",
    "\n",
    "-   함수가 호출받아 처리한 결과값으로 호출한 곳으로 반환하는 값이다.\n",
    "-   함수 구현부에 return \\[값\\] 구문을 사용해 반환한다.\n",
    "    -   **return**\n",
    "        -   함수가 정상적으로 끝났고 호출한곳으로 돌아간다.\n",
    "        -   보통은 함수 구현의 마지막에 넣지만 경우에 따라 중간에 올 수 있다.\n",
    "    -   return 반환값\n",
    "        -   호출한 곳으로 값을 가지고 돌아간다. (반환한다)\n",
    "        -   반환값이 없을 경우 None을 반환한다.\n",
    "        -   함수에 return 구문이 없을 경우 마지막에 return None이 실행된다.\n",
    "-   여러개의 값을 return 하는 경우 자료구조로 묶어서 전달해야한다.\n",
    "    -   함수는 한개의 값만 반환할 수 있다.\n"
   ]
  },
  {
   "cell_type": "code",
   "execution_count": 16,
   "metadata": {
    "slideshow": {
     "slide_type": "fragment"
    }
   },
   "outputs": [],
   "source": [
    "def greet3(name):\n",
    "    return f\"{name}님 환영합니다.\""
   ]
  },
  {
   "cell_type": "code",
   "execution_count": 20,
   "metadata": {
    "slideshow": {
     "slide_type": "fragment"
    }
   },
   "outputs": [
    {
     "name": "stdout",
     "output_type": "stream",
     "text": [
      "홍길동님 환영합니다.\n",
      "11\n"
     ]
    }
   ],
   "source": [
    "# greet1,2 함수는 그냥 print자체를 함수에 넣어 함수를 이용해서 정해진 내용만 print했다.\n",
    "# 하지만 greet3은 문장 자체만 함수화해서 변수로 지정하여 문자의 길이 등도 자양하게 알 수 있다.\n",
    "s = greet3(\"홍길동\")\n",
    "print(s)\n",
    "print(len(s))"
   ]
  },
  {
   "cell_type": "code",
   "execution_count": 26,
   "metadata": {},
   "outputs": [
    {
     "name": "stdout",
     "output_type": "stream",
     "text": [
      "{'plus': 15, 'minus': 5, 'muliply': 3, 'divide': 2}\n",
      "plus\n"
     ]
    }
   ],
   "source": [
    "def calculate(num1, num2):\n",
    "    r1 = num1 + num2\n",
    "    r2 = num1 - num2\n",
    "    r3 = num1 * num2\n",
    "    r4 = num1 // num2\n",
    "    # 모든 결과를 반환.\n",
    "    # return [r1, r2, r3, r4]\n",
    "    # return r1, r2, r3, r4 # 튜플\n",
    "    return dict(plus=r1, minus=r2, muliply=3, divide=r4)\n",
    "\n",
    "result = calculate(10,5)\n",
    "print(result)\n",
    "\n",
    "a,b,c,d = calculate(20,10) # 각각의 변수로 반환 가능\n",
    "print(a)"
   ]
  },
  {
   "cell_type": "code",
   "execution_count": 31,
   "metadata": {},
   "outputs": [
    {
     "name": "stdout",
     "output_type": "stream",
     "text": [
      "결과: 5.0\n"
     ]
    }
   ],
   "source": [
    "def divide(num1, num2):\n",
    "    if num2 == 0:\n",
    "        return # 함수 실행을 종료하고 호출한 곳으로 돌아가 None을 반환\n",
    "    return num1 / num2\n",
    "\n",
    "result = divide(10,2)\n",
    "if result is None:\n",
    "    print(\"계산 실패\")\n",
    "else:\n",
    "    print(\"결과:\", result)"
   ]
  },
  {
   "cell_type": "markdown",
   "metadata": {
    "slideshow": {
     "slide_type": "slide"
    }
   },
   "source": [
    "## Parameter (매개변수)\n",
    "\n",
    "### 기본값이 있는 Parameter\n",
    "\n",
    "-   매개변수에 값을 대입하는 구문을 작성하면 호출할 때 argument 가 넘어오지 않으면 대입해놓은 기본값을 사용한다.\n",
    "-   함수 정의시 기본값 없는 매개변수, 있는 매개변수를 같이 선언할 수 있다.\n",
    "    -   **이때 기본값 없는 매개변수들을 선언하고 그 다음에 기본값 있는 매개변수들을 선언한다.**\n"
   ]
  },
  {
   "cell_type": "code",
   "execution_count": 37,
   "metadata": {},
   "outputs": [
    {
     "name": "stdout",
     "output_type": "stream",
     "text": [
      "이름: Lee\n",
      "이름: None\n"
     ]
    }
   ],
   "source": [
    "def print_info(name=None): # 함수 자체에 디폴트 값이 있는 것\n",
    "    print(f\"이름: {name}\")\n",
    "\n",
    "print_info(\"Lee\") # 원래대로 잘 출력된다.\n",
    "print_info() # 원래는 에러가 뜨지만, 디폴트값을 None으로 지정하여 None이 출력"
   ]
  },
  {
   "cell_type": "code",
   "execution_count": 38,
   "metadata": {
    "slideshow": {
     "slide_type": "fragment"
    }
   },
   "outputs": [
    {
     "name": "stdout",
     "output_type": "stream",
     "text": [
      "Lee 20 Seoul 0 0\n",
      "Lee 20 Seoul 182.6 0\n"
     ]
    }
   ],
   "source": [
    "def my_info(name, age, address, tall=0, weight=0):\n",
    "    print(name, age, address, tall, weight)\n",
    "\n",
    "my_info(\"Lee\", 20, \"Seoul\")\n",
    "my_info(\"Lee\", 20, \"Seoul\", 182.6)"
   ]
  },
  {
   "cell_type": "code",
   "execution_count": 39,
   "metadata": {},
   "outputs": [],
   "source": [
    "# 에러가 나는 경우\n",
    "# def my_info(name, age=8, address, tall=0, weight=0):\n",
    "#     print(name, age, address, tall, weight)\n",
    "# 디폴트값을 지정한 변수 뒤에 디폴트가 없는 변수가 올 수는 없다!"
   ]
  },
  {
   "cell_type": "code",
   "execution_count": 40,
   "metadata": {},
   "outputs": [
    {
     "name": "stdout",
     "output_type": "stream",
     "text": [
      "Lee 40 Incheon 190.2 0\n"
     ]
    }
   ],
   "source": [
    "my_info(name='Lee', age=40, address='Incheon', tall=190.2) #이것도 가능!"
   ]
  },
  {
   "cell_type": "code",
   "execution_count": 44,
   "metadata": {},
   "outputs": [
    {
     "name": "stdout",
     "output_type": "stream",
     "text": [
      "['23432']\n"
     ]
    }
   ],
   "source": []
  },
  {
   "cell_type": "markdown",
   "metadata": {
    "slideshow": {
     "slide_type": "subslide"
    }
   },
   "source": [
    "### Positional argument와 Keyword argument\n",
    "\n",
    "-   Argument는 함수/메소드를 호출할 때 전달하는 입력값을 말한다.\n",
    "    -   Argument는 전달하는 값이고 Parameter는 그 값을 저장하는 변수\n",
    "-   Positional argument\n",
    "    -   함수 호출 할때 argument(전달인자)를 Parameter 순서에 맞춰 값을 넣어서 호출.\n",
    "-   keyword argument\n",
    "    -   함수 호출할 때 argument를 `Parameter변수명 = 전달할값` 형식으로 선언해서 어떤 parameter에 어떤 값을 전달할 것인지 지정해서 호출.\n",
    "    -   순서와 상관없이 호출하는 것이 가능.\n",
    "    -   parameter가 많고 대부분 기본값이 있는 함수 호출 할 때 뒤 쪽에 선언된 parameter에만 값을 전달하고 싶을 경우 유용하다.\n"
   ]
  },
  {
   "cell_type": "code",
   "execution_count": null,
   "metadata": {
    "slideshow": {
     "slide_type": "fragment"
    }
   },
   "outputs": [],
   "source": []
  },
  {
   "cell_type": "markdown",
   "metadata": {
    "slideshow": {
     "slide_type": "subslide"
    }
   },
   "source": [
    "### 가변인자 (Var args, Variable length argument) 파라미터\n",
    "\n",
    "-   호출하는 쪽에서 argument로 0 ~ n개의 값을 나열해서 여러개의 값들을 전달하면 **tuple이나 dictionary로 묶어서** 받을 수있도록 선언하는 parameter\n",
    "    -   positial argument로 전달하는 것과 keyword argument로 전달되는 값을 받는 두가지 방식이 있다.\n",
    "-   **\\*변수명**: **positional argument**를 개수와 상관없이 하나의 변수로 받을 수 있도록 선언하는 가변인자.\n",
    "    -   전달된 값들은 tuple로 받아서 처리한다.\n",
    "    -   관례적으로 변수명은 \\*args 를 사용한다.\n",
    "-   **\\*\\*변수명**: **keyword argument**를 개수와 상관없이 하나의 변수로 받을 수 있도록 선언하는 가변인자.\n",
    "    -   전달된 값들은 dictionary로 받아서 처리한다.\n",
    "    -   관례적으로 변수명은 \\*\\*kwargs 를 사용한다.\n",
    "-   하나의 함수에 가변인자는 \\* 하나, \\*\\* 두개짜리 각각 한개씩만 선언할 수 있다.\n",
    "-   파라미터 선언순서\n",
    "    - 하나의 함수에 위치 가변 인자와 키워드 가변 인자를 하나씩만 선언 할 수있다.\n",
    "    - 하나의 함수에 같이 선언할 경우 위치 가변인자, 키워드 가변인자 순서로 하나씩만 작성할 수 있다.\n",
    "    - 일반 파라미터는 위치 가변인자 앞이나 뒤에 작성할 수있다. 만약 뒤에 작성한 경우 함수 호출시 일반파라미터는 keyword argument 방식으로 호출해야 한다.\n",
    "    - 키워드 가변인자 뒤에는 일반 파라미터를 작성할 수 없다.\n"
   ]
  },
  {
   "cell_type": "code",
   "execution_count": 14,
   "metadata": {
    "slideshow": {
     "slide_type": "fragment"
    }
   },
   "outputs": [
    {
     "name": "stdout",
     "output_type": "stream",
     "text": [
      "<class 'tuple'>\n",
      "(1, 2, 3, 4, 1, 2, 3, 4, 1, 2, 3, 4)\n",
      "\n",
      "<class 'dict'>\n",
      "{'k1': 'v1', 'k2': 'v2'}\n"
     ]
    }
   ],
   "source": [
    "def test_t(*a):\n",
    "    print(type(a))\n",
    "    print(a*3) # a는 튜플이라서 튜플의 반복으로 나옴\n",
    "\n",
    "\n",
    "def test_d(**a):\n",
    "    print(type(a))\n",
    "    print(a)\n",
    "\n",
    "test_t(1,2,3,4)\n",
    "print()\n",
    "test_d(k1=\"v1\", k2=\"v2\")"
   ]
  },
  {
   "cell_type": "code",
   "execution_count": 15,
   "metadata": {},
   "outputs": [
    {
     "name": "stdout",
     "output_type": "stream",
     "text": [
      "479\n"
     ]
    }
   ],
   "source": [
    "# 숫자들의 합계를 계산하는 함수. 호출자가 숫자를 몇개를 넣던간에 계산하는 방법\n",
    "def my_sum(*nums):\n",
    "    result = 0\n",
    "    for v in nums:\n",
    "        result += v\n",
    "    return result\n",
    "\n",
    "sum = my_sum(1,2,3,4,5,65,7,343,4,45)\n",
    "print(sum)"
   ]
  },
  {
   "cell_type": "markdown",
   "metadata": {
    "slideshow": {
     "slide_type": "slide"
    }
   },
   "source": [
    "# 변수의 유효범위\n",
    "\n",
    "-   **지역변수 (local variable)(=임시변수)**\n",
    "    -   함수안에 선언된 변수\n",
    "    -   선언된 그 함수 안에서만 사용할 수 있다.\n",
    "    -   함수가 일하는 동안만 메모리에 저장\n",
    "    -   따라서 최초의 파이썬 실행환경에서는 변수가 없다가, 함수가 실행되면 변수가 저장된다.\n",
    "    -   함수실행을 마치고 return으로 돌아오면 메모리에서는 지역변수가 더이상 필요없으므로 삭제된다.\n",
    "-   **전역변수 (global variable)**\n",
    "    -   함수 밖에 선언 된 변수\n",
    "    -   모든 함수들이 공통적으로 사용할 수 있다.\n",
    "    -   하나의 함수에서 값을 변경하면 그 변한 값이 모든 함수에 영향을 주기 때문에 **함부로 변경하지 않는다.**\n",
    "    -   함수내에서 전역변수에 값을 대입하기 위해서는 global 키워드를 이용해 사용할 것을 미리 선언해야 한다.\n",
    "        -   global로 선언하지 않고 함수안에서 전역변수와 이름이 같은 변수에 값을 대입하면 그 변수와 동일한 지역변수을 생성한다.\n",
    "        -   조회할 경우에는 상관없다.\n",
    "            -   함수에서 변수를 조회할 경우 **먼저 지역변수를 찾고 없으면 전역변수를 찾는다.**\n"
   ]
  },
  {
   "cell_type": "code",
   "execution_count": 24,
   "metadata": {
    "slideshow": {
     "slide_type": "fragment"
    }
   },
   "outputs": [
    {
     "name": "stdout",
     "output_type": "stream",
     "text": [
      "홍길동 30\n",
      "홍길동\n",
      "30\n",
      "10\n",
      "30\n"
     ]
    }
   ],
   "source": [
    "name=\"홍길동\" # 글로벌변수\n",
    "age=30\n",
    "print(name, age)\n",
    "\n",
    "def g_test():\n",
    "    print(name)  # 함수안이든 어디서든 글로벌 변수 사용가능\n",
    "    print(age)\n",
    "g_test()\n",
    "\n",
    "def test():\n",
    "    my_var = 10 # 로컬변수\n",
    "    print(my_var)\n",
    "    a = my_var + 20\n",
    "    print(a)\n",
    "\n",
    "test()\n",
    "# print(my_var) # 함수 밖에서는 로컬변수 사용불가. 에러가 나온다."
   ]
  },
  {
   "cell_type": "code",
   "execution_count": 27,
   "metadata": {},
   "outputs": [
    {
     "name": "stdout",
     "output_type": "stream",
     "text": [
      "100\n",
      "안녕하세요\n",
      "10\n"
     ]
    }
   ],
   "source": [
    "g_var = 10 #글로번변수\n",
    "def func():\n",
    "    l_var = 100 #로컬변수\n",
    "    g_var = \"안녕하세요\" #로컬변수로 덮음. 함수내에서만 사용!\n",
    "    print(l_var) #로컬변수 사용\n",
    "    print(g_var) #글로벌이 아닌 로컬로 출력\n",
    "\n",
    "func()\n",
    "print(g_var) # 글로벌 변수는 여전히 10"
   ]
  },
  {
   "cell_type": "code",
   "execution_count": null,
   "metadata": {},
   "outputs": [],
   "source": [
    "def func2():\n",
    "    l_var = 1000\n",
    "    global g_var # 함수내에서 썼지만, 앞으로는 g_var는 글로벌변수임을 말한다고 선언.\n",
    "    g_var = 10000 # 윗 cell에 의해 글로벌변수의 선언"
   ]
  },
  {
   "cell_type": "markdown",
   "metadata": {
    "slideshow": {
     "slide_type": "slide"
    }
   },
   "source": [
    "# 함수는 일급시민(First class citizen) 이다.\n",
    "\n",
    "-   일급 시민\n",
    "    1. 변수에 대입 할 수 있다.\n",
    "    1. **Argument로 사용**할 수 있다.\n",
    "    1. 함수나 메소드의 반환값으로 사용 할 수 있다.\n",
    "-   즉 파이썬에서 함수는 일반 값(객체)으로 취급된다.\n",
    "-   일급시민 객체란?\n",
    "-   값인데 변수에 넣을 수 있는 값 ex) 정수 실수 자료구조등 -> 함수도 된다!\n"
   ]
  },
  {
   "cell_type": "code",
   "execution_count": 30,
   "metadata": {},
   "outputs": [],
   "source": [
    "def hello():\n",
    "    print(\"Hello World\")"
   ]
  },
  {
   "cell_type": "code",
   "execution_count": 31,
   "metadata": {
    "slideshow": {
     "slide_type": "fragment"
    }
   },
   "outputs": [
    {
     "data": {
      "text/plain": [
       "<function __main__.hello()>"
      ]
     },
     "execution_count": 31,
     "metadata": {},
     "output_type": "execute_result"
    }
   ],
   "source": [
    "hello # 함수 객체(값) 자체를 호출 ex) 30을 호출하면 30 나오듯이"
   ]
  },
  {
   "cell_type": "code",
   "execution_count": null,
   "metadata": {},
   "outputs": [],
   "source": [
    "hello() # call(호출) -> 일 시키기"
   ]
  },
  {
   "cell_type": "code",
   "execution_count": 36,
   "metadata": {},
   "outputs": [
    {
     "name": "stdout",
     "output_type": "stream",
     "text": [
      "Hello World\n",
      "Hello World\n",
      "1206339870592\n",
      "1206339870592\n"
     ]
    }
   ],
   "source": [
    "my_hello = hello # hello함수에게 my_hello라는 이름을 하나 더 준것. my_hello라는 동일한 내용의 함수를 새롭게 만든게 아님. id값이 같다\n",
    "\n",
    "hello()\n",
    "my_hello()\n",
    "print(id(hello))\n",
    "print(id(my_hello))"
   ]
  },
  {
   "cell_type": "code",
   "execution_count": 41,
   "metadata": {},
   "outputs": [],
   "source": [
    "def test(args):\n",
    "    k =100\n",
    "    return #함수를 리턴함\n",
    "\n",
    "test(hello) # 함수도 args에 넣어 변수처럼 사용 가능"
   ]
  },
  {
   "cell_type": "code",
   "execution_count": 2,
   "metadata": {},
   "outputs": [],
   "source": [
    "def calc(func):\n",
    "    num1, num2 = 10, 20\n",
    "    # 두 숫자를 계산한다.\n",
    "    result = func(num1, num2) # 함수를 받으면 난 상기의 숫자 두개를 넣을거고, 그 리턴값을 난 result로 변수에 담겠다.\n",
    "    # 계산 결과를 출력"
   ]
  },
  {
   "cell_type": "code",
   "execution_count": 5,
   "metadata": {},
   "outputs": [
    {
     "name": "stdout",
     "output_type": "stream",
     "text": [
      "None\n"
     ]
    }
   ],
   "source": [
    "def plus(n1, n2):\n",
    "    return n1 + n2\n",
    "\n",
    "calc(plus) #plus를 상기 func에 넣는다. 그럼 return 값으로 30을 가져오겠지?"
   ]
  },
  {
   "cell_type": "code",
   "execution_count": null,
   "metadata": {},
   "outputs": [],
   "source": [
    "def minus(n1, n2):\n",
    "    return n1 - n2\n",
    "\n",
    "calc(minus)"
   ]
  },
  {
   "cell_type": "markdown",
   "metadata": {
    "slideshow": {
     "slide_type": "slide"
    }
   },
   "source": [
    "## 람다식/람다표현식 (Lambda Expression)\n",
    "\n",
    "-   함수를 표현식(expression)으로 정의한다.\n",
    "-   함수를 하나의 식을 이용해서 정의할때 사용하는 표현식(구문).\n",
    "-   값을 입력받아서 **간단한 처리한 결과**를 반환하는 간단한 함수를 표현식으로 정의할 수 있다.\n",
    "    -   처리결과를 return 하는 구문을 하나의 명령문으로 처리할 수 있을때 람다식을 사용할 수 있다.\n",
    "-   구문\n",
    "\n",
    "```python\n",
    "lambda 매개변수[, 매개변수, ...] : 명령문(구문)\n",
    "```\n",
    "\n",
    "-   명령문(구문)은 하나의 실행문만 가능하다.\n",
    "-   명령문(구문)이 처리한 결과를 리턴해준다.\n",
    "-   **람다식은 함수의 매개변수로 함수를 전달하는 일회성 함수를 만들때 주로 사용한다.**\n"
   ]
  },
  {
   "cell_type": "code",
   "execution_count": null,
   "metadata": {},
   "outputs": [],
   "source": [
    "lambda n1, n2: n1+n2 # 무조건 return값을 주는 함수. 변수에 넣어 쓸 수도 있다.\n",
    "#보통 아래처럼 쓰인다. plus함수를 굳이 만들필요는 없을 때\n",
    "calc(lambda n1, n2: n1+n2)"
   ]
  },
  {
   "cell_type": "code",
   "execution_count": null,
   "metadata": {},
   "outputs": [],
   "source": []
  },
  {
   "cell_type": "markdown",
   "metadata": {},
   "source": [
    "# docstring\n",
    "\n",
    "-   함수에 대한 설명\n",
    "-   함수의 구현부의 첫번째에 여러줄 문자열(\"\"\" ~ \"\"\")로 작성한다."
   ]
  },
  {
   "cell_type": "code",
   "execution_count": 7,
   "metadata": {
    "slideshow": {
     "slide_type": "fragment"
    }
   },
   "outputs": [],
   "source": [
    "def greet(name:str, age:int): # name, age에 str, int가 안들어가도 구현은되지만, :을 사용하여 변수로 들어갈 타입의 힌트를 주는 것\n",
    "    \"\"\"\n",
    "    인삿말을 문자열로 만들어 주는 함수.\n",
    "\n",
    "    Args: # 파라미터에 대한 설명\n",
    "        name(str) : 인삿말에 들어갈 사람의 이름. #디폴트값있으면 디폴트값 써주기\n",
    "        age(int) : name의 사람의 나이\n",
    "\n",
    "    Returns: #리턴값에 대한 설명\n",
    "        str : 이름과 나이가 들어간 인삿말 #리턴값의 타입을 적어주고 설명\n",
    "\n",
    "    Raises: #이 함수에서 발생 가능성있는 Error(Exception)의 종류와 설명.\n",
    "    \"\"\"\n",
    "    return f\"안녕하세요. {age}세의 {name}님.\""
   ]
  },
  {
   "cell_type": "code",
   "execution_count": 8,
   "metadata": {},
   "outputs": [
    {
     "data": {
      "text/plain": [
       "\u001b[31mSignature:\u001b[39m greet(name, age)\n",
       "\u001b[31mDocstring:\u001b[39m\n",
       "인삿말을 문자열로 만들어 주는 함수.\n",
       "\n",
       "Args: # 파라미터에 대한 설명\n",
       "    name(str) : 인삿말에 들어갈 사람의 이름. #디폴트값있으면 디폴트값 써주기\n",
       "    age(int) : name의 사람의 나이\n",
       "\n",
       "Returns: #리턴값에 대한 설명\n",
       "    str : 이름과 나이가 들어간 인삿말 #리턴값의 타입을 적어주고 설명\n",
       "\n",
       "Raises: #이 함수에서 발생 가능성있는 Error(Exception)의 종류와 설명.\n",
       "\u001b[31mFile:\u001b[39m      c:\\users\\playdata\\appdata\\local\\temp\\ipykernel_13348\\3569462847.py\n",
       "\u001b[31mType:\u001b[39m      function"
      ]
     },
     "metadata": {},
     "output_type": "display_data"
    }
   ],
   "source": [
    "?greet"
   ]
  },
  {
   "cell_type": "markdown",
   "metadata": {
    "slideshow": {
     "slide_type": "skip"
    }
   },
   "source": [
    "# TODO\n"
   ]
  },
  {
   "cell_type": "code",
   "execution_count": 13,
   "metadata": {
    "slideshow": {
     "slide_type": "skip"
    }
   },
   "outputs": [],
   "source": [
    "# 1. 시작 정수, 끝 정수를 받아 그 사이의 모든 정수의 합을 구해서 반환하는 함수를 구현(ex: 1, 20 => 1에서 20 사이의 모든 정수의 합계)\n",
    "def sum_int1(numx, numy):\n",
    "    \"\"\"\n",
    "    두 정수 사이의 모든 정수 합계\n",
    "\n",
    "    Args:\n",
    "        numx(int) : 시작 정수. 합계에 포함\n",
    "        numy(int) : 끝 정수. 합계에 포함\n",
    "\n",
    "    Return:\n",
    "        int: numx 이상, numy 이하의 정수들의 합\n",
    "    \"\"\"\n",
    "    sum = 0\n",
    "    for i in range(numx, numy+1):\n",
    "        sum += i\n",
    "        return sum # return이 첫번재 반복 후 리턴되도록 코딩되어있어 틀림.\n",
    "# 강사답안\n",
    "# def accumulate(start:int, end:int):\n",
    "#     result = 0 #누적 합계를 저장할 변수\n",
    "#     for v in range(start, end+1):\n",
    "#         result += v\n",
    "#     return result"
   ]
  },
  {
   "cell_type": "code",
   "execution_count": 14,
   "metadata": {},
   "outputs": [
    {
     "data": {
      "text/plain": [
       "1"
      ]
     },
     "execution_count": 14,
     "metadata": {},
     "output_type": "execute_result"
    }
   ],
   "source": [
    "sum_int(1,100)"
   ]
  },
  {
   "cell_type": "code",
   "execution_count": 15,
   "metadata": {
    "slideshow": {
     "slide_type": "skip"
    }
   },
   "outputs": [],
   "source": [
    "# 2. 2번 문제에서 시작을 받지 않은 경우 0을, 끝 정수를 받지 않으면 10이 들어가도록 구현을 변경\n",
    "def sum_int2(numx=0, numy=10):\n",
    "    \"\"\"\n",
    "    두 정수 사이의 모든 정수 합계\n",
    "\n",
    "    Args:\n",
    "        numx(int) : 시작 정수. 합계에 포함\n",
    "        numy(int) : 끝 정수. 합계에 포함\n",
    "\n",
    "    Return:\n",
    "        int: numx 이상, numy 이하의 정수들의 합\n",
    "    \"\"\"\n",
    "    sum = 0\n",
    "    for i in range(numx, numy+1):\n",
    "        sum += i\n",
    "    return sum\n",
    "\n",
    "# 강사답안1\n",
    "# def accumulate(start:int=0, end:int=10):\n",
    "#     result = 0 #누적 합계를 저장할 변수\n",
    "#     for v in range(start, end+1):\n",
    "#         result += v\n",
    "#     return result\n",
    "\n",
    "# 강사답안2\n",
    "# def accumulate(start:int=0, end:int=10): #이 경우 start에 30을 주고 end값을 안 주면 30부터 10까지 합을 구하는거라서 계산이 안된다. \n",
    "#     return sum(range(start, end=1))"
   ]
  },
  {
   "cell_type": "code",
   "execution_count": 19,
   "metadata": {},
   "outputs": [
    {
     "data": {
      "text/plain": [
       "55"
      ]
     },
     "execution_count": 19,
     "metadata": {},
     "output_type": "execute_result"
    }
   ],
   "source": [
    "sum_int2()"
   ]
  },
  {
   "cell_type": "code",
   "execution_count": 24,
   "metadata": {
    "slideshow": {
     "slide_type": "skip"
    }
   },
   "outputs": [],
   "source": [
    "# 3. 구구단을 출력하는 함수를 구현한다. 입력으로 출력하고 싶은 단을 parameter로 입력받아서 `N * 1` ~ `N * 9` 를 출력한다. (N: 입력받은 단)\n",
    "def multi_table(N):\n",
    "    for i in range(1,10):\n",
    "        print(f\"{N} * {i}\")"
   ]
  },
  {
   "cell_type": "code",
   "execution_count": 25,
   "metadata": {},
   "outputs": [
    {
     "name": "stdout",
     "output_type": "stream",
     "text": [
      "5 * 1\n",
      "5 * 2\n",
      "5 * 3\n",
      "5 * 4\n",
      "5 * 5\n",
      "5 * 6\n",
      "5 * 7\n",
      "5 * 8\n",
      "5 * 9\n"
     ]
    }
   ],
   "source": [
    "multi_table(5)"
   ]
  },
  {
   "cell_type": "code",
   "execution_count": 38,
   "metadata": {
    "slideshow": {
     "slide_type": "skip"
    }
   },
   "outputs": [],
   "source": [
    "# 4. 체질량 지수는 비만도를 나타내는 지수로 키가 a미터 이고 몸무게가 b kg일때 b/(a**2) 로 구한다.\n",
    "# 체질량 지수가\n",
    "# - 18.5 미만이면 저체중\n",
    "# - 18.5이상 25미만이면 정상\n",
    "# - 25이상이면 과체중\n",
    "# - 30이상이면 비만으로 하는데\n",
    "# 몸무게와 키를 매개변수로 받아 비만인지 과체중인지 반환하는 함수를 구현하시오.\n",
    "\n",
    "def body(a,b):\n",
    "    \"\"\"\n",
    "    a 단위는 m\n",
    "    b 단위는 kg\n",
    "    \"\"\"\n",
    "    bmi = b/(a**2)\n",
    "    if bmi < 18.5:\n",
    "        return \"저체중\"\n",
    "    elif bmi < 25:\n",
    "        return \"정상\"\n",
    "    elif bmi <30:\n",
    "        return \"과체중\"\n",
    "    else:\n",
    "        return \"비만\"\n",
    "\n",
    "# 강사답안\n",
    "def check_bmi(tall:float, weight:float)->str:\n",
    "    \"\"\"\n",
    "    BMI 지수를 계산해서 비만도를 알려주는 함수.\n",
    "    Args:\n",
    "        tall(float) - 키. 단위는 미터\n",
    "        weight(float) - 몸무게. 단위는 kg\n",
    "    returns:\n",
    "        str - 비만도(저체중, 정상 과체중, 비만) 계산 결과\n",
    "    \"\"\"\n",
    "    bmi = weight/tall**2\n",
    "    if bmi < 18.5:\n",
    "        return round(bmi, 2), \"저체중\" #round(bmi) 이렇게만 적으면 정수부분만 표현. 소수점 첫번째 자리에서 반올림\n",
    "    elif bmi < 25:\n",
    "        return round(bmi, 2), \"정상\"\n",
    "    elif bmi <30:\n",
    "        return round(bmi, 2), \"과체중\"\n",
    "    else:\n",
    "        return round(bmi, 2), \"비만\""
   ]
  },
  {
   "cell_type": "code",
   "execution_count": 39,
   "metadata": {},
   "outputs": [
    {
     "data": {
      "text/plain": [
       "(24.69, '정상')"
      ]
     },
     "execution_count": 39,
     "metadata": {},
     "output_type": "execute_result"
    }
   ],
   "source": [
    "check_bmi(1.8, 80)"
   ]
  },
  {
   "cell_type": "code",
   "execution_count": null,
   "metadata": {},
   "outputs": [],
   "source": []
  },
  {
   "cell_type": "code",
   "execution_count": 3,
   "metadata": {},
   "outputs": [
    {
     "data": {
      "text/plain": [
       "['!djfds##e',\n",
       " '232r23ns',\n",
       " 'Dsafasadf',\n",
       " 'Zsffgvsdweew',\n",
       " 'asasad',\n",
       " 'asdfavd',\n",
       " 'dsas',\n",
       " 'sa',\n",
       " '안녕']"
      ]
     },
     "execution_count": 3,
     "metadata": {},
     "output_type": "execute_result"
    }
   ],
   "source": [
    "#함수 연습\n",
    "#정렬\n",
    "# 문자열 정렬 순서(오름차순기준) - 유니코드를 기준하여 정렬한다.\n",
    "# 특수문자 > 숫자 > 알파벳 대문자 > 소문자 > 한글\n",
    "list1 = [\"asasad\",\"sa\", \"Dsafasadf\", \"Zsffgvsdweew\", \"dsas\", \"asdfavd\", \"안녕\", \"232r23ns\", \"!djfds##e\"]\n",
    "\n",
    "sorted(list1)"
   ]
  },
  {
   "cell_type": "code",
   "execution_count": 46,
   "metadata": {},
   "outputs": [
    {
     "data": {
      "text/plain": [
       "['안녕',\n",
       " 'sa',\n",
       " 'dsas',\n",
       " 'asdfavd',\n",
       " 'asasad',\n",
       " 'Zsffgvsdweew',\n",
       " 'Dsafasadf',\n",
       " '232r23ns',\n",
       " '!djfds##e']"
      ]
     },
     "execution_count": 46,
     "metadata": {},
     "output_type": "execute_result"
    }
   ],
   "source": [
    "sorted(list1, reverse=True)"
   ]
  },
  {
   "cell_type": "code",
   "execution_count": 4,
   "metadata": {},
   "outputs": [],
   "source": [
    "# 다른기준으로 정렬하는 함수 만들기\n",
    "def check(word): # 원소의 글자수를 리턴.\n",
    "    return len(word)"
   ]
  },
  {
   "cell_type": "code",
   "execution_count": 2,
   "metadata": {},
   "outputs": [
    {
     "ename": "NameError",
     "evalue": "name 'list1' is not defined",
     "output_type": "error",
     "traceback": [
      "\u001b[31m---------------------------------------------------------------------------\u001b[39m",
      "\u001b[31mNameError\u001b[39m                                 Traceback (most recent call last)",
      "\u001b[36mCell\u001b[39m\u001b[36m \u001b[39m\u001b[32mIn[2]\u001b[39m\u001b[32m, line 1\u001b[39m\n\u001b[32m----> \u001b[39m\u001b[32m1\u001b[39m \u001b[38;5;28msorted\u001b[39m([check(v) \u001b[38;5;28;01mfor\u001b[39;00m v \u001b[38;5;129;01min\u001b[39;00m \u001b[43mlist1\u001b[49m]) \u001b[38;5;66;03m#list1의 원소의 len을 원소로 갖는 리스트 새로 만든 후, 글자 수 순으로 정렬하기\u001b[39;00m\n",
      "\u001b[31mNameError\u001b[39m: name 'list1' is not defined"
     ]
    }
   ],
   "source": [
    "# sorted([check(v) for v in list1]) #list1의 원소의 len을 원소로 갖는 리스트 새로 만든 후, 글자 수 순으로 정렬하기"
   ]
  },
  {
   "cell_type": "code",
   "execution_count": 5,
   "metadata": {},
   "outputs": [
    {
     "data": {
      "text/plain": [
       "['sa',\n",
       " '안녕',\n",
       " 'dsas',\n",
       " 'asasad',\n",
       " 'asdfavd',\n",
       " '232r23ns',\n",
       " 'Dsafasadf',\n",
       " '!djfds##e',\n",
       " 'Zsffgvsdweew']"
      ]
     },
     "execution_count": 5,
     "metadata": {},
     "output_type": "execute_result"
    }
   ],
   "source": [
    "sorted(list1, key=check) # 정렬의 대상은 list1, 정렬의 기준이 되는 함수 check을 만들어서 이것을 key에 넣어준다."
   ]
  },
  {
   "cell_type": "code",
   "execution_count": 51,
   "metadata": {},
   "outputs": [
    {
     "data": {
      "text/plain": [
       "['Zsffgvsdweew',\n",
       " 'Dsafasadf',\n",
       " '!djfds##e',\n",
       " '232r23ns',\n",
       " 'asdfavd',\n",
       " 'asasad',\n",
       " 'dsas',\n",
       " 'sa',\n",
       " '안녕']"
      ]
     },
     "execution_count": 51,
     "metadata": {},
     "output_type": "execute_result"
    }
   ],
   "source": [
    "sorted(list1, key=check, reverse=True) #글자수의 역순으로 정렬"
   ]
  },
  {
   "cell_type": "code",
   "execution_count": 54,
   "metadata": {},
   "outputs": [
    {
     "data": {
      "text/plain": [
       "['sa',\n",
       " '안녕',\n",
       " 'dsas',\n",
       " 'asasad',\n",
       " 'asdfavd',\n",
       " '232r23ns',\n",
       " 'Dsafasadf',\n",
       " '!djfds##e',\n",
       " 'Zsffgvsdweew']"
      ]
     },
     "execution_count": 54,
     "metadata": {},
     "output_type": "execute_result"
    }
   ],
   "source": [
    "#메서드 사용\n",
    "list2 = [\"asasad\",\"sa\", \"Dsafasadf\", \"Zsffgvsdweew\", \"dsas\", \"asdfavd\", \"안녕\", \"232r23ns\", \"!djfds##e\",\"few3svd\",\"23r4qewfvsd\"]\n",
    "list1.sort(key=lambda word: len(word)) #len함수에 대한 리턴값을 key에 넣는\n",
    "list1"
   ]
  },
  {
   "cell_type": "code",
   "execution_count": 6,
   "metadata": {},
   "outputs": [
    {
     "data": {
      "text/plain": [
       "['sa',\n",
       " '안녕',\n",
       " 'dsas',\n",
       " 'asasad',\n",
       " 'asdfavd',\n",
       " '232r23ns',\n",
       " 'Dsafasadf',\n",
       " '!djfds##e',\n",
       " 'Zsffgvsdweew']"
      ]
     },
     "execution_count": 6,
     "metadata": {},
     "output_type": "execute_result"
    }
   ],
   "source": [
    "list1 = [\"asasad\",\"sa\", \"Dsafasadf\", \"Zsffgvsdweew\", \"dsas\", \"asdfavd\", \"안녕\", \"232r23ns\", \"!djfds##e\"]\n",
    "\n",
    "def check(word): # 원소의 글자수를 리턴.\n",
    "    return len(word)\n",
    "\n",
    "sorted(list1, key=check)"
   ]
  }
 ],
 "metadata": {
  "kernelspec": {
   "display_name": "Python 3 (ipykernel)",
   "language": "python",
   "name": "python3"
  },
  "language_info": {
   "codemirror_mode": {
    "name": "ipython",
    "version": 3
   },
   "file_extension": ".py",
   "mimetype": "text/x-python",
   "name": "python",
   "nbconvert_exporter": "python",
   "pygments_lexer": "ipython3",
   "version": "3.12.9"
  },
  "toc": {
   "base_numbering": 1,
   "nav_menu": {},
   "number_sections": true,
   "sideBar": true,
   "skip_h1_title": false,
   "title_cell": "Table of Contents",
   "title_sidebar": "Contents",
   "toc_cell": false,
   "toc_position": {},
   "toc_section_display": true,
   "toc_window_display": false
  },
  "varInspector": {
   "cols": {
    "lenName": 16,
    "lenType": 16,
    "lenVar": 40
   },
   "kernels_config": {
    "python": {
     "delete_cmd_postfix": "",
     "delete_cmd_prefix": "del ",
     "library": "var_list.py",
     "varRefreshCmd": "print(var_dic_list())"
    },
    "r": {
     "delete_cmd_postfix": ") ",
     "delete_cmd_prefix": "rm(",
     "library": "var_list.r",
     "varRefreshCmd": "cat(var_dic_list()) "
    }
   },
   "types_to_exclude": [
    "module",
    "function",
    "builtin_function_or_method",
    "instance",
    "_Feature"
   ],
   "window_display": false
  }
 },
 "nbformat": 4,
 "nbformat_minor": 4
}
