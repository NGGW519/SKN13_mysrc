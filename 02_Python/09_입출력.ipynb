{
 "cells": [
  {
   "cell_type": "markdown",
   "metadata": {
    "slideshow": {
     "slide_type": "slide"
    }
   },
   "source": [
    "# Path (경로)\n",
    "\n",
    "- **경로(Path)** - tree 구조, 계층구조\n",
    "    - 프로그램에서 사용할 **자원의 위치를 path(경로)** 라고 한다.\n",
    "    - **파일 시스템**에서는 파일이나 디렉토리가 있는 위치의 경로를 말한다.\n",
    "    "
   ]
  },
  {
   "cell_type": "markdown",
   "metadata": {
    "slideshow": {
     "slide_type": "slide"
    }
   },
   "source": [
    "- **절대경로**\n",
    "    - 자원의 전체 경로를 표현하는 방식\n",
    "    - `시작 경로부터` 자원(파일, 디렉토리)이 있는 위치까지 표현한다.\n",
    "        - 시작 경로: Root Path\n",
    "            - windows: `c:`, `d:`\n",
    "            - Unix, Linux: `/`"
   ]
  },
  {
   "cell_type": "markdown",
   "metadata": {
    "slideshow": {
     "slide_type": "fragment"
    }
   },
   "source": [
    "- **상대경로**\n",
    "    - `현재 작업 경로(위치)에서 부터` 자원이 있는 위치까지 표현한다.\n",
    "        - 시작 경로: 현재 작업경로\n",
    "    - 구문\n",
    "        - `.` : 현재 디렉토리\n",
    "        - `..`: 상위 디렉토리\n",
    "        - `/` : 경로 구분자,  상위경로/하위경로"
   ]
  },
  {
   "cell_type": "markdown",
   "metadata": {
    "slideshow": {
     "slide_type": "fragment"
    }
   },
   "source": [
    "- 운영체제(O/S)별 경로구분자\n",
    "    - 윈도우즈: `\\` (역슬래쉬)\n",
    "    - 리눅스/유닉스: `/` (슬래쉬)"
   ]
  },
  {
   "cell_type": "raw",
   "metadata": {
    "slideshow": {
     "slide_type": "fragment"
    }
   },
   "source": [
    "Root path -A\n",
    "          -B -C\n",
    "\n",
    "C의 위치는 절대 경로로 어떻게 표현할까?\n",
    "윈도우즈 - C:\\B\\C  #cf. 파이썬은 '/'로 구분해도 알아서 바꿔주긴한다.\n",
    "닉스     - /B/C\n",
    "\n",
    "나의 위치가 A밑일때, C의 위치는 상대경로로 어떻게 표현할까? ./../B/C\n",
    "나의 위치가 B밑일때, C의 위치는 상대경로로 어떻게 표현할까? ./C\n",
    "나의 위치가 Root밑일때, C의 위치는 상대경로로 어떻게 표현할까 ./B/C\n",
    "상대경로에서 ./ 는 생략해도된다. 어차피 현재 위치에서 시작하므로"
   ]
  },
  {
   "cell_type": "code",
   "execution_count": 14,
   "metadata": {},
   "outputs": [
    {
     "data": {
      "text/plain": [
       "'C:\\\\Aicamp\\\\SKN13_mysrc\\\\02_Python'"
      ]
     },
     "execution_count": 14,
     "metadata": {},
     "output_type": "execute_result"
    }
   ],
   "source": [
    "#현재 디렉토리(working directory) 확인하는 방법 -> working directory : 프로그램을 실행시킨 현재의 디렉토리\n",
    "import os\n",
    "os.getcwd() # current working directory"
   ]
  },
  {
   "cell_type": "code",
   "execution_count": 15,
   "metadata": {},
   "outputs": [],
   "source": [
    "#working direcktory를 변경. mypackage로 변경하기. 현재디렉토리 밑에 있다!\n",
    "os.chdir('./mypackage') # ./은 생략한채 'mypackage'도 가능"
   ]
  },
  {
   "cell_type": "code",
   "execution_count": 16,
   "metadata": {},
   "outputs": [],
   "source": [
    "#temp로 이동해보기\n",
    "os.chdir(r\"c:\\temp\")"
   ]
  },
  {
   "cell_type": "code",
   "execution_count": 17,
   "metadata": {},
   "outputs": [
    {
     "data": {
      "text/plain": [
       "'c:\\\\temp'"
      ]
     },
     "execution_count": 17,
     "metadata": {},
     "output_type": "execute_result"
    }
   ],
   "source": [
    "os.getcwd()"
   ]
  },
  {
   "cell_type": "code",
   "execution_count": 18,
   "metadata": {},
   "outputs": [],
   "source": [
    "# 다시 돌아가기\n",
    "os.chdir(\"C:\\\\Aicamp\\\\SKN13_mysrc\\\\02_Python\")"
   ]
  },
  {
   "cell_type": "code",
   "execution_count": 19,
   "metadata": {},
   "outputs": [
    {
     "data": {
      "text/plain": [
       "'C:\\\\Aicamp\\\\SKN13_mysrc\\\\02_Python'"
      ]
     },
     "execution_count": 19,
     "metadata": {},
     "output_type": "execute_result"
    }
   ],
   "source": [
    "os.getcwd()"
   ]
  },
  {
   "cell_type": "code",
   "execution_count": 20,
   "metadata": {},
   "outputs": [],
   "source": [
    "# 현재 디렉토리에서 파일만들기\n",
    "os.mkdir(\"new_dir\")"
   ]
  },
  {
   "cell_type": "code",
   "execution_count": 21,
   "metadata": {},
   "outputs": [],
   "source": [
    "# 현재 디렉토리에서 파일지우기\n",
    "os.rmdir(\"new_dir\")"
   ]
  },
  {
   "cell_type": "markdown",
   "metadata": {
    "slideshow": {
     "slide_type": "slide"
    }
   },
   "source": [
    "# 입출력 (IO)\n",
    "\n",
    "## 입출력이란\n",
    "- 프로그램이 사용하려는 `외부 자원을 연결`하여 데이터를 입력 받거나 출력하는 작업을 IO라고 한다.\n",
    "- 외부 자원(resource)\n",
    "    - 파일, 원격지 컴퓨터(Network으로 연결된 컴퓨터의 자원), 데이터베이스 등.\n",
    "- **Stream**\n",
    "    - 입출력 시 **데이터의 흐름을 stream** 이라고 한다.\n",
    "- InputStream \n",
    "    - Program이 외부로 부터 데이터를 읽어 들이는 흐름.\n",
    "- OutputStream \n",
    "    - Program이 외부로 데이터를 써주는 흐름.\n",
    "- 입출력을 동시에 해주는 stream은 없다!\n",
    "\n",
    "\n",
    "![io](images/ch09_01.png)"
   ]
  },
  {
   "cell_type": "markdown",
   "metadata": {
    "slideshow": {
     "slide_type": "subslide"
    }
   },
   "source": [
    "## IO 코딩 순서\n",
    "![순서](images/ch09_02.png)"
   ]
  },
  {
   "cell_type": "markdown",
   "metadata": {
    "slideshow": {
     "slide_type": "subslide"
    }
   },
   "source": [
    "### 파일 열기(연결)\n",
    "- open() 함수 사용\n",
    "    - 연결된 파일과 입출력 메소드를 제공하는 객체(Stream)를 리턴\n",
    "- 구문\n",
    "    - `open(file, mode='r', encoding=None)`\n",
    "    - 함수 주요 매개변수\n",
    "        - file : 연결할 파일 경로\n",
    "        - mode : 열기 모드 - 읽을건지 쓸건지 정한다\n",
    "            - mode는 목적, 데이터종류를 조합한 문자열을 사용한다.\n",
    "        - encoding \n",
    "            - 입출력 대상이 **텍스트 파일일 경우** 인코딩 방식 설정 - 어떤 방식으로 저장할 것인가\n",
    "            - 생략하면  **os 기본 encoding방식을 따른다.** -default값이 아래와 같다\n",
    "                - Windows: cp949/euckr\n",
    "                - Linux, Unix: utf-8\n",
    "|mode타입|mode문자|설명|\n",
    "|:-|-|-|\n",
    "|목적|r|읽기 모드-목적의 기본 모드(default)|\n",
    "||w|새로 쓰기 모드(연결할 txt에 내용이 있으면 내용을 지워버리고 새롭게쓴다. txt가 없으면 새롭게 txt파일을 만든다.)|\n",
    "||a|이어 쓰기 모드|\n",
    "||x|새로 쓰기모드-연결하려는 파일이 있으면 Exception발생(파일 없을때만 txt를 새로 만든다.)|\n",
    "|데이터종류|b|binary 모드(text제외한 나머지)|\n",
    "||t|Text모드-text데이터 입출력시 사용|\n",
    "    "
   ]
  },
  {
   "cell_type": "raw",
   "metadata": {},
   "source": [
    "예시\n",
    "mode = \"rt\" (text를 읽기모드)\n",
    "mode = \"wt\" (txt를 새로쓰기)\n",
    "mode = \"b\" (binary를 읽기보드(디폴트))"
   ]
  },
  {
   "cell_type": "markdown",
   "metadata": {
    "slideshow": {
     "slide_type": "subslide"
    }
   },
   "source": [
    "### 출력 메소드\n",
    "\n",
    "- r모드로 연결했으면 출력 못한다. 읽기모드니까.\n",
    "- write(출력할 Data) - 하나를 쓸때\n",
    "    - 연결된 파일에 `출력할 Data` 출력한다.\n",
    "- writelines(문자열을 가진 컬렉션) - 여러개를 쓸때\n",
    "    - 리스트, 튜플, 집합이 원소로 가진 문자열들을 한번에 출력한다.\n",
    "    - text 출력일 경우에만 사용가능.\n",
    "    - 원소에 문자열 이외의 타입의 값이 있을 경우 TypeError 발생"
   ]
  },
  {
   "cell_type": "code",
   "execution_count": null,
   "metadata": {
    "slideshow": {
     "slide_type": "fragment"
    }
   },
   "outputs": [],
   "source": []
  },
  {
   "cell_type": "markdown",
   "metadata": {
    "slideshow": {
     "slide_type": "slide"
    }
   },
   "source": [
    "### 입력 메소드\n",
    "- read() : 문자열(text mode), bytes(binary mode) \n",
    "    - 연결된 파일의 내용을 한번에 `모두` 읽어 들인다.\n",
    "- readline() : 문자열(text mode), bytes(binary mode)\n",
    "    - `한 줄만` 읽는다. 요청할 때마다 첫번째>두번째> 순으로 읽어들인다.\n",
    "    - text 입력일 경우만 사용가능\n",
    "    - 읽은 라인이 없으면 **빈문자열**을 리턴한다.\n",
    "- readlines() : 리스트\n",
    "    - 한번에 다 읽은 뒤 각각의 라인을 리스트에 원소로 담아 반환한다.\n",
    "- Text Input Stream (TextIOWrapper, BufferedReader)은 Iterable 타입.\n",
    "    - for문을 이용한 라인단위 순차 조회할 수 있다."
   ]
  },
  {
   "cell_type": "code",
   "execution_count": 59,
   "metadata": {
    "slideshow": {
     "slide_type": "fragment"
    }
   },
   "outputs": [],
   "source": [
    "# a.txt 파일에 문자열을 출력하는 코드 작성하기\n",
    "# 1. 연결하기\n",
    "fw = open(\"./a.txt\", \"wt\", encoding=\"utf-8\") # 현재 디렉토리에 a.txt를 연결한다. mode는 wt. a.txt를 연결하는 객체로서 fw를 설정\n",
    "# fw = open(\"./a.txt\", \"at\", encoding=\"utf-8\")\n",
    "# print(type(fw)) #fw의 타입 체크\n",
    "# 2. 출력(쓰기)\n",
    "fw.write(\"안녕하세요.\\n\") #print와 달리 \\n이 디폴트가 아니다.\n",
    "fw.write(\"Hello World!\") #따라서 \\n을 해주지 않으면 커서가 윗줄에있어서 윗줄에 이어서 해당 내용을 써줌\n",
    "# 3. 연결닫기\n",
    "fw.close()"
   ]
  },
  {
   "cell_type": "code",
   "execution_count": 54,
   "metadata": {},
   "outputs": [],
   "source": [
    "text_list = [\"안녕하세요.\\n\", \"반갑습니다.\\n\", \"날씨가 좋아요.\"]\n",
    "fw2 = open(r\"c:\\temp\\b.txt\", \"wt\", encoding='utf-8') #연결\n",
    "for txt in text_list: #쓰기\n",
    "    fw2.write(txt)\n",
    "# fw2.writelines(text_list) #이게 윗 두줄을 해주는 것이다.\n",
    "fw2.close() #연결닫기"
   ]
  },
  {
   "cell_type": "code",
   "execution_count": 60,
   "metadata": {},
   "outputs": [],
   "source": [
    "# a.txt의 내용을 읽기\n",
    "fr = open(\"./a.txt\", \"rt\") #연결. but 인코딩 방식을 적지 않아 디폴트로 cp949가 됐는데, 읽으려는 것은 utf-8이다. [, encoding=\"utf-8\"] 적어주면됨.\n",
    "txt = fr.read() #read로 통째로 읽어오는데 변수에 담아 읽는다.\n",
    "fr.close() #연결닫기"
   ]
  },
  {
   "cell_type": "code",
   "execution_count": 63,
   "metadata": {},
   "outputs": [
    {
     "data": {
      "text/plain": [
       "'안녕하세요.\\nHello World!'"
      ]
     },
     "execution_count": 63,
     "metadata": {},
     "output_type": "execute_result"
    }
   ],
   "source": [
    "txt"
   ]
  },
  {
   "cell_type": "code",
   "execution_count": 64,
   "metadata": {},
   "outputs": [
    {
     "name": "stdout",
     "output_type": "stream",
     "text": [
      "안녕하세요.\n",
      "Hello World!\n"
     ]
    }
   ],
   "source": [
    "print(txt)"
   ]
  },
  {
   "cell_type": "code",
   "execution_count": 67,
   "metadata": {},
   "outputs": [
    {
     "name": "stdout",
     "output_type": "stream",
     "text": [
      "['안녕하세요.\\n', '반갑습니다.\\n', '날씨가 좋아요.']\n"
     ]
    }
   ],
   "source": [
    "fr2 = open(r\"c:\\temp\\b.txt\", \"rt\", encoding='utf-8')\n",
    "\n",
    "# txt = fr2.read() #한번에 모두 읽기. 아랫줄과 번갈아가며 주석처리하며 비교해봐라\n",
    "txt = fr2.readlines() # 한번에 다 읽기 ->라인단위로 끊어서 list에 담아 반환\n",
    "print(txt)\n",
    "\n",
    "fr2.close()"
   ]
  },
  {
   "cell_type": "code",
   "execution_count": 69,
   "metadata": {},
   "outputs": [
    {
     "name": "stdout",
     "output_type": "stream",
     "text": [
      "안녕하세요.\n",
      "\n",
      "반갑습니다.\n",
      "\n",
      "날씨가 좋아요.\n",
      "\n"
     ]
    }
   ],
   "source": [
    "fr3 = open(r\"c:\\temp\\b.txt\", mode=\"rt\", encoding='utf-8')\n",
    "\n",
    "print(fr3.readline()) # 한줄 read\n",
    "print(fr3.readline()) # (다음) 한줄 read\n",
    "print(fr3.readline()) # (다음) 한줄 read\n",
    "print(fr3.readline()) # (다음) 한줄 read - 읽을 것이 없으면(EOF-End Of File) None 반환\n",
    "\n",
    "fr3.close()"
   ]
  },
  {
   "cell_type": "code",
   "execution_count": 72,
   "metadata": {},
   "outputs": [
    {
     "name": "stdout",
     "output_type": "stream",
     "text": [
      "1 안녕하세요.\n",
      "\n",
      "2 반갑습니다.\n",
      "\n",
      "3 날씨가 좋아요.\n"
     ]
    }
   ],
   "source": [
    "fr4 = open(r\"c:\\temp\\b.txt\", mode=\"rt\", encoding='utf-8') # 얘 자체가 iterable이다.\n",
    "\n",
    "for line in fr4:\n",
    "    print(line)\n",
    "\n",
    "# for num, line in enumerate(fr4, start=1): #얘도 한 번 보기\n",
    "#     print(num, line)\n",
    "    \n",
    "fr4.close()\n",
    "# print 자체도 \\n이 있는데, b.txt에도 \\n이 있어 두줄 엔터 됨"
   ]
  },
  {
   "cell_type": "markdown",
   "metadata": {
    "slideshow": {
     "slide_type": "slide"
    }
   },
   "source": [
    "## with block\n",
    "\n",
    "파일과 입출력 작업이 다 끝나면 반드시 연결을 닫아야 한다. 매번 연결을 닫는 작업을 하는 것이 번거롭고 실수로 안 닫을 경우 문제가 생길 수 있다. **with block은 block을 벗어나면 자동으로 연결을 닫아 준다.** 그래서 연결을 닫는 코드를 생략할 수 있다.\n",
    "\n",
    "- 구문\n",
    "```python\n",
    "with open() as 변수: # `변수`는 open()이 반환하는 Stream객체를 참조한다.\n",
    "    입출력 작업      # 변수를 이용해 입출력 작업을 처리한다.\n",
    "# with block을 빠져 나오면 close()가 자동으로 실행된다.\n",
    "```"
   ]
  },
  {
   "cell_type": "code",
   "execution_count": 73,
   "metadata": {
    "slideshow": {
     "slide_type": "fragment"
    }
   },
   "outputs": [
    {
     "name": "stdout",
     "output_type": "stream",
     "text": [
      "안녕하세요.\n",
      "Hello World!\n",
      "종료\n"
     ]
    }
   ],
   "source": [
    "# with block을 이용할 수 있는 객체를 context manager라고 한다.\n",
    "with open(\"./a.txt\", \"rt\", encoding=\"utf-8\") as fr: #당해 블럭에서는 fr를 가지고 일을한다. 다 끝나면 빠져나감.\n",
    "    txt = fr.read()\n",
    "    print(txt)\n",
    "# with block이 끝나면 io.close()가 자동으로 실행된다.\n",
    "print(\"종료\")"
   ]
  },
  {
   "cell_type": "markdown",
   "metadata": {},
   "source": [
    "# Binary Data 입출력\n",
    "\n",
    "## `bytes` type\n",
    "binary 데이터를 입출력하기 위한 타입.  \n",
    "파이썬의 하나의 출력함수로 다양한 데이터타입의 값을 출력하기 위해 **bytes 타입으로 변환** 해야 한다. \n",
    "또 binary 데이터를 읽을 경우 **bytes 타입**으로 반환한다. 이것을 저장 전 원래 타입으로 쓰기 위해서는 bytes에서 원래 타입으로 변환하는 작업이 필요하다.   "
   ]
  },
  {
   "cell_type": "raw",
   "metadata": {},
   "source": [
    "txt가 아닌, int등은 모두 binary\n",
    "txt는 2진수로 바꾸기 쉽다. 정해지 유니코드에 맞춰서 바꾸면됨\n",
    "but binary는 힘들다 이미지, 동영상 등 각종 파일마다 2진수로 바꾸는 방식이 다르고, 2진수에서 다시 원래 파일로 변환하는것도 다 다르다.\n",
    "따라서 파이썬은 변환하기 위한 방식을 모두 bytes type으로 통일 시켜버림\n",
    "파이썬에 저장하기 위해선 bytes으로 주어야하고, 파이썬으로부터 파일을 받을때도 bytes로 받는다.\n",
    "정리하자면, read()하면 bytes로 주고 write()할때도 괄호 안에 bytes를 넣어야한다.\n",
    "\n",
    "bytes로 변환하기 위한 라이브러리가 바로 pickle"
   ]
  },
  {
   "cell_type": "markdown",
   "metadata": {
    "slideshow": {
     "slide_type": "slide"
    }
   },
   "source": [
    "## pickle 모듈을 이용한 객체 직렬화\n",
    "- pickle 모듈: binary data 입출력을 도와주는 표준 라이브러리.\n",
    "\n",
    "### 객체 직렬화(Object Serialization)\n",
    "- 객체의 속성값들을 bytes로 변환해 출력하는 것을 객체 직렬화(Object Serialization) 이라고 한다.\n",
    "- bytes로 출력된 데이터를 읽어 객체화 하는 것을 객체 역직렬화(Object Deserialization) 이라고 한다."
   ]
  },
  {
   "cell_type": "markdown",
   "metadata": {
    "slideshow": {
     "slide_type": "fragment"
    }
   },
   "source": [
    "### pickle 모듈\n",
    "- binary 모드로 출력하거나 입력받을 경우 **bytes**  타입으로 입출력을 진행한다.\n",
    "    - 그런데 각각의 타입이 변환하는 방식이 다르기때문에 입출력 코드가 복잡해 지는 문제가 있다. 이것을 추상화해서 binary 데이터 입출력을 쉽게 처리할 수 있게하는 표준모듈이 pickle이다.\n",
    "    - 파이썬의 모든 값은 객체 이므로 pickle은 객체 직렬화, 역직렬화를 위한 파이썬 표준모듈이다.\n",
    "\n",
    "- 저장시 파일 확장자는 보통 `pkl` 이나 `pickle` 로 한다.\n",
    "- ex)\n",
    "```python\n",
    "#### binary mode로 설정한다.\n",
    "fw = open(\"data.pkl\", \"wb\") # 객체를 pickle에 저장하기 위한 output stream 생성\n",
    "fr = open(\"data.pkl\", \"rb\") # 파일에 저장된 객체를 읽어오기 위한 input stream 생성\n",
    "```\n",
    "- **메소드**\n",
    "    - dump(저장할 객체, fw) : 출력\n",
    "    - load(fr): 입력 - 읽은 객체를 반환한다."
   ]
  },
  {
   "cell_type": "code",
   "execution_count": 99,
   "metadata": {
    "slideshow": {
     "slide_type": "fragment"
    }
   },
   "outputs": [],
   "source": [
    "import pickle #표준모듈이 아니라 import해야함\n",
    "\n",
    "num = 10 #int. 10이라는 데이터 binary를 bytes로 저장해보자\n",
    "with open(\"int_data.pkl\", \"wb\") as fo: #with절을 fo를 변수로하여 선언. pickle쓸땐 늘 바이너리!\n",
    "    # 피클로 저장(출력) -> dump(값, 출력stream)\n",
    "    pickle.dump(num, fo)\n",
    "    #dump는 num(int)를 bytes로 변환하고 변환된걸 fo.write()의 소괄호에 넣어(fo.write(byte)) 보여준다."
   ]
  },
  {
   "cell_type": "code",
   "execution_count": 102,
   "metadata": {},
   "outputs": [],
   "source": [
    "#위의 bytes 저장한것 읽기\n",
    "import pickle\n",
    "with open(\"int_data.pkl\", \"rb\") as fi:\n",
    "    result = pickle.load(fi) # 읽을땐 load(입력stream)\n",
    "    #load는 fi(inputstream)을 가지고 read해준다. 반환된 byte를 원래타입(int)로 변환해서 반환"
   ]
  },
  {
   "cell_type": "code",
   "execution_count": 103,
   "metadata": {},
   "outputs": [
    {
     "data": {
      "text/plain": [
       "(int, 10)"
      ]
     },
     "execution_count": 103,
     "metadata": {},
     "output_type": "execute_result"
    }
   ],
   "source": [
    "type(result), result #원래 타입인 int로 잘 가져옴을 확인"
   ]
  },
  {
   "cell_type": "code",
   "execution_count": 123,
   "metadata": {},
   "outputs": [],
   "source": [
    "d={\n",
    "    \"이름\":\"홍길동\",\n",
    "    \"나이\":40,\n",
    "    \"주소\":\"서울\",\n",
    "    \"취미\":[\"게임\", \"운동\"],\n",
    "    \"특기\":(\"발표\", \"글쓰기\"),\n",
    "    \"결혼여부\": True\n",
    "}"
   ]
  },
  {
   "cell_type": "code",
   "execution_count": 124,
   "metadata": {},
   "outputs": [],
   "source": [
    "# 당해 cell을 주석취소해서 다시 실행해보자. 그럼 class도 pickle을 통해 자료가 저장된다.\n",
    "\n",
    "# class Person:\n",
    "#     def __init__(self, name, age):\n",
    "#         self.name = name\n",
    "#         self.age =age\n",
    "#     def __str__(self):\n",
    "#         return f\"이름: {self.name}, 나이: {self.age}\"\n",
    "\n",
    "# d = Person(\"이순신\", 20)\n",
    "# print(d)"
   ]
  },
  {
   "cell_type": "code",
   "execution_count": 125,
   "metadata": {},
   "outputs": [
    {
     "name": "stdout",
     "output_type": "stream",
     "text": [
      "<class 'dict'>\n"
     ]
    }
   ],
   "source": [
    "#위 내용을 저장해보자!\n",
    "\n",
    "with open(\"info.pickle\", \"wb\") as fo: #이러면 dict안의 내용을 알아서 바이너리로 모두 바꿔준다. pickle아니면 원소하나하나를 일일이 다바꿔야함\n",
    "    pickle.dump(d, fo)\n",
    "\n",
    "# 저장된 위 내용을 읽어보자\n",
    "\n",
    "with open(\"info.pickle\", 'rb') as fi:\n",
    "    saved_info = pickle.load(fi)\n",
    "    print(type(saved_info))"
   ]
  },
  {
   "cell_type": "code",
   "execution_count": 126,
   "metadata": {},
   "outputs": [
    {
     "data": {
      "text/plain": [
       "{'이름': '홍길동',\n",
       " '나이': 40,\n",
       " '주소': '서울',\n",
       " '취미': ['게임', '운동'],\n",
       " '특기': ('발표', '글쓰기'),\n",
       " '결혼여부': True}"
      ]
     },
     "execution_count": 126,
     "metadata": {},
     "output_type": "execute_result"
    }
   ],
   "source": [
    "saved_info"
   ]
  },
  {
   "cell_type": "code",
   "execution_count": 127,
   "metadata": {},
   "outputs": [
    {
     "name": "stdout",
     "output_type": "stream",
     "text": [
      "{'이름': '홍길동', '나이': 40, '주소': '서울', '취미': ['게임', '운동'], '특기': ('발표', '글쓰기'), '결혼여부': True}\n"
     ]
    }
   ],
   "source": [
    "print(saved_info)"
   ]
  },
  {
   "cell_type": "code",
   "execution_count": 128,
   "metadata": {},
   "outputs": [
    {
     "data": {
      "text/plain": [
       "tuple"
      ]
     },
     "execution_count": 128,
     "metadata": {},
     "output_type": "execute_result"
    }
   ],
   "source": [
    "type(saved_info[\"특기\"])"
   ]
  },
  {
   "cell_type": "markdown",
   "metadata": {
    "slideshow": {
     "slide_type": "skip"
    }
   },
   "source": [
    "# TODO"
   ]
  },
  {
   "cell_type": "markdown",
   "metadata": {
    "slideshow": {
     "slide_type": "skip"
    }
   },
   "source": [
    "- ## 간단한 CLI 기반 메모장\n",
    "    1. 사용자로부터 파일명을 입력받는다.\n",
    "    2. 사용자로부터 파일에 저장할 문장을 입력받아서 파일에 저장한다.\n",
    "        - 한줄씩 입력받는다.\n",
    "        - 사용자가 !q 를 입력하면 저장후 종료한다.\n",
    "    3. 사용자가 저장한 파일을 읽어서 출력한다.\n"
   ]
  },
  {
   "cell_type": "raw",
   "metadata": {},
   "source": [
    "가이드\n",
    "1. 입력? input() 사용\n",
    "2. !q 전까지 꼐속 입력 받아서 저장 -> 반복문 -> 그중에서도 while\n",
    "3. 입력받은걸 저장: \"w\", 텍스트이므로: \"t\" -> \"wt\""
   ]
  },
  {
   "cell_type": "code",
   "execution_count": 138,
   "metadata": {},
   "outputs": [
    {
     "name": "stdin",
     "output_type": "stream",
     "text": [
      "저장할 파일명을 입력하세요 text.txt\n",
      "저장할 내용을 입력하세요 안녕\n"
     ]
    },
    {
     "ename": "TypeError",
     "evalue": "TextIOWrapper.write() takes no keyword arguments",
     "output_type": "error",
     "traceback": [
      "\u001b[31m---------------------------------------------------------------------------\u001b[39m",
      "\u001b[31mTypeError\u001b[39m                                 Traceback (most recent call last)",
      "\u001b[36mCell\u001b[39m\u001b[36m \u001b[39m\u001b[32mIn[138]\u001b[39m\u001b[32m, line 8\u001b[39m\n\u001b[32m      6\u001b[39m fw_1.write(\u001b[33m\"\u001b[39m\u001b[33m=\u001b[39m\u001b[33m\"\u001b[39m*\u001b[32m50\u001b[39m)\n\u001b[32m      7\u001b[39m \u001b[38;5;28;01mwhile\u001b[39;00m \u001b[38;5;28;01mTrue\u001b[39;00m:\n\u001b[32m----> \u001b[39m\u001b[32m8\u001b[39m     \u001b[43mfw_1\u001b[49m\u001b[43m.\u001b[49m\u001b[43mwrite\u001b[49m\u001b[43m(\u001b[49m\u001b[43minput_text\u001b[49m\u001b[43m \u001b[49m\u001b[43m=\u001b[49m\u001b[43m \u001b[49m\u001b[38;5;28;43minput\u001b[39;49m\u001b[43m(\u001b[49m\u001b[33;43m\"\u001b[39;49m\u001b[33;43m저장할 내용을 입력하세요\u001b[39;49m\u001b[33;43m\"\u001b[39;49m\u001b[43m)\u001b[49m\u001b[43m)\u001b[49m\n\u001b[32m      9\u001b[39m     \u001b[38;5;28;01mif\u001b[39;00m input_text == \u001b[33m\"\u001b[39m\u001b[33m!q\u001b[39m\u001b[33m\"\u001b[39m:\n\u001b[32m     10\u001b[39m         \u001b[38;5;28;01mbreak\u001b[39;00m\n",
      "\u001b[31mTypeError\u001b[39m: TextIOWrapper.write() takes no keyword arguments"
     ]
    }
   ],
   "source": [
    "file_name = input(\"저장할 파일명을 입력하세요\")\n",
    "\n",
    "fw_1 = open(file_name, \"wt\", encoding='utf-8')\n",
    "\n",
    "fw_1.write(f\"{file_name}에 저장합니다.\")\n",
    "fw_1.write(\"=\"*50)\n",
    "while True:\n",
    "    fw_1.write(input_text = input(\"저장할 내용을 입력하세요\"))\n",
    "    if input_text == \"!q\":\n",
    "        break\n",
    "fw_1.write(\"종료\")\n",
    "fw_1.close"
   ]
  },
  {
   "cell_type": "code",
   "execution_count": 135,
   "metadata": {},
   "outputs": [
    {
     "name": "stdin",
     "output_type": "stream",
     "text": [
      "저장할 파일명을 입력하세요 text.txt\n"
     ]
    },
    {
     "name": "stdout",
     "output_type": "stream",
     "text": [
      "text.txt에 저장합니다.\n",
      "==================================================\n"
     ]
    },
    {
     "name": "stdin",
     "output_type": "stream",
     "text": [
      "저장할 내용을 입력하세요 안녕\n",
      "저장할 내용을 입력하세요 반가워\n",
      "저장할 내용을 입력하세요 !q\n"
     ]
    }
   ],
   "source": [
    "file_name = input(\"저장할 파일명을 입력하세요\")\n",
    "print(f\"{file_name}에 저장합니다.\")\n",
    "print(\"=\"*50)\n",
    "while True:\n",
    "    input_text = input(\"저장할 내용을 입력하세요\")\n",
    "    if input_text == \"!q\":\n",
    "        break"
   ]
  },
  {
   "cell_type": "code",
   "execution_count": null,
   "metadata": {},
   "outputs": [],
   "source": []
  },
  {
   "cell_type": "code",
   "execution_count": 139,
   "metadata": {},
   "outputs": [],
   "source": [
    "# 강사답안"
   ]
  },
  {
   "cell_type": "code",
   "execution_count": 145,
   "metadata": {},
   "outputs": [
    {
     "name": "stdout",
     "output_type": "stream",
     "text": [
      "Writing simple_memo.py\n"
     ]
    }
   ],
   "source": [
    "%%writefile simple_memo.py\n",
    "\n",
    "# 당해 폴더(02_python)에서 cmd열어서 python simple_mem\n",
    "\n",
    "#1 사용자로부터 파일명을 입력받는다.\n",
    "print(\"저장할 파일이름을 입력하세요\")\n",
    "print(\"=\"*25, \"CLI 메모장\", \"=\"*25)\n",
    "file_path = input(\"저장할 파일경로:\")\n",
    "\n",
    "#2 한줄씩 입력받으며 파일에 저장\n",
    "#3 끝내는 명령어 설정\n",
    "\n",
    "with open(file_path, \"wt\", encoding=\"utf-8\") as fw: #저장할 파일을 연결\n",
    "    print(\"=\"*25, \"저장할 내용을 한 줄씩 입력하세요.\", \"=\"*25)\n",
    "    while True:\n",
    "        txt = input(\">\")\n",
    "        if txt ==\"!q\":\n",
    "            break\n",
    "        fw.write(txt+\"\\n\")\n",
    "\n",
    "print(\"=\"*25, \"저장되었습니다.\", \"=\"*25)\n",
    "\n",
    "#4 잘 저장됐는지 확인"
   ]
  },
  {
   "cell_type": "code",
   "execution_count": null,
   "metadata": {},
   "outputs": [],
   "source": []
  }
 ],
 "metadata": {
  "kernelspec": {
   "display_name": "Python 3 (ipykernel)",
   "language": "python",
   "name": "python3"
  },
  "language_info": {
   "codemirror_mode": {
    "name": "ipython",
    "version": 3
   },
   "file_extension": ".py",
   "mimetype": "text/x-python",
   "name": "python",
   "nbconvert_exporter": "python",
   "pygments_lexer": "ipython3",
   "version": "3.12.9"
  },
  "toc": {
   "base_numbering": 1,
   "nav_menu": {},
   "number_sections": true,
   "sideBar": true,
   "skip_h1_title": false,
   "title_cell": "Table of Contents",
   "title_sidebar": "Contents",
   "toc_cell": false,
   "toc_position": {},
   "toc_section_display": true,
   "toc_window_display": false
  },
  "varInspector": {
   "cols": {
    "lenName": 16,
    "lenType": 16,
    "lenVar": 40
   },
   "kernels_config": {
    "python": {
     "delete_cmd_postfix": "",
     "delete_cmd_prefix": "del ",
     "library": "var_list.py",
     "varRefreshCmd": "print(var_dic_list())"
    },
    "r": {
     "delete_cmd_postfix": ") ",
     "delete_cmd_prefix": "rm(",
     "library": "var_list.r",
     "varRefreshCmd": "cat(var_dic_list()) "
    }
   },
   "types_to_exclude": [
    "module",
    "function",
    "builtin_function_or_method",
    "instance",
    "_Feature"
   ],
   "window_display": false
  }
 },
 "nbformat": 4,
 "nbformat_minor": 4
}
