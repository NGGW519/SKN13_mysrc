{
 "cells": [
  {
   "cell_type": "code",
   "execution_count": 5,
   "id": "a1f0e7e9-3e89-4292-a702-80cbf2f1b510",
   "metadata": {},
   "outputs": [
    {
     "data": {
      "text/plain": [
       "2"
      ]
     },
     "execution_count": 5,
     "metadata": {},
     "output_type": "execute_result"
    }
   ],
   "source": [
    "# 실행 후 다음 cell로 이동: shift + enter, 좌측의 대괄호 속 숫자는 몇번 실행됐는지를 표시한다.\n",
    "# 실행 후 해당 cell에 머물기: ctrl + enter\n",
    "1+1"
   ]
  },
  {
   "cell_type": "code",
   "execution_count": null,
   "id": "b7fbbf11-5098-4c39-a10b-076fc2ca2d4f",
   "metadata": {},
   "outputs": [],
   "source": [
    "# Command 모드\n",
    "# a/b : 해당 cell 위/아래에 cell 빈 삽입하기\n",
    "# x/v : cell 오려두기/붙여두기\n",
    "# dd : cell 삭제\n",
    "# ctrl + s : 저장"
   ]
  },
  {
   "cell_type": "markdown",
   "id": "08620ed7-9397-4d04-9910-e20e9eac0e9f",
   "metadata": {},
   "source": [
    "# Markdown 사용하기\n",
    "- 코드 작성하는 중에, 주석 처리 없이 영향없는 기재를 할때 쓰임\n",
    "- 코드가 아닌 마크다운으로 설정한 뒤 실행하면 된다.\n",
    "- -: 목록\n",
    "- **[]** : 볼드체 **볼드체**\n",
    "- *[]* : 기울림체 *기울림체*"
   ]
  },
  {
   "cell_type": "code",
   "execution_count": null,
   "id": "10b27a8f-8532-4935-8077-bdedab8394c2",
   "metadata": {},
   "outputs": [],
   "source": []
  },
  {
   "cell_type": "code",
   "execution_count": null,
   "id": "a05fccbd-a7e0-4a5b-adae-db7f5b9cab17",
   "metadata": {},
   "outputs": [],
   "source": []
  }
 ],
 "metadata": {
  "kernelspec": {
   "display_name": "Python 3 (ipykernel)",
   "language": "python",
   "name": "python3"
  },
  "language_info": {
   "codemirror_mode": {
    "name": "ipython",
    "version": 3
   },
   "file_extension": ".py",
   "mimetype": "text/x-python",
   "name": "python",
   "nbconvert_exporter": "python",
   "pygments_lexer": "ipython3",
   "version": "3.12.9"
  }
 },
 "nbformat": 4,
 "nbformat_minor": 5
}
