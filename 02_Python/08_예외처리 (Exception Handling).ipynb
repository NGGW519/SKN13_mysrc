{
 "cells": [
  {
   "cell_type": "code",
   "execution_count": null,
   "metadata": {},
   "outputs": [],
   "source": [
    "def divide(num1, num2):\n",
    "    return num1/num2\n",
    "    # num==0인 경우 에러!\n",
    "    # 코드가 정상적으로 실행되지 않는다.\n",
    "    # num2 자리에 0을 넣으면 어떡하지?에 맞춰서 코드를 짜야한다."
   ]
  },
  {
   "cell_type": "code",
   "execution_count": 6,
   "metadata": {},
   "outputs": [
    {
     "name": "stdout",
     "output_type": "stream",
     "text": [
      "0으로 나눌 수 없습니다.\n",
      "값은  7.0\n"
     ]
    }
   ],
   "source": [
    "# 해결1\n",
    "def divide(num1, num2):\n",
    "    if num2 == 0:\n",
    "        print(\"0으로 나눌 수 없습니다.\")\n",
    "        return None\n",
    "    return num1/num2\n",
    "\n",
    "result = divide(10,0) # num2 != 0 case\n",
    "if result is not None:\n",
    "    result2 = result + 5\n",
    "    print(\"값은 \", result2)\n",
    "\n",
    "result = divide(10,5) # num2 == 0 case\n",
    "if result is not None:\n",
    "    result2 = result + 5\n",
    "    print(\"값은 \", result2)"
   ]
  },
  {
   "cell_type": "code",
   "execution_count": null,
   "metadata": {},
   "outputs": [],
   "source": []
  },
  {
   "cell_type": "markdown",
   "metadata": {
    "slideshow": {
     "slide_type": "slide"
    }
   },
   "source": [
    "# 오류\n",
    "\n",
    "- 함수나 메소드가 처리 도중 다음 명령문을 실행할 수 없는 상황\n",
    "- 오류 중 처리가능한 것을 Exception(예외) 라고 한다. 그리고 그 예외를 처리하는 것을 Exception Handling 이라고 한다.\n",
    "\n",
    "![개요](images/ch08_01.png)\n"
   ]
  },
  {
   "cell_type": "markdown",
   "metadata": {
    "slideshow": {
     "slide_type": "slide"
    }
   },
   "source": [
    "## 오류의 종류\n",
    "- **처리가능 한 오류**\n",
    "    - 실행 환경의 문제로 발생하는 오류\n",
    "        - 사용자가 매뉴얼대로 실행하지 않았거나 잘못된 환경에서 실행한 경우.  \n",
    "    - 코드작성 할 때는 실행시 Exception 발생 할지 여부를 알 수 없다.\n",
    "    - 만약 발생할 경우 어떻게 처리할지를 구현해야 한다.\n",
    "- **수정해야 하는 오류**\n",
    "    - 코드 상 100% 발생하는 오류\n",
    "    - 코드를 잘못 작성한 경우로 코드를 수정해야한다.\n",
    "    - 보통 이런 오류는 컴파일 방식 언어의 경우 컴파일 때 에러를 내서 수정하도록 한다.\n"
   ]
  },
  {
   "cell_type": "code",
   "execution_count": null,
   "metadata": {
    "slideshow": {
     "slide_type": "fragment"
    }
   },
   "outputs": [],
   "source": []
  },
  {
   "cell_type": "markdown",
   "metadata": {
    "slideshow": {
     "slide_type": "slide"
    }
   },
   "source": [
    "## Exception handling\n",
    "Exception이 발생되어 프로그램이 더 이상 실행될 수 없는 상황을 처리(handling)해서 정상화 시키는 작업을 말한다.  \n",
    "try - except 구문을 이용해 처리한다."
   ]
  },
  {
   "cell_type": "markdown",
   "metadata": {
    "slideshow": {
     "slide_type": "fragment"
    }
   },
   "source": [
    "###  try, except 구문\n",
    "\n",
    "```python\n",
    "try:\n",
    "    Exception 발생가능한 정상흐름의 코드 블록 #Exception이 발생하지 않으면 그냥 코드를 진행하고 끝. Exception이 발생하면 except로 간다\n",
    "except [Exception클래스 이름 [as 변수]] :\n",
    "    처리 코드   \n",
    "```"
   ]
  },
  {
   "cell_type": "markdown",
   "metadata": {
    "slideshow": {
     "slide_type": "fragment"
    }
   },
   "source": [
    "- **try block**\n",
    "    - 정상흐름의 코드에서 Exception 발생 가능성 있는 코드와 그 코드와 연결된 코드들을 블록으로 묶는다.\n",
    "        - 연결된 코드란 Exception이 발생 안해야만 실행되는 코드를 말한다.\n",
    "- **except block**\n",
    "    - 발생한 Exception을 처리하는 코드 블록을 작성한다.\n",
    "        - try block의 코드를 실행하다 exception이 발생하면 except block이 실행된다. Exception이 발생하지 않으면 실행되지 않는다.\n",
    "    - try block에서 발생한 모든 Exception을 처리하는 경우 `except:` 로 선언한다.\n",
    "    - try block에서 발생한 특정 Exception만 따로 처리할 경우 `except Exception클래스 이름` 을 선언한다.\n",
    "        - 모든 Exception들은 클래스로 정의 되어 있다. 그 클래스 이름을 적어준다.\n",
    "        - **Exception 들 별로 각각 처리할 수 있으면 이 경우 except 구문(처리구문)을 연속해서 작성하면 된다.**\n",
    "    - try block에서 발생한 특정 Exception만 따로 처리하고 그 Exception이 왜 발생했는지 등의 정보를 사용할 경우 `except Exception 클래스 이름 as 변수명` 으로 선언하고 변수명을 이용해 정보를 조회한다.\n",
    "        "
   ]
  },
  {
   "cell_type": "code",
   "execution_count": 20,
   "metadata": {
    "slideshow": {
     "slide_type": "fragment"
    }
   },
   "outputs": [
    {
     "name": "stdout",
     "output_type": "stream",
     "text": [
      "프로그램 시작\n"
     ]
    },
    {
     "name": "stdin",
     "output_type": "stream",
     "text": [
      "정수: 5\n"
     ]
    },
    {
     "name": "stdout",
     "output_type": "stream",
     "text": [
      "2.0\n",
      "프로그램 종료\n"
     ]
    }
   ],
   "source": [
    "# try - except 구문\n",
    "print(\"프로그램 시작\")       #1\n",
    "\n",
    "num = int(input(\"정수:\"))   #2. 숫자 입력 받아서 정수로 변환. >>exception 발생 가능한 부분\n",
    "result = 10 / num           #3\n",
    "print(result)               #4\n",
    "\n",
    "print(\"프로그램 종료\")       #5"
   ]
  },
  {
   "cell_type": "code",
   "execution_count": 21,
   "metadata": {},
   "outputs": [
    {
     "name": "stdout",
     "output_type": "stream",
     "text": [
      "프로그램 시작\n"
     ]
    },
    {
     "name": "stdin",
     "output_type": "stream",
     "text": [
      "정수: 0\n"
     ]
    },
    {
     "name": "stdout",
     "output_type": "stream",
     "text": [
      "Error 발생. 숫자를 입력해주세요\n",
      "프로그램 종료\n"
     ]
    }
   ],
   "source": [
    "# try - except 구문\n",
    "print(\"프로그램 시작\")       #1\n",
    "\n",
    "try:\n",
    "    num = int(input(\"정수:\"))   #2. 숫자 입력 받아서 정수로 변환. >>exception 발생 가능한 부분\n",
    "    result = 10 / num           #3  \"0\" 입력시 >>exception 발생 가능한 부분\n",
    "    print(result)               #4\n",
    "except:\n",
    "    print(\"Error 발생. 숫자를 입력해주세요\")   #E\n",
    "\n",
    "print(\"프로그램 종료\")       #5"
   ]
  },
  {
   "cell_type": "markdown",
   "metadata": {},
   "source": [
    "- 정상적으로 실행된 경우\n",
    "    - 1>2>3>4>5\n",
    "- 정수로 변경되지 않는 문자가 입력된 경우 (Exception 발생)\n",
    "    - 1>2(Error 발생)>E>5 (즉, 1>E>5)\n",
    "- \"0\"을 입력받은 경우\n",
    "    - 1>2>3(Error 발생)>E>5 (즉, 1>2>E>5)"
   ]
  },
  {
   "cell_type": "code",
   "execution_count": 25,
   "metadata": {},
   "outputs": [
    {
     "name": "stdout",
     "output_type": "stream",
     "text": [
      "프로그램 시작\n"
     ]
    },
    {
     "name": "stdin",
     "output_type": "stream",
     "text": [
      "정수: 0\n"
     ]
    },
    {
     "name": "stdout",
     "output_type": "stream",
     "text": [
      "Error 발생. 0이 아닌 숫자로 입력해주세요\n",
      "프로그램 종료\n"
     ]
    }
   ],
   "source": [
    "# Exception이 여러개 나올 수 있을때, exception 따로 처리하기\n",
    "\n",
    "# try - except 구문\n",
    "print(\"프로그램 시작\")       #1\n",
    "\n",
    "try:\n",
    "    num = int(input(\"정수:\"))   #2. 숫자 입력 받아서 정수로 변환. >>exception 발생 가능한 부분\n",
    "    result = 10 / num           #3  \"0\" 입력시 >>exception 발생 가능한 부분\n",
    "    print(result)               #4\n",
    "except ValueError: #에러 이름을 넣으면, 해당하는 에러인 경우에만 exception처리함 따라서 0으로 나누는 경우는 ZeroDivisionError이므로 except 처리안되어 에러난다.\n",
    "    print(\"Error 발생. 숫자를 입력해주세요\")   #E\n",
    "except ZeroDivisionError:\n",
    "    print(\"Error 발생. 0이 아닌 숫자로 입력해주세요\") # \"0\"을 입력받은 경우에 대한 exception\n",
    "except: #나머지 에러의 경우\n",
    "    print(\"Error 발생\")\n",
    "\n",
    "print(\"프로그램 종료\")       #5"
   ]
  },
  {
   "cell_type": "code",
   "execution_count": 1,
   "metadata": {},
   "outputs": [
    {
     "name": "stdout",
     "output_type": "stream",
     "text": [
      "프로그램 시작\n"
     ]
    },
    {
     "name": "stdin",
     "output_type": "stream",
     "text": [
      "정수: 1\n"
     ]
    },
    {
     "name": "stdout",
     "output_type": "stream",
     "text": [
      "10.0\n",
      "프로그램 종료\n"
     ]
    }
   ],
   "source": [
    "# try - except 구문 & 내가 while구문 넣은 것\n",
    "print(\"프로그램 시작\")       #1\n",
    "\n",
    "while True:\n",
    "    try:\n",
    "        num = int(input(\"정수:\"))   #2. 숫자 입력 받아서 정수로 변환.\n",
    "        result = 10 / num           #3\n",
    "        print(round(result,2))               #4\n",
    "        break\n",
    "    except ValueError:\n",
    "        print(\"Error 발생. 정수를 입력해주세요\")   #E\n",
    "    except ZeroDivisionError:\n",
    "        print(\"Error 발생. 0이 아닌 정수를 입력해주세요\")\n",
    "\n",
    "print(\"프로그램 종료\")       #5"
   ]
  },
  {
   "cell_type": "markdown",
   "metadata": {
    "slideshow": {
     "slide_type": "subslide"
    }
   },
   "source": [
    "### finally 구문\n",
    "\n",
    "- 예외 발생여부, 처리 여부와 관계없이 무조건 실행되는 코드블록\n",
    "    - try 구문에 **반드시 실행되야 하는 코드블록을 작성할때 사용한다.**\n",
    "    - 보통 프로그램이 외부자원과 연결해서 데이터를 주고 받는 작업을 할때 마지막 연결을 종료하는 작업을 finally 블록에 넣는다.\n",
    "- finally 는 except 보다 먼저 올 수 없다.\n",
    "    - 구문순서\n",
    "        1. try - except - finally\n",
    "        1. try - except\n",
    "        1. try - finally"
   ]
  },
  {
   "cell_type": "code",
   "execution_count": 28,
   "metadata": {
    "slideshow": {
     "slide_type": "fragment"
    }
   },
   "outputs": [
    {
     "name": "stdout",
     "output_type": "stream",
     "text": [
      "1\n",
      "1.0\n",
      "끝\n"
     ]
    }
   ],
   "source": [
    "# finally 구문은 exception 처리가 됐든 안됐든 무조건 실행한다.\n",
    "# 아래의 case1,2를 번갈아가며 주석처리해가면서 출력되는 값을 확인해보자\n",
    "try:\n",
    "    print(1)\n",
    "    a = 10/10 # case1\n",
    "    # a = 10 / 0 # case2\n",
    "    print(a)\n",
    "except NameError:\n",
    "    print(\"E\")\n",
    "finally:\n",
    "    print(\"끝\")"
   ]
  },
  {
   "cell_type": "markdown",
   "metadata": {
    "slideshow": {
     "slide_type": "slide"
    }
   },
   "source": [
    "## Exception 발생 시키기\n",
    "- 함수나 메소드가 더이상 작업을 진행 할 수 없는 조건이 되면 Exception을 강제로 발생시킨다."
   ]
  },
  {
   "attachments": {},
   "cell_type": "markdown",
   "metadata": {
    "slideshow": {
     "slide_type": "slide"
    }
   },
   "source": [
    "### Call Stack Mechanism\n",
    "- 프로그램 실행환경이 함수 호출을 관리하는 방법\n",
    "- 함수호출을 stack 구조를 이용해 관리한다.\n",
    "    - stack구조는 first-in last-out 의 구조이다.\n",
    "    - 함수는 호출되는 순서대로 쌓이고 가장 나중에 호출된 함수가 먼저 종료된다. \n",
    "    - ![image.png](images/stack.png)\n",
    "- 호출되어 실행 중인 함수에서 Exception이 발생해도 마찮가지로 호출된 반대 순서대로 종료된다.\n",
    "    - 발생한 Exception은 처리를 하지 않으면 caller에게 전달된다.\n",
    "        - 발생한 Exception에 대한 처리가 모든 caller에서 안되면 결국 파이썬 실행환경까지 전달되어 프로그램은 비정상적으로 종료 되게 된다."
   ]
  },
  {
   "cell_type": "markdown",
   "metadata": {
    "slideshow": {
     "slide_type": "fragment"
    }
   },
   "source": [
    "- 만약 함수나 메서드를 호출할때, a(b(c(d(e)))) 꼴의 경우,\n",
    "- e 함수에서 error가 난다면?\n",
    "- error가 난 시점에서 e는 더이상 처리하지 않고 다시 d로 돌아간다.\n",
    "- 그럼 d 또한 더이상 진행을 할 수 없어 error로 인해 c로 돌아간다.\n",
    "- 결국 a에게 돌아와 error를 띄운다.\n",
    "- 이것은 바꿔말하면, a,b,c,d,e 각각의 error가 발생하는 코드에서 이를 수정하여 진행하게 할 수 있다."
   ]
  },
  {
   "cell_type": "code",
   "execution_count": null,
   "metadata": {},
   "outputs": [],
   "source": []
  },
  {
   "cell_type": "markdown",
   "metadata": {
    "slideshow": {
     "slide_type": "subslide"
    }
   },
   "source": [
    "### raise 구문\n",
    "- Exception을 강제로 발생시킨다.\n",
    "    - 업무 규칙을 어겼거나 다음 명령문을 실행할 수 없는 조건이 되면 진행을 멈추고 caller로 요청에게 작업을 처리 못했음을 알리며 돌아가도록 할때 exception을 발생시킨다. 예를 들어 3단계를 완료했는데 그로인해 4단계를 밟을 수 없는 경우, 그 사이에 raise를 넣어 일부러 error를 발생시켜 다시 원래의 함수로 돌아가게한다.\n",
    "    - 구문\n",
    "    ```python\n",
    "        raise Exception객체 ex) ValueError\n",
    "    ```\n",
    "- **raise와 return**\n",
    "    - 함수나 메소드에서 return과 raise 구문이 실행되면 모두 caller로 돌아간다.\n",
    "    - return은 정상적으로 끝나서 돌아가는 의미이다. 그래서 처리결과가 있으면 그 값을 가지고 돌아간다.\n",
    "        - caller는 그 다음작업을 이어서 하면 된다.\n",
    "    - raise는 실행도중 문제(Exception)가 생겨 비정상적으로 끝나서 돌아가는 의미이다. 그래서 비정상적인 상황 정보를 가지는 Exception객체를 반환값으로 가지고 돌아간다.\n",
    "        - caller는 try - except구문으로 발생한 exception을 처리하여 프로그램을 정상화 하거나 자신도 caller에게 exception을 발생시키는 처리를 한다.\n",
    "        "
   ]
  },
  {
   "cell_type": "code",
   "execution_count": 36,
   "metadata": {
    "slideshow": {
     "slide_type": "fragment"
    }
   },
   "outputs": [
    {
     "name": "stdout",
     "output_type": "stream",
     "text": [
      "Error\n",
      "Error\n",
      "Exception 처리:  에러메세지입니다.\n",
      "종료\n"
     ]
    }
   ],
   "source": [
    "#raise 예시\n",
    "\n",
    "def divide(num1, num2):\n",
    "    if num2 == 0:\n",
    "        print(\"Error\")\n",
    "        return None\n",
    "    return num1/num2\n",
    "\n",
    "divide(10,0)\n",
    "# 이경우 파이썬입장에선 0을 집어 넣어도 시키는대로 잘했기 떄문에, 정상적인 값을 가지고 return하는 것이다.\n",
    "# 따라서 아래의 경우 처럼 error를 일부러 내서 제대로 실행을 못했다고 알리는 것\n",
    "\n",
    "def divide1(num1, num2):\n",
    "    \"\"\"\n",
    "    나누기 함수\n",
    "\n",
    "    Args:\n",
    "        num1(int) - 설명\n",
    "        num2(int) - 설명\n",
    "    Returns\n",
    "        float - 나눈값\n",
    "    Raises:\n",
    "        ValueError - Error가 발생할 가능성이 있다고 설명을 달아둔다\n",
    "    \"\"\"\n",
    "    if num2 == 0:\n",
    "        print(\"Error\")\n",
    "        raise ValueError(\"에러메세지입니다.\") # raise Exception객체, Exception의 이유\n",
    "    return num1/num2\n",
    "try:\n",
    "    r = divide1(10,0)\n",
    "    print(r + 10)\n",
    "except ValueError as e: # ValueError도 class의 하나이므로 변수에 담을 수 있다. 여기선 e에 담아봄\n",
    "    print(\"Exception 처리: \", e) # 여기서 일부러 만든 ValueError를 처리\n",
    "print(\"종료\")"
   ]
  },
  {
   "cell_type": "code",
   "execution_count": 42,
   "metadata": {},
   "outputs": [
    {
     "ename": "SyntaxError",
     "evalue": "invalid syntax (1260438187.py, line 6)",
     "output_type": "error",
     "traceback": [
      "  \u001b[36mCell\u001b[39m\u001b[36m \u001b[39m\u001b[32mIn[42]\u001b[39m\u001b[32m, line 6\u001b[39m\n\u001b[31m    \u001b[39m\u001b[31mif  value가 숫자형태의 문자열이 아니면:\u001b[39m\n               ^\n\u001b[31mSyntaxError\u001b[39m\u001b[31m:\u001b[39m invalid syntax\n"
     ]
    }
   ],
   "source": [
    "# int class를 예를 들어보자\n",
    "# int(\"Aaaa\") 넣으면 에러나잖아? 아래와 같은 모습일것\n",
    "int(\"aaa\")\n",
    "\n",
    "def int(value):\n",
    "    if  value가 숫자형태의 문자열이 아니면:\n",
    "        raise ValuError(f\"invalid literal for int() with base 10: '{value}'\")"
   ]
  },
  {
   "cell_type": "markdown",
   "metadata": {},
   "source": [
    "\n",
    "### 사용자 정의 Exception 클래스 구현\n",
    "\n",
    "- 파이썬은 Exception 상황을 클래스로 정의해 사용한다.\n",
    "    - Exception이 발생하는 상황과 관련된 attribute들과 메소드들을 정의한 클래스\n",
    "    \n",
    "- 구현\n",
    "    - `Exception` 클래스를 **상속받는다.**\n",
    "    - 클래스 이름은 Exception 상황을 설명할 수 있는 이름을 준다.\n",
    "    "
   ]
  },
  {
   "cell_type": "code",
   "execution_count": 48,
   "metadata": {},
   "outputs": [],
   "source": [
    "# 사용자 정의 Exception 클래스 정의\n",
    "class InvalidMonthException(Exception):\n",
    "\n",
    "    def __init__(self, message=None, invalid_month=None):\n",
    "        super().__init__(message)\n",
    "        self.invalid_month = invalid_month"
   ]
  },
  {
   "cell_type": "code",
   "execution_count": 55,
   "metadata": {},
   "outputs": [],
   "source": [
    "#월을 저장하는 함수\n",
    "\n",
    "def save_month(minth:int):\n",
    "    if month < 1 or month > 12: # 에러조건\n",
    "        # return\n",
    "        # raise Exception(\"월은 1~12사이만 가능\")\n",
    "        raise InvalidMonthException(\"월은 1~12사이만 가능\") # raise 뒤에 어떤 error인지 명시해준다. class형태로 보여줌\n",
    "    print(f\"{month}월을 데이터베이스에 저장했습니다.\")\n",
    "\n",
    "\n",
    "# raise 자리에 return만 적었다면, 월을 잘못입력했을때 코드실행이 끝나지않고 그 다음으로 넘어가 save_day를 진행한다."
   ]
  },
  {
   "cell_type": "code",
   "execution_count": 57,
   "metadata": {},
   "outputs": [
    {
     "ename": "NameError",
     "evalue": "name 'month' is not defined",
     "output_type": "error",
     "traceback": [
      "\u001b[31m---------------------------------------------------------------------------\u001b[39m",
      "\u001b[31mNameError\u001b[39m                                 Traceback (most recent call last)",
      "\u001b[36mCell\u001b[39m\u001b[36m \u001b[39m\u001b[32mIn[57]\u001b[39m\u001b[32m, line 2\u001b[39m\n\u001b[32m      1\u001b[39m \u001b[38;5;28;01mtry\u001b[39;00m:\n\u001b[32m----> \u001b[39m\u001b[32m2\u001b[39m     \u001b[43msave_month\u001b[49m\u001b[43m(\u001b[49m\u001b[32;43m900\u001b[39;49m\u001b[43m)\u001b[49m\n\u001b[32m      3\u001b[39m \u001b[38;5;28;01mexcept\u001b[39;00m InvalidMonthException \u001b[38;5;28;01mas\u001b[39;00m e:\n\u001b[32m      4\u001b[39m     \u001b[38;5;28mprint\u001b[39m(\u001b[33m\"\u001b[39m\u001b[33m에러\u001b[39m\u001b[33m\"\u001b[39m)\n",
      "\u001b[36mCell\u001b[39m\u001b[36m \u001b[39m\u001b[32mIn[55]\u001b[39m\u001b[32m, line 4\u001b[39m, in \u001b[36msave_month\u001b[39m\u001b[34m(minth)\u001b[39m\n\u001b[32m      3\u001b[39m \u001b[38;5;28;01mdef\u001b[39;00m \u001b[34msave_month\u001b[39m(minth:\u001b[38;5;28mint\u001b[39m):\n\u001b[32m----> \u001b[39m\u001b[32m4\u001b[39m     \u001b[38;5;28;01mif\u001b[39;00m \u001b[43mmonth\u001b[49m < \u001b[32m1\u001b[39m \u001b[38;5;129;01mor\u001b[39;00m month > \u001b[32m12\u001b[39m: \u001b[38;5;66;03m# 에러조건\u001b[39;00m\n\u001b[32m      5\u001b[39m         \u001b[38;5;66;03m# return\u001b[39;00m\n\u001b[32m      6\u001b[39m         \u001b[38;5;66;03m# raise Exception(\"월은 1~12사이만 가능\")\u001b[39;00m\n\u001b[32m      7\u001b[39m         \u001b[38;5;28;01mraise\u001b[39;00m InvalidMonthException(\u001b[33m\"\u001b[39m\u001b[33m월은 1~12사이만 가능\u001b[39m\u001b[33m\"\u001b[39m)\n\u001b[32m      8\u001b[39m     \u001b[38;5;28mprint\u001b[39m(\u001b[33mf\u001b[39m\u001b[33m\"\u001b[39m\u001b[38;5;132;01m{\u001b[39;00mmonth\u001b[38;5;132;01m}\u001b[39;00m\u001b[33m월을 데이터베이스에 저장했습니다.\u001b[39m\u001b[33m\"\u001b[39m)\n",
      "\u001b[31mNameError\u001b[39m: name 'month' is not defined"
     ]
    }
   ],
   "source": [
    "try:\n",
    "    save_month(900)\n",
    "except InvalidMonthException as e:\n",
    "    print(\"에러\")\n",
    "    print(e)"
   ]
  },
  {
   "cell_type": "code",
   "execution_count": null,
   "metadata": {},
   "outputs": [],
   "source": []
  }
 ],
 "metadata": {
  "kernelspec": {
   "display_name": "Python 3 (ipykernel)",
   "language": "python",
   "name": "python3"
  },
  "language_info": {
   "codemirror_mode": {
    "name": "ipython",
    "version": 3
   },
   "file_extension": ".py",
   "mimetype": "text/x-python",
   "name": "python",
   "nbconvert_exporter": "python",
   "pygments_lexer": "ipython3",
   "version": "3.12.9"
  },
  "toc": {
   "base_numbering": 1,
   "nav_menu": {},
   "number_sections": true,
   "sideBar": true,
   "skip_h1_title": false,
   "title_cell": "Table of Contents",
   "title_sidebar": "Contents",
   "toc_cell": false,
   "toc_position": {},
   "toc_section_display": true,
   "toc_window_display": false
  },
  "varInspector": {
   "cols": {
    "lenName": 16,
    "lenType": 16,
    "lenVar": 40
   },
   "kernels_config": {
    "python": {
     "delete_cmd_postfix": "",
     "delete_cmd_prefix": "del ",
     "library": "var_list.py",
     "varRefreshCmd": "print(var_dic_list())"
    },
    "r": {
     "delete_cmd_postfix": ") ",
     "delete_cmd_prefix": "rm(",
     "library": "var_list.r",
     "varRefreshCmd": "cat(var_dic_list()) "
    }
   },
   "types_to_exclude": [
    "module",
    "function",
    "builtin_function_or_method",
    "instance",
    "_Feature"
   ],
   "window_display": false
  }
 },
 "nbformat": 4,
 "nbformat_minor": 4
}
